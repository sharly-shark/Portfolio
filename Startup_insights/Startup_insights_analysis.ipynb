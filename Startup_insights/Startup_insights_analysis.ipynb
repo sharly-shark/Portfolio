{
 "cells": [
  {
   "cell_type": "markdown",
   "metadata": {
    "id": "4mJbK1knrJgz"
   },
   "source": [
    "# Исследование стартапов\n",
    "\n",
    "- Автор: Елагина Ксения"
   ]
  },
  {
   "cell_type": "markdown",
   "metadata": {
    "id": "P6j0r3worJg0"
   },
   "source": [
    "## Введение"
   ]
  },
  {
   "cell_type": "markdown",
   "metadata": {},
   "source": [
    "### Цели и задачи проекта\n",
    "Необходимо провести исследовательский анализ стартапов с целью разработки модели бизнеса для финансовой компании.\n",
    "\n",
    "Задачи:\n",
    "- Загрузить данные и познакомиться с ними.\n",
    "- Предобработать данные и подготовить их к исследованию:\n",
    "  - Провести преобразование типов данных, если необходимо.\n",
    "  - Проверить данные на пропуски.\n",
    "  - Проверить данные на явные и неявные дубликаты.\n",
    "  - Изучить динамику типичного размера средств, которые стартапы получали в рамках одного раунда финансирования.\n",
    "  - Определить, зависит ли полнота сведений о сотрудниках от размера компаний.\n",
    "  - Установить возможность объединения датафреймов по столбцу `network_username`.\n",
    "  - Привести данные таблицы `company_and_rounds` в вид, который позволит в дальнейшем проводить анализ в разрезе отдельных компаний.\n",
    "- Провести исследовательский анализ:\n",
    "  - Объединить датасеты для дальнейшего анализа.\n",
    "  - Проанализировать размеры общего финансирования для разных компаний.\n",
    "  - Исследовать компании, которые были проданы за ноль или за один доллар и у которых был ненулевой общий объём финансирования.\n",
    "  - Изучить цены стартапов по категориям.\n",
    "  - Изучить типичное значение количества раундов по статусам стартапов.\n",
    "- Сделать выводы и рекомендации."
   ]
  },
  {
   "cell_type": "markdown",
   "metadata": {
    "id": "xqr6uttCrJg0"
   },
   "source": [
    "## Знакомство с данными: загрузка и первичная предобработка\n",
    "\n",
    "### Вывод общей информации"
   ]
  },
  {
   "cell_type": "code",
   "execution_count": 1,
   "metadata": {},
   "outputs": [
    {
     "name": "stdout",
     "output_type": "stream",
     "text": [
      "Requirement already satisfied: phik==0.12.3 in d:\\dd\\python\\python310\\lib\\site-packages (0.12.3)\n",
      "Requirement already satisfied: numpy>=1.18.0 in d:\\dd\\python\\python310\\lib\\site-packages (from phik==0.12.3) (1.26.4)\n",
      "Requirement already satisfied: scipy>=1.5.2 in d:\\dd\\python\\python310\\lib\\site-packages (from phik==0.12.3) (1.11.4)\n",
      "Requirement already satisfied: pandas>=0.25.1 in d:\\dd\\python\\python310\\lib\\site-packages (from phik==0.12.3) (2.1.3)\n",
      "Requirement already satisfied: matplotlib>=2.2.3 in d:\\dd\\python\\python310\\lib\\site-packages (from phik==0.12.3) (3.10.6)\n",
      "Requirement already satisfied: joblib>=0.14.1 in d:\\dd\\python\\python310\\lib\\site-packages (from phik==0.12.3) (1.3.2)\n",
      "Requirement already satisfied: contourpy>=1.0.1 in d:\\dd\\python\\python310\\lib\\site-packages (from matplotlib>=2.2.3->phik==0.12.3) (1.2.0)\n",
      "Requirement already satisfied: cycler>=0.10 in d:\\dd\\python\\python310\\lib\\site-packages (from matplotlib>=2.2.3->phik==0.12.3) (0.12.1)\n",
      "Requirement already satisfied: fonttools>=4.22.0 in d:\\dd\\python\\python310\\lib\\site-packages (from matplotlib>=2.2.3->phik==0.12.3) (4.46.0)\n",
      "Requirement already satisfied: kiwisolver>=1.3.1 in d:\\dd\\python\\python310\\lib\\site-packages (from matplotlib>=2.2.3->phik==0.12.3) (1.4.5)\n",
      "Requirement already satisfied: packaging>=20.0 in d:\\dd\\python\\python310\\lib\\site-packages (from matplotlib>=2.2.3->phik==0.12.3) (23.2)\n",
      "Requirement already satisfied: pillow>=8 in d:\\dd\\python\\python310\\lib\\site-packages (from matplotlib>=2.2.3->phik==0.12.3) (10.1.0)\n",
      "Requirement already satisfied: pyparsing>=2.3.1 in d:\\dd\\python\\python310\\lib\\site-packages (from matplotlib>=2.2.3->phik==0.12.3) (3.1.1)\n",
      "Requirement already satisfied: python-dateutil>=2.7 in d:\\dd\\python\\python310\\lib\\site-packages (from matplotlib>=2.2.3->phik==0.12.3) (2.8.2)\n",
      "Requirement already satisfied: pytz>=2020.1 in d:\\dd\\python\\python310\\lib\\site-packages (from pandas>=0.25.1->phik==0.12.3) (2022.1)\n",
      "Requirement already satisfied: tzdata>=2022.1 in d:\\dd\\python\\python310\\lib\\site-packages (from pandas>=0.25.1->phik==0.12.3) (2023.3)\n",
      "Requirement already satisfied: six>=1.5 in d:\\dd\\python\\python310\\lib\\site-packages (from python-dateutil>=2.7->matplotlib>=2.2.3->phik==0.12.3) (1.16.0)\n"
     ]
    }
   ],
   "source": [
    "!pip install phik==0.12.3"
   ]
  },
  {
   "cell_type": "code",
   "execution_count": 2,
   "metadata": {},
   "outputs": [],
   "source": [
    "# Импортируем библиотеки\n",
    "import pandas as pd\n",
    "import matplotlib.pyplot as plt\n",
    "import seaborn as sns\n",
    "from phik import phik_matrix"
   ]
  },
  {
   "cell_type": "code",
   "execution_count": 3,
   "metadata": {
    "id": "oNqJ2qpRFebv"
   },
   "outputs": [],
   "source": [
    "# Выгружаем данные\n",
    "base_url = '/'\n",
    "\n",
    "company_and_rounds = pd.read_csv(base_url + 'company_and_rounds.csv')\n",
    "acquisition = pd.read_csv(base_url + 'acquisition.csv')\n",
    "people = pd.read_csv(base_url + 'people.csv')\n",
    "education = pd.read_csv(base_url + 'education.csv')\n",
    "degrees = pd.read_csv(base_url + 'degrees.csv')"
   ]
  },
  {
   "cell_type": "markdown",
   "metadata": {},
   "source": [
    "**1. Проанализируем датафрейм company_and_rounds.**"
   ]
  },
  {
   "cell_type": "code",
   "execution_count": 4,
   "metadata": {
    "scrolled": true
   },
   "outputs": [
    {
     "name": "stdout",
     "output_type": "stream",
     "text": [
      "<class 'pandas.core.frame.DataFrame'>\n",
      "RangeIndex: 217774 entries, 0 to 217773\n",
      "Data columns (total 22 columns):\n",
      " #   Column                 Non-Null Count   Dtype  \n",
      "---  ------                 --------------   -----  \n",
      " 0   company  ID            217472 non-null  float64\n",
      " 1   name                   217471 non-null  object \n",
      " 2   category  code         143886 non-null  object \n",
      " 3   status                 217472 non-null  object \n",
      " 4   founded  at            109956 non-null  object \n",
      " 5   closed  at             3449 non-null    object \n",
      " 6   domain                 147159 non-null  object \n",
      " 7   network  username      95534 non-null   object \n",
      " 8   country  code          108607 non-null  object \n",
      " 9   investment  rounds     217472 non-null  float64\n",
      " 10  funding  rounds        217472 non-null  float64\n",
      " 11  funding  total         217472 non-null  float64\n",
      " 12  milestones             217472 non-null  float64\n",
      " 13  funding  round  id     52928 non-null   float64\n",
      " 14  company  id            52928 non-null   float64\n",
      " 15  funded  at             52680 non-null   object \n",
      " 16  funding  round  type   52928 non-null   object \n",
      " 17  raised  amount         52928 non-null   float64\n",
      " 18  pre  money  valuation  52928 non-null   float64\n",
      " 19  participants           52928 non-null   float64\n",
      " 20  is  first  round       52928 non-null   float64\n",
      " 21  is  last  round        52928 non-null   float64\n",
      "dtypes: float64(12), object(10)\n",
      "memory usage: 36.6+ MB\n"
     ]
    }
   ],
   "source": [
    "# Выведем информацию о датафрейме:\n",
    "company_and_rounds.info()"
   ]
  },
  {
   "cell_type": "markdown",
   "metadata": {},
   "source": [
    "Выведем количество и процент пропущенных значений."
   ]
  },
  {
   "cell_type": "code",
   "execution_count": 5,
   "metadata": {},
   "outputs": [
    {
     "data": {
      "text/html": [
       "<style type=\"text/css\">\n",
       "#T_9ac5b_row0_col0, #T_9ac5b_row0_col1 {\n",
       "  background-color: #b40426;\n",
       "  color: #f1f1f1;\n",
       "}\n",
       "#T_9ac5b_row1_col0, #T_9ac5b_row1_col1 {\n",
       "  background-color: #f29072;\n",
       "  color: #f1f1f1;\n",
       "}\n",
       "#T_9ac5b_row2_col0, #T_9ac5b_row2_col1, #T_9ac5b_row3_col0, #T_9ac5b_row3_col1, #T_9ac5b_row4_col0, #T_9ac5b_row4_col1, #T_9ac5b_row5_col0, #T_9ac5b_row5_col1, #T_9ac5b_row6_col0, #T_9ac5b_row6_col1, #T_9ac5b_row7_col0, #T_9ac5b_row7_col1, #T_9ac5b_row8_col0, #T_9ac5b_row8_col1, #T_9ac5b_row9_col0, #T_9ac5b_row9_col1 {\n",
       "  background-color: #f29274;\n",
       "  color: #f1f1f1;\n",
       "}\n",
       "#T_9ac5b_row10_col0, #T_9ac5b_row10_col1 {\n",
       "  background-color: #edd2c3;\n",
       "  color: #000000;\n",
       "}\n",
       "#T_9ac5b_row11_col0, #T_9ac5b_row11_col1 {\n",
       "  background-color: #dfdbd9;\n",
       "  color: #000000;\n",
       "}\n",
       "#T_9ac5b_row12_col0, #T_9ac5b_row12_col1 {\n",
       "  background-color: #dddcdc;\n",
       "  color: #000000;\n",
       "}\n",
       "#T_9ac5b_row13_col0, #T_9ac5b_row13_col1 {\n",
       "  background-color: #aec9fc;\n",
       "  color: #000000;\n",
       "}\n",
       "#T_9ac5b_row14_col0, #T_9ac5b_row14_col1 {\n",
       "  background-color: #a9c6fd;\n",
       "  color: #000000;\n",
       "}\n",
       "#T_9ac5b_row15_col0, #T_9ac5b_row15_col1, #T_9ac5b_row16_col0, #T_9ac5b_row16_col1, #T_9ac5b_row17_col0, #T_9ac5b_row17_col1, #T_9ac5b_row18_col0, #T_9ac5b_row18_col1, #T_9ac5b_row19_col0, #T_9ac5b_row19_col1, #T_9ac5b_row20_col0, #T_9ac5b_row20_col1, #T_9ac5b_row21_col0, #T_9ac5b_row21_col1 {\n",
       "  background-color: #3b4cc0;\n",
       "  color: #f1f1f1;\n",
       "}\n",
       "</style>\n",
       "<table id=\"T_9ac5b\">\n",
       "  <thead>\n",
       "    <tr>\n",
       "      <th class=\"blank level0\" >&nbsp;</th>\n",
       "      <th id=\"T_9ac5b_level0_col0\" class=\"col_heading level0 col0\" >Кол-во пропусков</th>\n",
       "      <th id=\"T_9ac5b_level0_col1\" class=\"col_heading level0 col1\" >Доля пропусков</th>\n",
       "    </tr>\n",
       "  </thead>\n",
       "  <tbody>\n",
       "    <tr>\n",
       "      <th id=\"T_9ac5b_level0_row0\" class=\"row_heading level0 row0\" >closed  at</th>\n",
       "      <td id=\"T_9ac5b_row0_col0\" class=\"data row0 col0\" >214325</td>\n",
       "      <td id=\"T_9ac5b_row0_col1\" class=\"data row0 col1\" >98.416248</td>\n",
       "    </tr>\n",
       "    <tr>\n",
       "      <th id=\"T_9ac5b_level0_row1\" class=\"row_heading level0 row1\" >funded  at</th>\n",
       "      <td id=\"T_9ac5b_row1_col0\" class=\"data row1 col0\" >165094</td>\n",
       "      <td id=\"T_9ac5b_row1_col1\" class=\"data row1 col1\" >75.809784</td>\n",
       "    </tr>\n",
       "    <tr>\n",
       "      <th id=\"T_9ac5b_level0_row2\" class=\"row_heading level0 row2\" >is  last  round</th>\n",
       "      <td id=\"T_9ac5b_row2_col0\" class=\"data row2 col0\" >164846</td>\n",
       "      <td id=\"T_9ac5b_row2_col1\" class=\"data row2 col1\" >75.695905</td>\n",
       "    </tr>\n",
       "    <tr>\n",
       "      <th id=\"T_9ac5b_level0_row3\" class=\"row_heading level0 row3\" >funding  round  type</th>\n",
       "      <td id=\"T_9ac5b_row3_col0\" class=\"data row3 col0\" >164846</td>\n",
       "      <td id=\"T_9ac5b_row3_col1\" class=\"data row3 col1\" >75.695905</td>\n",
       "    </tr>\n",
       "    <tr>\n",
       "      <th id=\"T_9ac5b_level0_row4\" class=\"row_heading level0 row4\" >is  first  round</th>\n",
       "      <td id=\"T_9ac5b_row4_col0\" class=\"data row4 col0\" >164846</td>\n",
       "      <td id=\"T_9ac5b_row4_col1\" class=\"data row4 col1\" >75.695905</td>\n",
       "    </tr>\n",
       "    <tr>\n",
       "      <th id=\"T_9ac5b_level0_row5\" class=\"row_heading level0 row5\" >participants</th>\n",
       "      <td id=\"T_9ac5b_row5_col0\" class=\"data row5 col0\" >164846</td>\n",
       "      <td id=\"T_9ac5b_row5_col1\" class=\"data row5 col1\" >75.695905</td>\n",
       "    </tr>\n",
       "    <tr>\n",
       "      <th id=\"T_9ac5b_level0_row6\" class=\"row_heading level0 row6\" >pre  money  valuation</th>\n",
       "      <td id=\"T_9ac5b_row6_col0\" class=\"data row6 col0\" >164846</td>\n",
       "      <td id=\"T_9ac5b_row6_col1\" class=\"data row6 col1\" >75.695905</td>\n",
       "    </tr>\n",
       "    <tr>\n",
       "      <th id=\"T_9ac5b_level0_row7\" class=\"row_heading level0 row7\" >raised  amount</th>\n",
       "      <td id=\"T_9ac5b_row7_col0\" class=\"data row7 col0\" >164846</td>\n",
       "      <td id=\"T_9ac5b_row7_col1\" class=\"data row7 col1\" >75.695905</td>\n",
       "    </tr>\n",
       "    <tr>\n",
       "      <th id=\"T_9ac5b_level0_row8\" class=\"row_heading level0 row8\" >funding  round  id</th>\n",
       "      <td id=\"T_9ac5b_row8_col0\" class=\"data row8 col0\" >164846</td>\n",
       "      <td id=\"T_9ac5b_row8_col1\" class=\"data row8 col1\" >75.695905</td>\n",
       "    </tr>\n",
       "    <tr>\n",
       "      <th id=\"T_9ac5b_level0_row9\" class=\"row_heading level0 row9\" >company  id</th>\n",
       "      <td id=\"T_9ac5b_row9_col0\" class=\"data row9 col0\" >164846</td>\n",
       "      <td id=\"T_9ac5b_row9_col1\" class=\"data row9 col1\" >75.695905</td>\n",
       "    </tr>\n",
       "    <tr>\n",
       "      <th id=\"T_9ac5b_level0_row10\" class=\"row_heading level0 row10\" >network  username</th>\n",
       "      <td id=\"T_9ac5b_row10_col0\" class=\"data row10 col0\" >122240</td>\n",
       "      <td id=\"T_9ac5b_row10_col1\" class=\"data row10 col1\" >56.131586</td>\n",
       "    </tr>\n",
       "    <tr>\n",
       "      <th id=\"T_9ac5b_level0_row11\" class=\"row_heading level0 row11\" >country  code</th>\n",
       "      <td id=\"T_9ac5b_row11_col0\" class=\"data row11 col0\" >109167</td>\n",
       "      <td id=\"T_9ac5b_row11_col1\" class=\"data row11 col1\" >50.128574</td>\n",
       "    </tr>\n",
       "    <tr>\n",
       "      <th id=\"T_9ac5b_level0_row12\" class=\"row_heading level0 row12\" >founded  at</th>\n",
       "      <td id=\"T_9ac5b_row12_col0\" class=\"data row12 col0\" >107818</td>\n",
       "      <td id=\"T_9ac5b_row12_col1\" class=\"data row12 col1\" >49.509124</td>\n",
       "    </tr>\n",
       "    <tr>\n",
       "      <th id=\"T_9ac5b_level0_row13\" class=\"row_heading level0 row13\" >category  code</th>\n",
       "      <td id=\"T_9ac5b_row13_col0\" class=\"data row13 col0\" >73888</td>\n",
       "      <td id=\"T_9ac5b_row13_col1\" class=\"data row13 col1\" >33.928752</td>\n",
       "    </tr>\n",
       "    <tr>\n",
       "      <th id=\"T_9ac5b_level0_row14\" class=\"row_heading level0 row14\" >domain</th>\n",
       "      <td id=\"T_9ac5b_row14_col0\" class=\"data row14 col0\" >70615</td>\n",
       "      <td id=\"T_9ac5b_row14_col1\" class=\"data row14 col1\" >32.425818</td>\n",
       "    </tr>\n",
       "    <tr>\n",
       "      <th id=\"T_9ac5b_level0_row15\" class=\"row_heading level0 row15\" >name</th>\n",
       "      <td id=\"T_9ac5b_row15_col0\" class=\"data row15 col0\" >303</td>\n",
       "      <td id=\"T_9ac5b_row15_col1\" class=\"data row15 col1\" >0.139135</td>\n",
       "    </tr>\n",
       "    <tr>\n",
       "      <th id=\"T_9ac5b_level0_row16\" class=\"row_heading level0 row16\" >company  ID</th>\n",
       "      <td id=\"T_9ac5b_row16_col0\" class=\"data row16 col0\" >302</td>\n",
       "      <td id=\"T_9ac5b_row16_col1\" class=\"data row16 col1\" >0.138676</td>\n",
       "    </tr>\n",
       "    <tr>\n",
       "      <th id=\"T_9ac5b_level0_row17\" class=\"row_heading level0 row17\" >milestones</th>\n",
       "      <td id=\"T_9ac5b_row17_col0\" class=\"data row17 col0\" >302</td>\n",
       "      <td id=\"T_9ac5b_row17_col1\" class=\"data row17 col1\" >0.138676</td>\n",
       "    </tr>\n",
       "    <tr>\n",
       "      <th id=\"T_9ac5b_level0_row18\" class=\"row_heading level0 row18\" >funding  rounds</th>\n",
       "      <td id=\"T_9ac5b_row18_col0\" class=\"data row18 col0\" >302</td>\n",
       "      <td id=\"T_9ac5b_row18_col1\" class=\"data row18 col1\" >0.138676</td>\n",
       "    </tr>\n",
       "    <tr>\n",
       "      <th id=\"T_9ac5b_level0_row19\" class=\"row_heading level0 row19\" >investment  rounds</th>\n",
       "      <td id=\"T_9ac5b_row19_col0\" class=\"data row19 col0\" >302</td>\n",
       "      <td id=\"T_9ac5b_row19_col1\" class=\"data row19 col1\" >0.138676</td>\n",
       "    </tr>\n",
       "    <tr>\n",
       "      <th id=\"T_9ac5b_level0_row20\" class=\"row_heading level0 row20\" >status</th>\n",
       "      <td id=\"T_9ac5b_row20_col0\" class=\"data row20 col0\" >302</td>\n",
       "      <td id=\"T_9ac5b_row20_col1\" class=\"data row20 col1\" >0.138676</td>\n",
       "    </tr>\n",
       "    <tr>\n",
       "      <th id=\"T_9ac5b_level0_row21\" class=\"row_heading level0 row21\" >funding  total</th>\n",
       "      <td id=\"T_9ac5b_row21_col0\" class=\"data row21 col0\" >302</td>\n",
       "      <td id=\"T_9ac5b_row21_col1\" class=\"data row21 col1\" >0.138676</td>\n",
       "    </tr>\n",
       "  </tbody>\n",
       "</table>\n"
      ],
      "text/plain": [
       "<pandas.io.formats.style.Styler at 0x1fbc773b2b0>"
      ]
     },
     "execution_count": 5,
     "metadata": {},
     "output_type": "execute_result"
    }
   ],
   "source": [
    "(pd.DataFrame({'Кол-во пропусков': company_and_rounds.isna().sum(), 'Доля пропусков': company_and_rounds.isna().mean()*100})\n",
    "           .sort_values(by='Кол-во пропусков', ascending=False)\n",
    "           .style.background_gradient(cmap='coolwarm'))"
   ]
  },
  {
   "cell_type": "markdown",
   "metadata": {},
   "source": [
    "Датасет `company_and_rounds` содержит 22 столбца и 217774 строк, в которых представлена информация о компаниях и раундах финансирования.\n",
    "\n",
    "После первичного анализа данных можно сделать следующие выводы:\n",
    "- в датафрейме встречается по 2 столбца с идентификатором компании (`company  ID`, `company  id`). Необходимо переименовать одинаковые `company id`, чтобы не запутаться при дальнейшем анализе. Также не совсем понятна причина возникновения одинаковых столбцов, в которых совпадают не все данные.\n",
    "- необходимо привести названия столбцов к стилю snake_case и проверить их на соответствие значению имени.\n",
    "- во всех столбцах есть пропуски. Большее количество пропусков содержится в столбце \"дата закрытия компании\" (98%), т.к. большая часть компаний все еще работают.\n",
    "- столбцы `investment rounds`, `participants` и `funding rounds` содержат информацию о количестве, соответственно их нужно привести из float64 к типу int.\n",
    "- company ID, funding round id, company id следует привести тоже из float64 к типу int, т.к. id не может иметь дробную часть.\n",
    "- `founded at`, `closed at`, `funded at` из типа object необходимо привести к типу datetime, т.к. данные столбцы содержат в себе даты.\n",
    "- `is first round`, `is last round` находятся в типе float64, в них содержится булевая информация в числах, приведем к типу int."
   ]
  },
  {
   "cell_type": "code",
   "execution_count": 6,
   "metadata": {},
   "outputs": [
    {
     "data": {
      "text/plain": [
       "Index(['company  ID', 'name', 'category  code', 'status', 'founded  at',\n",
       "       'closed  at', 'domain', 'network  username', 'country  code',\n",
       "       'investment  rounds', 'funding  rounds', 'funding  total', 'milestones',\n",
       "       'funding  round  id', 'company  id', 'funded  at',\n",
       "       'funding  round  type', 'raised  amount', 'pre  money  valuation',\n",
       "       'participants', 'is  first  round', 'is  last  round'],\n",
       "      dtype='object')"
      ]
     },
     "execution_count": 6,
     "metadata": {},
     "output_type": "execute_result"
    }
   ],
   "source": [
    "# Выведем названия всех столбцов:\n",
    "company_and_rounds.columns"
   ]
  },
  {
   "cell_type": "markdown",
   "metadata": {},
   "source": [
    "Приведем названия столбцов к snake_case."
   ]
  },
  {
   "cell_type": "code",
   "execution_count": 7,
   "metadata": {},
   "outputs": [
    {
     "data": {
      "text/plain": [
       "Index(['company_id_source_1', 'name', 'category_code', 'status', 'founded_at',\n",
       "       'closed_at', 'domain', 'network_username', 'country_code',\n",
       "       'investment_rounds', 'funding_rounds', 'funding_total', 'milestones',\n",
       "       'funding_round_id', 'company_id_source_2', 'funded_at',\n",
       "       'funding_round_type', 'raised_amount', 'pre_money_valuation',\n",
       "       'participants', 'is_first_round', 'is_last_round'],\n",
       "      dtype='object')"
      ]
     },
     "execution_count": 7,
     "metadata": {},
     "output_type": "execute_result"
    }
   ],
   "source": [
    "# Переименуем отдельные названия столбцов, чтобы они соответствовали своим значениям, а также company id:\n",
    "company_and_rounds = company_and_rounds.rename(\n",
    "    columns = {'company  ID':'company_id_source_1',\n",
    "               'company  id':'company_id_source_2'})\n",
    "\n",
    "# Приведем названия столбцов к snake_case:\n",
    "company_and_rounds.columns = (\n",
    "    company_and_rounds.columns\n",
    "    .str.strip()\n",
    "    .str.lower()\n",
    "    .str.replace('  ', '_'))\n",
    "\n",
    "# Выведем названия столбцов:\n",
    "company_and_rounds.columns"
   ]
  },
  {
   "cell_type": "markdown",
   "metadata": {},
   "source": [
    "**2. Проанализируем датафрейм acquisition.**"
   ]
  },
  {
   "cell_type": "code",
   "execution_count": 8,
   "metadata": {},
   "outputs": [
    {
     "name": "stdout",
     "output_type": "stream",
     "text": [
      "<class 'pandas.core.frame.DataFrame'>\n",
      "RangeIndex: 9407 entries, 0 to 9406\n",
      "Data columns (total 6 columns):\n",
      " #   Column                Non-Null Count  Dtype \n",
      "---  ------                --------------  ----- \n",
      " 0   id                    9407 non-null   int64 \n",
      " 1   acquiring_company_id  9407 non-null   int64 \n",
      " 2   acquired_company_id   9407 non-null   int64 \n",
      " 3   term_code             1831 non-null   object\n",
      " 4   price_amount          9407 non-null   int64 \n",
      " 5   acquired_at           9378 non-null   object\n",
      "dtypes: int64(4), object(2)\n",
      "memory usage: 441.1+ KB\n"
     ]
    }
   ],
   "source": [
    "# Выведем информацию о датафрейме:\n",
    "acquisition.info()"
   ]
  },
  {
   "cell_type": "markdown",
   "metadata": {},
   "source": [
    "Выведем количество и процент пропущенных значений."
   ]
  },
  {
   "cell_type": "code",
   "execution_count": 9,
   "metadata": {},
   "outputs": [
    {
     "data": {
      "text/html": [
       "<style type=\"text/css\">\n",
       "#T_07038_row0_col0, #T_07038_row0_col1 {\n",
       "  background-color: #b40426;\n",
       "  color: #f1f1f1;\n",
       "}\n",
       "#T_07038_row1_col0, #T_07038_row1_col1, #T_07038_row2_col0, #T_07038_row2_col1, #T_07038_row3_col0, #T_07038_row3_col1, #T_07038_row4_col0, #T_07038_row4_col1, #T_07038_row5_col0, #T_07038_row5_col1 {\n",
       "  background-color: #3b4cc0;\n",
       "  color: #f1f1f1;\n",
       "}\n",
       "</style>\n",
       "<table id=\"T_07038\">\n",
       "  <thead>\n",
       "    <tr>\n",
       "      <th class=\"blank level0\" >&nbsp;</th>\n",
       "      <th id=\"T_07038_level0_col0\" class=\"col_heading level0 col0\" >Кол-во пропусков</th>\n",
       "      <th id=\"T_07038_level0_col1\" class=\"col_heading level0 col1\" >Доля пропусков</th>\n",
       "    </tr>\n",
       "  </thead>\n",
       "  <tbody>\n",
       "    <tr>\n",
       "      <th id=\"T_07038_level0_row0\" class=\"row_heading level0 row0\" >term_code</th>\n",
       "      <td id=\"T_07038_row0_col0\" class=\"data row0 col0\" >7576</td>\n",
       "      <td id=\"T_07038_row0_col1\" class=\"data row0 col1\" >80.535771</td>\n",
       "    </tr>\n",
       "    <tr>\n",
       "      <th id=\"T_07038_level0_row1\" class=\"row_heading level0 row1\" >acquired_at</th>\n",
       "      <td id=\"T_07038_row1_col0\" class=\"data row1 col0\" >29</td>\n",
       "      <td id=\"T_07038_row1_col1\" class=\"data row1 col1\" >0.308281</td>\n",
       "    </tr>\n",
       "    <tr>\n",
       "      <th id=\"T_07038_level0_row2\" class=\"row_heading level0 row2\" >id</th>\n",
       "      <td id=\"T_07038_row2_col0\" class=\"data row2 col0\" >0</td>\n",
       "      <td id=\"T_07038_row2_col1\" class=\"data row2 col1\" >0.000000</td>\n",
       "    </tr>\n",
       "    <tr>\n",
       "      <th id=\"T_07038_level0_row3\" class=\"row_heading level0 row3\" >acquiring_company_id</th>\n",
       "      <td id=\"T_07038_row3_col0\" class=\"data row3 col0\" >0</td>\n",
       "      <td id=\"T_07038_row3_col1\" class=\"data row3 col1\" >0.000000</td>\n",
       "    </tr>\n",
       "    <tr>\n",
       "      <th id=\"T_07038_level0_row4\" class=\"row_heading level0 row4\" >acquired_company_id</th>\n",
       "      <td id=\"T_07038_row4_col0\" class=\"data row4 col0\" >0</td>\n",
       "      <td id=\"T_07038_row4_col1\" class=\"data row4 col1\" >0.000000</td>\n",
       "    </tr>\n",
       "    <tr>\n",
       "      <th id=\"T_07038_level0_row5\" class=\"row_heading level0 row5\" >price_amount</th>\n",
       "      <td id=\"T_07038_row5_col0\" class=\"data row5 col0\" >0</td>\n",
       "      <td id=\"T_07038_row5_col1\" class=\"data row5 col1\" >0.000000</td>\n",
       "    </tr>\n",
       "  </tbody>\n",
       "</table>\n"
      ],
      "text/plain": [
       "<pandas.io.formats.style.Styler at 0x1fbf8555b70>"
      ]
     },
     "execution_count": 9,
     "metadata": {},
     "output_type": "execute_result"
    }
   ],
   "source": [
    "(pd.DataFrame({'Кол-во пропусков': acquisition.isna().sum(), 'Доля пропусков': acquisition.isna().mean()*100})\n",
    "           .sort_values(by='Кол-во пропусков', ascending=False)\n",
    "           .style.background_gradient(cmap='coolwarm'))"
   ]
  },
  {
   "cell_type": "markdown",
   "metadata": {},
   "source": [
    "Датасет `acquisition` содержит 6 столбцов и 9407 строк, в которых представлена информация о покупках одними компаниями других компаний.\n",
    "\n",
    "После первичного анализа данных можно сделать следующие выводы:\n",
    "- необходимо проверить столбцы на соответствие их значению.\n",
    "- пропуски содержатся в столбцах `term_code` и `acquired_at`, что означает о неполноте информации:\n",
    "  - в `term_code` их более 80%\n",
    "  - в `acquired_at` менее 1%, поэтому их можно будет удалить для дальнейшего анализа.\n",
    "- столбец `acquired_at` содержит информацию о дате, соответственно необходимо тип object привести к datetime."
   ]
  },
  {
   "cell_type": "code",
   "execution_count": 10,
   "metadata": {},
   "outputs": [],
   "source": [
    "# Переименуем столбец для соответствия своему значению:\n",
    "acquisition = acquisition.rename(columns = {'term_code':'payment_type'})"
   ]
  },
  {
   "cell_type": "markdown",
   "metadata": {},
   "source": [
    "**3. Проанализируем датафрейм people.**"
   ]
  },
  {
   "cell_type": "code",
   "execution_count": 11,
   "metadata": {},
   "outputs": [
    {
     "name": "stdout",
     "output_type": "stream",
     "text": [
      "<class 'pandas.core.frame.DataFrame'>\n",
      "RangeIndex: 226709 entries, 0 to 226708\n",
      "Data columns (total 5 columns):\n",
      " #   Column            Non-Null Count   Dtype  \n",
      "---  ------            --------------   -----  \n",
      " 0   id                226709 non-null  int64  \n",
      " 1   first_name        226700 non-null  object \n",
      " 2   last_name         226705 non-null  object \n",
      " 3   company_id        34615 non-null   float64\n",
      " 4   network_username  38867 non-null   object \n",
      "dtypes: float64(1), int64(1), object(3)\n",
      "memory usage: 8.6+ MB\n"
     ]
    }
   ],
   "source": [
    "# Выведем информацию о датафрейме:\n",
    "people.info()"
   ]
  },
  {
   "cell_type": "markdown",
   "metadata": {},
   "source": [
    "Выведем количество и процент пропущенных значений."
   ]
  },
  {
   "cell_type": "code",
   "execution_count": 12,
   "metadata": {},
   "outputs": [
    {
     "data": {
      "text/html": [
       "<style type=\"text/css\">\n",
       "#T_ab224_row0_col0, #T_ab224_row0_col1 {\n",
       "  background-color: #b40426;\n",
       "  color: #f1f1f1;\n",
       "}\n",
       "#T_ab224_row1_col0, #T_ab224_row1_col1 {\n",
       "  background-color: #bb1b2c;\n",
       "  color: #f1f1f1;\n",
       "}\n",
       "#T_ab224_row2_col0, #T_ab224_row2_col1, #T_ab224_row3_col0, #T_ab224_row3_col1, #T_ab224_row4_col0, #T_ab224_row4_col1 {\n",
       "  background-color: #3b4cc0;\n",
       "  color: #f1f1f1;\n",
       "}\n",
       "</style>\n",
       "<table id=\"T_ab224\">\n",
       "  <thead>\n",
       "    <tr>\n",
       "      <th class=\"blank level0\" >&nbsp;</th>\n",
       "      <th id=\"T_ab224_level0_col0\" class=\"col_heading level0 col0\" >Кол-во пропусков</th>\n",
       "      <th id=\"T_ab224_level0_col1\" class=\"col_heading level0 col1\" >Доля пропусков</th>\n",
       "    </tr>\n",
       "  </thead>\n",
       "  <tbody>\n",
       "    <tr>\n",
       "      <th id=\"T_ab224_level0_row0\" class=\"row_heading level0 row0\" >company_id</th>\n",
       "      <td id=\"T_ab224_row0_col0\" class=\"data row0 col0\" >192094</td>\n",
       "      <td id=\"T_ab224_row0_col1\" class=\"data row0 col1\" >84.731528</td>\n",
       "    </tr>\n",
       "    <tr>\n",
       "      <th id=\"T_ab224_level0_row1\" class=\"row_heading level0 row1\" >network_username</th>\n",
       "      <td id=\"T_ab224_row1_col0\" class=\"data row1 col0\" >187842</td>\n",
       "      <td id=\"T_ab224_row1_col1\" class=\"data row1 col1\" >82.855996</td>\n",
       "    </tr>\n",
       "    <tr>\n",
       "      <th id=\"T_ab224_level0_row2\" class=\"row_heading level0 row2\" >first_name</th>\n",
       "      <td id=\"T_ab224_row2_col0\" class=\"data row2 col0\" >9</td>\n",
       "      <td id=\"T_ab224_row2_col1\" class=\"data row2 col1\" >0.003970</td>\n",
       "    </tr>\n",
       "    <tr>\n",
       "      <th id=\"T_ab224_level0_row3\" class=\"row_heading level0 row3\" >last_name</th>\n",
       "      <td id=\"T_ab224_row3_col0\" class=\"data row3 col0\" >4</td>\n",
       "      <td id=\"T_ab224_row3_col1\" class=\"data row3 col1\" >0.001764</td>\n",
       "    </tr>\n",
       "    <tr>\n",
       "      <th id=\"T_ab224_level0_row4\" class=\"row_heading level0 row4\" >id</th>\n",
       "      <td id=\"T_ab224_row4_col0\" class=\"data row4 col0\" >0</td>\n",
       "      <td id=\"T_ab224_row4_col1\" class=\"data row4 col1\" >0.000000</td>\n",
       "    </tr>\n",
       "  </tbody>\n",
       "</table>\n"
      ],
      "text/plain": [
       "<pandas.io.formats.style.Styler at 0x1fbf85554e0>"
      ]
     },
     "execution_count": 12,
     "metadata": {},
     "output_type": "execute_result"
    }
   ],
   "source": [
    "(pd.DataFrame({'Кол-во пропусков': people.isna().sum(), 'Доля пропусков': people.isna().mean()*100})\n",
    "           .sort_values(by='Кол-во пропусков', ascending=False)\n",
    "           .style.background_gradient(cmap='coolwarm'))"
   ]
  },
  {
   "cell_type": "markdown",
   "metadata": {},
   "source": [
    "Датасет `people` содержит 5 столбцов и 226709 строк, в которых представлена информация о сотрудниках.\n",
    "\n",
    "После первичного анализа данных можно сделать следующие выводы:\n",
    "- все столбцы, кроме `id` содержат пропуски:\n",
    "  - большее количество пропусков в company_id - 85% и network_username - 83%. \n",
    "  - в `first_name` и `last_name` пропусков меньше 1%. Возможно, это связано с отсутствием данных об этих сотрудниках или ошибкой при переносе данных. Т.к. пропусков не так мало, то их можно удалить.\n",
    "- `company_id` нужно привести к типу int: id не могут иметь дробную часть."
   ]
  },
  {
   "cell_type": "markdown",
   "metadata": {},
   "source": [
    "**4. Проанализируем датафрейм education.**"
   ]
  },
  {
   "cell_type": "code",
   "execution_count": 13,
   "metadata": {},
   "outputs": [
    {
     "name": "stdout",
     "output_type": "stream",
     "text": [
      "<class 'pandas.core.frame.DataFrame'>\n",
      "RangeIndex: 109610 entries, 0 to 109609\n",
      "Data columns (total 4 columns):\n",
      " #   Column        Non-Null Count   Dtype \n",
      "---  ------        --------------   ----- \n",
      " 0   id            109610 non-null  int64 \n",
      " 1   person_id     109610 non-null  int64 \n",
      " 2   instituition  109555 non-null  object\n",
      " 3   graduated_at  58054 non-null   object\n",
      "dtypes: int64(2), object(2)\n",
      "memory usage: 3.3+ MB\n"
     ]
    }
   ],
   "source": [
    "# Выведем информацию о датафрейме:\n",
    "education.info()"
   ]
  },
  {
   "cell_type": "markdown",
   "metadata": {},
   "source": [
    "Выведем количество и процент пропущенных значений."
   ]
  },
  {
   "cell_type": "code",
   "execution_count": 14,
   "metadata": {},
   "outputs": [
    {
     "data": {
      "text/html": [
       "<style type=\"text/css\">\n",
       "#T_3f839_row0_col0, #T_3f839_row0_col1 {\n",
       "  background-color: #b40426;\n",
       "  color: #f1f1f1;\n",
       "}\n",
       "#T_3f839_row1_col0, #T_3f839_row1_col1, #T_3f839_row2_col0, #T_3f839_row2_col1, #T_3f839_row3_col0, #T_3f839_row3_col1 {\n",
       "  background-color: #3b4cc0;\n",
       "  color: #f1f1f1;\n",
       "}\n",
       "</style>\n",
       "<table id=\"T_3f839\">\n",
       "  <thead>\n",
       "    <tr>\n",
       "      <th class=\"blank level0\" >&nbsp;</th>\n",
       "      <th id=\"T_3f839_level0_col0\" class=\"col_heading level0 col0\" >Кол-во пропусков</th>\n",
       "      <th id=\"T_3f839_level0_col1\" class=\"col_heading level0 col1\" >Доля пропусков</th>\n",
       "    </tr>\n",
       "  </thead>\n",
       "  <tbody>\n",
       "    <tr>\n",
       "      <th id=\"T_3f839_level0_row0\" class=\"row_heading level0 row0\" >graduated_at</th>\n",
       "      <td id=\"T_3f839_row0_col0\" class=\"data row0 col0\" >51556</td>\n",
       "      <td id=\"T_3f839_row0_col1\" class=\"data row0 col1\" >47.035854</td>\n",
       "    </tr>\n",
       "    <tr>\n",
       "      <th id=\"T_3f839_level0_row1\" class=\"row_heading level0 row1\" >instituition</th>\n",
       "      <td id=\"T_3f839_row1_col0\" class=\"data row1 col0\" >55</td>\n",
       "      <td id=\"T_3f839_row1_col1\" class=\"data row1 col1\" >0.050178</td>\n",
       "    </tr>\n",
       "    <tr>\n",
       "      <th id=\"T_3f839_level0_row2\" class=\"row_heading level0 row2\" >id</th>\n",
       "      <td id=\"T_3f839_row2_col0\" class=\"data row2 col0\" >0</td>\n",
       "      <td id=\"T_3f839_row2_col1\" class=\"data row2 col1\" >0.000000</td>\n",
       "    </tr>\n",
       "    <tr>\n",
       "      <th id=\"T_3f839_level0_row3\" class=\"row_heading level0 row3\" >person_id</th>\n",
       "      <td id=\"T_3f839_row3_col0\" class=\"data row3 col0\" >0</td>\n",
       "      <td id=\"T_3f839_row3_col1\" class=\"data row3 col1\" >0.000000</td>\n",
       "    </tr>\n",
       "  </tbody>\n",
       "</table>\n"
      ],
      "text/plain": [
       "<pandas.io.formats.style.Styler at 0x1fbf8554b20>"
      ]
     },
     "execution_count": 14,
     "metadata": {},
     "output_type": "execute_result"
    }
   ],
   "source": [
    "(pd.DataFrame({'Кол-во пропусков': education.isna().sum(), 'Доля пропусков': education.isna().mean()*100})\n",
    "           .sort_values(by='Кол-во пропусков', ascending=False)\n",
    "           .style.background_gradient(cmap='coolwarm'))"
   ]
  },
  {
   "cell_type": "markdown",
   "metadata": {},
   "source": [
    "Датасет `education` содержит 4 столбца и 109610 строк, в которых представлена информация об образовании сотрудника.\n",
    "\n",
    "После первичного анализа данных можно сделать следующие выводы:\n",
    "- столбец `instituition` содержит пропуски, вероятно, некоторые сотрудники не заканчивали учебное заведение, либо нет никакой информации об этом.\n",
    "- в столбце `graduated_at` 47% пропусков, что указывает на то, что половина сотрудников еще учатся и не закончили обучение.\n",
    "- в столбце `instituition` менее 1% пропусков, соответственно, можно удалить данные строки.\n",
    "- столбец `graduated_at` содержит дату, необходимо привести его к типу datetime."
   ]
  },
  {
   "cell_type": "markdown",
   "metadata": {},
   "source": [
    "**5. Проанализируем датафрейм degrees.**"
   ]
  },
  {
   "cell_type": "code",
   "execution_count": 15,
   "metadata": {},
   "outputs": [
    {
     "name": "stdout",
     "output_type": "stream",
     "text": [
      "<class 'pandas.core.frame.DataFrame'>\n",
      "RangeIndex: 109610 entries, 0 to 109609\n",
      "Data columns (total 4 columns):\n",
      " #   Column       Non-Null Count   Dtype \n",
      "---  ------       --------------   ----- \n",
      " 0   id           109610 non-null  int64 \n",
      " 1   object_id    109610 non-null  object\n",
      " 2   degree_type  98389 non-null   object\n",
      " 3   subject      81298 non-null   object\n",
      "dtypes: int64(1), object(3)\n",
      "memory usage: 3.3+ MB\n"
     ]
    }
   ],
   "source": [
    "# Выведем информацию о датафрейме:\n",
    "degrees.info()"
   ]
  },
  {
   "cell_type": "markdown",
   "metadata": {},
   "source": [
    "Выведем количество и процент пропущенных значений."
   ]
  },
  {
   "cell_type": "code",
   "execution_count": 16,
   "metadata": {},
   "outputs": [
    {
     "data": {
      "text/html": [
       "<style type=\"text/css\">\n",
       "#T_c769d_row0_col0, #T_c769d_row0_col1 {\n",
       "  background-color: #b40426;\n",
       "  color: #f1f1f1;\n",
       "}\n",
       "#T_c769d_row1_col0, #T_c769d_row1_col1 {\n",
       "  background-color: #bfd3f6;\n",
       "  color: #000000;\n",
       "}\n",
       "#T_c769d_row2_col0, #T_c769d_row2_col1, #T_c769d_row3_col0, #T_c769d_row3_col1 {\n",
       "  background-color: #3b4cc0;\n",
       "  color: #f1f1f1;\n",
       "}\n",
       "</style>\n",
       "<table id=\"T_c769d\">\n",
       "  <thead>\n",
       "    <tr>\n",
       "      <th class=\"blank level0\" >&nbsp;</th>\n",
       "      <th id=\"T_c769d_level0_col0\" class=\"col_heading level0 col0\" >Кол-во пропусков</th>\n",
       "      <th id=\"T_c769d_level0_col1\" class=\"col_heading level0 col1\" >Доля пропусков</th>\n",
       "    </tr>\n",
       "  </thead>\n",
       "  <tbody>\n",
       "    <tr>\n",
       "      <th id=\"T_c769d_level0_row0\" class=\"row_heading level0 row0\" >subject</th>\n",
       "      <td id=\"T_c769d_row0_col0\" class=\"data row0 col0\" >28312</td>\n",
       "      <td id=\"T_c769d_row0_col1\" class=\"data row0 col1\" >25.829760</td>\n",
       "    </tr>\n",
       "    <tr>\n",
       "      <th id=\"T_c769d_level0_row1\" class=\"row_heading level0 row1\" >degree_type</th>\n",
       "      <td id=\"T_c769d_row1_col0\" class=\"data row1 col0\" >11221</td>\n",
       "      <td id=\"T_c769d_row1_col1\" class=\"data row1 col1\" >10.237205</td>\n",
       "    </tr>\n",
       "    <tr>\n",
       "      <th id=\"T_c769d_level0_row2\" class=\"row_heading level0 row2\" >id</th>\n",
       "      <td id=\"T_c769d_row2_col0\" class=\"data row2 col0\" >0</td>\n",
       "      <td id=\"T_c769d_row2_col1\" class=\"data row2 col1\" >0.000000</td>\n",
       "    </tr>\n",
       "    <tr>\n",
       "      <th id=\"T_c769d_level0_row3\" class=\"row_heading level0 row3\" >object_id</th>\n",
       "      <td id=\"T_c769d_row3_col0\" class=\"data row3 col0\" >0</td>\n",
       "      <td id=\"T_c769d_row3_col1\" class=\"data row3 col1\" >0.000000</td>\n",
       "    </tr>\n",
       "  </tbody>\n",
       "</table>\n"
      ],
      "text/plain": [
       "<pandas.io.formats.style.Styler at 0x1fb812b19f0>"
      ]
     },
     "execution_count": 16,
     "metadata": {},
     "output_type": "execute_result"
    }
   ],
   "source": [
    "(pd.DataFrame({'Кол-во пропусков': degrees.isna().sum(), 'Доля пропусков': degrees.isna().mean()*100})\n",
    "           .sort_values(by='Кол-во пропусков', ascending=False)\n",
    "           .style.background_gradient(cmap='coolwarm'))"
   ]
  },
  {
   "cell_type": "markdown",
   "metadata": {},
   "source": [
    "Датасет `degrees` содержит 4 столбца и 109610 строк, в которых представлена информация о типе образования сотрудника.\n",
    "\n",
    "После первичного анализа данных можно сделать следующие выводы:\n",
    "- пропуски находятся в столбцах `degree_type` - 26% и subject - 10%. Часть сотрудников могут не иметь образования, поэтому столбец содержит NaN, а пропуски в специальности могли появиться из-за отсутствия информации.\n",
    "- столбец `object_id` записан в виде типа object, из-за чего данный датафрейм невозможно присоединить к другим. Необходимо изменить тип на целочисленный и перед этим убрать перед числами значение 'p:'. "
   ]
  },
  {
   "cell_type": "markdown",
   "metadata": {
    "id": "mg2gEwh0rJg0"
   },
   "source": [
    "### 1.2. Смена типов и анализ пропусков"
   ]
  },
  {
   "cell_type": "markdown",
   "metadata": {},
   "source": [
    "Обработаем типы данных в столбцах, которые хранят значения даты и времени."
   ]
  },
  {
   "cell_type": "code",
   "execution_count": 17,
   "metadata": {
    "id": "FsL0A8RBrJg1",
    "vscode": {
     "languageId": "plaintext"
    }
   },
   "outputs": [],
   "source": [
    "# Создадим функцию для приведения столбцов датафреймов к типу данных datetime:\n",
    "def convert_to_datetime(df, col_name):\n",
    "    '''\n",
    "    Функция приводит указанный столбец датафрейма к типу datetime.\n",
    "\n",
    "    '''\n",
    "    df[col_name] = pd.to_datetime(df[col_name], errors='coerce')\n",
    "    return df"
   ]
  },
  {
   "cell_type": "code",
   "execution_count": 18,
   "metadata": {},
   "outputs": [],
   "source": [
    "# Обработаем типы данных в столбцах, которые хранят значения даты и времени:\n",
    "company_and_rounds = convert_to_datetime(company_and_rounds, 'founded_at')\n",
    "company_and_rounds = convert_to_datetime(company_and_rounds, 'funded_at')\n",
    "company_and_rounds = convert_to_datetime(company_and_rounds, 'closed_at')\n",
    "education = convert_to_datetime(education, 'graduated_at')\n",
    "acquisition = convert_to_datetime(acquisition, 'acquired_at')"
   ]
  },
  {
   "cell_type": "code",
   "execution_count": 19,
   "metadata": {},
   "outputs": [
    {
     "name": "stdout",
     "output_type": "stream",
     "text": [
      "founded_at    datetime64[ns]\n",
      "funded_at     datetime64[ns]\n",
      "closed_at     datetime64[ns]\n",
      "dtype: object\n",
      "graduated_at    datetime64[ns]\n",
      "dtype: object\n",
      "acquired_at    datetime64[ns]\n",
      "dtype: object\n"
     ]
    }
   ],
   "source": [
    "# Проверим правильность преобразования:\n",
    "print(company_and_rounds[['founded_at', 'funded_at', 'closed_at']].dtypes)\n",
    "print(education[['graduated_at']].dtypes)\n",
    "print(acquisition[['acquired_at']].dtypes)"
   ]
  },
  {
   "cell_type": "code",
   "execution_count": 20,
   "metadata": {},
   "outputs": [
    {
     "name": "stdout",
     "output_type": "stream",
     "text": [
      "0\n",
      "0\n",
      "0\n",
      "0\n",
      "0\n"
     ]
    }
   ],
   "source": [
    "# Проверим датафреймы на наличие явных дубликатов:\n",
    "print(acquisition.duplicated().sum())\n",
    "print(company_and_rounds.duplicated().sum())\n",
    "print(education.duplicated().sum())\n",
    "print(people.duplicated().sum())\n",
    "print(degrees.duplicated().sum())"
   ]
  },
  {
   "cell_type": "markdown",
   "metadata": {},
   "source": [
    "Ни в одном из датафреймов явных дубликатов не присутствует."
   ]
  },
  {
   "cell_type": "code",
   "execution_count": 21,
   "metadata": {},
   "outputs": [
    {
     "name": "stdout",
     "output_type": "stream",
     "text": [
      "[nan 'cash' 'stock' 'cash_and_stock']\n"
     ]
    }
   ],
   "source": [
    "# Проверим столбцы на наличие неявных дубликатов:\n",
    "print(acquisition['payment_type'].unique())\n"
   ]
  },
  {
   "cell_type": "code",
   "execution_count": 22,
   "metadata": {},
   "outputs": [
    {
     "data": {
      "text/plain": [
       "196505"
      ]
     },
     "execution_count": 22,
     "metadata": {},
     "output_type": "execute_result"
    }
   ],
   "source": [
    "# Выведем количество неявных дубликатов столбца name:\n",
    "company_and_rounds['name'].fillna('').astype(str).str.lower().nunique()"
   ]
  },
  {
   "cell_type": "code",
   "execution_count": 23,
   "metadata": {},
   "outputs": [
    {
     "data": {
      "text/plain": [
       "176"
      ]
     },
     "execution_count": 23,
     "metadata": {},
     "output_type": "execute_result"
    }
   ],
   "source": [
    "# Выведем количество неявных дубликатов столбца country_code:\n",
    "company_and_rounds['country_code'].fillna('').nunique()"
   ]
  },
  {
   "cell_type": "markdown",
   "metadata": {},
   "source": [
    "В датафрейме `company_and_rounds` отсутствует огромное количество данных. В большей половине столбцов отсутствует более 30% информации. В 9 столбцах отсутствует по 75% данных. А данную таблицу можно считать самой основной. \n",
    "\n",
    "В таблице `people` в столбце `company_id` отсутствует 85% данных, которые передают информацию об идентификаторе компании. В `acquisition` в столбце с вариантом расчета тоже нет 80% информации. В таблице `education` есть столбец с 47% пропусков.\n",
    "\n",
    "Поэтому будет сложно провести достоверный анализ при таком количестве пропусков. "
   ]
  },
  {
   "cell_type": "markdown",
   "metadata": {},
   "source": [
    "---\n",
    "\n",
    "### Промежуточный вывод\n"
   ]
  },
  {
   "cell_type": "markdown",
   "metadata": {},
   "source": [
    "В результате предобработки данных были выполнены следующие действия:\n",
    "- Датасет **company_and_rounds**:\n",
    "    - названия столбцов привели к стилю snake_case и проверили их на соответствие значению имени.\n",
    "    - изучили пропуски данных. Они есть во всех столбцах. Большее количество содержится в столбце \"дата закрытия компании\" (98%), т.к. большая часть компаний все еще работают.\n",
    "    - был сделан вывод, что столбцы investment rounds, participants, funding rounds, company ID, funding round id, company id, is first round, is last round необходимо привести к типу int.\n",
    "    - названия столбцов привели к виду snake_case."
   ]
  },
  {
   "cell_type": "markdown",
   "metadata": {},
   "source": [
    "- Датасет **acquisition**:\n",
    "    - изучили пропуски: в term_code их более 80%, в acquired_at менее 1%, поэтому был сделан вывод, что их можно удалить.\n",
    "    - переименовали столбец term_code в более подходящий payment_type."
   ]
  },
  {
   "cell_type": "markdown",
   "metadata": {},
   "source": [
    "- Датасет **people**:\n",
    "    - изучение пропусков выявило, что большее количество находятся в company_id - 85% и network_username - 83%.\n",
    "    - в first_name и last_name пропусков меньше 1%, поэтому их можно удалить.\n",
    "    - company_id нужно привести к типу int."
   ]
  },
  {
   "cell_type": "markdown",
   "metadata": {},
   "source": [
    "- Датасет **education**:\n",
    "    - при исследовании было обнаружено, что в столбце graduated_at 47% пропусков.\n",
    "    - в столбце instituition менее 1% пропусков, соответственно, можно удалить данные строки."
   ]
  },
  {
   "cell_type": "markdown",
   "metadata": {},
   "source": [
    "- Датасет **degrees**:\n",
    "    - исследование пропусков выявило их в столбцах degree_type - 26% и subject - 10%.\n",
    "    - тип данных столбца object_id необходимо изменить на целочисленный и убрать перед числами значение 'p:'. "
   ]
  },
  {
   "cell_type": "markdown",
   "metadata": {},
   "source": [
    "Столбцы `founded at`, `closed at`, `funded at`, `acquired_at`, `graduated_at` привели к типу datetime.\n",
    "\n",
    "Ни в одном из датафреймов нет дубликатов."
   ]
  },
  {
   "cell_type": "markdown",
   "metadata": {
    "id": "u60cHsn6rJg1"
   },
   "source": [
    "## Предобработка данных, предварительное исследование"
   ]
  },
  {
   "cell_type": "markdown",
   "metadata": {
    "id": "g2bHIIjcrJg1"
   },
   "source": [
    "\n",
    "### Раунды финансирования по годам"
   ]
  },
  {
   "cell_type": "markdown",
   "metadata": {},
   "source": [
    "На основе датасета `company_and_rounds` составим сводную таблицу по годам, в которой по столбцу `raised_amount` для каждого года укажем:\n",
    "- типичный размер средств, выделяемый в рамках одного раунда;\n",
    "- общее количество раундов финансирования за этот год."
   ]
  },
  {
   "cell_type": "code",
   "execution_count": 24,
   "metadata": {},
   "outputs": [],
   "source": [
    "# Извлечем год из столбца даты инвестирования:\n",
    "company_and_rounds['year'] = company_and_rounds['funded_at'].dt.year.astype('Int64')"
   ]
  },
  {
   "cell_type": "code",
   "execution_count": 25,
   "metadata": {
    "id": "Cf5IjfOQrJg1",
    "vscode": {
     "languageId": "plaintext"
    }
   },
   "outputs": [
    {
     "data": {
      "text/html": [
       "<div>\n",
       "<style scoped>\n",
       "    .dataframe tbody tr th:only-of-type {\n",
       "        vertical-align: middle;\n",
       "    }\n",
       "\n",
       "    .dataframe tbody tr th {\n",
       "        vertical-align: top;\n",
       "    }\n",
       "\n",
       "    .dataframe thead th {\n",
       "        text-align: right;\n",
       "    }\n",
       "</style>\n",
       "<table border=\"1\" class=\"dataframe\">\n",
       "  <thead>\n",
       "    <tr style=\"text-align: right;\">\n",
       "      <th></th>\n",
       "      <th>funding_rounds</th>\n",
       "      <th>raised_amount</th>\n",
       "    </tr>\n",
       "    <tr>\n",
       "      <th>year</th>\n",
       "      <th></th>\n",
       "      <th></th>\n",
       "    </tr>\n",
       "  </thead>\n",
       "  <tbody>\n",
       "    <tr>\n",
       "      <th>1999</th>\n",
       "      <td>76</td>\n",
       "      <td>2000000.0</td>\n",
       "    </tr>\n",
       "    <tr>\n",
       "      <th>2000</th>\n",
       "      <td>125</td>\n",
       "      <td>4200000.0</td>\n",
       "    </tr>\n",
       "    <tr>\n",
       "      <th>2001</th>\n",
       "      <td>95</td>\n",
       "      <td>3000000.0</td>\n",
       "    </tr>\n",
       "    <tr>\n",
       "      <th>2002</th>\n",
       "      <td>115</td>\n",
       "      <td>4200000.0</td>\n",
       "    </tr>\n",
       "    <tr>\n",
       "      <th>2003</th>\n",
       "      <td>154</td>\n",
       "      <td>3000000.0</td>\n",
       "    </tr>\n",
       "    <tr>\n",
       "      <th>2004</th>\n",
       "      <td>286</td>\n",
       "      <td>5000000.0</td>\n",
       "    </tr>\n",
       "    <tr>\n",
       "      <th>2005</th>\n",
       "      <td>1624</td>\n",
       "      <td>5500000.0</td>\n",
       "    </tr>\n",
       "    <tr>\n",
       "      <th>2006</th>\n",
       "      <td>2409</td>\n",
       "      <td>5000000.0</td>\n",
       "    </tr>\n",
       "    <tr>\n",
       "      <th>2007</th>\n",
       "      <td>3220</td>\n",
       "      <td>3973320.0</td>\n",
       "    </tr>\n",
       "    <tr>\n",
       "      <th>2008</th>\n",
       "      <td>3735</td>\n",
       "      <td>3110000.0</td>\n",
       "    </tr>\n",
       "    <tr>\n",
       "      <th>2009</th>\n",
       "      <td>4112</td>\n",
       "      <td>2000000.0</td>\n",
       "    </tr>\n",
       "    <tr>\n",
       "      <th>2010</th>\n",
       "      <td>6194</td>\n",
       "      <td>1602500.0</td>\n",
       "    </tr>\n",
       "    <tr>\n",
       "      <th>2011</th>\n",
       "      <td>9162</td>\n",
       "      <td>1200000.0</td>\n",
       "    </tr>\n",
       "    <tr>\n",
       "      <th>2012</th>\n",
       "      <td>9956</td>\n",
       "      <td>1000000.0</td>\n",
       "    </tr>\n",
       "    <tr>\n",
       "      <th>2013</th>\n",
       "      <td>11042</td>\n",
       "      <td>1200000.0</td>\n",
       "    </tr>\n",
       "  </tbody>\n",
       "</table>\n",
       "</div>"
      ],
      "text/plain": [
       "      funding_rounds  raised_amount\n",
       "year                               \n",
       "1999              76      2000000.0\n",
       "2000             125      4200000.0\n",
       "2001              95      3000000.0\n",
       "2002             115      4200000.0\n",
       "2003             154      3000000.0\n",
       "2004             286      5000000.0\n",
       "2005            1624      5500000.0\n",
       "2006            2409      5000000.0\n",
       "2007            3220      3973320.0\n",
       "2008            3735      3110000.0\n",
       "2009            4112      2000000.0\n",
       "2010            6194      1602500.0\n",
       "2011            9162      1200000.0\n",
       "2012            9956      1000000.0\n",
       "2013           11042      1200000.0"
      ]
     },
     "execution_count": 25,
     "metadata": {},
     "output_type": "execute_result"
    }
   ],
   "source": [
    "# Составим сводную таблицу по годам:\n",
    "year_pivot = company_and_rounds.pivot_table(index='year',\n",
    "                                            aggfunc={'raised_amount':'median', \n",
    "                                                     'funding_rounds':'count'})\n",
    "filterd_year_pivot = year_pivot[year_pivot['funding_rounds']>50]\n",
    "filterd_year_pivot"
   ]
  },
  {
   "cell_type": "markdown",
   "metadata": {},
   "source": [
    "Построим график, который будет отражать динамику типичного размера средств, которые стартапы получали в рамках одного раунда финансирования."
   ]
  },
  {
   "cell_type": "code",
   "execution_count": 26,
   "metadata": {
    "id": "8Fbz6KmzFdYP"
   },
   "outputs": [
    {
     "data": {
      "image/png": "[encoded data removed]",
      "text/plain": [
       "<Figure size 1000x600 with 1 Axes>"
      ]
     },
     "metadata": {},
     "output_type": "display_data"
    }
   ],
   "source": [
    "# Построим график:\n",
    "filterd_year_pivot['raised_amount'].plot(kind='line',\n",
    "                                         figsize=(10,6),\n",
    "                                         marker='o')\n",
    "plt.grid(True)\n",
    "plt.title('Динамика финансирования одного инвестиционного раунда')\n",
    "plt.xlabel('Год')\n",
    "plt.ylabel('Сумма (млн, $)')\n",
    "plt.tight_layout()\n",
    "plt.show()"
   ]
  },
  {
   "cell_type": "code",
   "execution_count": 27,
   "metadata": {
    "scrolled": true
   },
   "outputs": [
    {
     "data": {
      "text/html": [
       "<div>\n",
       "<style scoped>\n",
       "    .dataframe tbody tr th:only-of-type {\n",
       "        vertical-align: middle;\n",
       "    }\n",
       "\n",
       "    .dataframe tbody tr th {\n",
       "        vertical-align: top;\n",
       "    }\n",
       "\n",
       "    .dataframe thead th {\n",
       "        text-align: right;\n",
       "    }\n",
       "</style>\n",
       "<table border=\"1\" class=\"dataframe\">\n",
       "  <thead>\n",
       "    <tr style=\"text-align: right;\">\n",
       "      <th></th>\n",
       "      <th>funding_rounds</th>\n",
       "      <th>raised_amount</th>\n",
       "    </tr>\n",
       "    <tr>\n",
       "      <th>year</th>\n",
       "      <th></th>\n",
       "      <th></th>\n",
       "    </tr>\n",
       "  </thead>\n",
       "  <tbody>\n",
       "    <tr>\n",
       "      <th>2005</th>\n",
       "      <td>1624</td>\n",
       "      <td>5500000.0</td>\n",
       "    </tr>\n",
       "    <tr>\n",
       "      <th>2004</th>\n",
       "      <td>286</td>\n",
       "      <td>5000000.0</td>\n",
       "    </tr>\n",
       "    <tr>\n",
       "      <th>2006</th>\n",
       "      <td>2409</td>\n",
       "      <td>5000000.0</td>\n",
       "    </tr>\n",
       "    <tr>\n",
       "      <th>2000</th>\n",
       "      <td>125</td>\n",
       "      <td>4200000.0</td>\n",
       "    </tr>\n",
       "    <tr>\n",
       "      <th>2002</th>\n",
       "      <td>115</td>\n",
       "      <td>4200000.0</td>\n",
       "    </tr>\n",
       "    <tr>\n",
       "      <th>2007</th>\n",
       "      <td>3220</td>\n",
       "      <td>3973320.0</td>\n",
       "    </tr>\n",
       "    <tr>\n",
       "      <th>2008</th>\n",
       "      <td>3735</td>\n",
       "      <td>3110000.0</td>\n",
       "    </tr>\n",
       "    <tr>\n",
       "      <th>2001</th>\n",
       "      <td>95</td>\n",
       "      <td>3000000.0</td>\n",
       "    </tr>\n",
       "    <tr>\n",
       "      <th>2003</th>\n",
       "      <td>154</td>\n",
       "      <td>3000000.0</td>\n",
       "    </tr>\n",
       "    <tr>\n",
       "      <th>1999</th>\n",
       "      <td>76</td>\n",
       "      <td>2000000.0</td>\n",
       "    </tr>\n",
       "    <tr>\n",
       "      <th>2009</th>\n",
       "      <td>4112</td>\n",
       "      <td>2000000.0</td>\n",
       "    </tr>\n",
       "    <tr>\n",
       "      <th>2010</th>\n",
       "      <td>6194</td>\n",
       "      <td>1602500.0</td>\n",
       "    </tr>\n",
       "    <tr>\n",
       "      <th>2011</th>\n",
       "      <td>9162</td>\n",
       "      <td>1200000.0</td>\n",
       "    </tr>\n",
       "    <tr>\n",
       "      <th>2013</th>\n",
       "      <td>11042</td>\n",
       "      <td>1200000.0</td>\n",
       "    </tr>\n",
       "    <tr>\n",
       "      <th>2012</th>\n",
       "      <td>9956</td>\n",
       "      <td>1000000.0</td>\n",
       "    </tr>\n",
       "  </tbody>\n",
       "</table>\n",
       "</div>"
      ],
      "text/plain": [
       "      funding_rounds  raised_amount\n",
       "year                               \n",
       "2005            1624      5500000.0\n",
       "2004             286      5000000.0\n",
       "2006            2409      5000000.0\n",
       "2000             125      4200000.0\n",
       "2002             115      4200000.0\n",
       "2007            3220      3973320.0\n",
       "2008            3735      3110000.0\n",
       "2001              95      3000000.0\n",
       "2003             154      3000000.0\n",
       "1999              76      2000000.0\n",
       "2009            4112      2000000.0\n",
       "2010            6194      1602500.0\n",
       "2011            9162      1200000.0\n",
       "2013           11042      1200000.0\n",
       "2012            9956      1000000.0"
      ]
     },
     "execution_count": 27,
     "metadata": {},
     "output_type": "execute_result"
    }
   ],
   "source": [
    "# Отсортируем сводную таблицу по убыванию суммы средств:\n",
    "filterd_year_pivot.sort_values(by='raised_amount', ascending=False)"
   ]
  },
  {
   "cell_type": "markdown",
   "metadata": {
    "id": "Z92DzKMMFdKW"
   },
   "source": [
    "В 2005 году был максимальный сбор денег за 1 раунд стартапа.\n",
    "\n",
    "В 2013 году отмечается самое высокое количество раундов финансирования, а также с каждым годом динамика по количеству раундов растет. Получается, что с каждым годом стартапов становится больше, и инвесторы активнее вкладываются в новые проекты."
   ]
  },
  {
   "cell_type": "markdown",
   "metadata": {
    "id": "45if1en1rJg2"
   },
   "source": [
    "\n",
    "### Люди и их образование\n",
    "\n",
    "Необходимо оценить, насколько информация об образовании сотрудников полна. Для этого используя датасеты `people.csv` и `education.csv`, разделим все компании на несколько групп по количеству сотрудников и оценим среднюю долю сотрудников без информации об образовании в каждой из групп."
   ]
  },
  {
   "cell_type": "code",
   "execution_count": 28,
   "metadata": {
    "id": "psPO7C4MrJg2",
    "vscode": {
     "languageId": "plaintext"
    }
   },
   "outputs": [],
   "source": [
    "# Объединим таблицы people и education:\n",
    "employee = people.merge(education, \n",
    "                        how='left', \n",
    "                        left_on='id', \n",
    "                        right_on='person_id')"
   ]
  },
  {
   "cell_type": "code",
   "execution_count": 29,
   "metadata": {},
   "outputs": [
    {
     "data": {
      "text/html": [
       "<style type=\"text/css\">\n",
       "#T_d7a78_row0_col0, #T_d7a78_row0_col1 {\n",
       "  background-color: #b40426;\n",
       "  color: #f1f1f1;\n",
       "}\n",
       "#T_d7a78_row1_col0, #T_d7a78_row1_col1 {\n",
       "  background-color: #bd1f2d;\n",
       "  color: #f1f1f1;\n",
       "}\n",
       "#T_d7a78_row2_col0, #T_d7a78_row2_col1 {\n",
       "  background-color: #c83836;\n",
       "  color: #f1f1f1;\n",
       "}\n",
       "#T_d7a78_row3_col0, #T_d7a78_row3_col1, #T_d7a78_row4_col0, #T_d7a78_row4_col1, #T_d7a78_row5_col0, #T_d7a78_row5_col1 {\n",
       "  background-color: #f7a889;\n",
       "  color: #000000;\n",
       "}\n",
       "#T_d7a78_row6_col0, #T_d7a78_row6_col1, #T_d7a78_row7_col0, #T_d7a78_row7_col1, #T_d7a78_row8_col0, #T_d7a78_row8_col1 {\n",
       "  background-color: #3b4cc0;\n",
       "  color: #f1f1f1;\n",
       "}\n",
       "</style>\n",
       "<table id=\"T_d7a78\">\n",
       "  <thead>\n",
       "    <tr>\n",
       "      <th class=\"blank level0\" >&nbsp;</th>\n",
       "      <th id=\"T_d7a78_level0_col0\" class=\"col_heading level0 col0\" >Кол-во пропусков</th>\n",
       "      <th id=\"T_d7a78_level0_col1\" class=\"col_heading level0 col1\" >Доля пропусков</th>\n",
       "    </tr>\n",
       "  </thead>\n",
       "  <tbody>\n",
       "    <tr>\n",
       "      <th id=\"T_d7a78_level0_row0\" class=\"row_heading level0 row0\" >company_id</th>\n",
       "      <td id=\"T_d7a78_row0_col0\" class=\"data row0 col0\" >222905</td>\n",
       "      <td id=\"T_d7a78_row0_col1\" class=\"data row0 col1\" >83.268583</td>\n",
       "    </tr>\n",
       "    <tr>\n",
       "      <th id=\"T_d7a78_level0_row1\" class=\"row_heading level0 row1\" >network_username</th>\n",
       "      <td id=\"T_d7a78_row1_col0\" class=\"data row1 col0\" >216919</td>\n",
       "      <td id=\"T_d7a78_row1_col1\" class=\"data row1 col1\" >81.032447</td>\n",
       "    </tr>\n",
       "    <tr>\n",
       "      <th id=\"T_d7a78_level0_row2\" class=\"row_heading level0 row2\" >graduated_at</th>\n",
       "      <td id=\"T_d7a78_row2_col0\" class=\"data row2 col0\" >210003</td>\n",
       "      <td id=\"T_d7a78_row2_col1\" class=\"data row2 col1\" >78.448901</td>\n",
       "    </tr>\n",
       "    <tr>\n",
       "      <th id=\"T_d7a78_level0_row3\" class=\"row_heading level0 row3\" >instituition</th>\n",
       "      <td id=\"T_d7a78_row3_col0\" class=\"data row3 col0\" >158692</td>\n",
       "      <td id=\"T_d7a78_row3_col1\" class=\"data row3 col1\" >59.281119</td>\n",
       "    </tr>\n",
       "    <tr>\n",
       "      <th id=\"T_d7a78_level0_row4\" class=\"row_heading level0 row4\" >id_y</th>\n",
       "      <td id=\"T_d7a78_row4_col0\" class=\"data row4 col0\" >158638</td>\n",
       "      <td id=\"T_d7a78_row4_col1\" class=\"data row4 col1\" >59.260947</td>\n",
       "    </tr>\n",
       "    <tr>\n",
       "      <th id=\"T_d7a78_level0_row5\" class=\"row_heading level0 row5\" >person_id</th>\n",
       "      <td id=\"T_d7a78_row5_col0\" class=\"data row5 col0\" >158638</td>\n",
       "      <td id=\"T_d7a78_row5_col1\" class=\"data row5 col1\" >59.260947</td>\n",
       "    </tr>\n",
       "    <tr>\n",
       "      <th id=\"T_d7a78_level0_row6\" class=\"row_heading level0 row6\" >first_name</th>\n",
       "      <td id=\"T_d7a78_row6_col0\" class=\"data row6 col0\" >9</td>\n",
       "      <td id=\"T_d7a78_row6_col1\" class=\"data row6 col1\" >0.003362</td>\n",
       "    </tr>\n",
       "    <tr>\n",
       "      <th id=\"T_d7a78_level0_row7\" class=\"row_heading level0 row7\" >last_name</th>\n",
       "      <td id=\"T_d7a78_row7_col0\" class=\"data row7 col0\" >4</td>\n",
       "      <td id=\"T_d7a78_row7_col1\" class=\"data row7 col1\" >0.001494</td>\n",
       "    </tr>\n",
       "    <tr>\n",
       "      <th id=\"T_d7a78_level0_row8\" class=\"row_heading level0 row8\" >id_x</th>\n",
       "      <td id=\"T_d7a78_row8_col0\" class=\"data row8 col0\" >0</td>\n",
       "      <td id=\"T_d7a78_row8_col1\" class=\"data row8 col1\" >0.000000</td>\n",
       "    </tr>\n",
       "  </tbody>\n",
       "</table>\n"
      ],
      "text/plain": [
       "<pandas.io.formats.style.Styler at 0x1fb822c58a0>"
      ]
     },
     "execution_count": 29,
     "metadata": {},
     "output_type": "execute_result"
    }
   ],
   "source": [
    "# Выведем количество и процент пропущенных значений:\n",
    "(pd.DataFrame({'Кол-во пропусков': employee.isna().sum(), 'Доля пропусков': employee.isna().mean()*100})\n",
    "           .sort_values(by='Кол-во пропусков', ascending=False)\n",
    "           .style.background_gradient(cmap='coolwarm'))"
   ]
  },
  {
   "cell_type": "markdown",
   "metadata": {
    "id": "4FC98Pd-FcmG"
   },
   "source": [
    "В объединенном датасете у большинства столбцов более 59% пропусков, что сильно исказит анализ, касающийся информации о сотрудниках компаний. Тем более пропуски присутствуют в важных столбцах, таких как: id компании и название учебного заведения."
   ]
  },
  {
   "cell_type": "code",
   "execution_count": 30,
   "metadata": {},
   "outputs": [
    {
     "data": {
      "text/plain": [
       "count    22922.000000\n",
       "mean         0.805514\n",
       "std          2.005217\n",
       "min          0.000000\n",
       "1%           0.000000\n",
       "25%          0.000000\n",
       "50%          1.000000\n",
       "75%          1.000000\n",
       "99%          5.000000\n",
       "max        168.000000\n",
       "Name: person_id, dtype: float64"
      ]
     },
     "execution_count": 30,
     "metadata": {},
     "output_type": "execute_result"
    }
   ],
   "source": [
    "# Посчитаем количество сотрудников в каждой компании:\n",
    "employee_num = employee.groupby(['company_id'])['person_id'].nunique()\n",
    "\n",
    "# Выведем статистику по количеству сотрудников:\n",
    "employee_num.describe(percentiles=[0.01, 0.25, 0.75, 0.99])"
   ]
  },
  {
   "cell_type": "code",
   "execution_count": 31,
   "metadata": {},
   "outputs": [
    {
     "data": {
      "image/png": "[encoded data removed]",
      "text/plain": [
       "<Figure size 1500x300 with 1 Axes>"
      ]
     },
     "metadata": {},
     "output_type": "display_data"
    }
   ],
   "source": [
    "# Построим диаграмму размаха:\n",
    "employee_num.plot(kind='box',\n",
    "                  vert=False,\n",
    "                  figsize=(15,3))\n",
    "plt.grid(True)\n",
    "plt.title('Количество сотрудников в компаниях')\n",
    "plt.xlabel('Количество')\n",
    "plt.tight_layout()\n",
    "plt.show()"
   ]
  },
  {
   "cell_type": "code",
   "execution_count": 32,
   "metadata": {},
   "outputs": [
    {
     "data": {
      "image/png": "[encoded data removed]",
      "text/plain": [
       "<Figure size 800x300 with 1 Axes>"
      ]
     },
     "metadata": {},
     "output_type": "display_data"
    }
   ],
   "source": [
    "# Построим диаграмму размаха с основными выбросами:\n",
    "employee_num.plot(kind='box',\n",
    "                  vert=False,\n",
    "                  figsize=(8,3))\n",
    "plt.grid(True)\n",
    "plt.title('Среднее количество сотрудников в компаниях')\n",
    "plt.xlabel('Количество')\n",
    "plt.xlim(-1, 8)\n",
    "plt.tight_layout()\n",
    "plt.show()"
   ]
  },
  {
   "cell_type": "markdown",
   "metadata": {},
   "source": [
    "В датасете присутствуют выбросы, об этом можно судить по диаграмме размаха. Максимальное значение количества сотрудников - 168 человек, хотя 99 процентиль составляет только 5. Получается, что в датасете большинство компаний маленькие - медиана и среднее значение показывают, что большинство компаний состоят только из 1 сотрудника. Также есть нереальные значения - в каких-то компаниях нет сотрудников, чего и вовсе не может быть."
   ]
  },
  {
   "cell_type": "code",
   "execution_count": 33,
   "metadata": {},
   "outputs": [
    {
     "data": {
      "image/png": "[encoded data removed]",
      "text/plain": [
       "<Figure size 2000x600 with 1 Axes>"
      ]
     },
     "metadata": {},
     "output_type": "display_data"
    }
   ],
   "source": [
    "# Построим график, показывающий, сколько компаний имеют определённое количество сотрудников:\n",
    "plt.figure(figsize=(20,6))\n",
    "employee_num_ax = sns.countplot(x=employee_num)\n",
    "plt.grid(True, axis='y')\n",
    "plt.title('Распределение количества компаний в зависимости от числа их сотрудников')\n",
    "plt.xlabel('Количество сотрудников')\n",
    "plt.ylabel('Количество компаний')\n",
    "employee_num_ax.bar_label(employee_num_ax.containers[0])\n",
    "plt.show()"
   ]
  },
  {
   "cell_type": "markdown",
   "metadata": {},
   "source": [
    "Большинство компаний не имеют сотрудников, что неправдоподобно, соответственно, 9503 записи имеют аномальные значения. В датафрейме в основном находятся маленькие компании, в которых находится 1 сотрудник. Вероятно, это стартапы.\n",
    "\n",
    "Выделим следующие группы: 1, 2, 3, 4, 5-10, 11-24 и более 25. Они содержат схожую градацию."
   ]
  },
  {
   "cell_type": "code",
   "execution_count": 34,
   "metadata": {},
   "outputs": [
    {
     "data": {
      "text/plain": [
       "company_id\n",
       "1.0           1\n",
       "2.0           1\n",
       "3.0           2\n",
       "4.0       11-24\n",
       "5.0    более 25\n",
       "Name: person_id, dtype: category\n",
       "Categories (7, object): ['1' < '2' < '3' < '4' < '5-10' < '11-24' < 'более 25']"
      ]
     },
     "execution_count": 34,
     "metadata": {},
     "output_type": "execute_result"
    }
   ],
   "source": [
    "# Разделим компании на группы по количеству сотрудников:\n",
    "grouped_company = pd.cut(employee_num, bins=[0, 1, 2, 3, 4, 10, 24, float('inf')], labels=['1', '2', '3', '4', '5-10', '11-24', 'более 25']).copy()\n",
    "grouped_company.head()"
   ]
  },
  {
   "cell_type": "code",
   "execution_count": 35,
   "metadata": {
    "scrolled": true
   },
   "outputs": [],
   "source": [
    "# Добавим новый столбец к датафрейму с информацией о сотрудниках:\n",
    "employee['company_group'] = grouped_company"
   ]
  },
  {
   "cell_type": "code",
   "execution_count": 36,
   "metadata": {},
   "outputs": [
    {
     "name": "stderr",
     "output_type": "stream",
     "text": [
      "C:\\Users\\khari\\AppData\\Local\\Temp\\ipykernel_14896\\3506797709.py:2: FutureWarning: The default of observed=False is deprecated and will be changed to True in a future version of pandas. Pass observed=False to retain current behavior or observed=True to adopt the future default and silence this warning.\n",
      "  (employee.groupby('company_group')['instituition']\n"
     ]
    },
    {
     "data": {
      "text/html": [
       "<style type=\"text/css\">\n",
       "#T_8e84f_row0_col1 {\n",
       "  background-color: #ecd3c5;\n",
       "  color: #000000;\n",
       "}\n",
       "#T_8e84f_row1_col1 {\n",
       "  background-color: #f6a385;\n",
       "  color: #000000;\n",
       "}\n",
       "#T_8e84f_row2_col1 {\n",
       "  background-color: #e3d9d3;\n",
       "  color: #000000;\n",
       "}\n",
       "#T_8e84f_row3_col1 {\n",
       "  background-color: #b40426;\n",
       "  color: #f1f1f1;\n",
       "}\n",
       "#T_8e84f_row4_col1 {\n",
       "  background-color: #f7a889;\n",
       "  color: #000000;\n",
       "}\n",
       "#T_8e84f_row5_col1 {\n",
       "  background-color: #98b9ff;\n",
       "  color: #000000;\n",
       "}\n",
       "#T_8e84f_row6_col1 {\n",
       "  background-color: #3b4cc0;\n",
       "  color: #f1f1f1;\n",
       "}\n",
       "</style>\n",
       "<table id=\"T_8e84f\">\n",
       "  <thead>\n",
       "    <tr>\n",
       "      <th class=\"blank level0\" >&nbsp;</th>\n",
       "      <th id=\"T_8e84f_level0_col0\" class=\"col_heading level0 col0\" >company_group</th>\n",
       "      <th id=\"T_8e84f_level0_col1\" class=\"col_heading level0 col1\" >percent_missing</th>\n",
       "    </tr>\n",
       "  </thead>\n",
       "  <tbody>\n",
       "    <tr>\n",
       "      <th id=\"T_8e84f_level0_row0\" class=\"row_heading level0 row0\" >0</th>\n",
       "      <td id=\"T_8e84f_row0_col0\" class=\"data row0 col0\" >1</td>\n",
       "      <td id=\"T_8e84f_row0_col1\" class=\"data row0 col1\" >62.490000</td>\n",
       "    </tr>\n",
       "    <tr>\n",
       "      <th id=\"T_8e84f_level0_row1\" class=\"row_heading level0 row1\" >1</th>\n",
       "      <td id=\"T_8e84f_row1_col0\" class=\"data row1 col0\" >2</td>\n",
       "      <td id=\"T_8e84f_row1_col1\" class=\"data row1 col1\" >64.300000</td>\n",
       "    </tr>\n",
       "    <tr>\n",
       "      <th id=\"T_8e84f_level0_row2\" class=\"row_heading level0 row2\" >2</th>\n",
       "      <td id=\"T_8e84f_row2_col0\" class=\"data row2 col0\" >3</td>\n",
       "      <td id=\"T_8e84f_row2_col1\" class=\"data row2 col1\" >62.090000</td>\n",
       "    </tr>\n",
       "    <tr>\n",
       "      <th id=\"T_8e84f_level0_row3\" class=\"row_heading level0 row3\" >3</th>\n",
       "      <td id=\"T_8e84f_row3_col0\" class=\"data row3 col0\" >4</td>\n",
       "      <td id=\"T_8e84f_row3_col1\" class=\"data row3 col1\" >67.330000</td>\n",
       "    </tr>\n",
       "    <tr>\n",
       "      <th id=\"T_8e84f_level0_row4\" class=\"row_heading level0 row4\" >4</th>\n",
       "      <td id=\"T_8e84f_row4_col0\" class=\"data row4 col0\" >5-10</td>\n",
       "      <td id=\"T_8e84f_row4_col1\" class=\"data row4 col1\" >64.170000</td>\n",
       "    </tr>\n",
       "    <tr>\n",
       "      <th id=\"T_8e84f_level0_row5\" class=\"row_heading level0 row5\" >5</th>\n",
       "      <td id=\"T_8e84f_row5_col0\" class=\"data row5 col0\" >11-24</td>\n",
       "      <td id=\"T_8e84f_row5_col1\" class=\"data row5 col1\" >59.380000</td>\n",
       "    </tr>\n",
       "    <tr>\n",
       "      <th id=\"T_8e84f_level0_row6\" class=\"row_heading level0 row6\" >6</th>\n",
       "      <td id=\"T_8e84f_row6_col0\" class=\"data row6 col0\" >более 25</td>\n",
       "      <td id=\"T_8e84f_row6_col1\" class=\"data row6 col1\" >56.250000</td>\n",
       "    </tr>\n",
       "  </tbody>\n",
       "</table>\n"
      ],
      "text/plain": [
       "<pandas.io.formats.style.Styler at 0x1fb8211a560>"
      ]
     },
     "execution_count": 36,
     "metadata": {},
     "output_type": "execute_result"
    }
   ],
   "source": [
    "# Выведем процент среднего количества сотрудников без информации об образовании в каждой из групп:\n",
    "(employee.groupby('company_group')['instituition']\n",
    "          .apply(lambda x: x.isna().mean() * 100)\n",
    "          .round(2)\n",
    "          .reset_index(name='percent_missing')\n",
    "          .style.background_gradient(cmap='coolwarm'))"
   ]
  },
  {
   "cell_type": "markdown",
   "metadata": {},
   "source": [
    "Во всех компаниях вне зависимости от количества сотрудников отсутствует более 50%, чаще более 60% информации об образовании работников. Следовательно, полнота сведений об образовании сотрудников никак не зависит от размера компаний."
   ]
  },
  {
   "cell_type": "markdown",
   "metadata": {},
   "source": [
    "Также к датафрейму `employee` можно присоединить таблицу `degrees`. Но при первичном анализе было замечено, что `object_id` записан в неправильном виде. Выделим из столбца только номера id и переведем в целочисленный вид для присоединения таблицы."
   ]
  },
  {
   "cell_type": "code",
   "execution_count": 37,
   "metadata": {},
   "outputs": [],
   "source": [
    "# Преобразуем столбец к правильному виду:\n",
    "degrees['object_id'] = degrees['object_id'].str.split(':').str[1].astype(int)"
   ]
  },
  {
   "cell_type": "code",
   "execution_count": 38,
   "metadata": {},
   "outputs": [
    {
     "data": {
      "text/html": [
       "<div>\n",
       "<style scoped>\n",
       "    .dataframe tbody tr th:only-of-type {\n",
       "        vertical-align: middle;\n",
       "    }\n",
       "\n",
       "    .dataframe tbody tr th {\n",
       "        vertical-align: top;\n",
       "    }\n",
       "\n",
       "    .dataframe thead th {\n",
       "        text-align: right;\n",
       "    }\n",
       "</style>\n",
       "<table border=\"1\" class=\"dataframe\">\n",
       "  <thead>\n",
       "    <tr style=\"text-align: right;\">\n",
       "      <th></th>\n",
       "      <th>id_x</th>\n",
       "      <th>first_name</th>\n",
       "      <th>last_name</th>\n",
       "      <th>company_id</th>\n",
       "      <th>network_username</th>\n",
       "      <th>id_y</th>\n",
       "      <th>person_id</th>\n",
       "      <th>instituition</th>\n",
       "      <th>graduated_at</th>\n",
       "      <th>company_group</th>\n",
       "      <th>id</th>\n",
       "      <th>object_id</th>\n",
       "      <th>degree_type</th>\n",
       "      <th>subject</th>\n",
       "    </tr>\n",
       "  </thead>\n",
       "  <tbody>\n",
       "    <tr>\n",
       "      <th>0</th>\n",
       "      <td>10</td>\n",
       "      <td>Mark</td>\n",
       "      <td>Zuckerberg</td>\n",
       "      <td>5.0</td>\n",
       "      <td>NaN</td>\n",
       "      <td>2415.0</td>\n",
       "      <td>10.0</td>\n",
       "      <td>Harvard University</td>\n",
       "      <td>NaT</td>\n",
       "      <td>NaN</td>\n",
       "      <td>2415.0</td>\n",
       "      <td>10.0</td>\n",
       "      <td>NaN</td>\n",
       "      <td>Computer Science</td>\n",
       "    </tr>\n",
       "    <tr>\n",
       "      <th>1</th>\n",
       "      <td>100</td>\n",
       "      <td>Peter</td>\n",
       "      <td>Lester</td>\n",
       "      <td>27.0</td>\n",
       "      <td>NaN</td>\n",
       "      <td>NaN</td>\n",
       "      <td>NaN</td>\n",
       "      <td>NaN</td>\n",
       "      <td>NaT</td>\n",
       "      <td>1</td>\n",
       "      <td>NaN</td>\n",
       "      <td>NaN</td>\n",
       "      <td>NaN</td>\n",
       "      <td>NaN</td>\n",
       "    </tr>\n",
       "    <tr>\n",
       "      <th>2</th>\n",
       "      <td>1000</td>\n",
       "      <td>Dr. Steven</td>\n",
       "      <td>E. Saunders</td>\n",
       "      <td>292.0</td>\n",
       "      <td>NaN</td>\n",
       "      <td>NaN</td>\n",
       "      <td>NaN</td>\n",
       "      <td>NaN</td>\n",
       "      <td>NaT</td>\n",
       "      <td>1</td>\n",
       "      <td>NaN</td>\n",
       "      <td>NaN</td>\n",
       "      <td>NaN</td>\n",
       "      <td>NaN</td>\n",
       "    </tr>\n",
       "    <tr>\n",
       "      <th>3</th>\n",
       "      <td>10000</td>\n",
       "      <td>Neil</td>\n",
       "      <td>Capel</td>\n",
       "      <td>2526.0</td>\n",
       "      <td>NaN</td>\n",
       "      <td>NaN</td>\n",
       "      <td>NaN</td>\n",
       "      <td>NaN</td>\n",
       "      <td>NaT</td>\n",
       "      <td>2</td>\n",
       "      <td>NaN</td>\n",
       "      <td>NaN</td>\n",
       "      <td>NaN</td>\n",
       "      <td>NaN</td>\n",
       "    </tr>\n",
       "    <tr>\n",
       "      <th>4</th>\n",
       "      <td>100000</td>\n",
       "      <td>Sue</td>\n",
       "      <td>Pilsch</td>\n",
       "      <td>NaN</td>\n",
       "      <td>NaN</td>\n",
       "      <td>NaN</td>\n",
       "      <td>NaN</td>\n",
       "      <td>NaN</td>\n",
       "      <td>NaT</td>\n",
       "      <td>11-24</td>\n",
       "      <td>NaN</td>\n",
       "      <td>NaN</td>\n",
       "      <td>NaN</td>\n",
       "      <td>NaN</td>\n",
       "    </tr>\n",
       "    <tr>\n",
       "      <th>...</th>\n",
       "      <td>...</td>\n",
       "      <td>...</td>\n",
       "      <td>...</td>\n",
       "      <td>...</td>\n",
       "      <td>...</td>\n",
       "      <td>...</td>\n",
       "      <td>...</td>\n",
       "      <td>...</td>\n",
       "      <td>...</td>\n",
       "      <td>...</td>\n",
       "      <td>...</td>\n",
       "      <td>...</td>\n",
       "      <td>...</td>\n",
       "      <td>...</td>\n",
       "    </tr>\n",
       "    <tr>\n",
       "      <th>370831</th>\n",
       "      <td>99999</td>\n",
       "      <td>Ramon</td>\n",
       "      <td>Peypoch</td>\n",
       "      <td>NaN</td>\n",
       "      <td>NaN</td>\n",
       "      <td>NaN</td>\n",
       "      <td>NaN</td>\n",
       "      <td>NaN</td>\n",
       "      <td>NaT</td>\n",
       "      <td>NaN</td>\n",
       "      <td>NaN</td>\n",
       "      <td>NaN</td>\n",
       "      <td>NaN</td>\n",
       "      <td>NaN</td>\n",
       "    </tr>\n",
       "    <tr>\n",
       "      <th>370832</th>\n",
       "      <td>174088</td>\n",
       "      <td>Dr. Ray</td>\n",
       "      <td>Woods</td>\n",
       "      <td>188200.0</td>\n",
       "      <td>network</td>\n",
       "      <td>25958.0</td>\n",
       "      <td>174088.0</td>\n",
       "      <td>Sydney University Medical School</td>\n",
       "      <td>1982-01-01</td>\n",
       "      <td>NaN</td>\n",
       "      <td>25958.0</td>\n",
       "      <td>174088.0</td>\n",
       "      <td>M.B.B.S.</td>\n",
       "      <td>Medicine</td>\n",
       "    </tr>\n",
       "    <tr>\n",
       "      <th>370833</th>\n",
       "      <td>118386</td>\n",
       "      <td>Ricardo</td>\n",
       "      <td>Durand</td>\n",
       "      <td>143419.0</td>\n",
       "      <td>itechsocialnet</td>\n",
       "      <td>18871.0</td>\n",
       "      <td>118386.0</td>\n",
       "      <td>ESCS</td>\n",
       "      <td>2004-01-01</td>\n",
       "      <td>NaN</td>\n",
       "      <td>18871.0</td>\n",
       "      <td>118386.0</td>\n",
       "      <td>PhD</td>\n",
       "      <td>Journalism</td>\n",
       "    </tr>\n",
       "    <tr>\n",
       "      <th>370834</th>\n",
       "      <td>175827</td>\n",
       "      <td>mahesh</td>\n",
       "      <td>kumar</td>\n",
       "      <td>NaN</td>\n",
       "      <td>socialnethubs</td>\n",
       "      <td>NaN</td>\n",
       "      <td>NaN</td>\n",
       "      <td>NaN</td>\n",
       "      <td>NaT</td>\n",
       "      <td>NaN</td>\n",
       "      <td>NaN</td>\n",
       "      <td>NaN</td>\n",
       "      <td>NaN</td>\n",
       "      <td>NaN</td>\n",
       "    </tr>\n",
       "    <tr>\n",
       "      <th>370835</th>\n",
       "      <td>178190</td>\n",
       "      <td>Alex</td>\n",
       "      <td>Smith</td>\n",
       "      <td>NaN</td>\n",
       "      <td>esocialnetlike</td>\n",
       "      <td>NaN</td>\n",
       "      <td>NaN</td>\n",
       "      <td>NaN</td>\n",
       "      <td>NaT</td>\n",
       "      <td>NaN</td>\n",
       "      <td>NaN</td>\n",
       "      <td>NaN</td>\n",
       "      <td>NaN</td>\n",
       "      <td>NaN</td>\n",
       "    </tr>\n",
       "  </tbody>\n",
       "</table>\n",
       "<p>370836 rows × 14 columns</p>\n",
       "</div>"
      ],
      "text/plain": [
       "          id_x  first_name    last_name  company_id network_username     id_y  \\\n",
       "0           10        Mark   Zuckerberg         5.0              NaN   2415.0   \n",
       "1          100       Peter       Lester        27.0              NaN      NaN   \n",
       "2         1000  Dr. Steven  E. Saunders       292.0              NaN      NaN   \n",
       "3        10000        Neil        Capel      2526.0              NaN      NaN   \n",
       "4       100000         Sue       Pilsch         NaN              NaN      NaN   \n",
       "...        ...         ...          ...         ...              ...      ...   \n",
       "370831   99999       Ramon      Peypoch         NaN              NaN      NaN   \n",
       "370832  174088     Dr. Ray        Woods    188200.0          network  25958.0   \n",
       "370833  118386     Ricardo       Durand    143419.0   itechsocialnet  18871.0   \n",
       "370834  175827      mahesh        kumar         NaN    socialnethubs      NaN   \n",
       "370835  178190        Alex        Smith         NaN   esocialnetlike      NaN   \n",
       "\n",
       "        person_id                      instituition graduated_at  \\\n",
       "0            10.0                Harvard University          NaT   \n",
       "1             NaN                               NaN          NaT   \n",
       "2             NaN                               NaN          NaT   \n",
       "3             NaN                               NaN          NaT   \n",
       "4             NaN                               NaN          NaT   \n",
       "...           ...                               ...          ...   \n",
       "370831        NaN                               NaN          NaT   \n",
       "370832   174088.0  Sydney University Medical School   1982-01-01   \n",
       "370833   118386.0                              ESCS   2004-01-01   \n",
       "370834        NaN                               NaN          NaT   \n",
       "370835        NaN                               NaN          NaT   \n",
       "\n",
       "       company_group       id  object_id degree_type           subject  \n",
       "0                NaN   2415.0       10.0         NaN  Computer Science  \n",
       "1                  1      NaN        NaN         NaN               NaN  \n",
       "2                  1      NaN        NaN         NaN               NaN  \n",
       "3                  2      NaN        NaN         NaN               NaN  \n",
       "4              11-24      NaN        NaN         NaN               NaN  \n",
       "...              ...      ...        ...         ...               ...  \n",
       "370831           NaN      NaN        NaN         NaN               NaN  \n",
       "370832           NaN  25958.0   174088.0    M.B.B.S.          Medicine  \n",
       "370833           NaN  18871.0   118386.0         PhD        Journalism  \n",
       "370834           NaN      NaN        NaN         NaN               NaN  \n",
       "370835           NaN      NaN        NaN         NaN               NaN  \n",
       "\n",
       "[370836 rows x 14 columns]"
      ]
     },
     "execution_count": 38,
     "metadata": {},
     "output_type": "execute_result"
    }
   ],
   "source": [
    "# Присоединим таблицу degrees к employee\n",
    "employee.merge(degrees, how='left', left_on='id_x', right_on='object_id')"
   ]
  },
  {
   "cell_type": "markdown",
   "metadata": {},
   "source": [
    "Можно отметить, что до этого в датафрейме employee было 267694 строк, теперь же их стало больше - 370836 шт. Поэтому можно предположить, что в таблице degrees встречаются дубликаты идентификаторов сотрудников."
   ]
  },
  {
   "cell_type": "code",
   "execution_count": 39,
   "metadata": {},
   "outputs": [
    {
     "data": {
      "text/plain": [
       "41159"
      ]
     },
     "execution_count": 39,
     "metadata": {},
     "output_type": "execute_result"
    }
   ],
   "source": [
    "# Проверим количество дубликатов в id:\n",
    "degrees['object_id'].duplicated().sum()"
   ]
  },
  {
   "cell_type": "markdown",
   "metadata": {},
   "source": [
    "Гипотеза подтвердилась: присоединение данного датафрейма к employee исказит данные из-за наличия дубликатов. Соответственно, присоединение не целесообразно."
   ]
  },
  {
   "cell_type": "markdown",
   "metadata": {
    "id": "Lz7qjM32xglW"
   },
   "source": [
    "### 2.3. Объединять или не объединять — вот в чём вопрос\n",
    "\n",
    "Некоторые названия столбцов встречаются в датасетах чаще других. В результате предварительной проверки датасетов было выяснено, что столбец `company_id` подходит для объединения данных.\n",
    "\n",
    "Необходимо установить, подходит ли для объединения данных столбец `network_username`, который встречается в нескольких датасетах."
   ]
  },
  {
   "cell_type": "code",
   "execution_count": 40,
   "metadata": {
    "id": "RxOS5rwmFcNW"
   },
   "outputs": [
    {
     "data": {
      "text/plain": [
       "138202"
      ]
     },
     "execution_count": 40,
     "metadata": {},
     "output_type": "execute_result"
    }
   ],
   "source": [
    "# Найдем количество дубликатов в датафрейме company_and_rounds:\n",
    "company_network_dupl_num = company_and_rounds['network_username'].duplicated().sum()\n",
    "company_network_dupl_num"
   ]
  },
  {
   "cell_type": "code",
   "execution_count": 41,
   "metadata": {},
   "outputs": [
    {
     "data": {
      "text/plain": [
       "79571"
      ]
     },
     "execution_count": 41,
     "metadata": {},
     "output_type": "execute_result"
    }
   ],
   "source": [
    "# Найдем количество уникальных значений в датафрейме company_and_rounds:\n",
    "company_network_nunique = company_and_rounds['network_username'].nunique()\n",
    "company_network_nunique"
   ]
  },
  {
   "cell_type": "code",
   "execution_count": 42,
   "metadata": {},
   "outputs": [
    {
     "data": {
      "text/plain": [
       "58631"
      ]
     },
     "execution_count": 42,
     "metadata": {},
     "output_type": "execute_result"
    }
   ],
   "source": [
    "# Вычислим разницу в значениях:\n",
    "company_network_dupl_num - company_network_nunique"
   ]
  },
  {
   "cell_type": "code",
   "execution_count": 43,
   "metadata": {
    "id": "_7gjdrGOFcB2"
   },
   "outputs": [
    {
     "data": {
      "text/plain": [
       "188287"
      ]
     },
     "execution_count": 43,
     "metadata": {},
     "output_type": "execute_result"
    }
   ],
   "source": [
    "# Найдем количество дубликатов в датафрейме people:\n",
    "people_network_dupl_num = people['network_username'].duplicated().sum()\n",
    "people_network_dupl_num"
   ]
  },
  {
   "cell_type": "code",
   "execution_count": 44,
   "metadata": {},
   "outputs": [
    {
     "data": {
      "text/plain": [
       "38421"
      ]
     },
     "execution_count": 44,
     "metadata": {},
     "output_type": "execute_result"
    }
   ],
   "source": [
    "# Найдем количество уникальных значений в датафрейме people:\n",
    "people_network_nunique = people['network_username'].nunique()\n",
    "people_network_nunique"
   ]
  },
  {
   "cell_type": "code",
   "execution_count": 45,
   "metadata": {},
   "outputs": [
    {
     "data": {
      "text/plain": [
       "149866"
      ]
     },
     "execution_count": 45,
     "metadata": {},
     "output_type": "execute_result"
    }
   ],
   "source": [
    "# Вычислим разницу в значениях:\n",
    "people_network_dupl_num - people_network_nunique"
   ]
  },
  {
   "cell_type": "markdown",
   "metadata": {},
   "source": [
    "В обоих датафреймах в столбцах `network_username` встречается очень много дубликатов - больше, чем уникальных значений. В датафрейме `company_and_rounds` разница между количеством дубликатов и количеством уникальных значений составила 58631 шт., в таблице `people` - 149866 шт. Поэтому при объединении этих таблиц получится датафрейм с большИм количеством повторов. Следовательно, эти датасеты можно объединить только с учетом дубликатов (убрать их из обеих таблиц), но тогда потеряется большое количество важной информации."
   ]
  },
  {
   "cell_type": "markdown",
   "metadata": {
    "id": "EHcODomVrJg1"
   },
   "source": [
    "\n",
    "### 2.4. Проблемный датасет и причина возникновения пропусков\n",
    "\n",
    "В датасете `company_and_rounds` много пропусков в столбце о раундах, который необходим для анализа.\n",
    "\n",
    "Необходимо привести данные в вид, который позволит в дальнейшем проводить анализ в разрезе отдельных компаний."
   ]
  },
  {
   "cell_type": "markdown",
   "metadata": {},
   "source": [
    "Датасет company_and_rounds содержит 2 столбца с идентификатором компаний. Вероятно кто-то объединил 2 таблицы, содержащих информацию о компаниях и о раундах финансирования."
   ]
  },
  {
   "cell_type": "code",
   "execution_count": 46,
   "metadata": {
    "id": "9BY9lTUcFbJ-"
   },
   "outputs": [
    {
     "data": {
      "text/html": [
       "<div>\n",
       "<style scoped>\n",
       "    .dataframe tbody tr th:only-of-type {\n",
       "        vertical-align: middle;\n",
       "    }\n",
       "\n",
       "    .dataframe tbody tr th {\n",
       "        vertical-align: top;\n",
       "    }\n",
       "\n",
       "    .dataframe thead th {\n",
       "        text-align: right;\n",
       "    }\n",
       "</style>\n",
       "<table border=\"1\" class=\"dataframe\">\n",
       "  <thead>\n",
       "    <tr style=\"text-align: right;\">\n",
       "      <th></th>\n",
       "      <th>company_id_source_1</th>\n",
       "      <th>company_id_source_2</th>\n",
       "    </tr>\n",
       "  </thead>\n",
       "  <tbody>\n",
       "    <tr>\n",
       "      <th>0</th>\n",
       "      <td>1.0</td>\n",
       "      <td>1.0</td>\n",
       "    </tr>\n",
       "    <tr>\n",
       "      <th>1</th>\n",
       "      <td>1.0</td>\n",
       "      <td>1.0</td>\n",
       "    </tr>\n",
       "    <tr>\n",
       "      <th>2</th>\n",
       "      <td>1.0</td>\n",
       "      <td>1.0</td>\n",
       "    </tr>\n",
       "    <tr>\n",
       "      <th>3</th>\n",
       "      <td>10.0</td>\n",
       "      <td>NaN</td>\n",
       "    </tr>\n",
       "    <tr>\n",
       "      <th>4</th>\n",
       "      <td>100.0</td>\n",
       "      <td>NaN</td>\n",
       "    </tr>\n",
       "    <tr>\n",
       "      <th>5</th>\n",
       "      <td>10000.0</td>\n",
       "      <td>NaN</td>\n",
       "    </tr>\n",
       "    <tr>\n",
       "      <th>6</th>\n",
       "      <td>10001.0</td>\n",
       "      <td>NaN</td>\n",
       "    </tr>\n",
       "    <tr>\n",
       "      <th>7</th>\n",
       "      <td>10002.0</td>\n",
       "      <td>NaN</td>\n",
       "    </tr>\n",
       "    <tr>\n",
       "      <th>8</th>\n",
       "      <td>10003.0</td>\n",
       "      <td>NaN</td>\n",
       "    </tr>\n",
       "    <tr>\n",
       "      <th>9</th>\n",
       "      <td>100042.0</td>\n",
       "      <td>NaN</td>\n",
       "    </tr>\n",
       "  </tbody>\n",
       "</table>\n",
       "</div>"
      ],
      "text/plain": [
       "   company_id_source_1  company_id_source_2\n",
       "0                  1.0                  1.0\n",
       "1                  1.0                  1.0\n",
       "2                  1.0                  1.0\n",
       "3                 10.0                  NaN\n",
       "4                100.0                  NaN\n",
       "5              10000.0                  NaN\n",
       "6              10001.0                  NaN\n",
       "7              10002.0                  NaN\n",
       "8              10003.0                  NaN\n",
       "9             100042.0                  NaN"
      ]
     },
     "execution_count": 46,
     "metadata": {},
     "output_type": "execute_result"
    }
   ],
   "source": [
    "# Сравним значения двух столбцов с id компаний:\n",
    "company_and_rounds[['company_id_source_1', 'company_id_source_2']].head(10)"
   ]
  },
  {
   "cell_type": "markdown",
   "metadata": {},
   "source": [
    "Можно сделать вывод, что из-за неправильного объединения столбцы задублировались и в итоге в общем датафрейме появилось множество пропущенных значений, а также дубликатов."
   ]
  },
  {
   "cell_type": "markdown",
   "metadata": {},
   "source": [
    "Разделим датафрейм на 2 таблицы: по компаниям и раундам инвестирования."
   ]
  },
  {
   "cell_type": "code",
   "execution_count": 47,
   "metadata": {},
   "outputs": [],
   "source": [
    "# Создадим таблицу с информацией о компаниях:\n",
    "company_df = company_and_rounds[['company_id_source_1', 'name', 'category_code', 'status', \n",
    "                                 'founded_at', 'closed_at', 'domain', 'network_username', \n",
    "                                 'country_code', 'investment_rounds', 'funding_rounds',\n",
    "                                 'funding_total', 'pre_money_valuation', 'participants']]"
   ]
  },
  {
   "cell_type": "code",
   "execution_count": 48,
   "metadata": {},
   "outputs": [
    {
     "data": {
      "text/plain": [
       "10168"
      ]
     },
     "execution_count": 48,
     "metadata": {},
     "output_type": "execute_result"
    }
   ],
   "source": [
    "# Найдем количество явных дубликатов:\n",
    "company_df.duplicated().sum()"
   ]
  },
  {
   "cell_type": "code",
   "execution_count": 49,
   "metadata": {},
   "outputs": [],
   "source": [
    "# Удалим явные дубликаты:\n",
    "company_df_without_duplicates = company_df.drop_duplicates()"
   ]
  },
  {
   "cell_type": "code",
   "execution_count": 50,
   "metadata": {},
   "outputs": [
    {
     "data": {
      "text/plain": [
       "11052"
      ]
     },
     "execution_count": 50,
     "metadata": {},
     "output_type": "execute_result"
    }
   ],
   "source": [
    "# Найдем количество повторяющихся id компаний: \n",
    "company_df_without_duplicates['company_id_source_1'].duplicated().sum()"
   ]
  },
  {
   "cell_type": "code",
   "execution_count": 51,
   "metadata": {},
   "outputs": [],
   "source": [
    "# Удалим строки с повторяющимися id, оставим только последние:\n",
    "company_df_without_duplicates = company_df_without_duplicates.drop_duplicates(subset='company_id_source_1', keep='last')\n",
    "company_df_without_duplicates['company_id_source_1'].duplicated().sum()\n",
    "\n",
    "# Удалим строки с пропущенными значениями в id:\n",
    "company_df_without_duplicates = company_df_without_duplicates[company_df_without_duplicates['company_id_source_1'].notna()]"
   ]
  },
  {
   "cell_type": "code",
   "execution_count": 52,
   "metadata": {},
   "outputs": [],
   "source": [
    "# Создадим таблицу с информацией об инвестиционных раундах:\n",
    "rounds_df = company_and_rounds[['company_id_source_2', 'funding_total', 'milestones',\n",
    "                                'funding_round_id', 'funded_at',\n",
    "                                'funding_round_type', 'raised_amount',\n",
    "                                'is_first_round', 'is_last_round']]"
   ]
  },
  {
   "cell_type": "code",
   "execution_count": 53,
   "metadata": {},
   "outputs": [
    {
     "data": {
      "text/plain": [
       "164838"
      ]
     },
     "execution_count": 53,
     "metadata": {},
     "output_type": "execute_result"
    }
   ],
   "source": [
    "# Найдем количество явных дубликатов:\n",
    "rounds_df.duplicated().sum()"
   ]
  },
  {
   "cell_type": "code",
   "execution_count": 54,
   "metadata": {},
   "outputs": [],
   "source": [
    "# Удалим явные дубликаты:\n",
    "rounds_df_without_duplicates = rounds_df.drop_duplicates()"
   ]
  },
  {
   "cell_type": "code",
   "execution_count": 55,
   "metadata": {},
   "outputs": [
    {
     "data": {
      "text/plain": [
       "20996"
      ]
     },
     "execution_count": 55,
     "metadata": {},
     "output_type": "execute_result"
    }
   ],
   "source": [
    "# Найдем количество повторяющихся id компаний: \n",
    "rounds_df_without_duplicates['company_id_source_2'].duplicated().sum()"
   ]
  },
  {
   "cell_type": "code",
   "execution_count": 56,
   "metadata": {
    "id": "tJ6Sl6MKrJg1",
    "vscode": {
     "languageId": "plaintext"
    }
   },
   "outputs": [],
   "source": [
    "# Удалим строки с повторяющимися id, оставим только последние:\n",
    "rounds_df_without_duplicates = rounds_df_without_duplicates.drop_duplicates(subset='company_id_source_2', keep='last')\n",
    "rounds_df_without_duplicates['company_id_source_2'].duplicated().sum()\n",
    "\n",
    "# Удалим строки с пропущенными значениями в id:\n",
    "rounds_df_without_duplicates = rounds_df_without_duplicates[rounds_df_without_duplicates['company_id_source_2'].notna()]"
   ]
  },
  {
   "cell_type": "markdown",
   "metadata": {},
   "source": [
    "В итоге датафрейм company_and_rounds был разделен на 2, один из которых содержит информацию о компаниях, а другой - об инвестиционных раундах. Также была выполнена предобработка данных таблиц: были удалены дубликаты, пропуски в столбце с идентификаторами компаний, потому что информация о конкретных компаниях довольно важна для исследовательского анализа."
   ]
  },
  {
   "cell_type": "markdown",
   "metadata": {},
   "source": [
    "---\n",
    "\n",
    "### Промежуточный вывод\n",
    "\n",
    "В процессе анализа стало видно, что в 2005 году была зафиксирована самая большая сумма инвестиций за один раунд, а в 2013 году — рекорд по количеству раундов. Это показывает, что со временем стартапов становится всё больше, и инвесторы активнее в них вкладываются.\n",
    "\n",
    "Когда посмотрели на данные о сотрудниках, заметили много странностей: 99-й перцентиль — всего 8 сотрудников, а максимальное число — 300. При этом медиана равна 1, значит, в основном это маленькие стартапы. Также есть компании без сотрудников, что вообще маловероятно.\n",
    "\n",
    "Чтобы лучше понять ситуацию, компании разделили на группы по количеству сотрудников: 1, 2, 3, 4, 5–10, 11–24 и больше 25 человек. При этом выяснилось, что независимо от размера компании информации об образовании сотрудников почти всегда мало — чаще меньше 40%.\n",
    "\n",
    "Пробовали присоединить таблицу с образованием сотрудников, но заметили, что там много повторяющихся id. Из-за этого присоединение сильно бы исказило данные, поэтому решили его не делать.\n",
    "\n",
    "Кроме того, в полях `network_username` и в компании, и в людях очень много повторяющихся значений — дубликатов больше, чем уникальных данных. Значит, объединять эти таблицы можно только аккуратно, чтобы не потерять важную информацию.\n",
    "\n",
    "И ещё выяснилось, что в таблице `company_and_rounds` почему-то два столбца с id компаний, что, скорее всего, ошибка из-за неправильного объединения таблиц. В итоге мы почистили данные — удалили дубликаты, пропуски и разделили датафрейм на две отдельные таблицы: одна теперь про компании, другая про инвестиционные раунды.\n",
    "\n",
    "---"
   ]
  },
  {
   "cell_type": "markdown",
   "metadata": {
    "id": "bmVYhphNrJg2"
   },
   "source": [
    "\n",
    "## Исследовательский анализ объединённых таблиц"
   ]
  },
  {
   "cell_type": "markdown",
   "metadata": {
    "id": "3Di6tCT3rJg2"
   },
   "source": [
    "### Объединение данных\n",
    "\n",
    "Заказчика интересуют компании, которые меняли или готовы менять владельцев. Получение инвестиций или финансирования, по мнению заказчика, означает интерес к покупке или продаже компании. Необходимо получить информацию из предобработанного выше датасета.\n"
   ]
  },
  {
   "cell_type": "code",
   "execution_count": 57,
   "metadata": {
    "id": "kuV1b5MXFg3_"
   },
   "outputs": [],
   "source": [
    "# Объединим датасеты company_df_without_duplicates и acquisition:\n",
    "acquired_company = company_df_without_duplicates.merge(acquisition, \n",
    "                                                       how='left', \n",
    "                                                       left_on='company_id_source_1', right_on='acquired_company_id')\n",
    "acquired_company = acquired_company[(acquired_company['funding_rounds']>0)|\n",
    "                                    (acquired_company['investment_rounds']>0)|\n",
    "                                    (acquired_company['status']=='acquired')]"
   ]
  },
  {
   "cell_type": "markdown",
   "metadata": {
    "id": "93v3fEX5FgtP"
   },
   "source": [
    "Заказчика интересуют компании, которые меняли или готовы поменять владельцев. С этой целью были объединены 2 таблицы с информацией о компаниях и о покупках одними компаниями других. Новый датасет состоит из 40890 компаний, соответствующих запросу заказчика."
   ]
  },
  {
   "cell_type": "code",
   "execution_count": 58,
   "metadata": {},
   "outputs": [
    {
     "data": {
      "text/plain": [
       "0"
      ]
     },
     "execution_count": 58,
     "metadata": {},
     "output_type": "execute_result"
    }
   ],
   "source": [
    "# Проверим наличие дубликатов:\n",
    "acquired_company.duplicated().sum()"
   ]
  },
  {
   "cell_type": "markdown",
   "metadata": {},
   "source": [
    "В данных дубликатов нет."
   ]
  },
  {
   "cell_type": "markdown",
   "metadata": {},
   "source": [
    "Выведем количество и процент пропущенных значений."
   ]
  },
  {
   "cell_type": "code",
   "execution_count": 59,
   "metadata": {},
   "outputs": [
    {
     "data": {
      "text/html": [
       "<style type=\"text/css\">\n",
       "#T_a4e6a_row0_col0, #T_a4e6a_row0_col1 {\n",
       "  background-color: #b40426;\n",
       "  color: #f1f1f1;\n",
       "}\n",
       "#T_a4e6a_row1_col0, #T_a4e6a_row1_col1 {\n",
       "  background-color: #b50927;\n",
       "  color: #f1f1f1;\n",
       "}\n",
       "#T_a4e6a_row2_col0, #T_a4e6a_row2_col1, #T_a4e6a_row3_col0, #T_a4e6a_row3_col1, #T_a4e6a_row4_col0, #T_a4e6a_row4_col1, #T_a4e6a_row5_col0, #T_a4e6a_row5_col1, #T_a4e6a_row6_col0, #T_a4e6a_row6_col1 {\n",
       "  background-color: #ec8165;\n",
       "  color: #f1f1f1;\n",
       "}\n",
       "#T_a4e6a_row7_col0, #T_a4e6a_row7_col1 {\n",
       "  background-color: #dfdbd9;\n",
       "  color: #000000;\n",
       "}\n",
       "#T_a4e6a_row8_col0, #T_a4e6a_row8_col1 {\n",
       "  background-color: #aac7fd;\n",
       "  color: #000000;\n",
       "}\n",
       "#T_a4e6a_row9_col0, #T_a4e6a_row9_col1, #T_a4e6a_row10_col0, #T_a4e6a_row10_col1 {\n",
       "  background-color: #86a9fc;\n",
       "  color: #f1f1f1;\n",
       "}\n",
       "#T_a4e6a_row11_col0, #T_a4e6a_row11_col1 {\n",
       "  background-color: #6b8df0;\n",
       "  color: #f1f1f1;\n",
       "}\n",
       "#T_a4e6a_row12_col0, #T_a4e6a_row12_col1 {\n",
       "  background-color: #6687ed;\n",
       "  color: #f1f1f1;\n",
       "}\n",
       "#T_a4e6a_row13_col0, #T_a4e6a_row13_col1 {\n",
       "  background-color: #6282ea;\n",
       "  color: #f1f1f1;\n",
       "}\n",
       "#T_a4e6a_row14_col0, #T_a4e6a_row14_col1, #T_a4e6a_row15_col0, #T_a4e6a_row15_col1, #T_a4e6a_row16_col0, #T_a4e6a_row16_col1, #T_a4e6a_row17_col0, #T_a4e6a_row17_col1, #T_a4e6a_row18_col0, #T_a4e6a_row18_col1, #T_a4e6a_row19_col0, #T_a4e6a_row19_col1 {\n",
       "  background-color: #3b4cc0;\n",
       "  color: #f1f1f1;\n",
       "}\n",
       "</style>\n",
       "<table id=\"T_a4e6a\">\n",
       "  <thead>\n",
       "    <tr>\n",
       "      <th class=\"blank level0\" >&nbsp;</th>\n",
       "      <th id=\"T_a4e6a_level0_col0\" class=\"col_heading level0 col0\" >Кол-во пропусков</th>\n",
       "      <th id=\"T_a4e6a_level0_col1\" class=\"col_heading level0 col1\" >Доля пропусков</th>\n",
       "    </tr>\n",
       "  </thead>\n",
       "  <tbody>\n",
       "    <tr>\n",
       "      <th id=\"T_a4e6a_level0_row0\" class=\"row_heading level0 row0\" >payment_type</th>\n",
       "      <td id=\"T_a4e6a_row0_col0\" class=\"data row0 col0\" >39060</td>\n",
       "      <td id=\"T_a4e6a_row0_col1\" class=\"data row0 col1\" >95.524578</td>\n",
       "    </tr>\n",
       "    <tr>\n",
       "      <th id=\"T_a4e6a_level0_row1\" class=\"row_heading level0 row1\" >closed_at</th>\n",
       "      <td id=\"T_a4e6a_row1_col0\" class=\"data row1 col0\" >38762</td>\n",
       "      <td id=\"T_a4e6a_row1_col1\" class=\"data row1 col1\" >94.795794</td>\n",
       "    </tr>\n",
       "    <tr>\n",
       "      <th id=\"T_a4e6a_level0_row2\" class=\"row_heading level0 row2\" >acquired_at</th>\n",
       "      <td id=\"T_a4e6a_row2_col0\" class=\"data row2 col0\" >31529</td>\n",
       "      <td id=\"T_a4e6a_row2_col1\" class=\"data row2 col1\" >77.106872</td>\n",
       "    </tr>\n",
       "    <tr>\n",
       "      <th id=\"T_a4e6a_level0_row3\" class=\"row_heading level0 row3\" >id</th>\n",
       "      <td id=\"T_a4e6a_row3_col0\" class=\"data row3 col0\" >31500</td>\n",
       "      <td id=\"T_a4e6a_row3_col1\" class=\"data row3 col1\" >77.035950</td>\n",
       "    </tr>\n",
       "    <tr>\n",
       "      <th id=\"T_a4e6a_level0_row4\" class=\"row_heading level0 row4\" >price_amount</th>\n",
       "      <td id=\"T_a4e6a_row4_col0\" class=\"data row4 col0\" >31500</td>\n",
       "      <td id=\"T_a4e6a_row4_col1\" class=\"data row4 col1\" >77.035950</td>\n",
       "    </tr>\n",
       "    <tr>\n",
       "      <th id=\"T_a4e6a_level0_row5\" class=\"row_heading level0 row5\" >acquired_company_id</th>\n",
       "      <td id=\"T_a4e6a_row5_col0\" class=\"data row5 col0\" >31500</td>\n",
       "      <td id=\"T_a4e6a_row5_col1\" class=\"data row5 col1\" >77.035950</td>\n",
       "    </tr>\n",
       "    <tr>\n",
       "      <th id=\"T_a4e6a_level0_row6\" class=\"row_heading level0 row6\" >acquiring_company_id</th>\n",
       "      <td id=\"T_a4e6a_row6_col0\" class=\"data row6 col0\" >31500</td>\n",
       "      <td id=\"T_a4e6a_row6_col1\" class=\"data row6 col1\" >77.035950</td>\n",
       "    </tr>\n",
       "    <tr>\n",
       "      <th id=\"T_a4e6a_level0_row7\" class=\"row_heading level0 row7\" >network_username</th>\n",
       "      <td id=\"T_a4e6a_row7_col0\" class=\"data row7 col0\" >19952</td>\n",
       "      <td id=\"T_a4e6a_row7_col1\" class=\"data row7 col1\" >48.794326</td>\n",
       "    </tr>\n",
       "    <tr>\n",
       "      <th id=\"T_a4e6a_level0_row8\" class=\"row_heading level0 row8\" >founded_at</th>\n",
       "      <td id=\"T_a4e6a_row8_col0\" class=\"data row8 col0\" >12979</td>\n",
       "      <td id=\"T_a4e6a_row8_col1\" class=\"data row8 col1\" >31.741257</td>\n",
       "    </tr>\n",
       "    <tr>\n",
       "      <th id=\"T_a4e6a_level0_row9\" class=\"row_heading level0 row9\" >pre_money_valuation</th>\n",
       "      <td id=\"T_a4e6a_row9_col0\" class=\"data row9 col0\" >9135</td>\n",
       "      <td id=\"T_a4e6a_row9_col1\" class=\"data row9 col1\" >22.340426</td>\n",
       "    </tr>\n",
       "    <tr>\n",
       "      <th id=\"T_a4e6a_level0_row10\" class=\"row_heading level0 row10\" >participants</th>\n",
       "      <td id=\"T_a4e6a_row10_col0\" class=\"data row10 col0\" >9135</td>\n",
       "      <td id=\"T_a4e6a_row10_col1\" class=\"data row10 col1\" >22.340426</td>\n",
       "    </tr>\n",
       "    <tr>\n",
       "      <th id=\"T_a4e6a_level0_row11\" class=\"row_heading level0 row11\" >country_code</th>\n",
       "      <td id=\"T_a4e6a_row11_col0\" class=\"data row11 col0\" >6032</td>\n",
       "      <td id=\"T_a4e6a_row11_col1\" class=\"data row11 col1\" >14.751773</td>\n",
       "    </tr>\n",
       "    <tr>\n",
       "      <th id=\"T_a4e6a_level0_row12\" class=\"row_heading level0 row12\" >category_code</th>\n",
       "      <td id=\"T_a4e6a_row12_col0\" class=\"data row12 col0\" >5454</td>\n",
       "      <td id=\"T_a4e6a_row12_col1\" class=\"data row12 col1\" >13.338225</td>\n",
       "    </tr>\n",
       "    <tr>\n",
       "      <th id=\"T_a4e6a_level0_row13\" class=\"row_heading level0 row13\" >domain</th>\n",
       "      <td id=\"T_a4e6a_row13_col0\" class=\"data row13 col0\" >5007</td>\n",
       "      <td id=\"T_a4e6a_row13_col1\" class=\"data row13 col1\" >12.245048</td>\n",
       "    </tr>\n",
       "    <tr>\n",
       "      <th id=\"T_a4e6a_level0_row14\" class=\"row_heading level0 row14\" >company_id_source_1</th>\n",
       "      <td id=\"T_a4e6a_row14_col0\" class=\"data row14 col0\" >0</td>\n",
       "      <td id=\"T_a4e6a_row14_col1\" class=\"data row14 col1\" >0.000000</td>\n",
       "    </tr>\n",
       "    <tr>\n",
       "      <th id=\"T_a4e6a_level0_row15\" class=\"row_heading level0 row15\" >funding_total</th>\n",
       "      <td id=\"T_a4e6a_row15_col0\" class=\"data row15 col0\" >0</td>\n",
       "      <td id=\"T_a4e6a_row15_col1\" class=\"data row15 col1\" >0.000000</td>\n",
       "    </tr>\n",
       "    <tr>\n",
       "      <th id=\"T_a4e6a_level0_row16\" class=\"row_heading level0 row16\" >name</th>\n",
       "      <td id=\"T_a4e6a_row16_col0\" class=\"data row16 col0\" >0</td>\n",
       "      <td id=\"T_a4e6a_row16_col1\" class=\"data row16 col1\" >0.000000</td>\n",
       "    </tr>\n",
       "    <tr>\n",
       "      <th id=\"T_a4e6a_level0_row17\" class=\"row_heading level0 row17\" >investment_rounds</th>\n",
       "      <td id=\"T_a4e6a_row17_col0\" class=\"data row17 col0\" >0</td>\n",
       "      <td id=\"T_a4e6a_row17_col1\" class=\"data row17 col1\" >0.000000</td>\n",
       "    </tr>\n",
       "    <tr>\n",
       "      <th id=\"T_a4e6a_level0_row18\" class=\"row_heading level0 row18\" >status</th>\n",
       "      <td id=\"T_a4e6a_row18_col0\" class=\"data row18 col0\" >0</td>\n",
       "      <td id=\"T_a4e6a_row18_col1\" class=\"data row18 col1\" >0.000000</td>\n",
       "    </tr>\n",
       "    <tr>\n",
       "      <th id=\"T_a4e6a_level0_row19\" class=\"row_heading level0 row19\" >funding_rounds</th>\n",
       "      <td id=\"T_a4e6a_row19_col0\" class=\"data row19 col0\" >0</td>\n",
       "      <td id=\"T_a4e6a_row19_col1\" class=\"data row19 col1\" >0.000000</td>\n",
       "    </tr>\n",
       "  </tbody>\n",
       "</table>\n"
      ],
      "text/plain": [
       "<pandas.io.formats.style.Styler at 0x1fb820fed70>"
      ]
     },
     "execution_count": 59,
     "metadata": {},
     "output_type": "execute_result"
    }
   ],
   "source": [
    "(pd.DataFrame({'Кол-во пропусков': acquired_company.isna().sum(), 'Доля пропусков': acquired_company.isna().mean()*100})\n",
    "           .sort_values(by='Кол-во пропусков', ascending=False)\n",
    "           .style.background_gradient(cmap='coolwarm'))"
   ]
  },
  {
   "cell_type": "markdown",
   "metadata": {},
   "source": [
    "В большей части данных присуютствуют пропуски. \n",
    "- по 95% пропусков наблюдается у столбцов с методом оплаты и о закрытии компании. В изначальной таблице о покупке компаний отсутствовало 80% данных о методе оплаты. А после фильтрации количество компаний сократилось, соответственно, необходимых данных стало еще меньше, что негативно повлияет на анализ.\n",
    "- всего закрылось 5% компаний. Эти компании можно исключить из анализа, потому что выкупить их или продать уже невозможно.\n",
    "- в столбце acquired_at нет информации о 77% дат сделок. Вероятно, данные не были внесены или потерялись при переносе. Будет сложно судить о тенденциях покупки компаний в разные отрезки времени.\n",
    "- также отсутствует 77% информации о сумме покупки компаний. Скорее всего данные были скрыты в связи с конфиденциальной информацией контракта сделки. Этот столбец необходим для вычисления наилучшей стоимости покупки той или иной компании. Соответственно, анализ 23% сделок выдаст неверные показатели.\n",
    "- для заказчика важно узнать названия компаний, которые меняли или готовы менять владельцев. Но данных опять недостаточно: количество пропусков составляет 77%.\n",
    "- в столбце `pre_money_valuation` хранится информация о предварительной денежной оценке компаний. Пропуски составляют 22%, это 9135 компаний. По сравнению со столбцами с большим количеством пропусков, данная цифра невысокая. Но нехватка информации тоже негативно повлияет на результат анализа. Зато этот столбец может компенсировать пропуски в `price_amount`, т.к. предположительно значения могут быть схожими. Однако это может быть иначе.\n",
    "- остальные столбцы с пропусками не так сильно будут влиять на анализ, необходимый заказчику."
   ]
  },
  {
   "cell_type": "markdown",
   "metadata": {
    "id": "DFHINkV3rJg2"
   },
   "source": [
    "\n",
    "### 3.2. Анализ выбросов\n",
    "\n",
    "Заказчика интересует обычный для рассматриваемого периода размер средств, который предоставлялся компаниям. Для этого необходимо оценить, какой размер общего финансирования для одной компании будет типичным, а какой — выбивающимся."
   ]
  },
  {
   "cell_type": "code",
   "execution_count": 60,
   "metadata": {
    "id": "8jm75fKXrJg2",
    "vscode": {
     "languageId": "plaintext"
    }
   },
   "outputs": [
    {
     "data": {
      "text/plain": [
       "count    4.089000e+04\n",
       "mean     1.013559e+07\n",
       "std      5.641289e+07\n",
       "min      0.000000e+00\n",
       "25%      0.000000e+00\n",
       "50%      6.000000e+05\n",
       "75%      5.631320e+06\n",
       "max      5.700000e+09\n",
       "Name: funding_total, dtype: float64"
      ]
     },
     "execution_count": 60,
     "metadata": {},
     "output_type": "execute_result"
    }
   ],
   "source": [
    "# Выведем краткое описание статистики по столбцу funding_total:\n",
    "acquired_company['funding_total'].describe()"
   ]
  },
  {
   "cell_type": "code",
   "execution_count": 61,
   "metadata": {},
   "outputs": [
    {
     "data": {
      "text/plain": [
       "16.89"
      ]
     },
     "execution_count": 61,
     "metadata": {},
     "output_type": "execute_result"
    }
   ],
   "source": [
    "# Посчитаем разницу между средним значением и медианой:\n",
    "round(acquired_company['funding_total'].mean() / acquired_company['funding_total'].median(), 2)"
   ]
  },
  {
   "cell_type": "markdown",
   "metadata": {},
   "source": [
    "Можно заметить, что статистика выдала суммы в экспоненциальной записи, т.к. размер финансирования очень огромен и исчисляется десятью в степенях. Среднее значение составляет около 10 млн долларов, а медиана - 600 тыс долларов, следовательно первое значение больше второго в 17 раз! В данных огромные выбросы, поэтому на гистограмме используем логарифмическую шкалу, чтобы увидеть данные по всем компаниям."
   ]
  },
  {
   "cell_type": "code",
   "execution_count": 62,
   "metadata": {},
   "outputs": [
    {
     "data": {
      "image/png": "[encoded data removed]",
      "text/plain": [
       "<Figure size 1000x600 with 1 Axes>"
      ]
     },
     "metadata": {},
     "output_type": "display_data"
    }
   ],
   "source": [
    "# Построим график распределения размера общего финансирования:\n",
    "plt.figure(figsize=(10,6))\n",
    "hist, bin_edges, i = plt.hist(acquired_company['funding_total'], bins=50, edgecolor='k')\n",
    "plt.grid(True, alpha=0.5)\n",
    "plt.title('Распределение размера общего финансирования')\n",
    "plt.xlabel('Сумма, в $')\n",
    "plt.ylabel('Количество компаний')\n",
    "plt.xscale('log')\n",
    "plt.yscale('log')\n",
    "plt.tight_layout()\n",
    "plt.show()"
   ]
  },
  {
   "cell_type": "markdown",
   "metadata": {},
   "source": [
    "График показывает правое ассиметричное распределение данных."
   ]
  },
  {
   "cell_type": "code",
   "execution_count": 63,
   "metadata": {},
   "outputs": [
    {
     "data": {
      "text/plain": [
       "40361.0"
      ]
     },
     "execution_count": 63,
     "metadata": {},
     "output_type": "execute_result"
    }
   ],
   "source": [
    "# Найдем наибольшее количество компаний в одном интервале:\n",
    "max(hist)"
   ]
  },
  {
   "cell_type": "code",
   "execution_count": 64,
   "metadata": {},
   "outputs": [
    {
     "data": {
      "text/plain": [
       "114000000.0"
      ]
     },
     "execution_count": 64,
     "metadata": {},
     "output_type": "execute_result"
    }
   ],
   "source": [
    "# Найдем границу интервала с максимальным количеством компаний:\n",
    "bin_edges[hist.argmax() + 1]"
   ]
  },
  {
   "cell_type": "markdown",
   "metadata": {
    "id": "S1jrfr7rFhcw"
   },
   "source": [
    "График и статистические показатели демонстрируют, что большее количество компаний - 40361 шт. имеют финансирование в размере до 114 млн долларов. 1 квартиль равен 0 долларов, соответственно, 25% компаний не получили финансирование. Медиана составляет 600 тыс долларов, когда как среднее значение - более 10 млн долларов. Это указывает на значительный перекос в распределении — большинство компаний привлекло небольшие суммы, и лишь малая часть - суммы более сотни миллионов и даже миллиардов. Максимальная сумма финансирования составила 5 млрд 700 млн долларов.\n",
    "\n"
   ]
  },
  {
   "cell_type": "markdown",
   "metadata": {
    "id": "JqkRAQrIrJg2"
   },
   "source": [
    "\n",
    "### 3.3. Куплены забесплатно?\n",
    "\n",
    "Необходимо исследовать компании, которые были проданы за ноль или за один доллар, и при этом известно, что у них был ненулевой общий объём финансирования."
   ]
  },
  {
   "cell_type": "code",
   "execution_count": 65,
   "metadata": {
    "id": "wJHXCBwwrJg2",
    "vscode": {
     "languageId": "plaintext"
    }
   },
   "outputs": [],
   "source": [
    "# Отфильтруем компании, которые были проданы за 0 или за 1 доллар и у которых был ненулевой общий объём финансирования:\n",
    "low_priced_company = acquired_company[(acquired_company['price_amount']<=1) & (acquired_company['funding_total']>0)]"
   ]
  },
  {
   "cell_type": "code",
   "execution_count": 66,
   "metadata": {},
   "outputs": [
    {
     "data": {
      "image/png": "[encoded data removed]",
      "text/plain": [
       "<Figure size 700x500 with 1 Axes>"
      ]
     },
     "metadata": {},
     "output_type": "display_data"
    }
   ],
   "source": [
    "# Построим диаграмму размаха:\n",
    "plt.figure(figsize=(7, 5))\n",
    "sns.boxplot(data=low_priced_company, x='price_amount', y='funding_total')\n",
    "plt.yscale('log')\n",
    "plt.title('Распределение общего финансирования\\nдля компаний, проданных за 0 или 1($)')\n",
    "plt.xlabel('Цена продажи ($)')\n",
    "plt.ylabel('Объем финансирования')\n",
    "plt.grid(True, alpha=0.5)\n",
    "plt.tight_layout()\n",
    "plt.show()"
   ]
  },
  {
   "cell_type": "code",
   "execution_count": 67,
   "metadata": {},
   "outputs": [
    {
     "name": "stdout",
     "output_type": "stream",
     "text": [
      "Первый квартиль: 2000000.0\n",
      "Третий квартиль: 15500000.0\n",
      "Нижняя граница выбросов: -18250000.0\n",
      "Верхняя граница выбросов: 35750000.0\n"
     ]
    }
   ],
   "source": [
    "# Вычислим квартили Q1 и Q3:\n",
    "Q1 = low_priced_company['funding_total'].quantile(0.25)\n",
    "Q3 = low_priced_company['funding_total'].quantile(0.75)\n",
    "\n",
    "# Вычислим межквартильный размах IQR:\n",
    "IQR = Q3 - Q1\n",
    "\n",
    "# Определим верхний порог для выбросов:\n",
    "lower_bound = Q1 - 1.5 * IQR\n",
    "upper_bound = Q3 + 1.5 * IQR\n",
    "\n",
    "print(f'Первый квартиль: {Q1}')\n",
    "print(f'Третий квартиль: {Q3}')\n",
    "print(f'Нижняя граница выбросов: {lower_bound}')\n",
    "print(f'Верхняя граница выбросов: {upper_bound}')"
   ]
  },
  {
   "cell_type": "markdown",
   "metadata": {},
   "source": [
    "Нижняя граница выбросов равна -18.2 млн долларов, что невозможно, поэтому нижние выбросы можно рассматривать по первому квартилю (2 млн долларов). \n",
    "\n",
    "Верхняя граница составляет 35.7 млн долларов. Это значение намного больше 75% процентиля в 15.5 млн долларов, поэтому выбросов, которые выходят за границу верхнего порога, намного меньше по количеству. У таких компаний было необычно много вложений, но они всё равно продались за 0 долларов. Вероятно, стартапы были успешными и имели большие перспективы развития, но возникли некоторые трудности."
   ]
  },
  {
   "cell_type": "code",
   "execution_count": 68,
   "metadata": {
    "id": "9IDTHfYQFhuX"
   },
   "outputs": [
    {
     "data": {
      "text/plain": [
       "count    1.618000e+03\n",
       "mean     1.815296e+07\n",
       "std      1.445030e+08\n",
       "min      3.750000e+03\n",
       "25%      2.000000e+06\n",
       "50%      6.000000e+06\n",
       "75%      1.550000e+07\n",
       "max      5.700000e+09\n",
       "Name: funding_total, dtype: float64"
      ]
     },
     "execution_count": 68,
     "metadata": {},
     "output_type": "execute_result"
    }
   ],
   "source": [
    "# Выведем краткое описание статистики по столбцу funding_total:\n",
    "low_priced_company['funding_total'].describe()"
   ]
  },
  {
   "cell_type": "code",
   "execution_count": 69,
   "metadata": {},
   "outputs": [
    {
     "data": {
      "text/plain": [
       "3.96"
      ]
     },
     "execution_count": 69,
     "metadata": {},
     "output_type": "execute_result"
    }
   ],
   "source": [
    "# Посчитаем процент компаний, купленных забесплатно, от общего числа:\n",
    "round(low_priced_company.shape[0]/acquired_company.shape[0]*100, 2)"
   ]
  },
  {
   "cell_type": "markdown",
   "metadata": {},
   "source": [
    "Всего 1618 компаний, которые были проданы за 0 долларов и у которых был ненулевой общий объём финансирования (ни одна компания не была продана за 1 доллар). Это количество составляет лишь 4% от общего числа рассматриваемых компаний на данном этапе анализа. \n",
    "\n",
    "Первый квартиль равен 2 млн долларов, третий - 15 млн 500 тыс долларов. Соответственно, между суммами финансирования компаний большой разброс данных. Также можно отметить, что компания с максимальной суммой финансирования в 5 млрд 700 млн долларов тоже была отдана забесплатно.\n",
    "\n",
    "Исходя из того, что компании с финансированием были проданы забесплатно, можно выдвинуть следующие гипотезы, почему это могло произойти:\n",
    "- компания могла обанкротиться или оказаться на грани банкротства.\n",
    "- у компании могут быть большие долги, обязательства перед инвесторами, судебные иски.\n",
    "- компания могла быть частью холдинга, и её \"продали\" дочерней структуре для учета или налоговых целей.\n",
    "\n",
    "Поэтому никогда нельзя точно сказать, что бизнес добьется успеха, а не выгорит."
   ]
  },
  {
   "cell_type": "markdown",
   "metadata": {
    "id": "mEiWpROjrJg2"
   },
   "source": [
    "\n",
    "### 3.4. Цены стартапов по категориям\n",
    "\n",
    "Категории стартапов с типично высокими ценами покупки стартапов и значительным разбросом цен могут быть привлекательными для крупных инвесторов, которые готовы к высоким рискам ради потенциально больших доходов. Среди категорий стартапов необходимо выделить категории стартапов, характеризующиеся:\n",
    "\n",
    "- типично высокими ценами;\n",
    "- наибольшим разбросом цен за стартап."
   ]
  },
  {
   "cell_type": "code",
   "execution_count": 70,
   "metadata": {},
   "outputs": [
    {
     "data": {
      "text/plain": [
       "count    9.390000e+03\n",
       "mean     3.939881e+08\n",
       "std      2.684624e+10\n",
       "min      0.000000e+00\n",
       "50%      0.000000e+00\n",
       "73%      0.000000e+00\n",
       "74%      1.400000e+03\n",
       "99%      2.600000e+09\n",
       "max      2.600000e+12\n",
       "Name: price_amount, dtype: float64"
      ]
     },
     "execution_count": 70,
     "metadata": {},
     "output_type": "execute_result"
    }
   ],
   "source": [
    "# Выведем статистику цены покупки:\n",
    "acquired_company['price_amount'].describe(percentiles=[0.73, 0.74, 0.99])"
   ]
  },
  {
   "cell_type": "code",
   "execution_count": 71,
   "metadata": {},
   "outputs": [
    {
     "data": {
      "text/plain": [
       "6917"
      ]
     },
     "execution_count": 71,
     "metadata": {},
     "output_type": "execute_result"
    }
   ],
   "source": [
    "# Выведем количество нулевых покупок:\n",
    "(acquired_company['price_amount']==0).sum()"
   ]
  },
  {
   "cell_type": "code",
   "execution_count": 72,
   "metadata": {},
   "outputs": [
    {
     "data": {
      "text/plain": [
       "9390"
      ]
     },
     "execution_count": 72,
     "metadata": {},
     "output_type": "execute_result"
    }
   ],
   "source": [
    "# Посчитаем количество компаний с ценами, за исключением пропусков:\n",
    "price_amount_without_nan = acquired_company['price_amount'].dropna()\n",
    "price_amount_without_nan.count()"
   ]
  },
  {
   "cell_type": "markdown",
   "metadata": {},
   "source": [
    "73% процентиля стоимости компаний равняются нулю. Следовательно, большая часть компаний были проданы забесплатно - 6917 шт из 9390 компаний. Эти данные помешают анализу стоимости покупок стартапов, поэтому исключим стоимость покупки, равную нулю и также избавимся от пропусков.\n",
    "\n",
    "В статистических данных также можно отметить, что максимальное значение в 1000 раз выше 99 процентиля, что означает огромные выбросы данных."
   ]
  },
  {
   "cell_type": "code",
   "execution_count": 73,
   "metadata": {},
   "outputs": [
    {
     "data": {
      "text/plain": [
       "2473"
      ]
     },
     "execution_count": 73,
     "metadata": {},
     "output_type": "execute_result"
    }
   ],
   "source": [
    "# Отфильтруем стоимость покупки:\n",
    "filtered_acquired_company_category = acquired_company[acquired_company['price_amount']>0]\n",
    "\n",
    "# Выведем количество компаний для дальнейшего анализа:\n",
    "filtered_acquired_company_category.shape[0]"
   ]
  },
  {
   "cell_type": "markdown",
   "metadata": {},
   "source": [
    "Среди категорий стартапов найдем среднее значение, чтобы составить топ из типично высоких цен. Используем среднее, потому что таким образом можно учесть выбросы в виде очень высоких значений продаж, которые могут быть вполне реальными."
   ]
  },
  {
   "cell_type": "code",
   "execution_count": 74,
   "metadata": {},
   "outputs": [
    {
     "data": {
      "text/html": [
       "<div>\n",
       "<style scoped>\n",
       "    .dataframe tbody tr th:only-of-type {\n",
       "        vertical-align: middle;\n",
       "    }\n",
       "\n",
       "    .dataframe tbody tr th {\n",
       "        vertical-align: top;\n",
       "    }\n",
       "\n",
       "    .dataframe thead th {\n",
       "        text-align: right;\n",
       "    }\n",
       "</style>\n",
       "<table border=\"1\" class=\"dataframe\">\n",
       "  <thead>\n",
       "    <tr style=\"text-align: right;\">\n",
       "      <th></th>\n",
       "      <th>category_code</th>\n",
       "      <th>price_amount</th>\n",
       "    </tr>\n",
       "  </thead>\n",
       "  <tbody>\n",
       "    <tr>\n",
       "      <th>0</th>\n",
       "      <td>enterprise</td>\n",
       "      <td>2.295955e+10</td>\n",
       "    </tr>\n",
       "    <tr>\n",
       "      <th>1</th>\n",
       "      <td>automotive</td>\n",
       "      <td>2.547667e+09</td>\n",
       "    </tr>\n",
       "    <tr>\n",
       "      <th>2</th>\n",
       "      <td>public_relations</td>\n",
       "      <td>1.820631e+09</td>\n",
       "    </tr>\n",
       "    <tr>\n",
       "      <th>3</th>\n",
       "      <td>real_estate</td>\n",
       "      <td>1.465500e+09</td>\n",
       "    </tr>\n",
       "    <tr>\n",
       "      <th>4</th>\n",
       "      <td>health</td>\n",
       "      <td>1.065050e+09</td>\n",
       "    </tr>\n",
       "    <tr>\n",
       "      <th>5</th>\n",
       "      <td>manufacturing</td>\n",
       "      <td>8.137572e+08</td>\n",
       "    </tr>\n",
       "    <tr>\n",
       "      <th>6</th>\n",
       "      <td>biotech</td>\n",
       "      <td>7.359153e+08</td>\n",
       "    </tr>\n",
       "    <tr>\n",
       "      <th>7</th>\n",
       "      <td>sports</td>\n",
       "      <td>6.225000e+08</td>\n",
       "    </tr>\n",
       "    <tr>\n",
       "      <th>8</th>\n",
       "      <td>finance</td>\n",
       "      <td>6.043975e+08</td>\n",
       "    </tr>\n",
       "    <tr>\n",
       "      <th>9</th>\n",
       "      <td>security</td>\n",
       "      <td>6.028958e+08</td>\n",
       "    </tr>\n",
       "  </tbody>\n",
       "</table>\n",
       "</div>"
      ],
      "text/plain": [
       "      category_code  price_amount\n",
       "0        enterprise  2.295955e+10\n",
       "1        automotive  2.547667e+09\n",
       "2  public_relations  1.820631e+09\n",
       "3       real_estate  1.465500e+09\n",
       "4            health  1.065050e+09\n",
       "5     manufacturing  8.137572e+08\n",
       "6           biotech  7.359153e+08\n",
       "7            sports  6.225000e+08\n",
       "8           finance  6.043975e+08\n",
       "9          security  6.028958e+08"
      ]
     },
     "execution_count": 74,
     "metadata": {},
     "output_type": "execute_result"
    }
   ],
   "source": [
    "# Найдем топ категорий по средней цене покупки:\n",
    "top_mean_price_by_category = filtered_acquired_company_category.groupby('category_code')['price_amount'].mean().sort_values(ascending=False)\n",
    "top_mean_price_by_category.head(10).reset_index()"
   ]
  },
  {
   "cell_type": "markdown",
   "metadata": {},
   "source": [
    "Составим топ-5 категорий, т.к. у них самые высокие средние суммы сделок. Начиная с категории manufacturing, сумма продажи уже составляет сотни миллионов, а не миллиарды.\n",
    "\n",
    "Построим для наглядности столбчатую диаграмму."
   ]
  },
  {
   "cell_type": "code",
   "execution_count": 75,
   "metadata": {
    "id": "eF1aULm5FjfY"
   },
   "outputs": [
    {
     "data": {
      "image/png": "[encoded data removed]",
      "text/plain": [
       "<Figure size 1300x600 with 1 Axes>"
      ]
     },
     "metadata": {},
     "output_type": "display_data"
    }
   ],
   "source": [
    "# Выведем топ-5 категорий:\n",
    "top5_mean_price_by_category = top_mean_price_by_category.head(5)\n",
    "\n",
    "# Построим график топ-5 категорий по средней цене покупки:\n",
    "top5_mean_ax = top5_mean_price_by_category.plot(kind='bar',\n",
    "                                   figsize=(13,6),\n",
    "                                   rot=0)\n",
    "plt.yscale('log')\n",
    "plt.title('Топ-5 категорий стартапов с типично высокими ценами')\n",
    "plt.xlabel('Категория')\n",
    "plt.ylabel('Средняя цена покупки ($)')\n",
    "plt.tight_layout()\n",
    "top5_mean_ax.bar_label(top5_mean_ax.containers[0])\n",
    "plt.show()"
   ]
  },
  {
   "cell_type": "markdown",
   "metadata": {},
   "source": [
    "Среди стартапов были выбраны топ-5 категорий по средней стоимости покупки. Категория enterprise (крупные предприятия) сильно выбивается вперед остальных 4 категорий из топа. Средняя стоимость покупки компаний этой категории составляет почти 23 млрд долларов. Далее идут automotive (автомобильная промышленность) и public_relations (связь с общественностью) - по 2.5 млрд долларов и 1.8 млрд долларов соответственно.\n",
    "\n",
    "Можно сделать вывод, что более привлекательной категорией для крупных инвесторов являются крупные коммерческие организации, обладающие значительными ресурсами и работающие на масштабных рынках. Гипотетически, крупные компании менее склонны к рискам банкротства, поэтому вполне логично, что большинство финансов вкладывают именно в эту категорию компаний."
   ]
  },
  {
   "cell_type": "code",
   "execution_count": 76,
   "metadata": {},
   "outputs": [
    {
     "data": {
      "text/html": [
       "<div>\n",
       "<style scoped>\n",
       "    .dataframe tbody tr th:only-of-type {\n",
       "        vertical-align: middle;\n",
       "    }\n",
       "\n",
       "    .dataframe tbody tr th {\n",
       "        vertical-align: top;\n",
       "    }\n",
       "\n",
       "    .dataframe thead th {\n",
       "        text-align: right;\n",
       "    }\n",
       "</style>\n",
       "<table border=\"1\" class=\"dataframe\">\n",
       "  <thead>\n",
       "    <tr style=\"text-align: right;\">\n",
       "      <th></th>\n",
       "      <th>category_code</th>\n",
       "      <th>price_amount</th>\n",
       "    </tr>\n",
       "  </thead>\n",
       "  <tbody>\n",
       "    <tr>\n",
       "      <th>0</th>\n",
       "      <td>enterprise</td>\n",
       "      <td>2.413581e+11</td>\n",
       "    </tr>\n",
       "    <tr>\n",
       "      <th>1</th>\n",
       "      <td>public_relations</td>\n",
       "      <td>6.854338e+09</td>\n",
       "    </tr>\n",
       "    <tr>\n",
       "      <th>2</th>\n",
       "      <td>real_estate</td>\n",
       "      <td>2.676302e+09</td>\n",
       "    </tr>\n",
       "    <tr>\n",
       "      <th>3</th>\n",
       "      <td>automotive</td>\n",
       "      <td>2.581669e+09</td>\n",
       "    </tr>\n",
       "    <tr>\n",
       "      <th>4</th>\n",
       "      <td>other</td>\n",
       "      <td>2.060861e+09</td>\n",
       "    </tr>\n",
       "    <tr>\n",
       "      <th>5</th>\n",
       "      <td>biotech</td>\n",
       "      <td>1.968195e+09</td>\n",
       "    </tr>\n",
       "    <tr>\n",
       "      <th>6</th>\n",
       "      <td>health</td>\n",
       "      <td>1.927100e+09</td>\n",
       "    </tr>\n",
       "    <tr>\n",
       "      <th>7</th>\n",
       "      <td>games_video</td>\n",
       "      <td>1.463478e+09</td>\n",
       "    </tr>\n",
       "    <tr>\n",
       "      <th>8</th>\n",
       "      <td>security</td>\n",
       "      <td>1.378442e+09</td>\n",
       "    </tr>\n",
       "    <tr>\n",
       "      <th>9</th>\n",
       "      <td>mobile</td>\n",
       "      <td>1.319472e+09</td>\n",
       "    </tr>\n",
       "  </tbody>\n",
       "</table>\n",
       "</div>"
      ],
      "text/plain": [
       "      category_code  price_amount\n",
       "0        enterprise  2.413581e+11\n",
       "1  public_relations  6.854338e+09\n",
       "2       real_estate  2.676302e+09\n",
       "3        automotive  2.581669e+09\n",
       "4             other  2.060861e+09\n",
       "5           biotech  1.968195e+09\n",
       "6            health  1.927100e+09\n",
       "7       games_video  1.463478e+09\n",
       "8          security  1.378442e+09\n",
       "9            mobile  1.319472e+09"
      ]
     },
     "execution_count": 76,
     "metadata": {},
     "output_type": "execute_result"
    }
   ],
   "source": [
    "# Найдем топ категорий с наибольшим разбросом цен:\n",
    "top_std_price_by_category = filtered_acquired_company_category.groupby('category_code')['price_amount'].std().sort_values(ascending=False)\n",
    "top_std_price_by_category.head(10).reset_index()"
   ]
  },
  {
   "cell_type": "markdown",
   "metadata": {},
   "source": [
    "Построим диаграммы размаха из первых 4 категорий, т.к. у них наибольший разброс цен за стартап. После 4 категории (automotive) разброс цен снижается - на 500 млн долларов. К тому же в предыдущем топе не присутствуют последующие категории - other, biotech, health, соответственно, они менее выгодны для инвесторов, и их анализировать уже не будем."
   ]
  },
  {
   "cell_type": "code",
   "execution_count": 77,
   "metadata": {},
   "outputs": [
    {
     "data": {
      "image/png": "[encoded data removed]",
      "text/plain": [
       "<Figure size 1300x600 with 1 Axes>"
      ]
     },
     "metadata": {},
     "output_type": "display_data"
    }
   ],
   "source": [
    "# Выведем топ-4 категорий:\n",
    "top_std_price_by_category = top_std_price_by_category.head(4)\n",
    "\n",
    "# Построим график топ-4 категорий c наибольшим разбросом цен:\n",
    "top4_std_ax = top_std_price_by_category.plot(kind='bar',\n",
    "                                             figsize=(13,6),\n",
    "                                             rot=0)\n",
    "\n",
    "plt.yscale('log')\n",
    "plt.title('Топ-4 категории с наибольшим разбросом цен')\n",
    "plt.xlabel('Категория')\n",
    "plt.ylabel('Цена продажи ($)')\n",
    "plt.tight_layout()\n",
    "top4_std_ax.bar_label(top4_std_ax.containers[0])\n",
    "plt.show()"
   ]
  },
  {
   "cell_type": "markdown",
   "metadata": {},
   "source": [
    "На этой диаграмме можно отметить, что категория enterprise опять занимает 1 место в топе (разброс цен составляет 241 млрд долларов). Получается, что компании из категории enterprise в среднем продаются за более высокую цену, но распределение цен покупки компаний имеет значительный разброс. Следовательно, компанию могут купить за более низкую цену, совсем далекую от среднего значения цены продажи.\n",
    "\n",
    "Рассмотрим диаграмму размаха этих 4х категорий."
   ]
  },
  {
   "cell_type": "code",
   "execution_count": 78,
   "metadata": {},
   "outputs": [
    {
     "data": {
      "image/png": "[encoded data removed]",
      "text/plain": [
       "<Figure size 1000x600 with 1 Axes>"
      ]
     },
     "metadata": {},
     "output_type": "display_data"
    }
   ],
   "source": [
    "# Отфильтруем данные по топ-4 категориям:\n",
    "top4_categories = top_std_price_by_category.index\n",
    "filtered_top4_categories = filtered_acquired_company_category[filtered_acquired_company_category['category_code'].isin(top4_categories)]\n",
    "\n",
    "# Отсортируем категории:\n",
    "ordered_categories = ['enterprise', 'public_relations', 'real_estate', 'automotive']\n",
    "\n",
    "# Построим диаграмму размаха:\n",
    "plt.figure(figsize=(10, 6))\n",
    "sns.boxplot(data=filtered_top4_categories, x='category_code', y='price_amount', order=ordered_categories)\n",
    "plt.yscale('log')\n",
    "plt.title('Топ-4 категории с наибольшим разбросом цен')\n",
    "plt.xlabel('Категория')\n",
    "plt.ylabel('Цена продажи ($)')\n",
    "plt.grid(True, alpha=0.5)\n",
    "plt.tight_layout()\n",
    "plt.show()"
   ]
  },
  {
   "cell_type": "code",
   "execution_count": 79,
   "metadata": {},
   "outputs": [
    {
     "data": {
      "text/plain": [
       "category_code\n",
       "enterprise          2.600000e+12\n",
       "public_relations    3.900000e+10\n",
       "biotech             2.000000e+10\n",
       "other               1.840000e+10\n",
       "mobile              1.250000e+10\n",
       "Name: price_amount, dtype: float64"
      ]
     },
     "execution_count": 79,
     "metadata": {},
     "output_type": "execute_result"
    }
   ],
   "source": [
    "# Выведем максимальные значения:\n",
    "filtered_acquired_company_category.groupby('category_code')['price_amount'].max().sort_values(ascending=False).head()"
   ]
  },
  {
   "cell_type": "markdown",
   "metadata": {},
   "source": [
    "На диаграмме размаха можно увидеть огромное количество выбросов у категории enterprise, из-за чего средняя цена и получается настолько высокой. К тому же максимальный выброс составляет 2.6 триллиона, что является самой высокой стоимостью компании среди всех категорий. Соответственно, крупные инвесторы сильно рискуют, вкладывая свои инвестиции в компании данной категории."
   ]
  },
  {
   "cell_type": "code",
   "execution_count": 80,
   "metadata": {},
   "outputs": [
    {
     "data": {
      "text/plain": [
       "category_code\n",
       "automotive       2.400000e+09\n",
       "sports           6.225000e+08\n",
       "nanotech         5.840000e+08\n",
       "real_estate      4.000000e+08\n",
       "manufacturing    3.510000e+08\n",
       "Name: price_amount, dtype: float64"
      ]
     },
     "execution_count": 80,
     "metadata": {},
     "output_type": "execute_result"
    }
   ],
   "source": [
    "# Найдем топ категорий с наибольшим разбросом цен:\n",
    "filtered_acquired_company_category.groupby('category_code')['price_amount'].median().sort_values(ascending=False).head()"
   ]
  },
  {
   "cell_type": "markdown",
   "metadata": {},
   "source": [
    "Категория automotive имеет самый низкий размах цен в топе-4 - около 2.6 млрд долларов. К тому же находится на 2 месте среди самых высоких средних цен по продаже компаний и на 1 месте среди всех категорий по медианной стоимости - 2.4 триллиона долларов. Исходя из этого, можно утверждать, что данная категория является более стабильной на рынке и представляет собой наименьший риск для инвестиций."
   ]
  },
  {
   "cell_type": "markdown",
   "metadata": {
    "id": "ADOfyVY_rJg3"
   },
   "source": [
    "\n",
    "### 3.5. Сколько раундов продержится стартап перед покупкой\n",
    "\n",
    "Заказчика интересует типичное значение количества раундов для каждого возможного статуса стартапа. Для этого необходимо проанализировать значения столбца `funding_rounds`."
   ]
  },
  {
   "cell_type": "code",
   "execution_count": 81,
   "metadata": {
    "id": "hgXMPC4WrJg3",
    "vscode": {
     "languageId": "plaintext"
    }
   },
   "outputs": [
    {
     "data": {
      "text/plain": [
       "status\n",
       "ipo          1.934375\n",
       "operating    1.522658\n",
       "closed       1.381453\n",
       "acquired     0.525532\n",
       "Name: funding_rounds, dtype: float64"
      ]
     },
     "execution_count": 81,
     "metadata": {},
     "output_type": "execute_result"
    }
   ],
   "source": [
    "# Сгруппируем статусы по среднему значению раундов:\n",
    "rounds_mean = acquired_company.groupby('status')['funding_rounds'].mean().sort_values(ascending=False)\n",
    "rounds_mean"
   ]
  },
  {
   "cell_type": "code",
   "execution_count": 82,
   "metadata": {
    "id": "pV3e7kw5Fj1Y"
   },
   "outputs": [
    {
     "data": {
      "image/png": "[encoded data removed]",
      "text/plain": [
       "<Figure size 1000x600 with 1 Axes>"
      ]
     },
     "metadata": {},
     "output_type": "display_data"
    }
   ],
   "source": [
    "# Отфильтруем данные:\n",
    "status_of_company = acquired_company[acquired_company['status'].isin(rounds_mean.index)]\n",
    "\n",
    "# Отсортируем статусы:\n",
    "ordered_statuses = ['ipo', 'operating', 'closed', 'acquired']\n",
    "\n",
    "# Построим диаграмму размаха:\n",
    "plt.figure(figsize=(10, 6))\n",
    "sns.boxplot(data=status_of_company, x='status', y='funding_rounds', order=ordered_statuses)\n",
    "plt.title('Количество раундов компании перед покупкой')\n",
    "plt.xlabel('Статус')\n",
    "plt.ylabel('Количество')\n",
    "plt.grid(True, alpha=0.5)\n",
    "plt.tight_layout()\n",
    "plt.show()"
   ]
  },
  {
   "cell_type": "markdown",
   "metadata": {},
   "source": [
    "Можно отметить, что у закрытых компаний на диаграмме нет усов размаха. Это произошло из-за того, что все значения находятся в пределах межквартильного диапазона IQR.\n",
    "\n",
    "Большее количество раундов у компаний со статусом IPO (первичное публичное размещение акций) - в среднем почти 2, но также можно отметить выбросы в большую сторону. Из этого следует, что у данных компаний высокая инвестиционная активность. \n",
    "\n",
    "Компании со статусом operating (все еще действующие) имеют самый большой разброс значений - до 15 раундов инвестирования. Но в среднем у них все равно 1-2 раунда. \n",
    "\n",
    "У закрытых (closed) компаний среднее значение раундов - 1. Большинство стартапов закрываются после 1-2 раундов. \n",
    "\n",
    "Acquired (купленные) компании имеют чаще всего 0 или 1 раунд, что говорит о раннем выкупе без долгого привлечения инвестиций. Вероятно, как было выше предположено, данные компании могут выставлять для продажи забесплатно дочерним компаниям."
   ]
  },
  {
   "cell_type": "markdown",
   "metadata": {},
   "source": [
    "---\n",
    "\n",
    "### Промежуточный вывод\n",
    "\n",
    "В ходе анализа были объединены таблицы с данными о компаниях и сделках по их покупке. В результате был получен датафрейм из 40890 компаний, которые либо сменили владельца, либо потенциально могут быть проданы. Однако качество данных оказалось довольно низким: в большинстве ключевых столбцов наблюдаются значительные пропуски.\n",
    "\n",
    "Наиболее критичные пропуски:\n",
    "- 95% пропусков находятся в столбцах о методе оплаты и дате закрытия компании.\n",
    "- 77% сделок не содержат информации о дате и сумме покупки.\n",
    "- в 77% данных отсутствуют названия компаний, которые приобрели другие.\n",
    "- 22% пропусков находятся в столбце с предварительной денежной оценкой компании, который может частично компенсировать отсутствие данных в price_amount.\n",
    "\n",
    "Анализ суммы сделок показал:\n",
    "- в выборке много выбросов — медиана (600 тыс долларов) почти в 17 раз меньше среднего значения суммы финансирования (10 млн долларов).\n",
    "- 25% компаний не получили никакого финансирования.\n",
    "- большинство компаний привлекло небольшие суммы, и лишь малая часть - суммы более сотни миллионов и миллиардов.\n",
    "\n",
    "Анализ компаний, которые были проданы за 0 или 1 доллар, с ненулевым объёмом финансирования:\n",
    "- 4% компаний были проданы за 0 долларов.\n",
    "- компания с максимальной суммой финансирования в 5 млрд 700 млн долларов была отдана забесплатно, вероятно, из-за банкротства, долгов или внутреннего преобразования.\n",
    "\n",
    "Цены стартапов по категориям:\n",
    "- был составлены топ-5 категорий стартапов по средней цене покупки и топ-4 категории с наибольшим разбросом цен за стартап.\n",
    "- категория enterprise показывает самую высокую среднюю стоимость покупки (почти 23 млрд долларов), однако она также сопровождается значительным разбросом цен.\n",
    "- аutomotive выделяется высокой стабильностью — меньший разброс, но высокая медианная цена (до 2.4 трлн долларов).\n",
    "\n",
    "Раунды инвестирования компаний:\n",
    "- компании со статусом IPO имеют больше всего раундов — в среднем почти 2, что говорит о высоком интересе со стороны инвесторов.\n",
    "- аcquired-компании чаще всего выкупаются на раннем этапе, иногда — без привлечения финансирования."
   ]
  },
  {
   "cell_type": "markdown",
   "metadata": {
    "id": "VAFEZ2HBrJg3"
   },
   "source": [
    "---\n",
    "## Итоговый вывод и рекомендации\n",
    "\n"
   ]
  },
  {
   "cell_type": "markdown",
   "metadata": {},
   "source": [
    "В рамках проекта была проведена исследовательская работа с целью анализа стартапов для построения бизнес-модели финансовой компании. \n",
    "\n",
    "На этапе первичной предобработки были стандартизированы названия столбцов, изменены типы данных и проанализированы пропуски.\n",
    "\n",
    "Предварительное исследование показало:\n",
    "- инвестирование в стартапы усиливается с годами, особенно это заметно в 2013 году, а в 2005 году была зафиксирована самая крупная инвестиция - 5.5 млн долларов.\n",
    "- большинство компаний — это маленькие стартапы с 1–2 сотрудниками, однако эти данные нельзя считать надежными из-за большого количества выбросов и аномальных значений в виде 0 сотрудников.\n",
    "- данные об образовании сотрудников имеют множество пропусков и дубликатов — более 59%, поэтому анализ этой информации может исказить результаты.\n",
    "- информация о сделках по покупке компаний также неполная: отсутствуют суммы, даты, названия покупающих компаний, что снижает уверенность в постановке точных выводов.\n",
    "- анализ стоимости сделок выявил значительное количество выбросов, из-за чего велик размах суммы покупки. Большинство компаний получило ограниченное финансирование, тогда как лишь немногие привлекли суммы свыше сотен миллионов или миллиардов долларов.\n",
    "- среди данных были обнаружены 4% компаний, проданные забесплатно, что может говорить о банкротствах или неявных внутренних сделках.\n",
    "- категории стартапов различаются по уровню и стабильности цен: компании категории enterprise имеют высокую среднюю цену (почти 23 млрд долларов) и большой разброс, automotive — меньший разброс и высокую медиану (до 2.4 трлн долларов).\n",
    "- статус компании влияет на динамику инвестирования: IPO-компании проходят больше раундов, а выкупленные (acquired) стартапы часто приобретаются быстро, иногда без инвестиций.\n",
    "\n",
    "Выводы в целом дополняют друг друга и подтверждают общую картину:\n",
    "- рост интереса к стартапам.\n",
    "- сложность анализа стартапов по ограниченным данным.\n",
    "- важность раннего этапа развития компаний для инвесторов.\n",
    "\n",
    "Однако неполнота данных и наличие выбросов заставляют сомневаться в достоверности анализа.\n",
    "\n",
    "**Рекомендации:**\n",
    "- уточнить и дополнить данные — особенно по численности сотрудников, образованию и сделкам по приобретению стартапов. Это поможет повысить точность разработки модели бизнеса.\n",
    "- сосредоточиться на стартапах на ранних этапах развития, т.к. именно в этот период инвестиции оказывают наибольшее влияние и позволяют лучше прогнозировать будущее компании, особенно с учётом их последующего выхода на IPO или успешной продажи.\n",
    "- выбирать компании с категорией automotive, которые имеют более стабильную стоимость продажи и меньший риск для инвестиций."
   ]
  }
 ],
 "metadata": {
  "ExecuteTimeLog": [
   {
    "duration": 41129,
    "start_time": "2025-04-27T18:06:18.013Z"
   },
   {
    "duration": 1533,
    "start_time": "2025-04-27T18:06:59.146Z"
   },
   {
    "duration": 1762,
    "start_time": "2025-04-27T18:07:00.681Z"
   },
   {
    "duration": 32,
    "start_time": "2025-04-27T18:07:02.446Z"
   },
   {
    "duration": 108,
    "start_time": "2025-04-27T18:07:02.480Z"
   },
   {
    "duration": 96,
    "start_time": "2025-04-27T18:07:02.590Z"
   },
   {
    "duration": 114,
    "start_time": "2025-04-27T18:07:02.688Z"
   },
   {
    "duration": 4,
    "start_time": "2025-04-27T18:07:02.803Z"
   },
   {
    "duration": 86,
    "start_time": "2025-04-27T18:07:02.809Z"
   },
   {
    "duration": 8,
    "start_time": "2025-04-27T18:07:02.898Z"
   },
   {
    "duration": 38,
    "start_time": "2025-04-27T18:07:02.907Z"
   },
   {
    "duration": 23,
    "start_time": "2025-04-27T18:07:02.947Z"
   },
   {
    "duration": 44,
    "start_time": "2025-04-27T18:07:02.971Z"
   },
   {
    "duration": 43,
    "start_time": "2025-04-27T18:07:03.017Z"
   },
   {
    "duration": 57,
    "start_time": "2025-04-27T18:07:03.062Z"
   },
   {
    "duration": 9,
    "start_time": "2025-04-27T18:07:03.120Z"
   },
   {
    "duration": 72,
    "start_time": "2025-04-27T18:07:03.130Z"
   },
   {
    "duration": 35,
    "start_time": "2025-04-27T18:07:03.204Z"
   },
   {
    "duration": 23,
    "start_time": "2025-04-27T18:07:03.240Z"
   },
   {
    "duration": 13,
    "start_time": "2025-04-27T18:07:03.265Z"
   },
   {
    "duration": 18,
    "start_time": "2025-04-27T18:07:03.279Z"
   },
   {
    "duration": 53,
    "start_time": "2025-04-27T18:07:03.298Z"
   },
   {
    "duration": 38,
    "start_time": "2025-04-27T18:07:03.353Z"
   },
   {
    "duration": 8,
    "start_time": "2025-04-27T18:07:03.393Z"
   },
   {
    "duration": 56,
    "start_time": "2025-04-27T18:07:03.403Z"
   },
   {
    "duration": 32,
    "start_time": "2025-04-27T18:07:03.461Z"
   },
   {
    "duration": 39,
    "start_time": "2025-04-27T18:07:03.495Z"
   },
   {
    "duration": 176,
    "start_time": "2025-04-27T18:07:03.539Z"
   },
   {
    "duration": 9,
    "start_time": "2025-04-27T18:07:03.716Z"
   },
   {
    "duration": 20,
    "start_time": "2025-04-27T18:07:03.727Z"
   },
   {
    "duration": 31,
    "start_time": "2025-04-27T18:07:03.749Z"
   },
   {
    "duration": 537,
    "start_time": "2025-04-27T18:07:03.782Z"
   },
   {
    "duration": 20,
    "start_time": "2025-04-27T18:07:04.320Z"
   },
   {
    "duration": 22,
    "start_time": "2025-04-27T18:07:04.342Z"
   },
   {
    "duration": 351,
    "start_time": "2025-04-27T18:07:04.366Z"
   },
   {
    "duration": 21,
    "start_time": "2025-04-27T18:07:04.719Z"
   },
   {
    "duration": 153,
    "start_time": "2025-04-27T18:07:04.741Z"
   },
   {
    "duration": 65,
    "start_time": "2025-04-27T18:07:04.895Z"
   },
   {
    "duration": 78,
    "start_time": "2025-04-27T18:07:04.962Z"
   },
   {
    "duration": 249,
    "start_time": "2025-04-27T18:07:05.041Z"
   },
   {
    "duration": 257,
    "start_time": "2025-04-27T18:07:05.291Z"
   },
   {
    "duration": 662,
    "start_time": "2025-04-27T18:07:05.550Z"
   },
   {
    "duration": 9,
    "start_time": "2025-04-27T18:07:06.214Z"
   },
   {
    "duration": 84,
    "start_time": "2025-04-27T18:07:06.224Z"
   },
   {
    "duration": 31,
    "start_time": "2025-04-27T18:07:06.309Z"
   },
   {
    "duration": 286,
    "start_time": "2025-04-27T18:07:06.342Z"
   },
   {
    "duration": 139,
    "start_time": "2025-04-27T18:07:06.629Z"
   },
   {
    "duration": 6,
    "start_time": "2025-04-27T18:07:06.770Z"
   },
   {
    "duration": 22,
    "start_time": "2025-04-27T18:07:06.777Z"
   },
   {
    "duration": 51,
    "start_time": "2025-04-27T18:07:06.801Z"
   },
   {
    "duration": 4,
    "start_time": "2025-04-27T18:07:06.853Z"
   },
   {
    "duration": 13,
    "start_time": "2025-04-27T18:07:06.859Z"
   },
   {
    "duration": 32,
    "start_time": "2025-04-27T18:07:06.873Z"
   },
   {
    "duration": 18,
    "start_time": "2025-04-27T18:07:06.907Z"
   },
   {
    "duration": 31,
    "start_time": "2025-04-27T18:07:06.926Z"
   },
   {
    "duration": 46,
    "start_time": "2025-04-27T18:07:06.958Z"
   },
   {
    "duration": 238,
    "start_time": "2025-04-27T18:07:07.005Z"
   },
   {
    "duration": 534,
    "start_time": "2025-04-27T18:07:07.245Z"
   },
   {
    "duration": 10,
    "start_time": "2025-04-27T18:07:07.780Z"
   },
   {
    "duration": 92,
    "start_time": "2025-04-27T18:07:07.791Z"
   },
   {
    "duration": 29,
    "start_time": "2025-04-27T18:07:07.884Z"
   },
   {
    "duration": 106,
    "start_time": "2025-04-27T18:07:07.914Z"
   },
   {
    "duration": 127,
    "start_time": "2025-04-27T18:07:08.022Z"
   },
   {
    "duration": 5,
    "start_time": "2025-04-27T18:07:08.150Z"
   },
   {
    "duration": 46,
    "start_time": "2025-04-27T18:07:08.157Z"
   },
   {
    "duration": 32986,
    "start_time": "2025-05-02T11:52:59.880Z"
   },
   {
    "duration": 1762,
    "start_time": "2025-05-02T11:53:32.868Z"
   },
   {
    "duration": 2153,
    "start_time": "2025-05-02T11:53:34.632Z"
   },
   {
    "duration": 30,
    "start_time": "2025-05-02T11:53:36.787Z"
   },
   {
    "duration": 99,
    "start_time": "2025-05-02T11:53:36.819Z"
   },
   {
    "duration": 93,
    "start_time": "2025-05-02T11:53:36.920Z"
   },
   {
    "duration": 96,
    "start_time": "2025-05-02T11:53:37.015Z"
   },
   {
    "duration": 3,
    "start_time": "2025-05-02T11:53:37.113Z"
   },
   {
    "duration": 152,
    "start_time": "2025-05-02T11:53:37.117Z"
   },
   {
    "duration": 8,
    "start_time": "2025-05-02T11:53:37.271Z"
   },
   {
    "duration": 19,
    "start_time": "2025-05-02T11:53:37.281Z"
   },
   {
    "duration": 6,
    "start_time": "2025-05-02T11:53:37.301Z"
   },
   {
    "duration": 16,
    "start_time": "2025-05-02T11:53:37.309Z"
   },
   {
    "duration": 4,
    "start_time": "2025-05-02T11:53:37.326Z"
   },
   {
    "duration": 45,
    "start_time": "2025-05-02T11:53:37.331Z"
   },
   {
    "duration": 9,
    "start_time": "2025-05-02T11:53:37.378Z"
   },
   {
    "duration": 42,
    "start_time": "2025-05-02T11:53:37.388Z"
   },
   {
    "duration": 45,
    "start_time": "2025-05-02T11:53:37.431Z"
   },
   {
    "duration": 18,
    "start_time": "2025-05-02T11:53:37.478Z"
   },
   {
    "duration": 8,
    "start_time": "2025-05-02T11:53:37.498Z"
   },
   {
    "duration": 28,
    "start_time": "2025-05-02T11:53:37.508Z"
   },
   {
    "duration": 30,
    "start_time": "2025-05-02T11:53:37.538Z"
   },
   {
    "duration": 24,
    "start_time": "2025-05-02T11:53:37.577Z"
   },
   {
    "duration": 17,
    "start_time": "2025-05-02T11:53:37.604Z"
   },
   {
    "duration": 29,
    "start_time": "2025-05-02T11:53:37.623Z"
   },
   {
    "duration": 30,
    "start_time": "2025-05-02T11:53:37.654Z"
   },
   {
    "duration": 8,
    "start_time": "2025-05-02T11:53:37.685Z"
   },
   {
    "duration": 167,
    "start_time": "2025-05-02T11:53:37.698Z"
   },
   {
    "duration": 10,
    "start_time": "2025-05-02T11:53:37.867Z"
   },
   {
    "duration": 203,
    "start_time": "2025-05-02T11:53:37.879Z"
   },
   {
    "duration": 17,
    "start_time": "2025-05-02T11:53:38.084Z"
   },
   {
    "duration": 556,
    "start_time": "2025-05-02T11:53:38.102Z"
   },
   {
    "duration": 4,
    "start_time": "2025-05-02T11:53:38.660Z"
   },
   {
    "duration": 146,
    "start_time": "2025-05-02T11:53:38.666Z"
   },
   {
    "duration": 34,
    "start_time": "2025-05-02T11:53:38.814Z"
   },
   {
    "duration": 31,
    "start_time": "2025-05-02T11:53:38.850Z"
   },
   {
    "duration": 22,
    "start_time": "2025-05-02T11:53:38.883Z"
   },
   {
    "duration": 438,
    "start_time": "2025-05-02T11:53:38.906Z"
   },
   {
    "duration": 8,
    "start_time": "2025-05-02T11:53:39.346Z"
   },
   {
    "duration": 1558,
    "start_time": "2025-05-02T11:53:39.355Z"
   },
   {
    "duration": 0,
    "start_time": "2025-05-02T11:53:40.916Z"
   },
   {
    "duration": 0,
    "start_time": "2025-05-02T11:53:40.918Z"
   },
   {
    "duration": 0,
    "start_time": "2025-05-02T11:53:40.919Z"
   },
   {
    "duration": 0,
    "start_time": "2025-05-02T11:53:40.920Z"
   },
   {
    "duration": 0,
    "start_time": "2025-05-02T11:53:40.922Z"
   },
   {
    "duration": 0,
    "start_time": "2025-05-02T11:53:40.923Z"
   },
   {
    "duration": 0,
    "start_time": "2025-05-02T11:53:40.925Z"
   },
   {
    "duration": 0,
    "start_time": "2025-05-02T11:53:40.927Z"
   },
   {
    "duration": 0,
    "start_time": "2025-05-02T11:53:40.928Z"
   },
   {
    "duration": 0,
    "start_time": "2025-05-02T11:53:40.930Z"
   },
   {
    "duration": 0,
    "start_time": "2025-05-02T11:53:40.932Z"
   },
   {
    "duration": 0,
    "start_time": "2025-05-02T11:53:40.933Z"
   },
   {
    "duration": 1,
    "start_time": "2025-05-02T11:53:40.934Z"
   },
   {
    "duration": 0,
    "start_time": "2025-05-02T11:53:40.936Z"
   },
   {
    "duration": 0,
    "start_time": "2025-05-02T11:53:40.937Z"
   },
   {
    "duration": 0,
    "start_time": "2025-05-02T11:53:40.939Z"
   },
   {
    "duration": 0,
    "start_time": "2025-05-02T11:53:40.940Z"
   },
   {
    "duration": 0,
    "start_time": "2025-05-02T11:53:40.941Z"
   },
   {
    "duration": 0,
    "start_time": "2025-05-02T11:53:40.943Z"
   },
   {
    "duration": 0,
    "start_time": "2025-05-02T11:53:40.944Z"
   },
   {
    "duration": 0,
    "start_time": "2025-05-02T11:53:40.945Z"
   },
   {
    "duration": 0,
    "start_time": "2025-05-02T11:53:40.946Z"
   },
   {
    "duration": 0,
    "start_time": "2025-05-02T11:53:40.947Z"
   },
   {
    "duration": 0,
    "start_time": "2025-05-02T11:53:40.949Z"
   },
   {
    "duration": 0,
    "start_time": "2025-05-02T11:53:40.950Z"
   },
   {
    "duration": 0,
    "start_time": "2025-05-02T11:53:40.951Z"
   },
   {
    "duration": 0,
    "start_time": "2025-05-02T11:53:40.952Z"
   },
   {
    "duration": 0,
    "start_time": "2025-05-02T11:53:40.953Z"
   },
   {
    "duration": 0,
    "start_time": "2025-05-02T11:53:40.954Z"
   },
   {
    "duration": 0,
    "start_time": "2025-05-02T11:53:40.955Z"
   },
   {
    "duration": 0,
    "start_time": "2025-05-02T11:53:40.977Z"
   },
   {
    "duration": 0,
    "start_time": "2025-05-02T11:53:40.978Z"
   },
   {
    "duration": 0,
    "start_time": "2025-05-02T11:53:40.979Z"
   },
   {
    "duration": 0,
    "start_time": "2025-05-02T11:53:40.980Z"
   },
   {
    "duration": 0,
    "start_time": "2025-05-02T11:53:40.981Z"
   },
   {
    "duration": 0,
    "start_time": "2025-05-02T11:53:40.982Z"
   },
   {
    "duration": 0,
    "start_time": "2025-05-02T11:53:40.983Z"
   },
   {
    "duration": 0,
    "start_time": "2025-05-02T11:53:40.984Z"
   },
   {
    "duration": 0,
    "start_time": "2025-05-02T11:53:40.985Z"
   },
   {
    "duration": 0,
    "start_time": "2025-05-02T11:53:40.986Z"
   },
   {
    "duration": 0,
    "start_time": "2025-05-02T11:53:40.987Z"
   },
   {
    "duration": 0,
    "start_time": "2025-05-02T11:53:40.988Z"
   },
   {
    "duration": 0,
    "start_time": "2025-05-02T11:53:40.989Z"
   },
   {
    "duration": 0,
    "start_time": "2025-05-02T11:53:40.990Z"
   },
   {
    "duration": 0,
    "start_time": "2025-05-02T11:53:40.991Z"
   },
   {
    "duration": 0,
    "start_time": "2025-05-02T11:53:40.992Z"
   },
   {
    "duration": 0,
    "start_time": "2025-05-02T11:53:40.993Z"
   },
   {
    "duration": 0,
    "start_time": "2025-05-02T11:53:40.994Z"
   },
   {
    "duration": 0,
    "start_time": "2025-05-02T11:53:40.995Z"
   },
   {
    "duration": 0,
    "start_time": "2025-05-02T11:53:40.996Z"
   },
   {
    "duration": 0,
    "start_time": "2025-05-02T11:53:40.997Z"
   },
   {
    "duration": 0,
    "start_time": "2025-05-02T11:53:40.998Z"
   },
   {
    "duration": 0,
    "start_time": "2025-05-02T11:53:40.999Z"
   },
   {
    "duration": 0,
    "start_time": "2025-05-02T11:53:41.001Z"
   },
   {
    "duration": 0,
    "start_time": "2025-05-02T11:53:41.002Z"
   },
   {
    "duration": 416,
    "start_time": "2025-05-02T11:56:54.549Z"
   },
   {
    "duration": 145,
    "start_time": "2025-05-02T11:57:22.239Z"
   },
   {
    "duration": 52,
    "start_time": "2025-05-02T11:57:22.385Z"
   },
   {
    "duration": 53,
    "start_time": "2025-05-02T11:57:22.438Z"
   },
   {
    "duration": 294,
    "start_time": "2025-05-02T11:57:22.493Z"
   },
   {
    "duration": 294,
    "start_time": "2025-05-02T11:57:22.788Z"
   },
   {
    "duration": 587,
    "start_time": "2025-05-02T11:57:23.083Z"
   },
   {
    "duration": 9,
    "start_time": "2025-05-02T11:57:23.676Z"
   },
   {
    "duration": 119,
    "start_time": "2025-05-02T11:57:23.687Z"
   },
   {
    "duration": 26,
    "start_time": "2025-05-02T11:57:23.808Z"
   },
   {
    "duration": 223,
    "start_time": "2025-05-02T11:57:23.836Z"
   },
   {
    "duration": 148,
    "start_time": "2025-05-02T11:57:24.061Z"
   },
   {
    "duration": 6,
    "start_time": "2025-05-02T11:57:24.211Z"
   },
   {
    "duration": 23,
    "start_time": "2025-05-02T11:57:24.218Z"
   },
   {
    "duration": 37,
    "start_time": "2025-05-02T11:57:24.243Z"
   },
   {
    "duration": 11,
    "start_time": "2025-05-02T11:57:24.282Z"
   },
   {
    "duration": 13,
    "start_time": "2025-05-02T11:57:24.295Z"
   },
   {
    "duration": 35,
    "start_time": "2025-05-02T11:57:24.309Z"
   },
   {
    "duration": 8,
    "start_time": "2025-05-02T11:57:24.346Z"
   },
   {
    "duration": 29,
    "start_time": "2025-05-02T11:57:24.355Z"
   },
   {
    "duration": 50,
    "start_time": "2025-05-02T11:57:24.385Z"
   },
   {
    "duration": 260,
    "start_time": "2025-05-02T11:57:24.437Z"
   },
   {
    "duration": 496,
    "start_time": "2025-05-02T11:57:24.699Z"
   },
   {
    "duration": 11,
    "start_time": "2025-05-02T11:57:25.196Z"
   },
   {
    "duration": 122,
    "start_time": "2025-05-02T11:57:25.209Z"
   },
   {
    "duration": 24,
    "start_time": "2025-05-02T11:57:25.333Z"
   },
   {
    "duration": 78,
    "start_time": "2025-05-02T11:57:25.359Z"
   },
   {
    "duration": 83,
    "start_time": "2025-05-02T11:57:25.439Z"
   },
   {
    "duration": 6,
    "start_time": "2025-05-02T11:57:25.526Z"
   },
   {
    "duration": 59,
    "start_time": "2025-05-02T11:57:25.534Z"
   },
   {
    "duration": 224,
    "start_time": "2025-05-02T11:57:25.594Z"
   },
   {
    "duration": 70,
    "start_time": "2025-05-02T11:57:25.821Z"
   },
   {
    "duration": 22,
    "start_time": "2025-05-02T11:57:25.892Z"
   },
   {
    "duration": 185,
    "start_time": "2025-05-02T11:57:25.915Z"
   },
   {
    "duration": 9,
    "start_time": "2025-05-02T11:57:26.102Z"
   },
   {
    "duration": 6,
    "start_time": "2025-05-02T11:57:26.113Z"
   },
   {
    "duration": 913,
    "start_time": "2025-05-02T11:57:26.121Z"
   },
   {
    "duration": 4,
    "start_time": "2025-05-02T11:57:27.035Z"
   },
   {
    "duration": 6,
    "start_time": "2025-05-02T11:57:27.040Z"
   },
   {
    "duration": 52,
    "start_time": "2025-05-02T11:57:27.047Z"
   },
   {
    "duration": 719,
    "start_time": "2025-05-02T11:57:27.101Z"
   },
   {
    "duration": 10,
    "start_time": "2025-05-02T11:57:27.822Z"
   },
   {
    "duration": 5,
    "start_time": "2025-05-02T11:57:27.834Z"
   },
   {
    "duration": 11,
    "start_time": "2025-05-02T11:57:27.841Z"
   },
   {
    "duration": 10,
    "start_time": "2025-05-02T11:57:27.877Z"
   },
   {
    "duration": 87,
    "start_time": "2025-05-02T11:57:27.888Z"
   },
   {
    "duration": 132,
    "start_time": "2025-05-02T11:57:27.976Z"
   },
   {
    "duration": 11,
    "start_time": "2025-05-02T11:57:28.110Z"
   },
   {
    "duration": 499,
    "start_time": "2025-05-02T11:57:28.123Z"
   },
   {
    "duration": 11,
    "start_time": "2025-05-02T11:57:28.624Z"
   },
   {
    "duration": 499,
    "start_time": "2025-05-02T11:57:28.637Z"
   },
   {
    "duration": 422,
    "start_time": "2025-05-02T11:57:29.138Z"
   },
   {
    "duration": 16,
    "start_time": "2025-05-02T11:57:29.562Z"
   },
   {
    "duration": 8,
    "start_time": "2025-05-02T11:57:29.579Z"
   },
   {
    "duration": 10,
    "start_time": "2025-05-02T11:57:29.588Z"
   },
   {
    "duration": 362,
    "start_time": "2025-05-02T11:57:29.599Z"
   },
   {
    "duration": 30413,
    "start_time": "2025-05-03T06:43:28.534Z"
   },
   {
    "duration": 1436,
    "start_time": "2025-05-03T06:43:58.949Z"
   },
   {
    "duration": 2044,
    "start_time": "2025-05-03T06:44:00.387Z"
   },
   {
    "duration": 31,
    "start_time": "2025-05-03T06:44:02.433Z"
   },
   {
    "duration": 84,
    "start_time": "2025-05-03T06:44:02.465Z"
   },
   {
    "duration": 81,
    "start_time": "2025-05-03T06:44:02.561Z"
   },
   {
    "duration": 93,
    "start_time": "2025-05-03T06:44:02.644Z"
   },
   {
    "duration": 4,
    "start_time": "2025-05-03T06:44:02.738Z"
   },
   {
    "duration": 55,
    "start_time": "2025-05-03T06:44:02.744Z"
   },
   {
    "duration": 7,
    "start_time": "2025-05-03T06:44:02.802Z"
   },
   {
    "duration": 11,
    "start_time": "2025-05-03T06:44:02.811Z"
   },
   {
    "duration": 6,
    "start_time": "2025-05-03T06:44:02.823Z"
   },
   {
    "duration": 72,
    "start_time": "2025-05-03T06:44:02.831Z"
   },
   {
    "duration": 9,
    "start_time": "2025-05-03T06:44:02.904Z"
   },
   {
    "duration": 35,
    "start_time": "2025-05-03T06:44:02.914Z"
   },
   {
    "duration": 8,
    "start_time": "2025-05-03T06:44:02.951Z"
   },
   {
    "duration": 35,
    "start_time": "2025-05-03T06:44:02.961Z"
   },
   {
    "duration": 45,
    "start_time": "2025-05-03T06:44:02.998Z"
   },
   {
    "duration": 17,
    "start_time": "2025-05-03T06:44:03.044Z"
   },
   {
    "duration": 43,
    "start_time": "2025-05-03T06:44:03.063Z"
   },
   {
    "duration": 14,
    "start_time": "2025-05-03T06:44:03.108Z"
   },
   {
    "duration": 16,
    "start_time": "2025-05-03T06:44:03.123Z"
   },
   {
    "duration": 25,
    "start_time": "2025-05-03T06:44:03.140Z"
   },
   {
    "duration": 31,
    "start_time": "2025-05-03T06:44:03.167Z"
   },
   {
    "duration": 20,
    "start_time": "2025-05-03T06:44:03.200Z"
   },
   {
    "duration": 18,
    "start_time": "2025-05-03T06:44:03.221Z"
   },
   {
    "duration": 6,
    "start_time": "2025-05-03T06:44:03.240Z"
   },
   {
    "duration": 150,
    "start_time": "2025-05-03T06:44:03.249Z"
   },
   {
    "duration": 8,
    "start_time": "2025-05-03T06:44:03.401Z"
   },
   {
    "duration": 6,
    "start_time": "2025-05-03T06:44:03.411Z"
   },
   {
    "duration": 8,
    "start_time": "2025-05-03T06:44:03.418Z"
   },
   {
    "duration": 518,
    "start_time": "2025-05-03T06:44:03.427Z"
   },
   {
    "duration": 3,
    "start_time": "2025-05-03T06:44:03.947Z"
   },
   {
    "duration": 139,
    "start_time": "2025-05-03T06:44:03.952Z"
   },
   {
    "duration": 32,
    "start_time": "2025-05-03T06:44:04.092Z"
   },
   {
    "duration": 14,
    "start_time": "2025-05-03T06:44:04.125Z"
   },
   {
    "duration": 36,
    "start_time": "2025-05-03T06:44:04.141Z"
   },
   {
    "duration": 405,
    "start_time": "2025-05-03T06:44:04.179Z"
   },
   {
    "duration": 8,
    "start_time": "2025-05-03T06:44:04.585Z"
   },
   {
    "duration": 388,
    "start_time": "2025-05-03T06:44:04.594Z"
   },
   {
    "duration": 131,
    "start_time": "2025-05-03T06:44:04.983Z"
   },
   {
    "duration": 58,
    "start_time": "2025-05-03T06:44:05.116Z"
   },
   {
    "duration": 35,
    "start_time": "2025-05-03T06:44:05.175Z"
   },
   {
    "duration": 265,
    "start_time": "2025-05-03T06:44:05.212Z"
   },
   {
    "duration": 285,
    "start_time": "2025-05-03T06:44:05.479Z"
   },
   {
    "duration": 541,
    "start_time": "2025-05-03T06:44:05.766Z"
   },
   {
    "duration": 9,
    "start_time": "2025-05-03T06:44:06.309Z"
   },
   {
    "duration": 77,
    "start_time": "2025-05-03T06:44:06.320Z"
   },
   {
    "duration": 23,
    "start_time": "2025-05-03T06:44:06.399Z"
   },
   {
    "duration": 201,
    "start_time": "2025-05-03T06:44:06.424Z"
   },
   {
    "duration": 129,
    "start_time": "2025-05-03T06:44:06.627Z"
   },
   {
    "duration": 10,
    "start_time": "2025-05-03T06:44:06.757Z"
   },
   {
    "duration": 47,
    "start_time": "2025-05-03T06:44:06.769Z"
   },
   {
    "duration": 39,
    "start_time": "2025-05-03T06:44:06.817Z"
   },
   {
    "duration": 3,
    "start_time": "2025-05-03T06:44:06.857Z"
   },
   {
    "duration": 14,
    "start_time": "2025-05-03T06:44:06.862Z"
   },
   {
    "duration": 71,
    "start_time": "2025-05-03T06:44:06.877Z"
   },
   {
    "duration": 3,
    "start_time": "2025-05-03T06:44:06.950Z"
   },
   {
    "duration": 30,
    "start_time": "2025-05-03T06:44:06.955Z"
   },
   {
    "duration": 49,
    "start_time": "2025-05-03T06:44:06.986Z"
   },
   {
    "duration": 233,
    "start_time": "2025-05-03T06:44:07.037Z"
   },
   {
    "duration": 460,
    "start_time": "2025-05-03T06:44:07.272Z"
   },
   {
    "duration": 10,
    "start_time": "2025-05-03T06:44:07.733Z"
   },
   {
    "duration": 128,
    "start_time": "2025-05-03T06:44:07.744Z"
   },
   {
    "duration": 21,
    "start_time": "2025-05-03T06:44:07.873Z"
   },
   {
    "duration": 75,
    "start_time": "2025-05-03T06:44:07.895Z"
   },
   {
    "duration": 69,
    "start_time": "2025-05-03T06:44:07.971Z"
   },
   {
    "duration": 21,
    "start_time": "2025-05-03T06:44:08.042Z"
   },
   {
    "duration": 33,
    "start_time": "2025-05-03T06:44:08.065Z"
   },
   {
    "duration": 240,
    "start_time": "2025-05-03T06:44:08.100Z"
   },
   {
    "duration": 57,
    "start_time": "2025-05-03T06:44:08.342Z"
   },
   {
    "duration": 19,
    "start_time": "2025-05-03T06:44:08.400Z"
   },
   {
    "duration": 19,
    "start_time": "2025-05-03T06:44:08.421Z"
   },
   {
    "duration": 25,
    "start_time": "2025-05-03T06:44:08.441Z"
   },
   {
    "duration": 5,
    "start_time": "2025-05-03T06:44:08.467Z"
   },
   {
    "duration": 850,
    "start_time": "2025-05-03T06:44:08.473Z"
   },
   {
    "duration": 3,
    "start_time": "2025-05-03T06:44:09.325Z"
   },
   {
    "duration": 19,
    "start_time": "2025-05-03T06:44:09.330Z"
   },
   {
    "duration": 40,
    "start_time": "2025-05-03T06:44:09.350Z"
   },
   {
    "duration": 679,
    "start_time": "2025-05-03T06:44:09.392Z"
   },
   {
    "duration": 10,
    "start_time": "2025-05-03T06:44:10.073Z"
   },
   {
    "duration": 8,
    "start_time": "2025-05-03T06:44:10.087Z"
   },
   {
    "duration": 11,
    "start_time": "2025-05-03T06:44:10.097Z"
   },
   {
    "duration": 4,
    "start_time": "2025-05-03T06:44:10.109Z"
   },
   {
    "duration": 11,
    "start_time": "2025-05-03T06:44:10.114Z"
   },
   {
    "duration": 37,
    "start_time": "2025-05-03T06:44:10.126Z"
   },
   {
    "duration": 11,
    "start_time": "2025-05-03T06:44:10.165Z"
   },
   {
    "duration": 499,
    "start_time": "2025-05-03T06:44:10.177Z"
   },
   {
    "duration": 10,
    "start_time": "2025-05-03T06:44:10.678Z"
   },
   {
    "duration": 482,
    "start_time": "2025-05-03T06:44:10.690Z"
   },
   {
    "duration": 367,
    "start_time": "2025-05-03T06:44:11.174Z"
   },
   {
    "duration": 7,
    "start_time": "2025-05-03T06:44:11.542Z"
   },
   {
    "duration": 18,
    "start_time": "2025-05-03T06:44:11.562Z"
   },
   {
    "duration": 10,
    "start_time": "2025-05-03T06:44:11.581Z"
   },
   {
    "duration": 329,
    "start_time": "2025-05-03T06:44:11.592Z"
   },
   {
    "duration": 34542,
    "start_time": "2025-05-03T17:03:56.265Z"
   },
   {
    "duration": 1612,
    "start_time": "2025-05-03T17:04:30.809Z"
   },
   {
    "duration": 2477,
    "start_time": "2025-05-03T17:04:32.422Z"
   },
   {
    "duration": 29,
    "start_time": "2025-05-03T17:04:34.902Z"
   },
   {
    "duration": 171,
    "start_time": "2025-05-03T17:04:34.933Z"
   },
   {
    "duration": 106,
    "start_time": "2025-05-03T17:04:35.105Z"
   },
   {
    "duration": 114,
    "start_time": "2025-05-03T17:04:35.212Z"
   },
   {
    "duration": 14,
    "start_time": "2025-05-03T17:04:35.327Z"
   },
   {
    "duration": 63,
    "start_time": "2025-05-03T17:04:35.344Z"
   },
   {
    "duration": 8,
    "start_time": "2025-05-03T17:04:35.410Z"
   },
   {
    "duration": 47,
    "start_time": "2025-05-03T17:04:35.419Z"
   },
   {
    "duration": 36,
    "start_time": "2025-05-03T17:04:35.468Z"
   },
   {
    "duration": 49,
    "start_time": "2025-05-03T17:04:35.506Z"
   },
   {
    "duration": 67,
    "start_time": "2025-05-03T17:04:35.559Z"
   },
   {
    "duration": 85,
    "start_time": "2025-05-03T17:04:35.628Z"
   },
   {
    "duration": 11,
    "start_time": "2025-05-03T17:04:35.715Z"
   },
   {
    "duration": 56,
    "start_time": "2025-05-03T17:04:35.728Z"
   },
   {
    "duration": 73,
    "start_time": "2025-05-03T17:04:35.785Z"
   },
   {
    "duration": 19,
    "start_time": "2025-05-03T17:04:35.860Z"
   },
   {
    "duration": 35,
    "start_time": "2025-05-03T17:04:35.881Z"
   },
   {
    "duration": 42,
    "start_time": "2025-05-03T17:04:35.917Z"
   },
   {
    "duration": 49,
    "start_time": "2025-05-03T17:04:35.961Z"
   },
   {
    "duration": 63,
    "start_time": "2025-05-03T17:04:36.012Z"
   },
   {
    "duration": 21,
    "start_time": "2025-05-03T17:04:36.076Z"
   },
   {
    "duration": 61,
    "start_time": "2025-05-03T17:04:36.098Z"
   },
   {
    "duration": 104,
    "start_time": "2025-05-03T17:04:36.161Z"
   },
   {
    "duration": 45,
    "start_time": "2025-05-03T17:04:36.266Z"
   },
   {
    "duration": 207,
    "start_time": "2025-05-03T17:04:36.316Z"
   },
   {
    "duration": 10,
    "start_time": "2025-05-03T17:04:36.525Z"
   },
   {
    "duration": 16,
    "start_time": "2025-05-03T17:04:36.543Z"
   },
   {
    "duration": 42,
    "start_time": "2025-05-03T17:04:36.561Z"
   },
   {
    "duration": 679,
    "start_time": "2025-05-03T17:04:36.605Z"
   },
   {
    "duration": 4,
    "start_time": "2025-05-03T17:04:37.286Z"
   },
   {
    "duration": 245,
    "start_time": "2025-05-03T17:04:37.291Z"
   },
   {
    "duration": 61,
    "start_time": "2025-05-03T17:04:37.538Z"
   },
   {
    "duration": 67,
    "start_time": "2025-05-03T17:04:37.601Z"
   },
   {
    "duration": 207,
    "start_time": "2025-05-03T17:04:37.669Z"
   },
   {
    "duration": 400,
    "start_time": "2025-05-03T17:04:37.878Z"
   },
   {
    "duration": 9,
    "start_time": "2025-05-03T17:04:38.279Z"
   },
   {
    "duration": 491,
    "start_time": "2025-05-03T17:04:38.289Z"
   },
   {
    "duration": 170,
    "start_time": "2025-05-03T17:04:38.781Z"
   },
   {
    "duration": 54,
    "start_time": "2025-05-03T17:04:38.954Z"
   },
   {
    "duration": 61,
    "start_time": "2025-05-03T17:04:39.009Z"
   },
   {
    "duration": 327,
    "start_time": "2025-05-03T17:04:39.072Z"
   },
   {
    "duration": 299,
    "start_time": "2025-05-03T17:04:39.401Z"
   },
   {
    "duration": 720,
    "start_time": "2025-05-03T17:04:39.702Z"
   },
   {
    "duration": 21,
    "start_time": "2025-05-03T17:04:40.424Z"
   },
   {
    "duration": 103,
    "start_time": "2025-05-03T17:04:40.448Z"
   },
   {
    "duration": 25,
    "start_time": "2025-05-03T17:04:40.554Z"
   },
   {
    "duration": 245,
    "start_time": "2025-05-03T17:04:40.581Z"
   },
   {
    "duration": 184,
    "start_time": "2025-05-03T17:04:40.828Z"
   },
   {
    "duration": 7,
    "start_time": "2025-05-03T17:04:41.013Z"
   },
   {
    "duration": 41,
    "start_time": "2025-05-03T17:04:41.021Z"
   },
   {
    "duration": 44,
    "start_time": "2025-05-03T17:04:41.063Z"
   },
   {
    "duration": 11,
    "start_time": "2025-05-03T17:04:41.108Z"
   },
   {
    "duration": 36,
    "start_time": "2025-05-03T17:04:41.120Z"
   },
   {
    "duration": 26,
    "start_time": "2025-05-03T17:04:41.159Z"
   },
   {
    "duration": 21,
    "start_time": "2025-05-03T17:04:41.187Z"
   },
   {
    "duration": 27,
    "start_time": "2025-05-03T17:04:41.210Z"
   },
   {
    "duration": 61,
    "start_time": "2025-05-03T17:04:41.238Z"
   },
   {
    "duration": 301,
    "start_time": "2025-05-03T17:04:41.301Z"
   },
   {
    "duration": 610,
    "start_time": "2025-05-03T17:04:41.604Z"
   },
   {
    "duration": 10,
    "start_time": "2025-05-03T17:04:42.216Z"
   },
   {
    "duration": 103,
    "start_time": "2025-05-03T17:04:42.244Z"
   },
   {
    "duration": 29,
    "start_time": "2025-05-03T17:04:42.350Z"
   },
   {
    "duration": 105,
    "start_time": "2025-05-03T17:04:42.381Z"
   },
   {
    "duration": 102,
    "start_time": "2025-05-03T17:04:42.488Z"
   },
   {
    "duration": 5,
    "start_time": "2025-05-03T17:04:42.592Z"
   },
   {
    "duration": 61,
    "start_time": "2025-05-03T17:04:42.599Z"
   },
   {
    "duration": 262,
    "start_time": "2025-05-03T17:04:42.662Z"
   },
   {
    "duration": 78,
    "start_time": "2025-05-03T17:04:42.925Z"
   },
   {
    "duration": 37,
    "start_time": "2025-05-03T17:04:43.004Z"
   },
   {
    "duration": 25,
    "start_time": "2025-05-03T17:04:43.051Z"
   },
   {
    "duration": 63,
    "start_time": "2025-05-03T17:04:43.078Z"
   },
   {
    "duration": 18,
    "start_time": "2025-05-03T17:04:43.146Z"
   },
   {
    "duration": 963,
    "start_time": "2025-05-03T17:04:43.166Z"
   },
   {
    "duration": 9,
    "start_time": "2025-05-03T17:04:44.139Z"
   },
   {
    "duration": 34,
    "start_time": "2025-05-03T17:04:44.151Z"
   },
   {
    "duration": 48,
    "start_time": "2025-05-03T17:04:44.187Z"
   },
   {
    "duration": 837,
    "start_time": "2025-05-03T17:04:44.237Z"
   },
   {
    "duration": 10,
    "start_time": "2025-05-03T17:04:45.075Z"
   },
   {
    "duration": 21,
    "start_time": "2025-05-03T17:04:45.090Z"
   },
   {
    "duration": 46,
    "start_time": "2025-05-03T17:04:45.113Z"
   },
   {
    "duration": 4,
    "start_time": "2025-05-03T17:04:45.161Z"
   },
   {
    "duration": 43,
    "start_time": "2025-05-03T17:04:45.167Z"
   },
   {
    "duration": 13,
    "start_time": "2025-05-03T17:04:45.212Z"
   },
   {
    "duration": 40,
    "start_time": "2025-05-03T17:04:45.227Z"
   },
   {
    "duration": 550,
    "start_time": "2025-05-03T17:04:45.269Z"
   },
   {
    "duration": 23,
    "start_time": "2025-05-03T17:04:45.821Z"
   },
   {
    "duration": 562,
    "start_time": "2025-05-03T17:04:45.846Z"
   },
   {
    "duration": 448,
    "start_time": "2025-05-03T17:04:46.410Z"
   },
   {
    "duration": 8,
    "start_time": "2025-05-03T17:04:46.859Z"
   },
   {
    "duration": 8,
    "start_time": "2025-05-03T17:04:46.868Z"
   },
   {
    "duration": 21,
    "start_time": "2025-05-03T17:04:46.878Z"
   },
   {
    "duration": 450,
    "start_time": "2025-05-03T17:04:46.901Z"
   },
   {
    "duration": 16203,
    "start_time": "2025-05-03T18:23:46.507Z"
   },
   {
    "duration": 1689,
    "start_time": "2025-05-03T18:24:02.713Z"
   },
   {
    "duration": 2280,
    "start_time": "2025-05-03T18:24:04.403Z"
   },
   {
    "duration": 31,
    "start_time": "2025-05-03T18:24:06.686Z"
   },
   {
    "duration": 116,
    "start_time": "2025-05-03T18:24:06.719Z"
   },
   {
    "duration": 94,
    "start_time": "2025-05-03T18:24:06.836Z"
   },
   {
    "duration": 110,
    "start_time": "2025-05-03T18:24:06.941Z"
   },
   {
    "duration": 6,
    "start_time": "2025-05-03T18:24:07.053Z"
   },
   {
    "duration": 96,
    "start_time": "2025-05-03T18:24:07.061Z"
   },
   {
    "duration": 8,
    "start_time": "2025-05-03T18:24:07.160Z"
   },
   {
    "duration": 42,
    "start_time": "2025-05-03T18:24:07.169Z"
   },
   {
    "duration": 37,
    "start_time": "2025-05-03T18:24:07.212Z"
   },
   {
    "duration": 23,
    "start_time": "2025-05-03T18:24:07.253Z"
   },
   {
    "duration": 50,
    "start_time": "2025-05-03T18:24:07.277Z"
   },
   {
    "duration": 62,
    "start_time": "2025-05-03T18:24:07.329Z"
   },
   {
    "duration": 9,
    "start_time": "2025-05-03T18:24:07.393Z"
   },
   {
    "duration": 79,
    "start_time": "2025-05-03T18:24:07.403Z"
   },
   {
    "duration": 83,
    "start_time": "2025-05-03T18:24:07.483Z"
   },
   {
    "duration": 32,
    "start_time": "2025-05-03T18:24:07.567Z"
   },
   {
    "duration": 27,
    "start_time": "2025-05-03T18:24:07.602Z"
   },
   {
    "duration": 51,
    "start_time": "2025-05-03T18:24:07.632Z"
   },
   {
    "duration": 42,
    "start_time": "2025-05-03T18:24:07.685Z"
   },
   {
    "duration": 41,
    "start_time": "2025-05-03T18:24:07.729Z"
   },
   {
    "duration": 21,
    "start_time": "2025-05-03T18:24:07.772Z"
   },
   {
    "duration": 61,
    "start_time": "2025-05-03T18:24:07.794Z"
   },
   {
    "duration": 103,
    "start_time": "2025-05-03T18:24:07.857Z"
   },
   {
    "duration": 15,
    "start_time": "2025-05-03T18:24:07.962Z"
   },
   {
    "duration": 210,
    "start_time": "2025-05-03T18:24:07.983Z"
   },
   {
    "duration": 8,
    "start_time": "2025-05-03T18:24:08.195Z"
   },
   {
    "duration": 51,
    "start_time": "2025-05-03T18:24:08.205Z"
   },
   {
    "duration": 86,
    "start_time": "2025-05-03T18:24:08.258Z"
   },
   {
    "duration": 662,
    "start_time": "2025-05-03T18:24:08.346Z"
   },
   {
    "duration": 3,
    "start_time": "2025-05-03T18:24:09.010Z"
   },
   {
    "duration": 189,
    "start_time": "2025-05-03T18:24:09.015Z"
   },
   {
    "duration": 38,
    "start_time": "2025-05-03T18:24:09.206Z"
   },
   {
    "duration": 18,
    "start_time": "2025-05-03T18:24:09.246Z"
   },
   {
    "duration": 32,
    "start_time": "2025-05-03T18:24:09.266Z"
   },
   {
    "duration": 458,
    "start_time": "2025-05-03T18:24:09.300Z"
   },
   {
    "duration": 9,
    "start_time": "2025-05-03T18:24:09.760Z"
   },
   {
    "duration": 457,
    "start_time": "2025-05-03T18:24:09.771Z"
   },
   {
    "duration": 166,
    "start_time": "2025-05-03T18:24:10.230Z"
   },
   {
    "duration": 71,
    "start_time": "2025-05-03T18:24:10.398Z"
   },
   {
    "duration": 36,
    "start_time": "2025-05-03T18:24:10.471Z"
   },
   {
    "duration": 286,
    "start_time": "2025-05-03T18:24:10.508Z"
   },
   {
    "duration": 304,
    "start_time": "2025-05-03T18:24:10.795Z"
   },
   {
    "duration": 661,
    "start_time": "2025-05-03T18:24:11.101Z"
   },
   {
    "duration": 10,
    "start_time": "2025-05-03T18:24:11.764Z"
   },
   {
    "duration": 98,
    "start_time": "2025-05-03T18:24:11.775Z"
   },
   {
    "duration": 28,
    "start_time": "2025-05-03T18:24:11.874Z"
   },
   {
    "duration": 245,
    "start_time": "2025-05-03T18:24:11.903Z"
   },
   {
    "duration": 156,
    "start_time": "2025-05-03T18:24:12.151Z"
   },
   {
    "duration": 7,
    "start_time": "2025-05-03T18:24:12.308Z"
   },
   {
    "duration": 37,
    "start_time": "2025-05-03T18:24:12.317Z"
   },
   {
    "duration": 28,
    "start_time": "2025-05-03T18:24:12.356Z"
   },
   {
    "duration": 4,
    "start_time": "2025-05-03T18:24:12.386Z"
   },
   {
    "duration": 23,
    "start_time": "2025-05-03T18:24:12.391Z"
   },
   {
    "duration": 43,
    "start_time": "2025-05-03T18:24:12.416Z"
   },
   {
    "duration": 4,
    "start_time": "2025-05-03T18:24:12.461Z"
   },
   {
    "duration": 19,
    "start_time": "2025-05-03T18:24:12.467Z"
   },
   {
    "duration": 76,
    "start_time": "2025-05-03T18:24:12.488Z"
   },
   {
    "duration": 319,
    "start_time": "2025-05-03T18:24:12.566Z"
   },
   {
    "duration": 612,
    "start_time": "2025-05-03T18:24:12.887Z"
   },
   {
    "duration": 10,
    "start_time": "2025-05-03T18:24:13.501Z"
   },
   {
    "duration": 102,
    "start_time": "2025-05-03T18:24:13.513Z"
   },
   {
    "duration": 42,
    "start_time": "2025-05-03T18:24:13.617Z"
   },
   {
    "duration": 84,
    "start_time": "2025-05-03T18:24:13.661Z"
   },
   {
    "duration": 83,
    "start_time": "2025-05-03T18:24:13.750Z"
   },
   {
    "duration": 12,
    "start_time": "2025-05-03T18:24:13.840Z"
   },
   {
    "duration": 34,
    "start_time": "2025-05-03T18:24:13.855Z"
   },
   {
    "duration": 268,
    "start_time": "2025-05-03T18:24:13.890Z"
   },
   {
    "duration": 56,
    "start_time": "2025-05-03T18:24:14.159Z"
   },
   {
    "duration": 46,
    "start_time": "2025-05-03T18:24:14.216Z"
   },
   {
    "duration": 26,
    "start_time": "2025-05-03T18:24:14.264Z"
   },
   {
    "duration": 10,
    "start_time": "2025-05-03T18:24:14.291Z"
   },
   {
    "duration": 5,
    "start_time": "2025-05-03T18:24:14.303Z"
   },
   {
    "duration": 988,
    "start_time": "2025-05-03T18:24:14.309Z"
   },
   {
    "duration": 4,
    "start_time": "2025-05-03T18:24:15.298Z"
   },
   {
    "duration": 48,
    "start_time": "2025-05-03T18:24:15.303Z"
   },
   {
    "duration": 52,
    "start_time": "2025-05-03T18:24:15.354Z"
   },
   {
    "duration": 863,
    "start_time": "2025-05-03T18:24:15.407Z"
   },
   {
    "duration": 9,
    "start_time": "2025-05-03T18:24:16.272Z"
   },
   {
    "duration": 4,
    "start_time": "2025-05-03T18:24:16.286Z"
   },
   {
    "duration": 12,
    "start_time": "2025-05-03T18:24:16.291Z"
   },
   {
    "duration": 34,
    "start_time": "2025-05-03T18:24:16.305Z"
   },
   {
    "duration": 13,
    "start_time": "2025-05-03T18:24:16.342Z"
   },
   {
    "duration": 9,
    "start_time": "2025-05-03T18:24:16.359Z"
   },
   {
    "duration": 11,
    "start_time": "2025-05-03T18:24:16.369Z"
   },
   {
    "duration": 535,
    "start_time": "2025-05-03T18:24:16.382Z"
   },
   {
    "duration": 11,
    "start_time": "2025-05-03T18:24:16.919Z"
   },
   {
    "duration": 562,
    "start_time": "2025-05-03T18:24:16.940Z"
   },
   {
    "duration": 529,
    "start_time": "2025-05-03T18:24:17.504Z"
   },
   {
    "duration": 12,
    "start_time": "2025-05-03T18:24:18.039Z"
   },
   {
    "duration": 9,
    "start_time": "2025-05-03T18:24:18.054Z"
   },
   {
    "duration": 11,
    "start_time": "2025-05-03T18:24:18.064Z"
   },
   {
    "duration": 454,
    "start_time": "2025-05-03T18:24:18.076Z"
   },
   {
    "duration": 59,
    "start_time": "2025-05-04T08:28:45.597Z"
   },
   {
    "duration": 35107,
    "start_time": "2025-05-04T08:28:53.271Z"
   },
   {
    "duration": 1757,
    "start_time": "2025-05-04T08:29:28.381Z"
   },
   {
    "duration": 2316,
    "start_time": "2025-05-04T08:29:30.140Z"
   },
   {
    "duration": 32,
    "start_time": "2025-05-04T08:29:32.458Z"
   },
   {
    "duration": 108,
    "start_time": "2025-05-04T08:29:32.491Z"
   },
   {
    "duration": 102,
    "start_time": "2025-05-04T08:29:32.601Z"
   },
   {
    "duration": 100,
    "start_time": "2025-05-04T08:29:32.705Z"
   },
   {
    "duration": 4,
    "start_time": "2025-05-04T08:29:32.806Z"
   },
   {
    "duration": 80,
    "start_time": "2025-05-04T08:29:32.811Z"
   },
   {
    "duration": 13,
    "start_time": "2025-05-04T08:29:32.893Z"
   },
   {
    "duration": 21,
    "start_time": "2025-05-04T08:29:32.907Z"
   },
   {
    "duration": 69,
    "start_time": "2025-05-04T08:29:32.930Z"
   },
   {
    "duration": 36,
    "start_time": "2025-05-04T08:29:33.001Z"
   },
   {
    "duration": 39,
    "start_time": "2025-05-04T08:29:33.039Z"
   },
   {
    "duration": 60,
    "start_time": "2025-05-04T08:29:33.080Z"
   },
   {
    "duration": 83,
    "start_time": "2025-05-04T08:29:33.141Z"
   },
   {
    "duration": 76,
    "start_time": "2025-05-04T08:29:33.226Z"
   },
   {
    "duration": 35,
    "start_time": "2025-05-04T08:29:33.304Z"
   },
   {
    "duration": 215,
    "start_time": "2025-05-04T08:29:33.341Z"
   },
   {
    "duration": 70,
    "start_time": "2025-05-04T08:29:33.558Z"
   },
   {
    "duration": 23,
    "start_time": "2025-05-04T08:29:33.630Z"
   },
   {
    "duration": 27,
    "start_time": "2025-05-04T08:29:33.656Z"
   },
   {
    "duration": 39,
    "start_time": "2025-05-04T08:29:33.685Z"
   },
   {
    "duration": 25,
    "start_time": "2025-05-04T08:29:33.726Z"
   },
   {
    "duration": 33,
    "start_time": "2025-05-04T08:29:33.753Z"
   },
   {
    "duration": 21,
    "start_time": "2025-05-04T08:29:33.788Z"
   },
   {
    "duration": 23,
    "start_time": "2025-05-04T08:29:33.810Z"
   },
   {
    "duration": 183,
    "start_time": "2025-05-04T08:29:33.838Z"
   },
   {
    "duration": 9,
    "start_time": "2025-05-04T08:29:34.022Z"
   },
   {
    "duration": 20,
    "start_time": "2025-05-04T08:29:34.033Z"
   },
   {
    "duration": 21,
    "start_time": "2025-05-04T08:29:34.055Z"
   },
   {
    "duration": 611,
    "start_time": "2025-05-04T08:29:34.078Z"
   },
   {
    "duration": 4,
    "start_time": "2025-05-04T08:29:34.691Z"
   },
   {
    "duration": 165,
    "start_time": "2025-05-04T08:29:34.696Z"
   },
   {
    "duration": 35,
    "start_time": "2025-05-04T08:29:34.863Z"
   },
   {
    "duration": 33,
    "start_time": "2025-05-04T08:29:34.900Z"
   },
   {
    "duration": 34,
    "start_time": "2025-05-04T08:29:34.934Z"
   },
   {
    "duration": 469,
    "start_time": "2025-05-04T08:29:34.971Z"
   },
   {
    "duration": 20,
    "start_time": "2025-05-04T08:29:35.442Z"
   },
   {
    "duration": 425,
    "start_time": "2025-05-04T08:29:35.464Z"
   },
   {
    "duration": 163,
    "start_time": "2025-05-04T08:29:35.891Z"
   },
   {
    "duration": 58,
    "start_time": "2025-05-04T08:29:36.060Z"
   },
   {
    "duration": 61,
    "start_time": "2025-05-04T08:29:36.119Z"
   },
   {
    "duration": 323,
    "start_time": "2025-05-04T08:29:36.182Z"
   },
   {
    "duration": 292,
    "start_time": "2025-05-04T08:29:36.507Z"
   },
   {
    "duration": 681,
    "start_time": "2025-05-04T08:29:36.801Z"
   },
   {
    "duration": 15,
    "start_time": "2025-05-04T08:29:37.485Z"
   },
   {
    "duration": 99,
    "start_time": "2025-05-04T08:29:37.503Z"
   },
   {
    "duration": 29,
    "start_time": "2025-05-04T08:29:37.604Z"
   },
   {
    "duration": 233,
    "start_time": "2025-05-04T08:29:37.635Z"
   },
   {
    "duration": 152,
    "start_time": "2025-05-04T08:29:37.870Z"
   },
   {
    "duration": 6,
    "start_time": "2025-05-04T08:29:38.024Z"
   },
   {
    "duration": 30,
    "start_time": "2025-05-04T08:29:38.032Z"
   },
   {
    "duration": 39,
    "start_time": "2025-05-04T08:29:38.064Z"
   },
   {
    "duration": 6,
    "start_time": "2025-05-04T08:29:38.105Z"
   },
   {
    "duration": 113,
    "start_time": "2025-05-04T08:29:38.113Z"
   },
   {
    "duration": 30,
    "start_time": "2025-05-04T08:29:38.228Z"
   },
   {
    "duration": 19,
    "start_time": "2025-05-04T08:29:38.260Z"
   },
   {
    "duration": 37,
    "start_time": "2025-05-04T08:29:38.280Z"
   },
   {
    "duration": 63,
    "start_time": "2025-05-04T08:29:38.319Z"
   },
   {
    "duration": 292,
    "start_time": "2025-05-04T08:29:38.383Z"
   },
   {
    "duration": 579,
    "start_time": "2025-05-04T08:29:38.677Z"
   },
   {
    "duration": 12,
    "start_time": "2025-05-04T08:29:39.261Z"
   },
   {
    "duration": 113,
    "start_time": "2025-05-04T08:29:39.275Z"
   },
   {
    "duration": 29,
    "start_time": "2025-05-04T08:29:39.390Z"
   },
   {
    "duration": 93,
    "start_time": "2025-05-04T08:29:39.421Z"
   },
   {
    "duration": 93,
    "start_time": "2025-05-04T08:29:39.516Z"
   },
   {
    "duration": 6,
    "start_time": "2025-05-04T08:29:39.610Z"
   },
   {
    "duration": 48,
    "start_time": "2025-05-04T08:29:39.618Z"
   },
   {
    "duration": 253,
    "start_time": "2025-05-04T08:29:39.667Z"
   },
   {
    "duration": 74,
    "start_time": "2025-05-04T08:29:39.921Z"
   },
   {
    "duration": 22,
    "start_time": "2025-05-04T08:29:39.996Z"
   },
   {
    "duration": 24,
    "start_time": "2025-05-04T08:29:40.020Z"
   },
   {
    "duration": 23,
    "start_time": "2025-05-04T08:29:40.045Z"
   },
   {
    "duration": 6,
    "start_time": "2025-05-04T08:29:40.070Z"
   },
   {
    "duration": 898,
    "start_time": "2025-05-04T08:29:40.078Z"
   },
   {
    "duration": 3,
    "start_time": "2025-05-04T08:29:40.978Z"
   },
   {
    "duration": 4,
    "start_time": "2025-05-04T08:29:40.983Z"
   },
   {
    "duration": 35,
    "start_time": "2025-05-04T08:29:40.989Z"
   },
   {
    "duration": 796,
    "start_time": "2025-05-04T08:29:41.026Z"
   },
   {
    "duration": 9,
    "start_time": "2025-05-04T08:29:41.824Z"
   },
   {
    "duration": 4,
    "start_time": "2025-05-04T08:29:41.838Z"
   },
   {
    "duration": 11,
    "start_time": "2025-05-04T08:29:41.860Z"
   },
   {
    "duration": 11,
    "start_time": "2025-05-04T08:29:41.873Z"
   },
   {
    "duration": 7,
    "start_time": "2025-05-04T08:29:41.885Z"
   },
   {
    "duration": 6,
    "start_time": "2025-05-04T08:29:41.894Z"
   },
   {
    "duration": 30,
    "start_time": "2025-05-04T08:29:41.901Z"
   },
   {
    "duration": 574,
    "start_time": "2025-05-04T08:29:41.933Z"
   },
   {
    "duration": 11,
    "start_time": "2025-05-04T08:29:42.509Z"
   },
   {
    "duration": 689,
    "start_time": "2025-05-04T08:29:42.522Z"
   },
   {
    "duration": 433,
    "start_time": "2025-05-04T08:29:43.212Z"
   },
   {
    "duration": 19,
    "start_time": "2025-05-04T08:29:43.646Z"
   },
   {
    "duration": 12,
    "start_time": "2025-05-04T08:29:43.666Z"
   },
   {
    "duration": 22,
    "start_time": "2025-05-04T08:29:43.679Z"
   },
   {
    "duration": 433,
    "start_time": "2025-05-04T08:29:43.703Z"
   },
   {
    "duration": 9,
    "start_time": "2025-05-04T10:01:56.482Z"
   },
   {
    "duration": 8,
    "start_time": "2025-05-04T10:04:11.500Z"
   },
   {
    "duration": 10,
    "start_time": "2025-05-04T10:06:56.692Z"
   },
   {
    "duration": 8,
    "start_time": "2025-05-04T10:11:15.021Z"
   },
   {
    "duration": 15591,
    "start_time": "2025-05-04T10:27:12.042Z"
   },
   {
    "duration": 1602,
    "start_time": "2025-05-04T10:27:27.635Z"
   },
   {
    "duration": 2155,
    "start_time": "2025-05-04T10:27:29.239Z"
   },
   {
    "duration": 31,
    "start_time": "2025-05-04T10:27:31.397Z"
   },
   {
    "duration": 105,
    "start_time": "2025-05-04T10:27:31.430Z"
   },
   {
    "duration": 101,
    "start_time": "2025-05-04T10:27:31.537Z"
   },
   {
    "duration": 114,
    "start_time": "2025-05-04T10:27:31.639Z"
   },
   {
    "duration": 9,
    "start_time": "2025-05-04T10:27:31.755Z"
   },
   {
    "duration": 72,
    "start_time": "2025-05-04T10:27:31.766Z"
   },
   {
    "duration": 8,
    "start_time": "2025-05-04T10:27:31.841Z"
   },
   {
    "duration": 30,
    "start_time": "2025-05-04T10:27:31.851Z"
   },
   {
    "duration": 27,
    "start_time": "2025-05-04T10:27:31.883Z"
   },
   {
    "duration": 18,
    "start_time": "2025-05-04T10:27:31.912Z"
   },
   {
    "duration": 58,
    "start_time": "2025-05-04T10:27:31.931Z"
   },
   {
    "duration": 72,
    "start_time": "2025-05-04T10:27:31.991Z"
   },
   {
    "duration": 23,
    "start_time": "2025-05-04T10:27:32.065Z"
   },
   {
    "duration": 77,
    "start_time": "2025-05-04T10:27:32.090Z"
   },
   {
    "duration": 218,
    "start_time": "2025-05-04T10:27:32.169Z"
   },
   {
    "duration": 20,
    "start_time": "2025-05-04T10:27:32.389Z"
   },
   {
    "duration": 9,
    "start_time": "2025-05-04T10:27:32.411Z"
   },
   {
    "duration": 27,
    "start_time": "2025-05-04T10:27:32.421Z"
   },
   {
    "duration": 17,
    "start_time": "2025-05-04T10:27:32.462Z"
   },
   {
    "duration": 92,
    "start_time": "2025-05-04T10:27:32.481Z"
   },
   {
    "duration": 20,
    "start_time": "2025-05-04T10:27:32.575Z"
   },
   {
    "duration": 83,
    "start_time": "2025-05-04T10:27:32.597Z"
   },
   {
    "duration": 88,
    "start_time": "2025-05-04T10:27:32.682Z"
   },
   {
    "duration": 18,
    "start_time": "2025-05-04T10:27:32.772Z"
   },
   {
    "duration": 250,
    "start_time": "2025-05-04T10:27:32.794Z"
   },
   {
    "duration": 10,
    "start_time": "2025-05-04T10:27:33.046Z"
   },
   {
    "duration": 126,
    "start_time": "2025-05-04T10:27:33.057Z"
   },
   {
    "duration": 9,
    "start_time": "2025-05-04T10:27:33.184Z"
   },
   {
    "duration": 604,
    "start_time": "2025-05-04T10:27:33.195Z"
   },
   {
    "duration": 4,
    "start_time": "2025-05-04T10:27:33.802Z"
   },
   {
    "duration": 185,
    "start_time": "2025-05-04T10:27:33.808Z"
   },
   {
    "duration": 36,
    "start_time": "2025-05-04T10:27:33.995Z"
   },
   {
    "duration": 36,
    "start_time": "2025-05-04T10:27:34.034Z"
   },
   {
    "duration": 24,
    "start_time": "2025-05-04T10:27:34.072Z"
   },
   {
    "duration": 365,
    "start_time": "2025-05-04T10:27:34.098Z"
   },
   {
    "duration": 10,
    "start_time": "2025-05-04T10:27:34.465Z"
   },
   {
    "duration": 476,
    "start_time": "2025-05-04T10:27:34.477Z"
   },
   {
    "duration": 171,
    "start_time": "2025-05-04T10:27:34.955Z"
   },
   {
    "duration": 65,
    "start_time": "2025-05-04T10:27:35.127Z"
   },
   {
    "duration": 42,
    "start_time": "2025-05-04T10:27:35.194Z"
   },
   {
    "duration": 275,
    "start_time": "2025-05-04T10:27:35.238Z"
   },
   {
    "duration": 366,
    "start_time": "2025-05-04T10:27:35.515Z"
   },
   {
    "duration": 679,
    "start_time": "2025-05-04T10:27:35.884Z"
   },
   {
    "duration": 11,
    "start_time": "2025-05-04T10:27:36.565Z"
   },
   {
    "duration": 96,
    "start_time": "2025-05-04T10:27:36.578Z"
   },
   {
    "duration": 38,
    "start_time": "2025-05-04T10:27:36.675Z"
   },
   {
    "duration": 287,
    "start_time": "2025-05-04T10:27:36.715Z"
   },
   {
    "duration": 182,
    "start_time": "2025-05-04T10:27:37.004Z"
   },
   {
    "duration": 6,
    "start_time": "2025-05-04T10:27:37.188Z"
   },
   {
    "duration": 24,
    "start_time": "2025-05-04T10:27:37.196Z"
   },
   {
    "duration": 216,
    "start_time": "2025-05-04T10:27:37.221Z"
   },
   {
    "duration": 3,
    "start_time": "2025-05-04T10:27:37.440Z"
   },
   {
    "duration": 36,
    "start_time": "2025-05-04T10:27:37.447Z"
   },
   {
    "duration": 40,
    "start_time": "2025-05-04T10:27:37.486Z"
   },
   {
    "duration": 16,
    "start_time": "2025-05-04T10:27:37.529Z"
   },
   {
    "duration": 20,
    "start_time": "2025-05-04T10:27:37.547Z"
   },
   {
    "duration": 51,
    "start_time": "2025-05-04T10:27:37.569Z"
   },
   {
    "duration": 365,
    "start_time": "2025-05-04T10:27:37.622Z"
   },
   {
    "duration": 581,
    "start_time": "2025-05-04T10:27:37.989Z"
   },
   {
    "duration": 13,
    "start_time": "2025-05-04T10:27:38.572Z"
   },
   {
    "duration": 116,
    "start_time": "2025-05-04T10:27:38.587Z"
   },
   {
    "duration": 27,
    "start_time": "2025-05-04T10:27:38.706Z"
   },
   {
    "duration": 96,
    "start_time": "2025-05-04T10:27:38.735Z"
   },
   {
    "duration": 99,
    "start_time": "2025-05-04T10:27:38.834Z"
   },
   {
    "duration": 6,
    "start_time": "2025-05-04T10:27:38.935Z"
   },
   {
    "duration": 45,
    "start_time": "2025-05-04T10:27:38.943Z"
   },
   {
    "duration": 254,
    "start_time": "2025-05-04T10:27:38.991Z"
   },
   {
    "duration": 78,
    "start_time": "2025-05-04T10:27:39.247Z"
   },
   {
    "duration": 68,
    "start_time": "2025-05-04T10:27:39.328Z"
   },
   {
    "duration": 29,
    "start_time": "2025-05-04T10:27:39.398Z"
   },
   {
    "duration": 13,
    "start_time": "2025-05-04T10:27:39.429Z"
   },
   {
    "duration": 18,
    "start_time": "2025-05-04T10:27:39.444Z"
   },
   {
    "duration": 923,
    "start_time": "2025-05-04T10:27:39.464Z"
   },
   {
    "duration": 3,
    "start_time": "2025-05-04T10:27:40.389Z"
   },
   {
    "duration": 13,
    "start_time": "2025-05-04T10:27:40.394Z"
   },
   {
    "duration": 38,
    "start_time": "2025-05-04T10:27:40.408Z"
   },
   {
    "duration": 789,
    "start_time": "2025-05-04T10:27:40.448Z"
   },
   {
    "duration": 8,
    "start_time": "2025-05-04T10:27:41.239Z"
   },
   {
    "duration": 104,
    "start_time": "2025-05-04T10:27:41.261Z"
   },
   {
    "duration": 4,
    "start_time": "2025-05-04T10:27:41.367Z"
   },
   {
    "duration": 20,
    "start_time": "2025-05-04T10:27:41.372Z"
   },
   {
    "duration": 5,
    "start_time": "2025-05-04T10:27:41.393Z"
   },
   {
    "duration": 6,
    "start_time": "2025-05-04T10:27:41.400Z"
   },
   {
    "duration": 11,
    "start_time": "2025-05-04T10:27:41.408Z"
   },
   {
    "duration": 11,
    "start_time": "2025-05-04T10:27:41.421Z"
   },
   {
    "duration": 576,
    "start_time": "2025-05-04T10:27:41.434Z"
   },
   {
    "duration": 11,
    "start_time": "2025-05-04T10:27:42.011Z"
   },
   {
    "duration": 584,
    "start_time": "2025-05-04T10:27:42.024Z"
   },
   {
    "duration": 437,
    "start_time": "2025-05-04T10:27:42.610Z"
   },
   {
    "duration": 17,
    "start_time": "2025-05-04T10:27:43.049Z"
   },
   {
    "duration": 173,
    "start_time": "2025-05-04T10:27:43.068Z"
   },
   {
    "duration": 130,
    "start_time": "2025-05-04T10:27:43.243Z"
   },
   {
    "duration": 387,
    "start_time": "2025-05-04T10:27:43.375Z"
   },
   {
    "duration": 34288,
    "start_time": "2025-05-05T08:28:57.383Z"
   },
   {
    "duration": 1632,
    "start_time": "2025-05-05T08:29:31.674Z"
   },
   {
    "duration": 1890,
    "start_time": "2025-05-05T08:29:33.308Z"
   },
   {
    "duration": 36,
    "start_time": "2025-05-05T08:29:35.201Z"
   },
   {
    "duration": 138,
    "start_time": "2025-05-05T08:29:35.238Z"
   },
   {
    "duration": 97,
    "start_time": "2025-05-05T08:29:35.377Z"
   },
   {
    "duration": 102,
    "start_time": "2025-05-05T08:29:35.476Z"
   },
   {
    "duration": 4,
    "start_time": "2025-05-05T08:29:35.580Z"
   },
   {
    "duration": 155,
    "start_time": "2025-05-05T08:29:35.586Z"
   },
   {
    "duration": 9,
    "start_time": "2025-05-05T08:29:35.744Z"
   },
   {
    "duration": 102,
    "start_time": "2025-05-05T08:29:35.754Z"
   },
   {
    "duration": 23,
    "start_time": "2025-05-05T08:29:35.858Z"
   },
   {
    "duration": 44,
    "start_time": "2025-05-05T08:29:35.883Z"
   },
   {
    "duration": 32,
    "start_time": "2025-05-05T08:29:35.929Z"
   },
   {
    "duration": 110,
    "start_time": "2025-05-05T08:29:35.962Z"
   },
   {
    "duration": 21,
    "start_time": "2025-05-05T08:29:36.073Z"
   },
   {
    "duration": 107,
    "start_time": "2025-05-05T08:29:36.096Z"
   },
   {
    "duration": 36,
    "start_time": "2025-05-05T08:29:36.205Z"
   },
   {
    "duration": 20,
    "start_time": "2025-05-05T08:29:36.243Z"
   },
   {
    "duration": 46,
    "start_time": "2025-05-05T08:29:36.264Z"
   },
   {
    "duration": 40,
    "start_time": "2025-05-05T08:29:36.313Z"
   },
   {
    "duration": 66,
    "start_time": "2025-05-05T08:29:36.355Z"
   },
   {
    "duration": 141,
    "start_time": "2025-05-05T08:29:36.423Z"
   },
   {
    "duration": 13,
    "start_time": "2025-05-05T08:29:36.566Z"
   },
   {
    "duration": 58,
    "start_time": "2025-05-05T08:29:36.581Z"
   },
   {
    "duration": 41,
    "start_time": "2025-05-05T08:29:36.642Z"
   },
   {
    "duration": 49,
    "start_time": "2025-05-05T08:29:36.684Z"
   },
   {
    "duration": 188,
    "start_time": "2025-05-05T08:29:36.738Z"
   },
   {
    "duration": 14,
    "start_time": "2025-05-05T08:29:36.928Z"
   },
   {
    "duration": 150,
    "start_time": "2025-05-05T08:29:36.944Z"
   },
   {
    "duration": 204,
    "start_time": "2025-05-05T08:29:37.096Z"
   },
   {
    "duration": 609,
    "start_time": "2025-05-05T08:29:37.302Z"
   },
   {
    "duration": 4,
    "start_time": "2025-05-05T08:29:37.913Z"
   },
   {
    "duration": 182,
    "start_time": "2025-05-05T08:29:37.919Z"
   },
   {
    "duration": 39,
    "start_time": "2025-05-05T08:29:38.103Z"
   },
   {
    "duration": 14,
    "start_time": "2025-05-05T08:29:38.144Z"
   },
   {
    "duration": 33,
    "start_time": "2025-05-05T08:29:38.160Z"
   },
   {
    "duration": 412,
    "start_time": "2025-05-05T08:29:38.195Z"
   },
   {
    "duration": 10,
    "start_time": "2025-05-05T08:29:38.609Z"
   },
   {
    "duration": 462,
    "start_time": "2025-05-05T08:29:38.621Z"
   },
   {
    "duration": 151,
    "start_time": "2025-05-05T08:29:39.085Z"
   },
   {
    "duration": 56,
    "start_time": "2025-05-05T08:29:39.238Z"
   },
   {
    "duration": 55,
    "start_time": "2025-05-05T08:29:39.295Z"
   },
   {
    "duration": 305,
    "start_time": "2025-05-05T08:29:39.352Z"
   },
   {
    "duration": 291,
    "start_time": "2025-05-05T08:29:39.658Z"
   },
   {
    "duration": 657,
    "start_time": "2025-05-05T08:29:39.950Z"
   },
   {
    "duration": 10,
    "start_time": "2025-05-05T08:29:40.609Z"
   },
   {
    "duration": 88,
    "start_time": "2025-05-05T08:29:40.621Z"
   },
   {
    "duration": 39,
    "start_time": "2025-05-05T08:29:40.711Z"
   },
   {
    "duration": 232,
    "start_time": "2025-05-05T08:29:40.752Z"
   },
   {
    "duration": 151,
    "start_time": "2025-05-05T08:29:40.986Z"
   },
   {
    "duration": 6,
    "start_time": "2025-05-05T08:29:41.139Z"
   },
   {
    "duration": 104,
    "start_time": "2025-05-05T08:29:41.146Z"
   },
   {
    "duration": 29,
    "start_time": "2025-05-05T08:29:41.251Z"
   },
   {
    "duration": 4,
    "start_time": "2025-05-05T08:29:41.282Z"
   },
   {
    "duration": 15,
    "start_time": "2025-05-05T08:29:41.287Z"
   },
   {
    "duration": 34,
    "start_time": "2025-05-05T08:29:41.304Z"
   },
   {
    "duration": 3,
    "start_time": "2025-05-05T08:29:41.341Z"
   },
   {
    "duration": 38,
    "start_time": "2025-05-05T08:29:41.346Z"
   },
   {
    "duration": 57,
    "start_time": "2025-05-05T08:29:41.386Z"
   },
   {
    "duration": 282,
    "start_time": "2025-05-05T08:29:41.445Z"
   },
   {
    "duration": 549,
    "start_time": "2025-05-05T08:29:41.729Z"
   },
   {
    "duration": 11,
    "start_time": "2025-05-05T08:29:42.280Z"
   },
   {
    "duration": 151,
    "start_time": "2025-05-05T08:29:42.293Z"
   },
   {
    "duration": 27,
    "start_time": "2025-05-05T08:29:42.446Z"
   },
   {
    "duration": 86,
    "start_time": "2025-05-05T08:29:42.475Z"
   },
   {
    "duration": 89,
    "start_time": "2025-05-05T08:29:42.562Z"
   },
   {
    "duration": 5,
    "start_time": "2025-05-05T08:29:42.653Z"
   },
   {
    "duration": 48,
    "start_time": "2025-05-05T08:29:42.660Z"
   },
   {
    "duration": 245,
    "start_time": "2025-05-05T08:29:42.709Z"
   },
   {
    "duration": 59,
    "start_time": "2025-05-05T08:29:42.955Z"
   },
   {
    "duration": 38,
    "start_time": "2025-05-05T08:29:43.016Z"
   },
   {
    "duration": 24,
    "start_time": "2025-05-05T08:29:43.055Z"
   },
   {
    "duration": 10,
    "start_time": "2025-05-05T08:29:43.080Z"
   },
   {
    "duration": 6,
    "start_time": "2025-05-05T08:29:43.091Z"
   },
   {
    "duration": 949,
    "start_time": "2025-05-05T08:29:43.099Z"
   },
   {
    "duration": 4,
    "start_time": "2025-05-05T08:29:44.049Z"
   },
   {
    "duration": 6,
    "start_time": "2025-05-05T08:29:44.054Z"
   },
   {
    "duration": 27,
    "start_time": "2025-05-05T08:29:44.062Z"
   },
   {
    "duration": 827,
    "start_time": "2025-05-05T08:29:44.091Z"
   },
   {
    "duration": 8,
    "start_time": "2025-05-05T08:29:44.920Z"
   },
   {
    "duration": 8,
    "start_time": "2025-05-05T08:29:44.941Z"
   },
   {
    "duration": 8,
    "start_time": "2025-05-05T08:29:44.951Z"
   },
   {
    "duration": 19,
    "start_time": "2025-05-05T08:29:44.961Z"
   },
   {
    "duration": 4,
    "start_time": "2025-05-05T08:29:44.982Z"
   },
   {
    "duration": 8,
    "start_time": "2025-05-05T08:29:44.988Z"
   },
   {
    "duration": 8,
    "start_time": "2025-05-05T08:29:44.997Z"
   },
   {
    "duration": 52,
    "start_time": "2025-05-05T08:29:45.006Z"
   },
   {
    "duration": 529,
    "start_time": "2025-05-05T08:29:45.060Z"
   },
   {
    "duration": 11,
    "start_time": "2025-05-05T08:29:45.591Z"
   },
   {
    "duration": 580,
    "start_time": "2025-05-05T08:29:45.604Z"
   },
   {
    "duration": 434,
    "start_time": "2025-05-05T08:29:46.185Z"
   },
   {
    "duration": 17,
    "start_time": "2025-05-05T08:29:46.621Z"
   },
   {
    "duration": 13,
    "start_time": "2025-05-05T08:29:46.640Z"
   },
   {
    "duration": 20,
    "start_time": "2025-05-05T08:29:46.655Z"
   },
   {
    "duration": 361,
    "start_time": "2025-05-05T08:29:46.676Z"
   }
  ],
  "colab": {
   "provenance": []
  },
  "kernelspec": {
   "display_name": "Python 3 (ipykernel)",
   "language": "python",
   "name": "python3"
  },
  "language_info": {
   "codemirror_mode": {
    "name": "ipython",
    "version": 3
   },
   "file_extension": ".py",
   "mimetype": "text/x-python",
   "name": "python",
   "nbconvert_exporter": "python",
   "pygments_lexer": "ipython3",
   "version": "3.10.4"
  },
  "toc": {
   "base_numbering": 1,
   "nav_menu": {},
   "number_sections": true,
   "sideBar": true,
   "skip_h1_title": true,
   "title_cell": "Table of Contents",
   "title_sidebar": "Contents",
   "toc_cell": false,
   "toc_position": {
    "height": "calc(100% - 180px)",
    "left": "10px",
    "top": "150px",
    "width": "384px"
   },
   "toc_section_display": true,
   "toc_window_display": true
  }
 },
 "nbformat": 4,
 "nbformat_minor": 4
}

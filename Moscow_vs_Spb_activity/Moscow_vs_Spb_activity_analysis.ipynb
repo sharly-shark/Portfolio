{
 "cells": [
  {
   "cell_type": "markdown",
   "id": "e06910dd",
   "metadata": {
    "id": "e06910dd"
   },
   "source": [
    "# Проект: Проверка гипотезы о различии времени активности пользователей из Москвы и Санкт-Петербурга\n",
    "\n",
    "- Автор: Елагина Ксения"
   ]
  },
  {
   "cell_type": "markdown",
   "id": "d8b2b2d7-0a72-4b30-b6e2-83a9e6942d4d",
   "metadata": {},
   "source": [
    "## Введение"
   ]
  },
  {
   "cell_type": "markdown",
   "id": "4149134c",
   "metadata": {
    "id": "4149134c"
   },
   "source": [
    "### Цели и задачи проекта\n",
    "\n",
    "**Цель проекта:**\n",
    "Проверить гипотезу о том, что пользователи из Санкт-Петербурга проводят больше времени за чтением и прослушиванием книг в приложении Яндекс Книги, чем пользователи из Москвы.\n",
    "\n",
    "**Задачи проекта:**\n",
    "\n",
    "- Загрузить и предобработать данные.\n",
    "- Проверить наличие дубликатов.\n",
    "- Рассчитать основные статистические показатели для каждой группы пользователей.\n",
    "- Провести проверку гипотезы.\n",
    "- Сделать выводы."
   ]
  },
  {
   "cell_type": "markdown",
   "id": "6f7d21d6",
   "metadata": {
    "id": "6f7d21d6"
   },
   "source": [
    "## Загрузка данных и знакомство с ними\n"
   ]
  },
  {
   "cell_type": "code",
   "execution_count": 1,
   "id": "f68a7419",
   "metadata": {
    "id": "f68a7419"
   },
   "outputs": [],
   "source": [
    "# Импортируем библиотеки\n",
    "import pandas as pd\n",
    "from scipy import stats as st\n",
    "from statsmodels.stats.power import NormalIndPower\n",
    "from statsmodels.stats.proportion import proportion_effectsize"
   ]
  },
  {
   "cell_type": "code",
   "execution_count": 2,
   "id": "f1a5aaf3-a7d6-4b88-94cf-debee815589f",
   "metadata": {},
   "outputs": [],
   "source": [
    "# Выгружаем данные\n",
    "df = pd.read_csv('/datasets/yandex_knigi_data.csv')"
   ]
  },
  {
   "cell_type": "code",
   "execution_count": 3,
   "id": "41a01e64-a710-4709-9bc8-3629d6f93325",
   "metadata": {},
   "outputs": [
    {
     "name": "stdout",
     "output_type": "stream",
     "text": [
      "<class 'pandas.core.frame.DataFrame'>\n",
      "RangeIndex: 8784 entries, 0 to 8783\n",
      "Data columns (total 4 columns):\n",
      " #   Column      Non-Null Count  Dtype  \n",
      "---  ------      --------------  -----  \n",
      " 0   Unnamed: 0  8784 non-null   int64  \n",
      " 1   city        8784 non-null   object \n",
      " 2   puid        8784 non-null   int64  \n",
      " 3   hours       8784 non-null   float64\n",
      "dtypes: float64(1), int64(2), object(1)\n",
      "memory usage: 274.6+ KB\n"
     ]
    }
   ],
   "source": [
    "# Выведем информацию о датафрейме:\n",
    "df.info()"
   ]
  },
  {
   "cell_type": "markdown",
   "id": "29449f3f-832b-4441-9afc-8b7ded760aa0",
   "metadata": {},
   "source": [
    "Проверим наличие дубликатов в идентификаторах пользователей. Сравним размеры групп, их статистики и распределение.\n"
   ]
  },
  {
   "cell_type": "code",
   "execution_count": 4,
   "id": "5324d741-9b52-42ba-a5b2-6115a0bb2814",
   "metadata": {},
   "outputs": [
    {
     "data": {
      "text/plain": [
       "244"
      ]
     },
     "execution_count": 4,
     "metadata": {},
     "output_type": "execute_result"
    }
   ],
   "source": [
    "# Найдем количество дубликатов в идентификаторах пользователей\n",
    "df['puid'].duplicated().sum()"
   ]
  },
  {
   "cell_type": "code",
   "execution_count": 5,
   "id": "1cb1149f-9812-4969-90a6-5bc2af7164f6",
   "metadata": {},
   "outputs": [
    {
     "data": {
      "text/plain": [
       "0"
      ]
     },
     "execution_count": 5,
     "metadata": {},
     "output_type": "execute_result"
    }
   ],
   "source": [
    "# Удалим дубликаты\n",
    "df_unique = df.drop_duplicates(subset='puid', keep=False)\n",
    "\n",
    "# Проверим удаление\n",
    "df_unique['puid'].duplicated().sum()"
   ]
  },
  {
   "cell_type": "markdown",
   "id": "71bd3759",
   "metadata": {},
   "source": [
    "Датасет df содержит 8784 столбца и 4 строки, в которых представлена информация о пользователях приложения Яндекс Книги из Москвы и Санкт-Петербурга.\n",
    "\n",
    "После первичного анализа данных можно сделать следующие выводы:\n",
    "\n",
    "- Столбец `Unnamed: 0` содержит в себе индексы, которые и так есть в таблице, поэтому этот столбец можно удалить. Тем более название столбца непонятно и неинформативно.\n",
    "- Данные полные, пропусков нет.\n",
    "- Типы данных соответствуют.\n",
    "- В столбце с идентификаторами пользователей было найдено 244 дубликата. Возможно, они возникли из-за того, что юзеры пользовались сервисом в разных городах. Эти дубликаты были удалены."
   ]
  },
  {
   "cell_type": "code",
   "execution_count": 6,
   "id": "3bca7534-fd98-4e4f-94e3-3493e32cdec7",
   "metadata": {},
   "outputs": [
    {
     "name": "stdout",
     "output_type": "stream",
     "text": [
      "<class 'pandas.core.frame.DataFrame'>\n",
      "Index: 5990 entries, 0 to 6233\n",
      "Data columns (total 4 columns):\n",
      " #   Column      Non-Null Count  Dtype  \n",
      "---  ------      --------------  -----  \n",
      " 0   Unnamed: 0  5990 non-null   int64  \n",
      " 1   city        5990 non-null   object \n",
      " 2   puid        5990 non-null   int64  \n",
      " 3   hours       5990 non-null   float64\n",
      "dtypes: float64(1), int64(2), object(1)\n",
      "memory usage: 234.0+ KB\n"
     ]
    }
   ],
   "source": [
    "# Создадим 2 таблицы с данными о Москве и СПБ, чтобы их сравнить\n",
    "df_msc = df_unique[df_unique['city']=='Москва']\n",
    "df_msc.info()"
   ]
  },
  {
   "cell_type": "code",
   "execution_count": 7,
   "id": "6ea50e18-95c2-409a-bef4-6e09f0fa0d48",
   "metadata": {},
   "outputs": [
    {
     "name": "stdout",
     "output_type": "stream",
     "text": [
      "<class 'pandas.core.frame.DataFrame'>\n",
      "Index: 2306 entries, 6234 to 8783\n",
      "Data columns (total 4 columns):\n",
      " #   Column      Non-Null Count  Dtype  \n",
      "---  ------      --------------  -----  \n",
      " 0   Unnamed: 0  2306 non-null   int64  \n",
      " 1   city        2306 non-null   object \n",
      " 2   puid        2306 non-null   int64  \n",
      " 3   hours       2306 non-null   float64\n",
      "dtypes: float64(1), int64(2), object(1)\n",
      "memory usage: 90.1+ KB\n"
     ]
    }
   ],
   "source": [
    "df_spb = df_unique[df_unique['city']=='Санкт-Петербург']\n",
    "df_spb.info()"
   ]
  },
  {
   "cell_type": "markdown",
   "id": "4b565269-ab3e-4999-a7e0-e9318e235d74",
   "metadata": {},
   "source": [
    "Пользователей из Москвы намного больше, чем из Санкт-Петербурга (5990 из Москвы и 2306 из СПб)."
   ]
  },
  {
   "cell_type": "markdown",
   "id": "956e82e2",
   "metadata": {
    "id": "956e82e2"
   },
   "source": [
    "## Проверка гипотезы в Python\n",
    "\n",
    "Попробуем статистически доказать гипотезу.\n",
    "\n",
    "- **Нулевая гипотеза H₀**: средняя активность пользователей из Москвы и Санкт-Петербурга не различается.\n",
    "\n",
    "- **Альтернативная гипотеза H₁**: пользователи из Санкт-Петербурга проводят в среднем больше времени за чтением и прослушиванием книг в приложении, чем пользователи из Москвы, и это различие статистически значимо."
   ]
  },
  {
   "cell_type": "markdown",
   "id": "8edadac4",
   "metadata": {},
   "source": [
    "Расчитаем необходимый размер выборки с помощью калькулятора. Возьмем за базовый уровень - 10%, а mde - 3%.\n",
    "\n",
    "https://www.evanmiller.org/ab-testing/sample-size.html#!10;80;5;3;0\n",
    "\n",
    "Соответственно, необходимый размер групп равен 1629 человек. В обеих группах взято большее количество пользователей, поэтому можно проводить статистический тест."
   ]
  },
  {
   "cell_type": "markdown",
   "id": "a9c6f3fd-c074-4136-91ad-ac2683c5d85c",
   "metadata": {},
   "source": [
    "Рассмотрим статистику рассматриваемой метрики для каждой группы:"
   ]
  },
  {
   "cell_type": "code",
   "execution_count": 8,
   "id": "854e5a7e-d8e7-4a22-988a-c4a4f7297f7a",
   "metadata": {},
   "outputs": [
    {
     "data": {
      "text/plain": [
       "count    5990.000000\n",
       "mean       10.848192\n",
       "std        36.925622\n",
       "min         0.000022\n",
       "25%         0.057042\n",
       "50%         0.888232\n",
       "75%         5.933439\n",
       "99%       154.688119\n",
       "max       857.209373\n",
       "Name: hours, dtype: float64"
      ]
     },
     "execution_count": 8,
     "metadata": {},
     "output_type": "execute_result"
    }
   ],
   "source": [
    "df_msc['hours'].describe(percentiles=[0.25, 0.75, 0.99])"
   ]
  },
  {
   "cell_type": "code",
   "execution_count": 9,
   "id": "27b1c478-1445-422d-bcc9-4a57738cd4e4",
   "metadata": {},
   "outputs": [
    {
     "data": {
      "text/plain": [
       "count    2306.000000\n",
       "mean       11.264433\n",
       "std        39.831755\n",
       "min         0.000025\n",
       "25%         0.060173\n",
       "50%         0.875355\n",
       "75%         6.138424\n",
       "99%       146.847159\n",
       "max       978.764775\n",
       "Name: hours, dtype: float64"
      ]
     },
     "execution_count": 9,
     "metadata": {},
     "output_type": "execute_result"
    }
   ],
   "source": [
    "df_spb['hours'].describe(percentiles=[0.25, 0.75, 0.99])"
   ]
  },
  {
   "cell_type": "markdown",
   "id": "89ae3925-5deb-4111-af50-cf3bdaa3c0a7",
   "metadata": {},
   "source": [
    "Описание статистики показывает, что у обеих групп ненормальное распределение значений: среднее сильно отличается от медианы (у Москвы медиана равняется 10.8 часов, среднее - 0.9 ч, а у СПб 11.3ч и 0.9ч соответственно). Также можно увидеть большое количество выбросов у данных: 99 перцентили имеют невысокие значения по сравнению с максимальным (у Москвы 99% равен 154.7ч, макс - 857.2ч, у СПб - 146.8ч и 978.8ч соответственно)."
   ]
  },
  {
   "cell_type": "markdown",
   "id": "66f4fdfa-6d86-4000-b2cf-cc2ddb4638d3",
   "metadata": {},
   "source": [
    "Для того, чтобы решить, какой применить т-тест, проверим распределение данных у обеих групп с помощью теста Шапиро–Уилка.\n",
    "\n",
    "**Нулевая гипотеза** - данные распределены нормально\n",
    "\n",
    "**Альтернативная гипотеза** - данные не нормальны"
   ]
  },
  {
   "cell_type": "code",
   "execution_count": 10,
   "id": "60c8b8be-0cd9-4d01-88fe-96b091366a28",
   "metadata": {},
   "outputs": [
    {
     "name": "stdout",
     "output_type": "stream",
     "text": [
      "p-value статистики Шапиро-Уилка =0.0\n",
      "Данные группы Москвы распределены ненормально.\n"
     ]
    },
    {
     "name": "stderr",
     "output_type": "stream",
     "text": [
      "D:\\dd\\Python\\Python310\\lib\\site-packages\\scipy\\stats\\_morestats.py:1882: UserWarning: p-value may not be accurate for N > 5000.\n",
      "  warnings.warn(\"p-value may not be accurate for N > 5000.\")\n"
     ]
    }
   ],
   "source": [
    "from scipy.stats import shapiro\n",
    "\n",
    "# уровень значимости\n",
    "alpha = 0.05\n",
    "\n",
    "# проведем тест на данных Москвы\n",
    "stat, p_value = shapiro(df_msc['hours'])\n",
    "\n",
    "if p_value>alpha:\n",
    "    print(f'p-value статистики Шапиро-Уилка = {p_value}')\n",
    "    print('Распределение группы Москвы можно считать нормальным.')\n",
    "else:\n",
    "    print(f'p-value статистики Шапиро-Уилка ={p_value}')\n",
    "    print('Данные группы Москвы распределены ненормально.')"
   ]
  },
  {
   "cell_type": "code",
   "execution_count": 11,
   "id": "c265e5ee-b197-4de4-b826-c67d39c352ca",
   "metadata": {},
   "outputs": [
    {
     "name": "stdout",
     "output_type": "stream",
     "text": [
      "p-value статистики Шапиро-Уилка =0.0\n",
      "Данные группы Спб распределены ненормально.\n"
     ]
    }
   ],
   "source": [
    "# проведем тест на данных СПб\n",
    "stat, p_value = shapiro(df_spb['hours'])\n",
    "\n",
    "if p_value>alpha:\n",
    "    print(f'p-value статистики Шапиро-Уилка = {p_value}')\n",
    "    print('Распределение группы СПБ можно считать нормальным.')\n",
    "else:\n",
    "    print(f'p-value статистики Шапиро-Уилка ={p_value}')\n",
    "    print('Данные группы Спб распределены ненормально.')"
   ]
  },
  {
   "cell_type": "markdown",
   "id": "97731f1f-d033-4f9f-b4b5-b7dacbc0eaab",
   "metadata": {},
   "source": [
    "У обеих групп распределение ненормальное, есть выбросы, поэтому необходимо провести статистический тест Уэлча."
   ]
  },
  {
   "cell_type": "code",
   "execution_count": 12,
   "id": "2bbc3bed-e3c5-4e72-a963-290455fde154",
   "metadata": {},
   "outputs": [],
   "source": [
    "# выберем целевые метрики\n",
    "metric_a = df_msc['hours']\n",
    "metric_b = df_spb['hours']"
   ]
  },
  {
   "cell_type": "code",
   "execution_count": 13,
   "id": "67956690",
   "metadata": {
    "id": "67956690"
   },
   "outputs": [
    {
     "name": "stdout",
     "output_type": "stream",
     "text": [
      "p-value теста Уэлча = 0.33\n",
      "Нулевая гипотеза находит подтверждение! Выборочные средние в группах A и B равны\n",
      "Средняя активность пользователей в обеих выборках не различается\n"
     ]
    }
   ],
   "source": [
    "from scipy.stats import ttest_ind\n",
    "\n",
    "# уровень значимости\n",
    "alpha = 0.05\n",
    "\n",
    "# проведем тест Уэлча\n",
    "stat_welch_ttest, p_value_welch_ttest = ttest_ind(metric_a,\n",
    "                       metric_b,\n",
    "                       alternative = 'less',\n",
    "                       equal_var=False\n",
    "                      )\n",
    "if p_value_welch_ttest>alpha:\n",
    "    print(f'p-value теста Уэлча = {round(p_value_welch_ttest, 2)}')\n",
    "    print('Нулевая гипотеза находит подтверждение! Выборочные средние в группах A и B равны')\n",
    "    print('Средняя активность пользователей в обеих выборках не различается')\n",
    "else:\n",
    "    print(f'p-value теста Уэлча = {round(p_value_welch_ttest, 2)}')\n",
    "    print('Нулевая гипотеза не находит подтверждения! Выборочные средние в группах A и B не равны, и в группе B больше')\n",
    "    print('Средняя активность пользователей в обеих выборках различается')"
   ]
  },
  {
   "cell_type": "markdown",
   "id": "6953e84c",
   "metadata": {
    "id": "6953e84c"
   },
   "source": [
    "## Аналитическая записка"
   ]
  },
  {
   "cell_type": "markdown",
   "id": "531715ea-1fec-472b-b1dc-23b7a4ac671a",
   "metadata": {},
   "source": [
    "**Выбранный тип теста и уровень статистической значимости:**\n",
    "\n",
    "Для проверки гипотезы был выбран односторонний t-тест Уэлча для независимых выборок с параметром alternative = 'less'. Это соответствует проверке гипотезы:\n",
    "\n",
    "**Нулевая гипотеза (H₀)**: среднее время активности пользователей из Москвы больше или равно среднему времени активности пользователей из Санкт-Петербурга.\n",
    "\n",
    "**Альтернативная гипотеза (H₁)**: среднее время активности пользователей из Москвы меньше, чем у пользователей из Санкт-Петербурга.\n",
    "\n",
    "Уровень статистической значимости был выбран стандартный — 0.05.\n",
    "\n",
    "**Результаты теста:**\n",
    "\n",
    "p-value теста Уэлча = 0.33\n",
    "\n",
    "**Вывод и интерпретация результатов:**\n",
    "\n",
    "Полученное значение p-value значительно превышает выбранный уровень значимости (0.33 > 0.05), поэтому нет оснований отклонить нулевую гипотезу. Это значит, что в выборках пользователей из Москвы и Санкт-Петербурга нет статистически значимых различий в среднем времени активности в приложении.\n",
    "\n",
    "**Возможные объяснения полученных результатов:**\n",
    "\n",
    "Поведение пользователей в обеих городах может быть схожим: аудитория Яндекс Книг в крупных городах показывает одинаковую вовлечённость независимо от региона.\n",
    "\n",
    "Возможно, разница между группами существует, но она слишком мала, чтобы быть обнаруженной на имеющемся объёме данных или при текущем уровне разброса значений.\n",
    "\n",
    "**Рекомендации:**\n",
    "- Считать пользовательскую активность в Москве и Санкт-Петербурге статистически одинаковой при дальнейшем анализе и сегментации.  \n",
    "- Для выявления более тонких различий рассмотреть расширение выборки и дополнительное исследование факторов, влияющих на время активности (например, возраст, устройство, жанры контента).  "
   ]
  }
 ],
 "metadata": {
  "ExecuteTimeLog": [
   {
    "duration": 1262,
    "start_time": "2025-07-11T19:19:33.556Z"
   },
   {
    "duration": 205,
    "start_time": "2025-07-11T19:19:34.820Z"
   },
   {
    "duration": 0,
    "start_time": "2025-07-11T19:19:35.028Z"
   },
   {
    "duration": 0,
    "start_time": "2025-07-11T19:19:35.030Z"
   },
   {
    "duration": 0,
    "start_time": "2025-07-11T19:19:35.031Z"
   },
   {
    "duration": 0,
    "start_time": "2025-07-11T19:19:35.033Z"
   },
   {
    "duration": 0,
    "start_time": "2025-07-11T19:19:35.035Z"
   },
   {
    "duration": 0,
    "start_time": "2025-07-11T19:19:35.036Z"
   },
   {
    "duration": 0,
    "start_time": "2025-07-11T19:19:35.038Z"
   },
   {
    "duration": 0,
    "start_time": "2025-07-11T19:19:35.039Z"
   },
   {
    "duration": 0,
    "start_time": "2025-07-11T19:19:35.041Z"
   },
   {
    "duration": 0,
    "start_time": "2025-07-11T19:19:35.042Z"
   },
   {
    "duration": 0,
    "start_time": "2025-07-11T19:19:35.044Z"
   },
   {
    "duration": 0,
    "start_time": "2025-07-11T19:19:35.045Z"
   },
   {
    "duration": 0,
    "start_time": "2025-07-11T19:19:35.047Z"
   },
   {
    "duration": 0,
    "start_time": "2025-07-11T19:19:35.048Z"
   },
   {
    "duration": 0,
    "start_time": "2025-07-11T19:19:35.077Z"
   },
   {
    "duration": 0,
    "start_time": "2025-07-11T19:19:35.079Z"
   },
   {
    "duration": 0,
    "start_time": "2025-07-11T19:19:35.080Z"
   },
   {
    "duration": 0,
    "start_time": "2025-07-11T19:19:35.082Z"
   },
   {
    "duration": 0,
    "start_time": "2025-07-11T19:19:35.083Z"
   },
   {
    "duration": 0,
    "start_time": "2025-07-11T19:19:35.084Z"
   },
   {
    "duration": 0,
    "start_time": "2025-07-11T19:19:35.086Z"
   },
   {
    "duration": 0,
    "start_time": "2025-07-11T19:19:35.087Z"
   },
   {
    "duration": 0,
    "start_time": "2025-07-11T19:19:35.089Z"
   },
   {
    "duration": 0,
    "start_time": "2025-07-11T19:19:35.090Z"
   },
   {
    "duration": 0,
    "start_time": "2025-07-11T19:19:35.092Z"
   },
   {
    "duration": 0,
    "start_time": "2025-07-11T19:19:35.093Z"
   },
   {
    "duration": 0,
    "start_time": "2025-07-11T19:19:35.094Z"
   },
   {
    "duration": 0,
    "start_time": "2025-07-11T19:19:35.095Z"
   },
   {
    "duration": 95,
    "start_time": "2025-07-11T19:23:16.677Z"
   },
   {
    "duration": 58,
    "start_time": "2025-07-11T19:23:28.794Z"
   },
   {
    "duration": 1322,
    "start_time": "2025-07-11T19:23:36.209Z"
   },
   {
    "duration": 125,
    "start_time": "2025-07-11T19:23:37.533Z"
   },
   {
    "duration": 13,
    "start_time": "2025-07-11T19:23:37.660Z"
   },
   {
    "duration": 94,
    "start_time": "2025-07-11T19:23:37.675Z"
   },
   {
    "duration": 7,
    "start_time": "2025-07-11T19:23:37.772Z"
   },
   {
    "duration": 12,
    "start_time": "2025-07-11T19:23:37.781Z"
   },
   {
    "duration": 12,
    "start_time": "2025-07-11T19:23:37.795Z"
   },
   {
    "duration": 3,
    "start_time": "2025-07-11T19:23:37.809Z"
   },
   {
    "duration": 6,
    "start_time": "2025-07-11T19:23:37.814Z"
   },
   {
    "duration": 1488,
    "start_time": "2025-07-11T19:23:37.821Z"
   },
   {
    "duration": 13,
    "start_time": "2025-07-11T19:23:39.311Z"
   },
   {
    "duration": 14,
    "start_time": "2025-07-11T19:23:39.326Z"
   },
   {
    "duration": 125,
    "start_time": "2025-07-11T19:23:39.342Z"
   },
   {
    "duration": 8,
    "start_time": "2025-07-11T19:23:39.476Z"
   },
   {
    "duration": 373,
    "start_time": "2025-07-11T19:23:39.486Z"
   },
   {
    "duration": 17,
    "start_time": "2025-07-11T19:23:39.861Z"
   },
   {
    "duration": 11,
    "start_time": "2025-07-11T19:23:39.879Z"
   },
   {
    "duration": 12,
    "start_time": "2025-07-11T19:23:39.892Z"
   },
   {
    "duration": 249,
    "start_time": "2025-07-11T19:23:39.905Z"
   },
   {
    "duration": 0,
    "start_time": "2025-07-11T19:23:40.155Z"
   },
   {
    "duration": 0,
    "start_time": "2025-07-11T19:23:40.156Z"
   },
   {
    "duration": 0,
    "start_time": "2025-07-11T19:23:40.157Z"
   },
   {
    "duration": 0,
    "start_time": "2025-07-11T19:23:40.158Z"
   },
   {
    "duration": 0,
    "start_time": "2025-07-11T19:23:40.159Z"
   },
   {
    "duration": 0,
    "start_time": "2025-07-11T19:23:40.160Z"
   },
   {
    "duration": 0,
    "start_time": "2025-07-11T19:23:40.160Z"
   },
   {
    "duration": 0,
    "start_time": "2025-07-11T19:23:40.161Z"
   },
   {
    "duration": 0,
    "start_time": "2025-07-11T19:23:40.162Z"
   },
   {
    "duration": 0,
    "start_time": "2025-07-11T19:23:40.163Z"
   },
   {
    "duration": 0,
    "start_time": "2025-07-11T19:23:40.164Z"
   },
   {
    "duration": 24994,
    "start_time": "2025-07-11T19:31:36.939Z"
   },
   {
    "duration": 4,
    "start_time": "2025-07-11T19:32:07.574Z"
   },
   {
    "duration": 1461,
    "start_time": "2025-07-11T19:32:38.199Z"
   },
   {
    "duration": 7460,
    "start_time": "2025-07-11T19:32:44.236Z"
   },
   {
    "duration": 1491,
    "start_time": "2025-07-11T19:32:51.699Z"
   },
   {
    "duration": 58,
    "start_time": "2025-07-11T19:32:53.192Z"
   },
   {
    "duration": 12,
    "start_time": "2025-07-11T19:32:53.252Z"
   },
   {
    "duration": 5,
    "start_time": "2025-07-11T19:32:53.266Z"
   },
   {
    "duration": 7,
    "start_time": "2025-07-11T19:32:53.272Z"
   },
   {
    "duration": 23,
    "start_time": "2025-07-11T19:32:53.280Z"
   },
   {
    "duration": 11,
    "start_time": "2025-07-11T19:32:53.305Z"
   },
   {
    "duration": 5,
    "start_time": "2025-07-11T19:32:53.318Z"
   },
   {
    "duration": 8,
    "start_time": "2025-07-11T19:32:53.324Z"
   },
   {
    "duration": 1651,
    "start_time": "2025-07-11T19:32:53.334Z"
   },
   {
    "duration": 13,
    "start_time": "2025-07-11T19:32:54.987Z"
   },
   {
    "duration": 99,
    "start_time": "2025-07-11T19:32:55.002Z"
   },
   {
    "duration": 110,
    "start_time": "2025-07-11T19:32:55.104Z"
   },
   {
    "duration": 9,
    "start_time": "2025-07-11T19:32:55.216Z"
   },
   {
    "duration": 341,
    "start_time": "2025-07-11T19:32:55.227Z"
   },
   {
    "duration": 12,
    "start_time": "2025-07-11T19:32:55.570Z"
   },
   {
    "duration": 11,
    "start_time": "2025-07-11T19:32:55.584Z"
   },
   {
    "duration": 5,
    "start_time": "2025-07-11T19:32:55.597Z"
   },
   {
    "duration": 400,
    "start_time": "2025-07-11T19:32:55.603Z"
   },
   {
    "duration": 11,
    "start_time": "2025-07-11T19:32:56.005Z"
   },
   {
    "duration": 697,
    "start_time": "2025-07-11T19:32:56.018Z"
   },
   {
    "duration": 234,
    "start_time": "2025-07-11T19:32:56.716Z"
   },
   {
    "duration": 79,
    "start_time": "2025-07-11T19:32:56.952Z"
   },
   {
    "duration": 84,
    "start_time": "2025-07-11T19:32:57.033Z"
   },
   {
    "duration": 15,
    "start_time": "2025-07-11T19:32:57.119Z"
   },
   {
    "duration": 15,
    "start_time": "2025-07-11T19:32:57.136Z"
   },
   {
    "duration": 47,
    "start_time": "2025-07-11T19:32:57.152Z"
   },
   {
    "duration": 4,
    "start_time": "2025-07-11T19:32:57.200Z"
   },
   {
    "duration": 15,
    "start_time": "2025-07-11T19:32:57.206Z"
   },
   {
    "duration": 26,
    "start_time": "2025-07-11T19:32:57.222Z"
   },
   {
    "duration": 1093,
    "start_time": "2025-07-11T19:47:40.134Z"
   },
   {
    "duration": 201,
    "start_time": "2025-07-11T19:47:41.228Z"
   },
   {
    "duration": 80,
    "start_time": "2025-07-11T19:49:34.167Z"
   },
   {
    "duration": 12,
    "start_time": "2025-07-11T19:49:35.226Z"
   },
   {
    "duration": 6,
    "start_time": "2025-07-11T19:49:35.782Z"
   },
   {
    "duration": 9,
    "start_time": "2025-07-11T19:49:35.970Z"
   },
   {
    "duration": 20,
    "start_time": "2025-07-11T19:49:36.352Z"
   },
   {
    "duration": 13,
    "start_time": "2025-07-11T19:49:36.570Z"
   },
   {
    "duration": 3,
    "start_time": "2025-07-11T19:49:37.590Z"
   },
   {
    "duration": 6,
    "start_time": "2025-07-11T19:49:38.102Z"
   },
   {
    "duration": 1635,
    "start_time": "2025-07-11T19:49:39.401Z"
   },
   {
    "duration": 12,
    "start_time": "2025-07-11T19:49:43.541Z"
   },
   {
    "duration": 9,
    "start_time": "2025-07-11T19:49:43.773Z"
   },
   {
    "duration": 122,
    "start_time": "2025-07-11T19:49:43.925Z"
   },
   {
    "duration": 9,
    "start_time": "2025-07-11T19:49:44.077Z"
   },
   {
    "duration": 354,
    "start_time": "2025-07-11T19:49:44.907Z"
   },
   {
    "duration": 12,
    "start_time": "2025-07-11T19:49:46.561Z"
   },
   {
    "duration": 13,
    "start_time": "2025-07-11T19:49:46.734Z"
   },
   {
    "duration": 5,
    "start_time": "2025-07-11T19:49:47.143Z"
   },
   {
    "duration": 158,
    "start_time": "2025-07-11T19:49:47.871Z"
   },
   {
    "duration": 125,
    "start_time": "2025-07-11T19:49:55.311Z"
   },
   {
    "duration": 9,
    "start_time": "2025-07-11T19:50:05.784Z"
   },
   {
    "duration": 697,
    "start_time": "2025-07-11T19:50:06.144Z"
   },
   {
    "duration": 211,
    "start_time": "2025-07-11T19:50:06.848Z"
   },
   {
    "duration": 95,
    "start_time": "2025-07-11T19:50:08.434Z"
   },
   {
    "duration": 6,
    "start_time": "2025-07-11T19:51:50.320Z"
   },
   {
    "duration": 19,
    "start_time": "2025-07-11T19:53:11.404Z"
   },
   {
    "duration": 44,
    "start_time": "2025-07-11T19:53:19.904Z"
   },
   {
    "duration": 4,
    "start_time": "2025-07-11T19:53:20.583Z"
   },
   {
    "duration": 4,
    "start_time": "2025-07-11T19:53:20.866Z"
   },
   {
    "duration": 5,
    "start_time": "2025-07-11T19:53:22.310Z"
   },
   {
    "duration": 5,
    "start_time": "2025-07-11T19:53:26.458Z"
   },
   {
    "duration": 114,
    "start_time": "2025-07-13T20:44:32.119Z"
   },
   {
    "duration": 64,
    "start_time": "2025-07-13T20:45:59.223Z"
   },
   {
    "duration": 22646,
    "start_time": "2025-07-13T20:46:03.675Z"
   },
   {
    "duration": 1614,
    "start_time": "2025-07-13T20:46:26.323Z"
   },
   {
    "duration": 103,
    "start_time": "2025-07-13T20:46:27.939Z"
   },
   {
    "duration": 13,
    "start_time": "2025-07-13T20:46:28.044Z"
   },
   {
    "duration": 6,
    "start_time": "2025-07-13T20:46:28.058Z"
   },
   {
    "duration": 17,
    "start_time": "2025-07-13T20:46:28.065Z"
   },
   {
    "duration": 23,
    "start_time": "2025-07-13T20:46:28.083Z"
   },
   {
    "duration": 17,
    "start_time": "2025-07-13T20:46:28.108Z"
   },
   {
    "duration": 4,
    "start_time": "2025-07-13T20:46:28.127Z"
   },
   {
    "duration": 6,
    "start_time": "2025-07-13T20:46:28.133Z"
   },
   {
    "duration": 1350,
    "start_time": "2025-07-13T20:46:28.141Z"
   },
   {
    "duration": 12,
    "start_time": "2025-07-13T20:46:29.493Z"
   },
   {
    "duration": 35,
    "start_time": "2025-07-13T20:46:29.507Z"
   },
   {
    "duration": 127,
    "start_time": "2025-07-13T20:46:29.544Z"
   },
   {
    "duration": 9,
    "start_time": "2025-07-13T20:46:29.673Z"
   },
   {
    "duration": 309,
    "start_time": "2025-07-13T20:46:29.684Z"
   },
   {
    "duration": 8,
    "start_time": "2025-07-13T20:46:29.997Z"
   },
   {
    "duration": 93,
    "start_time": "2025-07-13T20:46:30.007Z"
   },
   {
    "duration": 5,
    "start_time": "2025-07-13T20:46:30.102Z"
   },
   {
    "duration": 435,
    "start_time": "2025-07-13T20:46:30.109Z"
   },
   {
    "duration": 10,
    "start_time": "2025-07-13T20:46:30.546Z"
   },
   {
    "duration": 629,
    "start_time": "2025-07-13T20:46:30.598Z"
   },
   {
    "duration": 209,
    "start_time": "2025-07-13T20:46:31.229Z"
   },
   {
    "duration": 115,
    "start_time": "2025-07-13T20:46:31.440Z"
   },
   {
    "duration": 5,
    "start_time": "2025-07-13T20:46:31.557Z"
   },
   {
    "duration": 92,
    "start_time": "2025-07-13T20:46:31.563Z"
   },
   {
    "duration": 15,
    "start_time": "2025-07-13T20:46:31.657Z"
   },
   {
    "duration": 15,
    "start_time": "2025-07-13T20:46:31.675Z"
   },
   {
    "duration": 42,
    "start_time": "2025-07-13T20:46:31.692Z"
   },
   {
    "duration": 3,
    "start_time": "2025-07-13T20:46:31.736Z"
   },
   {
    "duration": 7,
    "start_time": "2025-07-13T20:46:31.741Z"
   },
   {
    "duration": 19,
    "start_time": "2025-07-13T20:46:31.750Z"
   },
   {
    "duration": 1420,
    "start_time": "2025-07-15T19:00:24.676Z"
   },
   {
    "duration": 1363,
    "start_time": "2025-07-15T19:01:35.693Z"
   },
   {
    "duration": 13,
    "start_time": "2025-07-15T19:01:37.058Z"
   },
   {
    "duration": 84,
    "start_time": "2025-07-15T19:01:37.073Z"
   },
   {
    "duration": 13,
    "start_time": "2025-07-15T19:01:37.159Z"
   },
   {
    "duration": 21,
    "start_time": "2025-07-15T19:01:37.174Z"
   },
   {
    "duration": 47,
    "start_time": "2025-07-15T19:01:37.197Z"
   },
   {
    "duration": 31,
    "start_time": "2025-07-15T19:01:37.246Z"
   },
   {
    "duration": 55,
    "start_time": "2025-07-15T19:01:37.279Z"
   },
   {
    "duration": 8,
    "start_time": "2025-07-15T19:01:37.336Z"
   },
   {
    "duration": 8,
    "start_time": "2025-07-15T19:01:37.346Z"
   },
   {
    "duration": 14,
    "start_time": "2025-07-15T19:01:37.356Z"
   },
   {
    "duration": 13,
    "start_time": "2025-07-15T19:01:37.372Z"
   },
   {
    "duration": 10,
    "start_time": "2025-07-15T19:01:37.387Z"
   },
   {
    "duration": 14,
    "start_time": "2025-07-15T19:01:37.400Z"
   },
   {
    "duration": 1529,
    "start_time": "2025-07-15T19:01:37.416Z"
   },
   {
    "duration": 13,
    "start_time": "2025-07-15T19:01:38.947Z"
   },
   {
    "duration": 10,
    "start_time": "2025-07-15T19:01:38.962Z"
   },
   {
    "duration": 14,
    "start_time": "2025-07-15T19:01:38.974Z"
   },
   {
    "duration": 140,
    "start_time": "2025-07-15T19:01:38.990Z"
   },
   {
    "duration": 13,
    "start_time": "2025-07-15T19:01:39.132Z"
   },
   {
    "duration": 40,
    "start_time": "2025-07-15T19:01:39.146Z"
   },
   {
    "duration": 335,
    "start_time": "2025-07-15T19:01:39.188Z"
   },
   {
    "duration": 16,
    "start_time": "2025-07-15T19:01:39.525Z"
   },
   {
    "duration": 18,
    "start_time": "2025-07-15T19:01:39.543Z"
   },
   {
    "duration": 16,
    "start_time": "2025-07-15T19:01:39.563Z"
   },
   {
    "duration": 273,
    "start_time": "2025-07-15T19:01:39.580Z"
   },
   {
    "duration": 0,
    "start_time": "2025-07-15T19:01:39.855Z"
   },
   {
    "duration": 0,
    "start_time": "2025-07-15T19:01:39.856Z"
   },
   {
    "duration": 0,
    "start_time": "2025-07-15T19:01:39.858Z"
   },
   {
    "duration": 0,
    "start_time": "2025-07-15T19:01:39.859Z"
   },
   {
    "duration": 0,
    "start_time": "2025-07-15T19:01:39.861Z"
   },
   {
    "duration": 0,
    "start_time": "2025-07-15T19:01:39.862Z"
   },
   {
    "duration": 0,
    "start_time": "2025-07-15T19:01:39.863Z"
   },
   {
    "duration": 0,
    "start_time": "2025-07-15T19:01:39.864Z"
   },
   {
    "duration": 0,
    "start_time": "2025-07-15T19:01:39.865Z"
   },
   {
    "duration": 0,
    "start_time": "2025-07-15T19:01:39.866Z"
   },
   {
    "duration": 0,
    "start_time": "2025-07-15T19:01:39.867Z"
   },
   {
    "duration": 11,
    "start_time": "2025-07-15T19:03:28.857Z"
   },
   {
    "duration": 671,
    "start_time": "2025-07-15T19:03:29.745Z"
   },
   {
    "duration": 85,
    "start_time": "2025-07-15T19:03:30.418Z"
   },
   {
    "duration": 193,
    "start_time": "2025-07-15T19:03:30.607Z"
   },
   {
    "duration": 84,
    "start_time": "2025-07-15T19:03:30.802Z"
   },
   {
    "duration": 19,
    "start_time": "2025-07-15T19:03:30.953Z"
   },
   {
    "duration": 24,
    "start_time": "2025-07-15T19:03:30.978Z"
   },
   {
    "duration": 43,
    "start_time": "2025-07-15T19:03:31.140Z"
   },
   {
    "duration": 4,
    "start_time": "2025-07-15T19:03:31.237Z"
   },
   {
    "duration": 7,
    "start_time": "2025-07-15T19:03:31.270Z"
   },
   {
    "duration": 6,
    "start_time": "2025-07-15T19:03:31.564Z"
   },
   {
    "duration": 234,
    "start_time": "2025-07-15T19:05:14.313Z"
   },
   {
    "duration": 19417,
    "start_time": "2025-07-15T19:06:14.785Z"
   },
   {
    "duration": 610,
    "start_time": "2025-07-15T19:06:57.806Z"
   },
   {
    "duration": 1123,
    "start_time": "2025-07-15T19:06:58.418Z"
   },
   {
    "duration": 56,
    "start_time": "2025-07-15T19:06:59.543Z"
   },
   {
    "duration": 38,
    "start_time": "2025-07-15T19:06:59.601Z"
   },
   {
    "duration": 10,
    "start_time": "2025-07-15T19:06:59.641Z"
   },
   {
    "duration": 34,
    "start_time": "2025-07-15T19:06:59.653Z"
   },
   {
    "duration": 34,
    "start_time": "2025-07-15T19:06:59.689Z"
   },
   {
    "duration": 45,
    "start_time": "2025-07-15T19:06:59.725Z"
   },
   {
    "duration": 29,
    "start_time": "2025-07-15T19:06:59.772Z"
   },
   {
    "duration": 12,
    "start_time": "2025-07-15T19:06:59.803Z"
   },
   {
    "duration": 8,
    "start_time": "2025-07-15T19:06:59.817Z"
   },
   {
    "duration": 7,
    "start_time": "2025-07-15T19:06:59.827Z"
   },
   {
    "duration": 11,
    "start_time": "2025-07-15T19:06:59.836Z"
   },
   {
    "duration": 6,
    "start_time": "2025-07-15T19:06:59.851Z"
   },
   {
    "duration": 1528,
    "start_time": "2025-07-15T19:06:59.858Z"
   },
   {
    "duration": 14,
    "start_time": "2025-07-15T19:07:01.387Z"
   },
   {
    "duration": 253,
    "start_time": "2025-07-15T19:07:01.403Z"
   },
   {
    "duration": 117,
    "start_time": "2025-07-15T19:07:01.658Z"
   },
   {
    "duration": 107,
    "start_time": "2025-07-15T19:07:01.777Z"
   },
   {
    "duration": 9,
    "start_time": "2025-07-15T19:07:01.886Z"
   },
   {
    "duration": 103,
    "start_time": "2025-07-15T19:07:01.897Z"
   },
   {
    "duration": 478,
    "start_time": "2025-07-15T19:07:02.003Z"
   },
   {
    "duration": 8,
    "start_time": "2025-07-15T19:07:02.482Z"
   },
   {
    "duration": 55,
    "start_time": "2025-07-15T19:07:02.491Z"
   },
   {
    "duration": 61,
    "start_time": "2025-07-15T19:07:02.548Z"
   },
   {
    "duration": 457,
    "start_time": "2025-07-15T19:07:02.611Z"
   },
   {
    "duration": 11,
    "start_time": "2025-07-15T19:07:03.069Z"
   },
   {
    "duration": 662,
    "start_time": "2025-07-15T19:07:03.081Z"
   },
   {
    "duration": 98,
    "start_time": "2025-07-15T19:07:03.745Z"
   },
   {
    "duration": 201,
    "start_time": "2025-07-15T19:07:03.844Z"
   },
   {
    "duration": 163,
    "start_time": "2025-07-15T19:07:04.047Z"
   },
   {
    "duration": 32,
    "start_time": "2025-07-15T19:07:04.212Z"
   },
   {
    "duration": 15,
    "start_time": "2025-07-15T19:07:04.245Z"
   },
   {
    "duration": 64,
    "start_time": "2025-07-15T19:07:04.262Z"
   },
   {
    "duration": 12,
    "start_time": "2025-07-15T19:07:04.328Z"
   },
   {
    "duration": 10,
    "start_time": "2025-07-15T19:07:04.342Z"
   },
   {
    "duration": 15,
    "start_time": "2025-07-15T19:07:04.353Z"
   },
   {
    "duration": 456,
    "start_time": "2025-07-15T19:08:44.042Z"
   },
   {
    "duration": 13,
    "start_time": "2025-07-15T19:10:27.892Z"
   }
  ],
  "colab": {
   "provenance": [],
   "toc_visible": true
  },
  "kernelspec": {
   "display_name": "Python 3 (ipykernel)",
   "language": "python",
   "name": "python3"
  },
  "language_info": {
   "codemirror_mode": {
    "name": "ipython",
    "version": 3
   },
   "file_extension": ".py",
   "mimetype": "text/x-python",
   "name": "python",
   "nbconvert_exporter": "python",
   "pygments_lexer": "ipython3",
   "version": "3.10.4"
  },
  "toc": {
   "base_numbering": 1,
   "nav_menu": {},
   "number_sections": true,
   "sideBar": true,
   "skip_h1_title": true,
   "title_cell": "Table of Contents",
   "title_sidebar": "Contents",
   "toc_cell": false,
   "toc_position": {},
   "toc_section_display": true,
   "toc_window_display": false
  }
 },
 "nbformat": 4,
 "nbformat_minor": 5
}

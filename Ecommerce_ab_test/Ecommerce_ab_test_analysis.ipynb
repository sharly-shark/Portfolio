{
 "cells": [
  {
   "cell_type": "markdown",
   "id": "e06910dd",
   "metadata": {
    "id": "e06910dd"
   },
   "source": [
    "# Проект: Анализ результатов A/B-тестирования для интернет-магазина\n",
    "\n",
    "- Автор: Елагина Ксения"
   ]
  },
  {
   "cell_type": "markdown",
   "id": "d8b2b2d7-0a72-4b30-b6e2-83a9e6942d4d",
   "metadata": {},
   "source": [
    "## Введение"
   ]
  },
  {
   "cell_type": "markdown",
   "id": "4149134c",
   "metadata": {
    "id": "4149134c"
   },
   "source": [
    "### Цели и задачи проекта\n",
    "\n",
    "Необходимо оценить корректность проведения A/B-теста для интернет-магазина, который продаёт товары для активного и здорового образа жизни, и проанализировать его результаты.\n",
    "\n",
    "**Задачи проекта:**\n",
    "\n",
    "- Загрузить данные и проверить их целостность.\n",
    "- Проверить корректность проведения A/B-теста на:\n",
    "  - соответствие требованиям технического задания.\n",
    "  - равномерность распределения пользователей по группам теста.\n",
    "- Проанализировать результаты A/B-теста.\n",
    "- Сделать выводы и дать рекомендации."
   ]
  },
  {
   "cell_type": "markdown",
   "id": "6f7d21d6",
   "metadata": {
    "id": "6f7d21d6"
   },
   "source": [
    "## Загрузка данных и знакомство с ними\n"
   ]
  },
  {
   "cell_type": "code",
   "execution_count": 1,
   "id": "f68a7419",
   "metadata": {
    "id": "f68a7419"
   },
   "outputs": [],
   "source": [
    "# Импортируем библиотеки\n",
    "import pandas as pd\n",
    "from scipy import stats as st\n",
    "import matplotlib.pyplot as plt\n",
    "from statsmodels.stats.power import NormalIndPower\n",
    "from statsmodels.stats.proportion import proportion_effectsize"
   ]
  },
  {
   "cell_type": "markdown",
   "id": "_CZryx2OsH-s",
   "metadata": {
    "id": "_CZryx2OsH-s"
   },
   "source": [
    "### Вывод общей информации"
   ]
  },
  {
   "cell_type": "code",
   "execution_count": 2,
   "id": "DjFcJbeGsTIg",
   "metadata": {
    "id": "DjFcJbeGsTIg"
   },
   "outputs": [],
   "source": [
    "# Выгружаем данные\n",
    "participants = pd.read_csv('/datasets/ab_test_participants.csv')\n",
    "events = pd.read_csv('/datasets/ab_test_events.zip',\n",
    "                     parse_dates=['event_dt'], low_memory=False)"
   ]
  },
  {
   "cell_type": "code",
   "execution_count": 3,
   "id": "6bc1aecc-429e-470a-bb88-a531fab1f95f",
   "metadata": {},
   "outputs": [
    {
     "name": "stdout",
     "output_type": "stream",
     "text": [
      "<class 'pandas.core.frame.DataFrame'>\n",
      "RangeIndex: 14525 entries, 0 to 14524\n",
      "Data columns (total 4 columns):\n",
      " #   Column   Non-Null Count  Dtype \n",
      "---  ------   --------------  ----- \n",
      " 0   user_id  14525 non-null  object\n",
      " 1   group    14525 non-null  object\n",
      " 2   ab_test  14525 non-null  object\n",
      " 3   device   14525 non-null  object\n",
      "dtypes: object(4)\n",
      "memory usage: 454.0+ KB\n"
     ]
    }
   ],
   "source": [
    "# Выведем информацию о датафрейме:\n",
    "participants.info()"
   ]
  },
  {
   "cell_type": "code",
   "execution_count": 4,
   "id": "b89e006b-3772-42c8-aa2b-0b921bbf7576",
   "metadata": {},
   "outputs": [
    {
     "data": {
      "text/plain": [
       "0"
      ]
     },
     "execution_count": 4,
     "metadata": {},
     "output_type": "execute_result"
    }
   ],
   "source": [
    "# Проверим датафрейм на наличие дубликатов\n",
    "participants.duplicated().sum()"
   ]
  },
  {
   "cell_type": "markdown",
   "id": "ce6dcc0b-1eb0-4b0f-8a6b-4480ed7cc4da",
   "metadata": {},
   "source": [
    "Датасет participants содержит 14525 столбцов и 4 строки, в которых представлена информация об участниках тестов.\n",
    "\n",
    "После первичного анализа данных можно сделать следующие выводы:\n",
    "\n",
    "- В таблице представлены полные данные, нет пропусков и дубликатов.\n",
    "- Типы данных соответствуют требованиям.\n",
    "- Для удобства аналитик мог бы разделить данную таблицу на несколько, чтобы удобнее было узнавать информацию о конкретном тесте."
   ]
  },
  {
   "cell_type": "code",
   "execution_count": 5,
   "id": "4b66e7b0-d7ca-4ac2-99eb-640430de610c",
   "metadata": {},
   "outputs": [
    {
     "name": "stdout",
     "output_type": "stream",
     "text": [
      "<class 'pandas.core.frame.DataFrame'>\n",
      "RangeIndex: 787286 entries, 0 to 787285\n",
      "Data columns (total 4 columns):\n",
      " #   Column      Non-Null Count   Dtype         \n",
      "---  ------      --------------   -----         \n",
      " 0   user_id     787286 non-null  object        \n",
      " 1   event_dt    787286 non-null  datetime64[ns]\n",
      " 2   event_name  787286 non-null  object        \n",
      " 3   details     249022 non-null  object        \n",
      "dtypes: datetime64[ns](1), object(3)\n",
      "memory usage: 24.0+ MB\n"
     ]
    }
   ],
   "source": [
    "# Выведем информацию о датафрейме:\n",
    "events.info()"
   ]
  },
  {
   "cell_type": "code",
   "execution_count": 6,
   "id": "6bd32080-fa1e-498a-a1a1-2915b0b5c483",
   "metadata": {},
   "outputs": [
    {
     "data": {
      "text/plain": [
       "538264"
      ]
     },
     "execution_count": 6,
     "metadata": {},
     "output_type": "execute_result"
    }
   ],
   "source": [
    "# Найдем количество пропусков в столбце\n",
    "events['details'].isna().sum()"
   ]
  },
  {
   "cell_type": "code",
   "execution_count": 7,
   "id": "df911bbf-91fa-4e8a-8a9a-6d624ca09209",
   "metadata": {},
   "outputs": [
    {
     "data": {
      "text/plain": [
       "36318"
      ]
     },
     "execution_count": 7,
     "metadata": {},
     "output_type": "execute_result"
    }
   ],
   "source": [
    "# Проверим датафрейм на наличие дубликатов\n",
    "events.duplicated().sum()"
   ]
  },
  {
   "cell_type": "markdown",
   "id": "5b47f0f5-bd6b-4658-bdb0-02fb0fc9c707",
   "metadata": {},
   "source": [
    "Датасет participants содержит 787286 столбцов и 4 строки, в которых представлена информация о событиях 2020 года.\n",
    "\n",
    "После первичного анализа данных можно сделать следующие выводы:\n",
    "\n",
    "- В столбце details содержится 538264 пропуска. В данном столбце содержатся детали события (у registration - стоимость привлечения клиента, у purchase - стоимость покупки), также некоторые события содержат информацию о местности, в которой произошло целевое действие. Пропуски могли возникнуть из-за того, что пользователи не указывали в интернет-магазине свое местоположение или оно не было определено автоматически.\n",
    "- Необходимо иметь ввиду, что в столбце details стоимость привлечения пользователей указана в отрицательных значениях и также неизвестна валюта исчисления.\n",
    "- Можно было бы создать несколько столбцов вместо details, чтобы каждый имел свою информацию и правильные типы данных.\n",
    "- В столбце user_id у некоторых пользователей вместо id находится слово 'GLOBAL'. Возможно, данные действия были выполнены незарегистрированными пользователями. Эти строки аналитику тоже необходимо было удалить, чтобы не исказить результаты анализа и стат теста.  \n",
    "- Типы данных соответствуют требованиям.\n",
    "- В таблице найдено 36318 дубликатов. Аналитику также необходимо было их удалить. "
   ]
  },
  {
   "cell_type": "markdown",
   "id": "CnzA-efasUrk",
   "metadata": {
    "id": "CnzA-efasUrk"
   },
   "source": [
    "## Оценка корректности проведения теста"
   ]
  },
  {
   "cell_type": "markdown",
   "id": "494daab5-77ae-4c9b-b51a-7ed8e2278481",
   "metadata": {
    "id": "aNa3zHrKslEN"
   },
   "source": [
    "**Нулевая гипотеза** - упрощение интерфейса не повлияет на конверсию или она увеличиться менее, чем на 3%.\n",
    "\n",
    "**Альтернативная гипотеза** - упрощение интерфейса приведёт к тому, что в течение семи дней после регистрации в системе конверсия зарегистрированных пользователей в покупателей увеличится как минимум на три процентных пункта."
   ]
  },
  {
   "cell_type": "code",
   "execution_count": 8,
   "id": "3fdda84f-c2ef-4443-ba08-9f980b88cb29",
   "metadata": {},
   "outputs": [
    {
     "data": {
      "text/plain": [
       "0"
      ]
     },
     "execution_count": 8,
     "metadata": {},
     "output_type": "execute_result"
    }
   ],
   "source": [
    "# Создадим датафрейм из пользователей с необходимым тестом\n",
    "interface_participants = participants[participants['ab_test'] == 'interface_eu_test']\n",
    "\n",
    "# Проверим датафрейм на наличие дубликатов в айди пользователей\n",
    "interface_participants['user_id'].duplicated().sum()"
   ]
  },
  {
   "cell_type": "code",
   "execution_count": 9,
   "id": "3da67809-7db7-4d9e-be3c-f216378c0a5c",
   "metadata": {},
   "outputs": [
    {
     "data": {
      "text/html": [
       "<div>\n",
       "<style scoped>\n",
       "    .dataframe tbody tr th:only-of-type {\n",
       "        vertical-align: middle;\n",
       "    }\n",
       "\n",
       "    .dataframe tbody tr th {\n",
       "        vertical-align: top;\n",
       "    }\n",
       "\n",
       "    .dataframe thead th {\n",
       "        text-align: right;\n",
       "    }\n",
       "</style>\n",
       "<table border=\"1\" class=\"dataframe\">\n",
       "  <thead>\n",
       "    <tr style=\"text-align: right;\">\n",
       "      <th></th>\n",
       "      <th>group</th>\n",
       "      <th>count</th>\n",
       "    </tr>\n",
       "  </thead>\n",
       "  <tbody>\n",
       "    <tr>\n",
       "      <th>0</th>\n",
       "      <td>A</td>\n",
       "      <td>5383</td>\n",
       "    </tr>\n",
       "    <tr>\n",
       "      <th>1</th>\n",
       "      <td>B</td>\n",
       "      <td>5467</td>\n",
       "    </tr>\n",
       "  </tbody>\n",
       "</table>\n",
       "</div>"
      ],
      "text/plain": [
       "  group  count\n",
       "0     A   5383\n",
       "1     B   5467"
      ]
     },
     "execution_count": 9,
     "metadata": {},
     "output_type": "execute_result"
    }
   ],
   "source": [
    "# выведем кол-во пользователей в каждой группе \n",
    "users_by_group = interface_participants.groupby('group')['user_id'].nunique().reset_index(name='count')\n",
    "users_by_group"
   ]
  },
  {
   "cell_type": "code",
   "execution_count": 10,
   "id": "b788a8d5-6c55-484d-bbc9-db56dccff251",
   "metadata": {},
   "outputs": [
    {
     "data": {
      "text/plain": [
       "1.55"
      ]
     },
     "execution_count": 10,
     "metadata": {},
     "output_type": "execute_result"
    }
   ],
   "source": [
    "# найдем процентную разницу между группами\n",
    "a = users_by_group['count'][0]\n",
    "b = users_by_group['count'][1]\n",
    "\n",
    "round(100*abs(a-b)/((a+b)/2), 2)\n"
   ]
  },
  {
   "cell_type": "code",
   "execution_count": 11,
   "id": "6571c810-6309-46b6-a6a5-bf3437f63d1d",
   "metadata": {},
   "outputs": [
    {
     "data": {
      "text/plain": [
       "<Figure size 1000x600 with 0 Axes>"
      ]
     },
     "metadata": {},
     "output_type": "display_data"
    },
    {
     "data": {
      "image/png": "[encoded data removed]",
      "text/plain": [
       "<Figure size 640x480 with 1 Axes>"
      ]
     },
     "metadata": {},
     "output_type": "display_data"
    }
   ],
   "source": [
    "# построим график\n",
    "plt.figure(figsize=(10,6))\n",
    "\n",
    "users_by_group_ax = users_by_group.set_index('group').plot(kind='bar',\n",
    "                                            rot=0,\n",
    "                                            legend = False)\n",
    "\n",
    "plt.xlabel(\"Группа\")\n",
    "plt.ylabel(\"Количество\")\n",
    "plt.title('Кол-во пользователей в каждой группе за 1 день эксперимента')\n",
    "\n",
    "users_by_group_ax.bar_label(users_by_group_ax.containers[0])\n",
    "plt.grid(True, alpha=0.5, axis='y')\n",
    "plt.tight_layout()\n",
    "plt.show()"
   ]
  },
  {
   "cell_type": "code",
   "execution_count": 12,
   "id": "84caeda4-8633-4409-8970-da3d349c7c75",
   "metadata": {},
   "outputs": [
    {
     "data": {
      "text/plain": [
       "0"
      ]
     },
     "execution_count": 12,
     "metadata": {},
     "output_type": "execute_result"
    }
   ],
   "source": [
    "# создадим множества с айди пользователей\n",
    "users_A = set(interface_participants[interface_participants['group'] == 'A']['user_id'])\n",
    "users_B = set(interface_participants[interface_participants['group'] == 'B']['user_id'])\n",
    "# выведем количество пользователей, которые встречаются одновременно в группах A и B\n",
    "len(users_A&users_B)"
   ]
  },
  {
   "cell_type": "markdown",
   "id": "45aad5b0-3765-4547-a483-b166b8eda9e7",
   "metadata": {},
   "source": [
    "Исправим допущенные ошибки."
   ]
  },
  {
   "cell_type": "code",
   "execution_count": 13,
   "id": "de273131-b23b-4bc9-a7e6-a5e6c75f5314",
   "metadata": {},
   "outputs": [
    {
     "data": {
      "text/plain": [
       "0"
      ]
     },
     "execution_count": 13,
     "metadata": {},
     "output_type": "execute_result"
    }
   ],
   "source": [
    "# создадим датафрейм без дубликатов\n",
    "events_clean = events.drop_duplicates()\n",
    "\n",
    "# проверим на наличие дубликатов\n",
    "events_clean.duplicated().sum()"
   ]
  },
  {
   "cell_type": "code",
   "execution_count": 14,
   "id": "f2c6c8d8-a721-4056-8240-8d734193e53e",
   "metadata": {},
   "outputs": [],
   "source": [
    "# удалим строки с неизвестным айди пользователя\n",
    "events_clean = events_clean[events_clean['user_id']!='GLOBAL']"
   ]
  },
  {
   "cell_type": "markdown",
   "id": "GjulgSrlsqUU",
   "metadata": {
    "id": "GjulgSrlsqUU"
   },
   "source": [
    "### Анализ данных о пользовательской активности"
   ]
  },
  {
   "cell_type": "code",
   "execution_count": 15,
   "id": "8c78ef93-58e6-4906-a0fd-3933bc7b52db",
   "metadata": {},
   "outputs": [],
   "source": [
    "# объединим 2 предобработанные таблицы\n",
    "df = interface_participants.merge(events_clean, how='left', on='user_id')"
   ]
  },
  {
   "cell_type": "markdown",
   "id": "fBZ4DC2xswZJ",
   "metadata": {
    "id": "fBZ4DC2xswZJ"
   },
   "source": [
    "Определим горизонт анализа: рассчитаем время (лайфтайм) совершения события пользователем после регистрации и оставим только те события, которые были выполнены в течение первых семи дней с момента регистрации."
   ]
  },
  {
   "cell_type": "code",
   "execution_count": 16,
   "id": "a7f9dac4-a876-4a51-8568-1cd29f22dedf",
   "metadata": {},
   "outputs": [],
   "source": [
    "# приведем event_dt к datetime\n",
    "df['event_dt'] = pd.to_datetime(df['event_dt'])\n",
    "\n",
    "# создадим таблицу с датами регистрации\n",
    "df_registration = df[df['event_name']=='registration'].groupby('user_id')['event_dt'].min().reset_index(name='registration_dt')\n",
    "\n",
    "# соединим таблицы\n",
    "df_new = df.merge(df_registration, how='left', on='user_id')\n",
    "\n",
    "# создадим новый столбец с разницей в timedelta\n",
    "df_new['lifetime'] = df_new['event_dt'] - df_new['registration_dt']\n",
    "\n",
    "# оставим события в первые 7 дней\n",
    "df_new = df_new[df_new['lifetime']<=pd.Timedelta('7D')]"
   ]
  },
  {
   "cell_type": "markdown",
   "id": "7cf1df48",
   "metadata": {},
   "source": [
    "Оценим достаточность выборки для получения статистически значимых результатов A/B-теста. Зададим следующие параметры:\n",
    "- базовый показатель конверсии — 30%,\n",
    "- мощность теста — 80%,\n",
    "- достоверность теста — 95%."
   ]
  },
  {
   "cell_type": "markdown",
   "id": "daa0bb74-6f81-46f2-b24a-53022b7116e2",
   "metadata": {},
   "source": [
    "Расчитаем необходимый размер выборки с помощью калькулятора.\n",
    "\n",
    "https://www.evanmiller.org/ab-testing/sample-size.html#!30;80;5;3;0\n",
    "\n",
    "Получаем, что необходимый размер групп равен **3692** чел."
   ]
  },
  {
   "cell_type": "code",
   "execution_count": 17,
   "id": "7ph853Xks4sy",
   "metadata": {
    "id": "7ph853Xks4sy"
   },
   "outputs": [
    {
     "data": {
      "text/plain": [
       "5383"
      ]
     },
     "execution_count": 17,
     "metadata": {},
     "output_type": "execute_result"
    }
   ],
   "source": [
    "# проверим размер выборки А:\n",
    "df_new[df_new['group']=='A']['user_id'].nunique()"
   ]
  },
  {
   "cell_type": "code",
   "execution_count": 18,
   "id": "030db905-d1b6-4ffe-a79e-aceffe3b9081",
   "metadata": {},
   "outputs": [
    {
     "data": {
      "text/plain": [
       "5467"
      ]
     },
     "execution_count": 18,
     "metadata": {},
     "output_type": "execute_result"
    }
   ],
   "source": [
    "# проверим размер выборки В:\n",
    "df_new[df_new['group']=='B']['user_id'].nunique()"
   ]
  },
  {
   "cell_type": "markdown",
   "id": "430d7dca-ff64-4af0-91ca-17145dfe3767",
   "metadata": {},
   "source": [
    "Выборки достаточны."
   ]
  },
  {
   "cell_type": "markdown",
   "id": "SadyUDgZs0t3",
   "metadata": {
    "id": "SadyUDgZs0t3"
   },
   "source": [
    "Рассчитаем для каждой группы количество посетителей, сделавших покупку, и общее количество посетителей."
   ]
  },
  {
   "cell_type": "code",
   "execution_count": 19,
   "id": "c3ce08bc-8321-45a4-9189-b4a2ba81a3d9",
   "metadata": {},
   "outputs": [
    {
     "name": "stdout",
     "output_type": "stream",
     "text": [
      "Общее количество посетителей в группе А - 5383, в группе В - 5467.\n",
      "Количество посетителей в группе А, сделавших покупку, - 1480, а в группе В - 1600.\n"
     ]
    }
   ],
   "source": [
    "# посчитаем количество посетителей\n",
    "n_a = df_new[df_new['group']=='A']['user_id'].nunique()\n",
    "n_b = df_new[df_new['group']=='B']['user_id'].nunique()\n",
    "\n",
    "# посчитаем количество покупателей\n",
    "m_a = df_new[(df_new['group']=='A')&(df_new['event_name']=='purchase')]['user_id'].nunique()\n",
    "m_b = df_new[(df_new['group']=='B')&(df_new['event_name']=='purchase')]['user_id'].nunique()\n",
    "\n",
    "# выведем результат\n",
    "print(f\"Общее количество посетителей в группе А - {n_a}, в группе В - {n_b}.\\nКоличество посетителей в группе А, сделавших покупку, - {m_a}, а в группе В - {m_b}.\")"
   ]
  },
  {
   "cell_type": "code",
   "execution_count": 20,
   "id": "30dcab5c-d505-40db-9636-5b7760bffc96",
   "metadata": {},
   "outputs": [
    {
     "name": "stdout",
     "output_type": "stream",
     "text": [
      "Конверсия группы А составляет - 27.49%, группы В - 29.27.\n"
     ]
    }
   ],
   "source": [
    "# посчитаем конверсию\n",
    "p_a = round(m_a/n_a*100,2)\n",
    "p_b = round(m_b/n_b*100,2)\n",
    "# выведем результат\n",
    "print(f\"Конверсия группы А составляет - {p_a}%, группы В - {p_b}.\")"
   ]
  },
  {
   "cell_type": "code",
   "execution_count": 21,
   "id": "b1ca0c1b-06cc-4cf1-bbf9-c64ff7ab2c5e",
   "metadata": {},
   "outputs": [
    {
     "data": {
      "text/plain": [
       "1.7800000000000011"
      ]
     },
     "execution_count": 21,
     "metadata": {},
     "output_type": "execute_result"
    }
   ],
   "source": [
    "# посчитаем разницу конверсий\n",
    "p_b - p_a"
   ]
  },
  {
   "cell_type": "markdown",
   "id": "e1afba4e-650c-42a4-a91d-74d76456e5c2",
   "metadata": {
    "id": "hHTHPkJYs8mE"
   },
   "source": [
    "Конверсия тестовой группы увеличилась на 1.8%. Альтернативная гипотеза не подтвердилась - упрощение интерфейса не привело к тому, что в течение семи дней после регистрации в системе конверсия зарегистрированных пользователей в покупателей увеличилась как минимум на три процентных пункта.\n"
   ]
  },
  {
   "cell_type": "markdown",
   "id": "IKZ1Oo3Ws919",
   "metadata": {
    "id": "IKZ1Oo3Ws919"
   },
   "source": [
    "### Оценка результатов A/B-тестирования"
   ]
  },
  {
   "cell_type": "markdown",
   "id": "dcUdBSmvtC-E",
   "metadata": {
    "id": "dcUdBSmvtC-E"
   },
   "source": [
    "Проверим изменение конверсии подходящим статистическим тестом, учитывая все этапы проверки гипотез."
   ]
  },
  {
   "cell_type": "markdown",
   "id": "2c79abc4-71cc-438b-88e3-381bc121f4a6",
   "metadata": {},
   "source": [
    "**Нулевая гипотеза** - разница конверсий 2х групп составляет как минимум 3%.\n",
    "\n",
    "**Альтернативная гипотеза** - разница конверсий меньше 3%."
   ]
  },
  {
   "cell_type": "code",
   "execution_count": 22,
   "id": "d7c3911e-7a7e-4da0-bc71-8497a8b349df",
   "metadata": {},
   "outputs": [
    {
     "name": "stdout",
     "output_type": "stream",
     "text": [
      "pvalue=0.020306993983065475 < 0.05\n",
      "Нулевая гипотеза не находит подтверждения!\n"
     ]
    }
   ],
   "source": [
    "from statsmodels.stats.proportion import proportions_ztest\n",
    "\n",
    "# уровень значимости\n",
    "alpha = 0.05\n",
    "\n",
    "# проведем z-тест пропорций\n",
    "stat_ztest, p_value_ztest = proportions_ztest(\n",
    "    [m_a, m_b],\n",
    "    [n_a, n_b],\n",
    "    alternative='smaller'\n",
    ")\n",
    "p_value_ztest\n",
    "\n",
    "if p_value_ztest > alpha:\n",
    "    print(f'pvalue={p_value_ztest} > {alpha}')\n",
    "    print('Нулевая гипотеза находит подтверждение!')\n",
    "else:\n",
    "    print(f'pvalue={p_value_ztest} < {alpha}')\n",
    "    print('Нулевая гипотеза не находит подтверждения!')"
   ]
  },
  {
   "cell_type": "markdown",
   "id": "9jkyKOjgtGoc",
   "metadata": {
    "id": "9jkyKOjgtGoc"
   },
   "source": [
    "### Общий вывод и рекомендации"
   ]
  },
  {
   "cell_type": "markdown",
   "id": "0a2ab8ff-1be7-4321-96f6-df193322b43d",
   "metadata": {},
   "source": [
    "Статистический тест показывает, что нулевая гипотеза подтвердилась - упрощение интерфейса не привело к увеличению конверсии зарегистрированных пользователей в покупателей на 3% и более. Конверсия тестовой группы увеличилась лишь на 1.8%."
   ]
  },
  {
   "cell_type": "markdown",
   "id": "c743b8cb-a837-4c87-b1bb-b4a35de99da0",
   "metadata": {},
   "source": [
    "**Рекомендации для магазина:**  \n",
    "  - Провести дополнительный анализ поведения пользователей, чтобы выявить узкие места в воронке.  \n",
    "  - Протестировать другие гипотезы по улучшению интерфейса или пользовательского пути."
   ]
  }
 ],
 "metadata": {
  "ExecuteTimeLog": [
   {
    "duration": 1262,
    "start_time": "2025-07-11T19:19:33.556Z"
   },
   {
    "duration": 205,
    "start_time": "2025-07-11T19:19:34.820Z"
   },
   {
    "duration": 0,
    "start_time": "2025-07-11T19:19:35.028Z"
   },
   {
    "duration": 0,
    "start_time": "2025-07-11T19:19:35.030Z"
   },
   {
    "duration": 0,
    "start_time": "2025-07-11T19:19:35.031Z"
   },
   {
    "duration": 0,
    "start_time": "2025-07-11T19:19:35.033Z"
   },
   {
    "duration": 0,
    "start_time": "2025-07-11T19:19:35.035Z"
   },
   {
    "duration": 0,
    "start_time": "2025-07-11T19:19:35.036Z"
   },
   {
    "duration": 0,
    "start_time": "2025-07-11T19:19:35.038Z"
   },
   {
    "duration": 0,
    "start_time": "2025-07-11T19:19:35.039Z"
   },
   {
    "duration": 0,
    "start_time": "2025-07-11T19:19:35.041Z"
   },
   {
    "duration": 0,
    "start_time": "2025-07-11T19:19:35.042Z"
   },
   {
    "duration": 0,
    "start_time": "2025-07-11T19:19:35.044Z"
   },
   {
    "duration": 0,
    "start_time": "2025-07-11T19:19:35.045Z"
   },
   {
    "duration": 0,
    "start_time": "2025-07-11T19:19:35.047Z"
   },
   {
    "duration": 0,
    "start_time": "2025-07-11T19:19:35.048Z"
   },
   {
    "duration": 0,
    "start_time": "2025-07-11T19:19:35.077Z"
   },
   {
    "duration": 0,
    "start_time": "2025-07-11T19:19:35.079Z"
   },
   {
    "duration": 0,
    "start_time": "2025-07-11T19:19:35.080Z"
   },
   {
    "duration": 0,
    "start_time": "2025-07-11T19:19:35.082Z"
   },
   {
    "duration": 0,
    "start_time": "2025-07-11T19:19:35.083Z"
   },
   {
    "duration": 0,
    "start_time": "2025-07-11T19:19:35.084Z"
   },
   {
    "duration": 0,
    "start_time": "2025-07-11T19:19:35.086Z"
   },
   {
    "duration": 0,
    "start_time": "2025-07-11T19:19:35.087Z"
   },
   {
    "duration": 0,
    "start_time": "2025-07-11T19:19:35.089Z"
   },
   {
    "duration": 0,
    "start_time": "2025-07-11T19:19:35.090Z"
   },
   {
    "duration": 0,
    "start_time": "2025-07-11T19:19:35.092Z"
   },
   {
    "duration": 0,
    "start_time": "2025-07-11T19:19:35.093Z"
   },
   {
    "duration": 0,
    "start_time": "2025-07-11T19:19:35.094Z"
   },
   {
    "duration": 0,
    "start_time": "2025-07-11T19:19:35.095Z"
   },
   {
    "duration": 95,
    "start_time": "2025-07-11T19:23:16.677Z"
   },
   {
    "duration": 58,
    "start_time": "2025-07-11T19:23:28.794Z"
   },
   {
    "duration": 1322,
    "start_time": "2025-07-11T19:23:36.209Z"
   },
   {
    "duration": 125,
    "start_time": "2025-07-11T19:23:37.533Z"
   },
   {
    "duration": 13,
    "start_time": "2025-07-11T19:23:37.660Z"
   },
   {
    "duration": 94,
    "start_time": "2025-07-11T19:23:37.675Z"
   },
   {
    "duration": 7,
    "start_time": "2025-07-11T19:23:37.772Z"
   },
   {
    "duration": 12,
    "start_time": "2025-07-11T19:23:37.781Z"
   },
   {
    "duration": 12,
    "start_time": "2025-07-11T19:23:37.795Z"
   },
   {
    "duration": 3,
    "start_time": "2025-07-11T19:23:37.809Z"
   },
   {
    "duration": 6,
    "start_time": "2025-07-11T19:23:37.814Z"
   },
   {
    "duration": 1488,
    "start_time": "2025-07-11T19:23:37.821Z"
   },
   {
    "duration": 13,
    "start_time": "2025-07-11T19:23:39.311Z"
   },
   {
    "duration": 14,
    "start_time": "2025-07-11T19:23:39.326Z"
   },
   {
    "duration": 125,
    "start_time": "2025-07-11T19:23:39.342Z"
   },
   {
    "duration": 8,
    "start_time": "2025-07-11T19:23:39.476Z"
   },
   {
    "duration": 373,
    "start_time": "2025-07-11T19:23:39.486Z"
   },
   {
    "duration": 17,
    "start_time": "2025-07-11T19:23:39.861Z"
   },
   {
    "duration": 11,
    "start_time": "2025-07-11T19:23:39.879Z"
   },
   {
    "duration": 12,
    "start_time": "2025-07-11T19:23:39.892Z"
   },
   {
    "duration": 249,
    "start_time": "2025-07-11T19:23:39.905Z"
   },
   {
    "duration": 0,
    "start_time": "2025-07-11T19:23:40.155Z"
   },
   {
    "duration": 0,
    "start_time": "2025-07-11T19:23:40.156Z"
   },
   {
    "duration": 0,
    "start_time": "2025-07-11T19:23:40.157Z"
   },
   {
    "duration": 0,
    "start_time": "2025-07-11T19:23:40.158Z"
   },
   {
    "duration": 0,
    "start_time": "2025-07-11T19:23:40.159Z"
   },
   {
    "duration": 0,
    "start_time": "2025-07-11T19:23:40.160Z"
   },
   {
    "duration": 0,
    "start_time": "2025-07-11T19:23:40.160Z"
   },
   {
    "duration": 0,
    "start_time": "2025-07-11T19:23:40.161Z"
   },
   {
    "duration": 0,
    "start_time": "2025-07-11T19:23:40.162Z"
   },
   {
    "duration": 0,
    "start_time": "2025-07-11T19:23:40.163Z"
   },
   {
    "duration": 0,
    "start_time": "2025-07-11T19:23:40.164Z"
   },
   {
    "duration": 24994,
    "start_time": "2025-07-11T19:31:36.939Z"
   },
   {
    "duration": 4,
    "start_time": "2025-07-11T19:32:07.574Z"
   },
   {
    "duration": 1461,
    "start_time": "2025-07-11T19:32:38.199Z"
   },
   {
    "duration": 7460,
    "start_time": "2025-07-11T19:32:44.236Z"
   },
   {
    "duration": 1491,
    "start_time": "2025-07-11T19:32:51.699Z"
   },
   {
    "duration": 58,
    "start_time": "2025-07-11T19:32:53.192Z"
   },
   {
    "duration": 12,
    "start_time": "2025-07-11T19:32:53.252Z"
   },
   {
    "duration": 5,
    "start_time": "2025-07-11T19:32:53.266Z"
   },
   {
    "duration": 7,
    "start_time": "2025-07-11T19:32:53.272Z"
   },
   {
    "duration": 23,
    "start_time": "2025-07-11T19:32:53.280Z"
   },
   {
    "duration": 11,
    "start_time": "2025-07-11T19:32:53.305Z"
   },
   {
    "duration": 5,
    "start_time": "2025-07-11T19:32:53.318Z"
   },
   {
    "duration": 8,
    "start_time": "2025-07-11T19:32:53.324Z"
   },
   {
    "duration": 1651,
    "start_time": "2025-07-11T19:32:53.334Z"
   },
   {
    "duration": 13,
    "start_time": "2025-07-11T19:32:54.987Z"
   },
   {
    "duration": 99,
    "start_time": "2025-07-11T19:32:55.002Z"
   },
   {
    "duration": 110,
    "start_time": "2025-07-11T19:32:55.104Z"
   },
   {
    "duration": 9,
    "start_time": "2025-07-11T19:32:55.216Z"
   },
   {
    "duration": 341,
    "start_time": "2025-07-11T19:32:55.227Z"
   },
   {
    "duration": 12,
    "start_time": "2025-07-11T19:32:55.570Z"
   },
   {
    "duration": 11,
    "start_time": "2025-07-11T19:32:55.584Z"
   },
   {
    "duration": 5,
    "start_time": "2025-07-11T19:32:55.597Z"
   },
   {
    "duration": 400,
    "start_time": "2025-07-11T19:32:55.603Z"
   },
   {
    "duration": 11,
    "start_time": "2025-07-11T19:32:56.005Z"
   },
   {
    "duration": 697,
    "start_time": "2025-07-11T19:32:56.018Z"
   },
   {
    "duration": 234,
    "start_time": "2025-07-11T19:32:56.716Z"
   },
   {
    "duration": 79,
    "start_time": "2025-07-11T19:32:56.952Z"
   },
   {
    "duration": 84,
    "start_time": "2025-07-11T19:32:57.033Z"
   },
   {
    "duration": 15,
    "start_time": "2025-07-11T19:32:57.119Z"
   },
   {
    "duration": 15,
    "start_time": "2025-07-11T19:32:57.136Z"
   },
   {
    "duration": 47,
    "start_time": "2025-07-11T19:32:57.152Z"
   },
   {
    "duration": 4,
    "start_time": "2025-07-11T19:32:57.200Z"
   },
   {
    "duration": 15,
    "start_time": "2025-07-11T19:32:57.206Z"
   },
   {
    "duration": 26,
    "start_time": "2025-07-11T19:32:57.222Z"
   },
   {
    "duration": 1093,
    "start_time": "2025-07-11T19:47:40.134Z"
   },
   {
    "duration": 201,
    "start_time": "2025-07-11T19:47:41.228Z"
   },
   {
    "duration": 80,
    "start_time": "2025-07-11T19:49:34.167Z"
   },
   {
    "duration": 12,
    "start_time": "2025-07-11T19:49:35.226Z"
   },
   {
    "duration": 6,
    "start_time": "2025-07-11T19:49:35.782Z"
   },
   {
    "duration": 9,
    "start_time": "2025-07-11T19:49:35.970Z"
   },
   {
    "duration": 20,
    "start_time": "2025-07-11T19:49:36.352Z"
   },
   {
    "duration": 13,
    "start_time": "2025-07-11T19:49:36.570Z"
   },
   {
    "duration": 3,
    "start_time": "2025-07-11T19:49:37.590Z"
   },
   {
    "duration": 6,
    "start_time": "2025-07-11T19:49:38.102Z"
   },
   {
    "duration": 1635,
    "start_time": "2025-07-11T19:49:39.401Z"
   },
   {
    "duration": 12,
    "start_time": "2025-07-11T19:49:43.541Z"
   },
   {
    "duration": 9,
    "start_time": "2025-07-11T19:49:43.773Z"
   },
   {
    "duration": 122,
    "start_time": "2025-07-11T19:49:43.925Z"
   },
   {
    "duration": 9,
    "start_time": "2025-07-11T19:49:44.077Z"
   },
   {
    "duration": 354,
    "start_time": "2025-07-11T19:49:44.907Z"
   },
   {
    "duration": 12,
    "start_time": "2025-07-11T19:49:46.561Z"
   },
   {
    "duration": 13,
    "start_time": "2025-07-11T19:49:46.734Z"
   },
   {
    "duration": 5,
    "start_time": "2025-07-11T19:49:47.143Z"
   },
   {
    "duration": 158,
    "start_time": "2025-07-11T19:49:47.871Z"
   },
   {
    "duration": 125,
    "start_time": "2025-07-11T19:49:55.311Z"
   },
   {
    "duration": 9,
    "start_time": "2025-07-11T19:50:05.784Z"
   },
   {
    "duration": 697,
    "start_time": "2025-07-11T19:50:06.144Z"
   },
   {
    "duration": 211,
    "start_time": "2025-07-11T19:50:06.848Z"
   },
   {
    "duration": 95,
    "start_time": "2025-07-11T19:50:08.434Z"
   },
   {
    "duration": 6,
    "start_time": "2025-07-11T19:51:50.320Z"
   },
   {
    "duration": 19,
    "start_time": "2025-07-11T19:53:11.404Z"
   },
   {
    "duration": 44,
    "start_time": "2025-07-11T19:53:19.904Z"
   },
   {
    "duration": 4,
    "start_time": "2025-07-11T19:53:20.583Z"
   },
   {
    "duration": 4,
    "start_time": "2025-07-11T19:53:20.866Z"
   },
   {
    "duration": 5,
    "start_time": "2025-07-11T19:53:22.310Z"
   },
   {
    "duration": 5,
    "start_time": "2025-07-11T19:53:26.458Z"
   },
   {
    "duration": 114,
    "start_time": "2025-07-13T20:44:32.119Z"
   },
   {
    "duration": 64,
    "start_time": "2025-07-13T20:45:59.223Z"
   },
   {
    "duration": 22646,
    "start_time": "2025-07-13T20:46:03.675Z"
   },
   {
    "duration": 1614,
    "start_time": "2025-07-13T20:46:26.323Z"
   },
   {
    "duration": 103,
    "start_time": "2025-07-13T20:46:27.939Z"
   },
   {
    "duration": 13,
    "start_time": "2025-07-13T20:46:28.044Z"
   },
   {
    "duration": 6,
    "start_time": "2025-07-13T20:46:28.058Z"
   },
   {
    "duration": 17,
    "start_time": "2025-07-13T20:46:28.065Z"
   },
   {
    "duration": 23,
    "start_time": "2025-07-13T20:46:28.083Z"
   },
   {
    "duration": 17,
    "start_time": "2025-07-13T20:46:28.108Z"
   },
   {
    "duration": 4,
    "start_time": "2025-07-13T20:46:28.127Z"
   },
   {
    "duration": 6,
    "start_time": "2025-07-13T20:46:28.133Z"
   },
   {
    "duration": 1350,
    "start_time": "2025-07-13T20:46:28.141Z"
   },
   {
    "duration": 12,
    "start_time": "2025-07-13T20:46:29.493Z"
   },
   {
    "duration": 35,
    "start_time": "2025-07-13T20:46:29.507Z"
   },
   {
    "duration": 127,
    "start_time": "2025-07-13T20:46:29.544Z"
   },
   {
    "duration": 9,
    "start_time": "2025-07-13T20:46:29.673Z"
   },
   {
    "duration": 309,
    "start_time": "2025-07-13T20:46:29.684Z"
   },
   {
    "duration": 8,
    "start_time": "2025-07-13T20:46:29.997Z"
   },
   {
    "duration": 93,
    "start_time": "2025-07-13T20:46:30.007Z"
   },
   {
    "duration": 5,
    "start_time": "2025-07-13T20:46:30.102Z"
   },
   {
    "duration": 435,
    "start_time": "2025-07-13T20:46:30.109Z"
   },
   {
    "duration": 10,
    "start_time": "2025-07-13T20:46:30.546Z"
   },
   {
    "duration": 629,
    "start_time": "2025-07-13T20:46:30.598Z"
   },
   {
    "duration": 209,
    "start_time": "2025-07-13T20:46:31.229Z"
   },
   {
    "duration": 115,
    "start_time": "2025-07-13T20:46:31.440Z"
   },
   {
    "duration": 5,
    "start_time": "2025-07-13T20:46:31.557Z"
   },
   {
    "duration": 92,
    "start_time": "2025-07-13T20:46:31.563Z"
   },
   {
    "duration": 15,
    "start_time": "2025-07-13T20:46:31.657Z"
   },
   {
    "duration": 15,
    "start_time": "2025-07-13T20:46:31.675Z"
   },
   {
    "duration": 42,
    "start_time": "2025-07-13T20:46:31.692Z"
   },
   {
    "duration": 3,
    "start_time": "2025-07-13T20:46:31.736Z"
   },
   {
    "duration": 7,
    "start_time": "2025-07-13T20:46:31.741Z"
   },
   {
    "duration": 19,
    "start_time": "2025-07-13T20:46:31.750Z"
   },
   {
    "duration": 1420,
    "start_time": "2025-07-15T19:00:24.676Z"
   },
   {
    "duration": 1363,
    "start_time": "2025-07-15T19:01:35.693Z"
   },
   {
    "duration": 13,
    "start_time": "2025-07-15T19:01:37.058Z"
   },
   {
    "duration": 84,
    "start_time": "2025-07-15T19:01:37.073Z"
   },
   {
    "duration": 13,
    "start_time": "2025-07-15T19:01:37.159Z"
   },
   {
    "duration": 21,
    "start_time": "2025-07-15T19:01:37.174Z"
   },
   {
    "duration": 47,
    "start_time": "2025-07-15T19:01:37.197Z"
   },
   {
    "duration": 31,
    "start_time": "2025-07-15T19:01:37.246Z"
   },
   {
    "duration": 55,
    "start_time": "2025-07-15T19:01:37.279Z"
   },
   {
    "duration": 8,
    "start_time": "2025-07-15T19:01:37.336Z"
   },
   {
    "duration": 8,
    "start_time": "2025-07-15T19:01:37.346Z"
   },
   {
    "duration": 14,
    "start_time": "2025-07-15T19:01:37.356Z"
   },
   {
    "duration": 13,
    "start_time": "2025-07-15T19:01:37.372Z"
   },
   {
    "duration": 10,
    "start_time": "2025-07-15T19:01:37.387Z"
   },
   {
    "duration": 14,
    "start_time": "2025-07-15T19:01:37.400Z"
   },
   {
    "duration": 1529,
    "start_time": "2025-07-15T19:01:37.416Z"
   },
   {
    "duration": 13,
    "start_time": "2025-07-15T19:01:38.947Z"
   },
   {
    "duration": 10,
    "start_time": "2025-07-15T19:01:38.962Z"
   },
   {
    "duration": 14,
    "start_time": "2025-07-15T19:01:38.974Z"
   },
   {
    "duration": 140,
    "start_time": "2025-07-15T19:01:38.990Z"
   },
   {
    "duration": 13,
    "start_time": "2025-07-15T19:01:39.132Z"
   },
   {
    "duration": 40,
    "start_time": "2025-07-15T19:01:39.146Z"
   },
   {
    "duration": 335,
    "start_time": "2025-07-15T19:01:39.188Z"
   },
   {
    "duration": 16,
    "start_time": "2025-07-15T19:01:39.525Z"
   },
   {
    "duration": 18,
    "start_time": "2025-07-15T19:01:39.543Z"
   },
   {
    "duration": 16,
    "start_time": "2025-07-15T19:01:39.563Z"
   },
   {
    "duration": 273,
    "start_time": "2025-07-15T19:01:39.580Z"
   },
   {
    "duration": 0,
    "start_time": "2025-07-15T19:01:39.855Z"
   },
   {
    "duration": 0,
    "start_time": "2025-07-15T19:01:39.856Z"
   },
   {
    "duration": 0,
    "start_time": "2025-07-15T19:01:39.858Z"
   },
   {
    "duration": 0,
    "start_time": "2025-07-15T19:01:39.859Z"
   },
   {
    "duration": 0,
    "start_time": "2025-07-15T19:01:39.861Z"
   },
   {
    "duration": 0,
    "start_time": "2025-07-15T19:01:39.862Z"
   },
   {
    "duration": 0,
    "start_time": "2025-07-15T19:01:39.863Z"
   },
   {
    "duration": 0,
    "start_time": "2025-07-15T19:01:39.864Z"
   },
   {
    "duration": 0,
    "start_time": "2025-07-15T19:01:39.865Z"
   },
   {
    "duration": 0,
    "start_time": "2025-07-15T19:01:39.866Z"
   },
   {
    "duration": 0,
    "start_time": "2025-07-15T19:01:39.867Z"
   },
   {
    "duration": 11,
    "start_time": "2025-07-15T19:03:28.857Z"
   },
   {
    "duration": 671,
    "start_time": "2025-07-15T19:03:29.745Z"
   },
   {
    "duration": 85,
    "start_time": "2025-07-15T19:03:30.418Z"
   },
   {
    "duration": 193,
    "start_time": "2025-07-15T19:03:30.607Z"
   },
   {
    "duration": 84,
    "start_time": "2025-07-15T19:03:30.802Z"
   },
   {
    "duration": 19,
    "start_time": "2025-07-15T19:03:30.953Z"
   },
   {
    "duration": 24,
    "start_time": "2025-07-15T19:03:30.978Z"
   },
   {
    "duration": 43,
    "start_time": "2025-07-15T19:03:31.140Z"
   },
   {
    "duration": 4,
    "start_time": "2025-07-15T19:03:31.237Z"
   },
   {
    "duration": 7,
    "start_time": "2025-07-15T19:03:31.270Z"
   },
   {
    "duration": 6,
    "start_time": "2025-07-15T19:03:31.564Z"
   },
   {
    "duration": 234,
    "start_time": "2025-07-15T19:05:14.313Z"
   },
   {
    "duration": 19417,
    "start_time": "2025-07-15T19:06:14.785Z"
   },
   {
    "duration": 610,
    "start_time": "2025-07-15T19:06:57.806Z"
   },
   {
    "duration": 1123,
    "start_time": "2025-07-15T19:06:58.418Z"
   },
   {
    "duration": 56,
    "start_time": "2025-07-15T19:06:59.543Z"
   },
   {
    "duration": 38,
    "start_time": "2025-07-15T19:06:59.601Z"
   },
   {
    "duration": 10,
    "start_time": "2025-07-15T19:06:59.641Z"
   },
   {
    "duration": 34,
    "start_time": "2025-07-15T19:06:59.653Z"
   },
   {
    "duration": 34,
    "start_time": "2025-07-15T19:06:59.689Z"
   },
   {
    "duration": 45,
    "start_time": "2025-07-15T19:06:59.725Z"
   },
   {
    "duration": 29,
    "start_time": "2025-07-15T19:06:59.772Z"
   },
   {
    "duration": 12,
    "start_time": "2025-07-15T19:06:59.803Z"
   },
   {
    "duration": 8,
    "start_time": "2025-07-15T19:06:59.817Z"
   },
   {
    "duration": 7,
    "start_time": "2025-07-15T19:06:59.827Z"
   },
   {
    "duration": 11,
    "start_time": "2025-07-15T19:06:59.836Z"
   },
   {
    "duration": 6,
    "start_time": "2025-07-15T19:06:59.851Z"
   },
   {
    "duration": 1528,
    "start_time": "2025-07-15T19:06:59.858Z"
   },
   {
    "duration": 14,
    "start_time": "2025-07-15T19:07:01.387Z"
   },
   {
    "duration": 253,
    "start_time": "2025-07-15T19:07:01.403Z"
   },
   {
    "duration": 117,
    "start_time": "2025-07-15T19:07:01.658Z"
   },
   {
    "duration": 107,
    "start_time": "2025-07-15T19:07:01.777Z"
   },
   {
    "duration": 9,
    "start_time": "2025-07-15T19:07:01.886Z"
   },
   {
    "duration": 103,
    "start_time": "2025-07-15T19:07:01.897Z"
   },
   {
    "duration": 478,
    "start_time": "2025-07-15T19:07:02.003Z"
   },
   {
    "duration": 8,
    "start_time": "2025-07-15T19:07:02.482Z"
   },
   {
    "duration": 55,
    "start_time": "2025-07-15T19:07:02.491Z"
   },
   {
    "duration": 61,
    "start_time": "2025-07-15T19:07:02.548Z"
   },
   {
    "duration": 457,
    "start_time": "2025-07-15T19:07:02.611Z"
   },
   {
    "duration": 11,
    "start_time": "2025-07-15T19:07:03.069Z"
   },
   {
    "duration": 662,
    "start_time": "2025-07-15T19:07:03.081Z"
   },
   {
    "duration": 98,
    "start_time": "2025-07-15T19:07:03.745Z"
   },
   {
    "duration": 201,
    "start_time": "2025-07-15T19:07:03.844Z"
   },
   {
    "duration": 163,
    "start_time": "2025-07-15T19:07:04.047Z"
   },
   {
    "duration": 32,
    "start_time": "2025-07-15T19:07:04.212Z"
   },
   {
    "duration": 15,
    "start_time": "2025-07-15T19:07:04.245Z"
   },
   {
    "duration": 64,
    "start_time": "2025-07-15T19:07:04.262Z"
   },
   {
    "duration": 12,
    "start_time": "2025-07-15T19:07:04.328Z"
   },
   {
    "duration": 10,
    "start_time": "2025-07-15T19:07:04.342Z"
   },
   {
    "duration": 15,
    "start_time": "2025-07-15T19:07:04.353Z"
   },
   {
    "duration": 456,
    "start_time": "2025-07-15T19:08:44.042Z"
   },
   {
    "duration": 13,
    "start_time": "2025-07-15T19:10:27.892Z"
   }
  ],
  "colab": {
   "provenance": [],
   "toc_visible": true
  },
  "kernelspec": {
   "display_name": "Python 3 (ipykernel)",
   "language": "python",
   "name": "python3"
  },
  "language_info": {
   "codemirror_mode": {
    "name": "ipython",
    "version": 3
   },
   "file_extension": ".py",
   "mimetype": "text/x-python",
   "name": "python",
   "nbconvert_exporter": "python",
   "pygments_lexer": "ipython3",
   "version": "3.10.4"
  },
  "toc": {
   "base_numbering": 1,
   "nav_menu": {},
   "number_sections": true,
   "sideBar": true,
   "skip_h1_title": true,
   "title_cell": "Table of Contents",
   "title_sidebar": "Contents",
   "toc_cell": false,
   "toc_position": {},
   "toc_section_display": true,
   "toc_window_display": false
  }
 },
 "nbformat": 4,
 "nbformat_minor": 5
}

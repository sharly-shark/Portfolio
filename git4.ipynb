{
 "cells": [
  {
   "cell_type": "markdown",
   "id": "f27ec809",
   "metadata": {},
   "source": [
    "<div style=\"border:solid Chocolate 2px; padding: 40px\">\n",
    "\n",
    "Привет, меня зовут Александр Куимов. Я буду ревьюером твоего проекта. Ты можешь обращаться ко мне на \"ты\"😏 Надеюсь, тебя также не смутит, если я буду обращаться к тебе на \"ты\", но если это неудобно, обязательно скажи об этом!\n",
    "\n",
    "**Пожалуйста, не перемещай, не изменяй и не удаляй мои комментарии**, они будут особенно полезны для нашей работы в случае повторной проверки проекта. \n",
    "\n",
    "Прошу реагировать на все мои комментарии, по которым ты вносишь правки в проект, своими комментариями по шаблону, показанному чуть ниже. На каждое мое замечание нужно отвечать комментарием студента в маркдаун ячейке **ниже моей. Это нужно, чтобы не создавалась путаница**.😉\n",
    "\n",
    "Ты можешь найти мои комментарии, обозначенные <font color='green'>зеленым</font>, <font color='gold'>желтым</font> и <font color='red'>красным</font> цветами, например:\n",
    "\n",
    "<br/>\n",
    "\n",
    "<div class=\"alert alert-success\">\n",
    "<h2> Комментарий ревьюера <a class=\"tocSkip\"> </h2>\n",
    "\n",
    "<b>Все отлично!👍:</b> В случае, если решение на отдельном шаге является полностью правильным.\n",
    "</div>\n",
    "\n",
    "<br/>\n",
    " \n",
    "<div class=\"alert alert-warning\">\n",
    "    <h2> Комментарий ревьюера <a class=\"tocSkip\"> </h2>\n",
    "    \n",
    "<b>Некоторые замечания и рекомендации💡:</b> В случае, когда решение на отдельном шаге станет еще лучше, если внести небольшие коррективы.\n",
    "</div>\n",
    "\n",
    "\n",
    "<br/>\n",
    "<div class=\"alert alert-block alert-danger\">\n",
    "<h2> Комментарий ревьюера <a class=\"tocSkip\"></h2>\n",
    "\n",
    "    \n",
    "<b>На доработку🤔:</b>\n",
    " В случае, когда решение на отдельном шаге требует существенной переработки и внесения правок. Напоминаю, что проект не может быть принят с первого раза, если ревью содержит комментарии, рекомендующие доработать шаги.\n",
    "</div>\n",
    "    \n",
    "    \n",
    "<br/>    \n",
    "<div class=\"alert alert-info\">\n",
    "<h2> Комментарий студента: <a class=\"tocSkip\"> </h2>\n",
    "\n",
    "<b>👋:</b> В такой цветовой ячейке - образце я прошу тебя оставлять твои комментарии. **Обязательно добавь заголовок \"Комментарий студента\" к каждой твоей ячейке**. Если исправляешь проект во второй раз и далее, не забывай пожалуйста указывать номер итерации, например, \"Комментарий студента v.2\". У меня к этому моменту уже появится нумерация в моих комментариях.\n",
    "</div> \n",
    "\n",
    "<br/>    \n",
    "    \n",
    "Увидев у тебя неточность, в первый раз я лишь укажу на ее наличие и дам тебе возможность самому найти и исправить ее. На реальной работе твой руководитель будет поступать также, и я пытаюсь подготовить тебя именно к работе аналитиком. Но если ты пока не справишься с такой задачей - при следующей проверке я дам более точную подсказку!🤓\n",
    "    \n",
    " "
   ]
  },
  {
   "cell_type": "markdown",
   "id": "e06910dd",
   "metadata": {
    "id": "e06910dd"
   },
   "source": [
    "# Проект спринта 7\n",
    "\n",
    "- Автор: Елагина Ксения\n",
    "- Дата: 31.03.2025"
   ]
  },
  {
   "cell_type": "markdown",
   "id": "4149134c",
   "metadata": {
    "id": "4149134c"
   },
   "source": [
    "### Цели и задачи проекта\n",
    "Необходимо изучить объёмы продаж игр разных жанров и региональные предпочтения игроков. Данный анализ поможет заказчику написать статью о развитии индустрии игр в начале XXI века и тем самым привлечь новую аудиторию к игре «Секреты Темнолесья».\n",
    "\n",
    "Для этого необходимо:\n",
    "- Изучить развитие игровой индустрии с 2000 по 2013 год;\n",
    "- Сделать обзор игровых платформ;\n",
    "- Изучить объёмы продаж игр разных жанров;\n",
    "- Изучить региональные предпочтения игроков."
   ]
  },
  {
   "cell_type": "markdown",
   "id": "728986ea",
   "metadata": {
    "id": "728986ea"
   },
   "source": [
    "### Описание данных\n",
    "В проекте будут использованы данные датасета `new_games.csv` с таким описанием:\n",
    "- `Name` — название игры.\n",
    "- `Platform` — название платформы.\n",
    "- `Year of Release` — год выпуска игры.\n",
    "- `Genre` — жанр игры.\n",
    "- `NA sales` — продажи в Северной Америке (в миллионах проданных копий).\n",
    "- `EU sales` — продажи в Европе (в миллионах проданных копий).\n",
    "- `JP sales` — продажи в Японии (в миллионах проданных копий).\n",
    "- `Other sales` — продажи в других странах (в миллионах проданных копий).\n",
    "- `Critic Score` — оценка критиков (от 0 до 100).\n",
    "- `User Score` — оценка пользователей (от 0 до 10).\n",
    "- `Rating` — рейтинг организации ESRB (англ. Entertainment Software Rating Board). Эта ассоциация определяет рейтинг компьютерных игр и присваивает им подходящую возрастную категорию."
   ]
  },
  {
   "cell_type": "markdown",
   "id": "4fecaf95",
   "metadata": {
    "id": "4fecaf95"
   },
   "source": [
    "### Содержимое проекта\n",
    "1. Загрузка и знакомство с данными\n",
    "2. Проверка ошибок и предобработка данных\n",
    "3. Фильтрация данных\n",
    "4. Категоризация данных\n",
    "5. Итоговый вывод"
   ]
  },
  {
   "cell_type": "markdown",
   "id": "5ada1b7c-ed08-430a-aa22-5968d6bd9565",
   "metadata": {},
   "source": [
    "---"
   ]
  },
  {
   "cell_type": "markdown",
   "id": "6f7d21d6",
   "metadata": {
    "id": "6f7d21d6"
   },
   "source": [
    "## 1. Загрузка данных и знакомство с ними"
   ]
  },
  {
   "cell_type": "code",
   "execution_count": 1,
   "id": "ebb66dc5",
   "metadata": {
    "id": "ebb66dc5"
   },
   "outputs": [],
   "source": [
    "# Импортируем библиотеку pandas:\n",
    "import pandas as pd"
   ]
  },
  {
   "cell_type": "code",
   "execution_count": 2,
   "id": "ce87c1db",
   "metadata": {
    "id": "ce87c1db"
   },
   "outputs": [],
   "source": [
    "# Выгрузим данные из датасета new_games.csv в датафрейм new_games:\n",
    "new_games = pd.read_csv('https://code.s3.yandex.net//datasets/new_games.csv')"
   ]
  },
  {
   "cell_type": "code",
   "execution_count": 3,
   "id": "3937acf7",
   "metadata": {
    "id": "3937acf7"
   },
   "outputs": [
    {
     "name": "stdout",
     "output_type": "stream",
     "text": [
      "<class 'pandas.core.frame.DataFrame'>\n",
      "RangeIndex: 16956 entries, 0 to 16955\n",
      "Data columns (total 11 columns):\n",
      " #   Column           Non-Null Count  Dtype  \n",
      "---  ------           --------------  -----  \n",
      " 0   Name             16954 non-null  object \n",
      " 1   Platform         16956 non-null  object \n",
      " 2   Year of Release  16681 non-null  float64\n",
      " 3   Genre            16954 non-null  object \n",
      " 4   NA sales         16956 non-null  float64\n",
      " 5   EU sales         16956 non-null  object \n",
      " 6   JP sales         16956 non-null  object \n",
      " 7   Other sales      16956 non-null  float64\n",
      " 8   Critic Score     8242 non-null   float64\n",
      " 9   User Score       10152 non-null  object \n",
      " 10  Rating           10085 non-null  object \n",
      "dtypes: float64(4), object(7)\n",
      "memory usage: 1.4+ MB\n"
     ]
    }
   ],
   "source": [
    "# Выведем информацию о датафрейме:\n",
    "new_games.info()"
   ]
  },
  {
   "cell_type": "code",
   "execution_count": 4,
   "id": "d7c8eb4b",
   "metadata": {
    "id": "d7c8eb4b"
   },
   "outputs": [
    {
     "data": {
      "text/html": [
       "<div>\n",
       "<style scoped>\n",
       "    .dataframe tbody tr th:only-of-type {\n",
       "        vertical-align: middle;\n",
       "    }\n",
       "\n",
       "    .dataframe tbody tr th {\n",
       "        vertical-align: top;\n",
       "    }\n",
       "\n",
       "    .dataframe thead th {\n",
       "        text-align: right;\n",
       "    }\n",
       "</style>\n",
       "<table border=\"1\" class=\"dataframe\">\n",
       "  <thead>\n",
       "    <tr style=\"text-align: right;\">\n",
       "      <th></th>\n",
       "      <th>Name</th>\n",
       "      <th>Platform</th>\n",
       "      <th>Year of Release</th>\n",
       "      <th>Genre</th>\n",
       "      <th>NA sales</th>\n",
       "      <th>EU sales</th>\n",
       "      <th>JP sales</th>\n",
       "      <th>Other sales</th>\n",
       "      <th>Critic Score</th>\n",
       "      <th>User Score</th>\n",
       "      <th>Rating</th>\n",
       "    </tr>\n",
       "  </thead>\n",
       "  <tbody>\n",
       "    <tr>\n",
       "      <th>0</th>\n",
       "      <td>Wii Sports</td>\n",
       "      <td>Wii</td>\n",
       "      <td>2006.0</td>\n",
       "      <td>Sports</td>\n",
       "      <td>41.36</td>\n",
       "      <td>28.96</td>\n",
       "      <td>3.77</td>\n",
       "      <td>8.45</td>\n",
       "      <td>76.0</td>\n",
       "      <td>8</td>\n",
       "      <td>E</td>\n",
       "    </tr>\n",
       "    <tr>\n",
       "      <th>1</th>\n",
       "      <td>Super Mario Bros.</td>\n",
       "      <td>NES</td>\n",
       "      <td>1985.0</td>\n",
       "      <td>Platform</td>\n",
       "      <td>29.08</td>\n",
       "      <td>3.58</td>\n",
       "      <td>6.81</td>\n",
       "      <td>0.77</td>\n",
       "      <td>NaN</td>\n",
       "      <td>NaN</td>\n",
       "      <td>NaN</td>\n",
       "    </tr>\n",
       "    <tr>\n",
       "      <th>2</th>\n",
       "      <td>Mario Kart Wii</td>\n",
       "      <td>Wii</td>\n",
       "      <td>2008.0</td>\n",
       "      <td>Racing</td>\n",
       "      <td>15.68</td>\n",
       "      <td>12.76</td>\n",
       "      <td>3.79</td>\n",
       "      <td>3.29</td>\n",
       "      <td>82.0</td>\n",
       "      <td>8.3</td>\n",
       "      <td>E</td>\n",
       "    </tr>\n",
       "    <tr>\n",
       "      <th>3</th>\n",
       "      <td>Wii Sports Resort</td>\n",
       "      <td>Wii</td>\n",
       "      <td>2009.0</td>\n",
       "      <td>Sports</td>\n",
       "      <td>15.61</td>\n",
       "      <td>10.93</td>\n",
       "      <td>3.28</td>\n",
       "      <td>2.95</td>\n",
       "      <td>80.0</td>\n",
       "      <td>8</td>\n",
       "      <td>E</td>\n",
       "    </tr>\n",
       "    <tr>\n",
       "      <th>4</th>\n",
       "      <td>Pokemon Red/Pokemon Blue</td>\n",
       "      <td>GB</td>\n",
       "      <td>1996.0</td>\n",
       "      <td>Role-Playing</td>\n",
       "      <td>11.27</td>\n",
       "      <td>8.89</td>\n",
       "      <td>10.22</td>\n",
       "      <td>1.00</td>\n",
       "      <td>NaN</td>\n",
       "      <td>NaN</td>\n",
       "      <td>NaN</td>\n",
       "    </tr>\n",
       "  </tbody>\n",
       "</table>\n",
       "</div>"
      ],
      "text/plain": [
       "                       Name Platform  Year of Release         Genre  NA sales  \\\n",
       "0                Wii Sports      Wii           2006.0        Sports     41.36   \n",
       "1         Super Mario Bros.      NES           1985.0      Platform     29.08   \n",
       "2            Mario Kart Wii      Wii           2008.0        Racing     15.68   \n",
       "3         Wii Sports Resort      Wii           2009.0        Sports     15.61   \n",
       "4  Pokemon Red/Pokemon Blue       GB           1996.0  Role-Playing     11.27   \n",
       "\n",
       "  EU sales JP sales  Other sales  Critic Score User Score Rating  \n",
       "0    28.96     3.77         8.45          76.0          8      E  \n",
       "1     3.58     6.81         0.77           NaN        NaN    NaN  \n",
       "2    12.76     3.79         3.29          82.0        8.3      E  \n",
       "3    10.93     3.28         2.95          80.0          8      E  \n",
       "4     8.89    10.22         1.00           NaN        NaN    NaN  "
      ]
     },
     "execution_count": 4,
     "metadata": {},
     "output_type": "execute_result"
    }
   ],
   "source": [
    "# Выведем первые строки датафрейма на экран:\n",
    "new_games.head()"
   ]
  },
  {
   "cell_type": "markdown",
   "id": "f28c1a62-237f-4b14-9b91-282256ee4387",
   "metadata": {
    "id": "fc561cac"
   },
   "source": [
    "Датасет содержит 11 столбцов и 16956 строк, в которых представлена информация о продажах игр разных жанров и платформ, а также пользовательские и экспертные оценки игр.\n",
    "\n",
    "Изучим типы данных и их корректность:\n",
    "- **Числовые значения с плавающей точкой (float64):** 4 столбца представлены типом `float64`:\n",
    "    - `Year of Release` содержит данные года выпуска игры (для данных подойдет тип `int16`);\n",
    "    - `Critic Score` содержит данные оценки критиков (для данных подойдет целочисленный тип `int8`, оценки от 0 до 100);\n",
    "    - `NA sales` и `Other sales` можно изменить на `float32`, чтобы использовать меньший объем памяти (столбцы хранят данные о продажах в Северной Европе и в других странах в млн шт.)."
   ]
  },
  {
   "cell_type": "markdown",
   "id": "50f84bfe-6835-4068-963f-facfb58799f8",
   "metadata": {
    "id": "81651b8d"
   },
   "source": [
    "\n",
    "- **Строковые данные (object):** остальные 7 столбцов содержат тип `object`:\n",
    "    - `EU sales`, `JP sales`, `User Score` содержат данные о продаже копий в Европе и Японии (в млн шт.), оценку пользователей от 0 до 5 (столбцам подойдет тип данных с плавающей точкой - `float32`, в них содержатся численные значения, которые подойдут данным, выбираем минимальное значение бит);\n",
    "    - `Rating` содержит данные о рейтинге организации ESRB (подойдет категориальный тип `category`, столбец состоит из категорий игр для разных возрастов);\n",
    "    - `Name`, `Platform`, `Genre` - оставшимся столбцам подходит тип данных `object`, потому что данные состоят из строковой информации (название игры, название платформы, жанр игры).\n",
    "\n",
    "Названия столбцов лучше привести к единому виду - начинать название с маленькой буквы и заменить пробелы на нижнее подчеркивание ( _ )."
   ]
  },
  {
   "cell_type": "code",
   "execution_count": 5,
   "id": "2e1ae76c-5cdf-403a-894a-6cd4b324dbea",
   "metadata": {},
   "outputs": [
    {
     "data": {
      "text/plain": [
       "Name                  2\n",
       "Platform              0\n",
       "Year of Release     275\n",
       "Genre                 2\n",
       "NA sales              0\n",
       "EU sales              0\n",
       "JP sales              0\n",
       "Other sales           0\n",
       "Critic Score       8714\n",
       "User Score         6804\n",
       "Rating             6871\n",
       "dtype: int64"
      ]
     },
     "execution_count": 5,
     "metadata": {},
     "output_type": "execute_result"
    }
   ],
   "source": [
    "# Посчитаем количество пропусков в столбцах:\n",
    "new_games.isna().sum()"
   ]
  },
  {
   "cell_type": "markdown",
   "id": "988f2376-fa80-4c5d-b2ce-6355102a3cdf",
   "metadata": {},
   "source": [
    "Большинство пропусков встречаются в оценках критиков и пользователей, рейтинге ERSB."
   ]
  },
  {
   "cell_type": "markdown",
   "id": "1d3ab1da",
   "metadata": {},
   "source": [
    "<div class=\"alert alert-success\">\n",
    "<h2> Комментарий ревьюера <a class=\"tocSkip\"> </h2>\n",
    "\n",
    "<b>Все отлично!👍:  </b> \n",
    "    \n",
    "С данными познакомились, проведен первичный аналитический осмотр!) Молодец, что детально изучаешь каждый столбец и указываешь основные ошибки\n",
    "    \n",
    "Полученная информация поможет нам в дальнейшем с предобработкой данных\n",
    "</div>"
   ]
  },
  {
   "cell_type": "markdown",
   "id": "537724b3-1e25-4155-8df0-3f08787378eb",
   "metadata": {},
   "source": [
    "---"
   ]
  },
  {
   "cell_type": "markdown",
   "id": "7cdc7d08-3291-4620-ac9b-f45a821a1898",
   "metadata": {},
   "source": [
    "## Проверка ошибок в данных и их предобработка"
   ]
  },
  {
   "cell_type": "markdown",
   "id": "774bf76e",
   "metadata": {
    "id": "774bf76e"
   },
   "source": [
    "### Названия столбцов датафрейма"
   ]
  },
  {
   "cell_type": "code",
   "execution_count": 6,
   "id": "b9276a2b",
   "metadata": {
    "id": "b9276a2b"
   },
   "outputs": [
    {
     "data": {
      "text/plain": [
       "Index(['Name', 'Platform', 'Year of Release', 'Genre', 'NA sales', 'EU sales',\n",
       "       'JP sales', 'Other sales', 'Critic Score', 'User Score', 'Rating'],\n",
       "      dtype='object')"
      ]
     },
     "execution_count": 6,
     "metadata": {},
     "output_type": "execute_result"
    }
   ],
   "source": [
    "# Выведем названия всех столбцов датафрейма:\n",
    "new_games.columns"
   ]
  },
  {
   "cell_type": "code",
   "execution_count": 7,
   "id": "d554563c",
   "metadata": {
    "id": "d554563c"
   },
   "outputs": [
    {
     "data": {
      "text/plain": [
       "Index(['name', 'platform', 'year_of_release', 'genre', 'north_america_sales',\n",
       "       'europe_sales', 'japan_sales', 'other_sales', 'critic_score',\n",
       "       'user_score', 'ersb_rating'],\n",
       "      dtype='object')"
      ]
     },
     "execution_count": 7,
     "metadata": {},
     "output_type": "execute_result"
    }
   ],
   "source": [
    "# Приведем все столбцы к единому стилю написания:\n",
    "new_columns_name = ['name', 'platform', 'year_of_release', 'genre', 'north_america_sales', 'europe_sales',\n",
    "       'japan_sales', 'other_sales', 'critic_score', 'user_score', 'ersb_rating']\n",
    "new_games.columns = new_columns_name\n",
    "new_games.columns"
   ]
  },
  {
   "cell_type": "markdown",
   "id": "adf391b1",
   "metadata": {},
   "source": [
    "<div class=\"alert alert-success\">\n",
    "<h2> Комментарий ревьюера <a class=\"tocSkip\"> </h2>\n",
    "\n",
    "<b>Все отлично!👍:  </b> \n",
    "    \n",
    "Отлично, названия столбцов приведены к стилю snake_case, это делает датафрейм более удобным для работы и чтения кода \n",
    "    \n",
    "В целом тут можно использовать цепочку методов, добавлю другие альтернативные способы переименования названия столбцов:      \n",
    "        \n",
    "- чтобы переименовать колонки, можно также использовать метод `rename()`\n",
    "\n",
    "\n",
    "\n",
    "- также интересным является подход с использованием list comprehensions:\n",
    "        \n",
    "`df.columns = [x.lower().replace(' ', '_') for x in df.columns.values]`\n",
    "    \n",
    "    \n",
    "Данный подход использует list comprehensions, что может быть быстрее на больших датасетах благодаря оптимизации Python для list comprehensions. Этот метод также предоставляет гибкость в добавлении дополнительных операций или условий при необходимости. Однако, он может быть менее очевидным для тех, кто только начинает работать с Python. Этот подход \"интересен\" тем, что он показывает, как одна и та же задача может быть решена разными способами, и некоторые из них могут быть более эффективными или гибкими в зависимости от конкретного контекста   \n",
    "    \n",
    "            "
   ]
  },
  {
   "cell_type": "markdown",
   "id": "41bc6bf8",
   "metadata": {
    "id": "41bc6bf8"
   },
   "source": [
    "### Наличие пропусков в данных"
   ]
  },
  {
   "cell_type": "code",
   "execution_count": 8,
   "id": "1f1a68f6-64ef-41e0-9b0c-00644587fd44",
   "metadata": {},
   "outputs": [
    {
     "data": {
      "text/plain": [
       "name                      2\n",
       "platform                  0\n",
       "year_of_release         275\n",
       "genre                     2\n",
       "north_america_sales       0\n",
       "europe_sales              0\n",
       "japan_sales               0\n",
       "other_sales               0\n",
       "critic_score           8714\n",
       "user_score             6804\n",
       "ersb_rating            6871\n",
       "dtype: int64"
      ]
     },
     "execution_count": 8,
     "metadata": {},
     "output_type": "execute_result"
    }
   ],
   "source": [
    "# Посчитаем количество пропусков в столбцах:\n",
    "new_games.isna().sum()"
   ]
  },
  {
   "cell_type": "code",
   "execution_count": 9,
   "id": "b8723990-c28a-486a-a429-dbf7a6c1383a",
   "metadata": {},
   "outputs": [
    {
     "data": {
      "text/plain": [
       "name                    0.011795\n",
       "platform                0.000000\n",
       "year_of_release         1.621845\n",
       "genre                   0.011795\n",
       "north_america_sales     0.000000\n",
       "europe_sales            0.000000\n",
       "japan_sales             0.000000\n",
       "other_sales             0.000000\n",
       "critic_score           51.391838\n",
       "user_score             40.127389\n",
       "ersb_rating            40.522529\n",
       "dtype: float64"
      ]
     },
     "execution_count": 9,
     "metadata": {},
     "output_type": "execute_result"
    }
   ],
   "source": [
    "# Посчитаем процент пропусков в столбцах:\n",
    "new_games.isna().mean()*100"
   ]
  },
  {
   "cell_type": "markdown",
   "id": "dcc47f29-436c-43bb-b3f4-c1373a3726ba",
   "metadata": {},
   "source": [
    "В данных наблюдаются пропуски в следующих столбцах:\n",
    "- `name`: в 2 строках (0.01% данных) отсутствуют названия игр. Поскольку это незначительная доля данных, такие строки можно удалить, т.к. они не повлияют на анализ;\n",
    "- `genre`: в 2 строках (0.01% данных) отсутствует информация о названии жанра. Как и в предыдущем случае, эти строки можно удалить;\n",
    "- `year_of_release`: в 275 строках (1.6% данных) отсутствует год выпуска игры. Необходимо будет проанализировать игры с 2000 по 2013 годы, поэтому можно заменить пропуски на значение-индикатор; \n",
    "- `user_score`: в 6804 строках (40.1% данных) отсутствует информация об оценке пользователей. Вероятно, ни в одном из источников не было данных об оценке игр. Пропуски в этом параметре могут негативно повлиять на анализ популярности игр, заменим их на значение-индикатор;\n",
    "- `ersb_rating `: в 6871 строках (40.5% данных) отсутствует возрастной рейтинг ESRB. Анализ игр несильно зависит от данного параметра, поэтому пропуски можно оставить;\n",
    "- `critic_score`: в 8714 строках (51.4% данных) отсутствует информация об оценке критиков. Пропуски составляют более, чем половину датасета, что может затруднить анализ самых популярных игр по оценкам критиков, заменим их на значение-индикатор."
   ]
  },
  {
   "cell_type": "markdown",
   "id": "f9cb6db8",
   "metadata": {},
   "source": [
    "<div class=\"alert alert-success\">\n",
    "<h2> Комментарий ревьюера <a class=\"tocSkip\"> </h2>\n",
    "\n",
    "<b>Все отлично!👍:  </b> \n",
    "\n",
    "Проверить колличество пропусков в % можно еще вот так: \n",
    "    \n",
    "    \n",
    "    pd.DataFrame(round(df.isna().mean()*100,)).style.background_gradient('coolwarm')\n",
    "    \n",
    "- Можно также использовать f-строку для вывода процентов и округления данных :.2%   https://python-scripts.com/f-strings"
   ]
  },
  {
   "cell_type": "code",
   "execution_count": 10,
   "id": "48222c25-ec56-4e53-90fd-ddf68ee3fe8e",
   "metadata": {},
   "outputs": [],
   "source": [
    "# Удалим строки с пропусками в name и genre:\n",
    "new_games = new_games.dropna(subset = ['name', 'genre'])"
   ]
  },
  {
   "cell_type": "code",
   "execution_count": 11,
   "id": "9e53cff4",
   "metadata": {
    "id": "9e53cff4"
   },
   "outputs": [],
   "source": [
    "# Заменим пропуски в year_of_release, user_score и critic_score на значение (-1):\n",
    "new_games['year_of_release'] = new_games['year_of_release'].fillna(-1)\n",
    "new_games['user_score'] = new_games['user_score'].fillna(-1)\n",
    "new_games['critic_score'] = new_games['critic_score'].fillna(-1)"
   ]
  },
  {
   "cell_type": "markdown",
   "id": "564ac407",
   "metadata": {},
   "source": [
    "<div class=\"alert alert-success\">\n",
    "<h2> Комментарий ревьюера <a class=\"tocSkip\"> </h2>\n",
    "\n",
    "<b>Все отлично!👍:  </b>  \n",
    "    \n",
    "Пропуски были изучены и проведена их обработка. молодец, что используешь индикаторы при заполнении пропусков)    "
   ]
  },
  {
   "cell_type": "markdown",
   "id": "3b0eaf24-8c9a-4433-aa5d-623ed6f23271",
   "metadata": {},
   "source": [
    "### 2.2. Типы данных"
   ]
  },
  {
   "cell_type": "code",
   "execution_count": 12,
   "id": "5033ee32",
   "metadata": {
    "id": "5033ee32"
   },
   "outputs": [
    {
     "data": {
      "text/plain": [
       "name                    object\n",
       "platform                object\n",
       "year_of_release        float64\n",
       "genre                   object\n",
       "north_america_sales    float64\n",
       "europe_sales            object\n",
       "japan_sales             object\n",
       "other_sales            float64\n",
       "critic_score           float64\n",
       "user_score              object\n",
       "ersb_rating             object\n",
       "dtype: object"
      ]
     },
     "execution_count": 12,
     "metadata": {},
     "output_type": "execute_result"
    }
   ],
   "source": [
    "# Выведем информацию о типе данных всех столбцов датафрейма:\n",
    "new_games.dtypes"
   ]
  },
  {
   "cell_type": "markdown",
   "id": "7d4ad0a8-b36f-453f-8edd-81f949670a8f",
   "metadata": {
    "id": "0f1c91a8"
   },
   "source": [
    "При знакомстве с данными было установлено, что большинство столбцов имеют неверный тип данных. Поэтому необходимо их преобразовать для дальнейшего анализа."
   ]
  },
  {
   "cell_type": "code",
   "execution_count": 13,
   "id": "c03fa2b1-fc8a-4f38-8230-f8c014b67b20",
   "metadata": {},
   "outputs": [],
   "source": [
    "# Приведем тип float64 к int в столбце year_of_release с понижением разрядности:\n",
    "new_games['year_of_release'] = pd.to_numeric(new_games['year_of_release'], downcast='integer')"
   ]
  },
  {
   "cell_type": "code",
   "execution_count": 14,
   "id": "bda020dd-c989-4f0c-9eec-ab93f56cf30d",
   "metadata": {},
   "outputs": [],
   "source": [
    "# Приведем тип float64 к int в столбце critic_score с понижением разрядности:\n",
    "new_games['critic_score'] = pd.to_numeric(new_games['critic_score'], downcast='integer')"
   ]
  },
  {
   "cell_type": "code",
   "execution_count": 15,
   "id": "4b502054-b298-4428-8685-0612b9156626",
   "metadata": {},
   "outputs": [],
   "source": [
    "# Преобразуем типы данных north_america_sales, other_sales с понижением разрядности:\n",
    "for column in ['north_america_sales', 'other_sales']:\n",
    "    new_games[column] = pd.to_numeric(new_games[column], downcast = 'float')"
   ]
  },
  {
   "cell_type": "markdown",
   "id": "ba907564-34f5-4b4d-a8a7-94591596972d",
   "metadata": {},
   "source": [
    "Выведем уникальные значения столбцов `europe_sales`, `japan_sales`, `user_score`, чтобы понять, почему данные имеют тип `object`."
   ]
  },
  {
   "cell_type": "code",
   "execution_count": 16,
   "id": "330ae04e-016a-431d-b5dd-dbd07edd9624",
   "metadata": {},
   "outputs": [
    {
     "data": {
      "text/plain": [
       "array(['28.96', '3.58', '12.76', '10.93', '8.89', '2.26', '9.14', '9.18',\n",
       "       '6.94', '0.63', '10.95', '7.47', '6.18', '8.03', '4.89', '8.49',\n",
       "       '9.09', '0.4', '3.75', '9.2', '4.46', '2.71', '3.44', '5.14',\n",
       "       '5.49', '3.9', '5.35', '3.17', '5.09', '4.24', '5.04', '5.86',\n",
       "       '3.68', '4.19', '5.73', '3.59', '4.51', '2.55', '4.02', '4.37',\n",
       "       '6.31', '3.45', '2.81', '2.85', '3.49', '0.01', '3.35', '2.04',\n",
       "       '3.07', '3.87', '3.0', '4.82', '3.64', '2.15', '3.69', '2.65',\n",
       "       '2.56', '3.11', '3.14', '1.94', '1.95', '2.47', '2.28', '3.42',\n",
       "       '3.63', '2.36', '1.71', '1.85', '2.79', '1.24', '6.12', '1.53',\n",
       "       '3.47', '2.24', '5.01', '2.01', '1.72', '2.07', '6.42', '3.86',\n",
       "       '0.45', '3.48', '1.89', '5.75', '2.17', '1.37', '2.35', '1.18',\n",
       "       '2.11', '1.88', '2.83', '2.99', '2.89', '3.27', '2.22', '2.14',\n",
       "       '1.45', '1.75', '1.04', '1.77', '3.02', '2.75', '2.16', '1.9',\n",
       "       '2.59', '2.2', '4.3', '0.93', '2.53', '2.52', '1.79', '1.3', '2.6',\n",
       "       '1.58', '1.2', '1.56', '1.34', '1.26', '0.83', '6.21', '2.8',\n",
       "       '1.59', '1.73', '4.33', '1.83', '0.0', '2.18', '1.98', '1.47',\n",
       "       '0.67', '1.55', '1.91', '0.69', '0.6', '1.93', '1.64', '0.55',\n",
       "       '2.19', '1.11', '2.29', '2.5', '0.96', '1.21', '1.12', '0.77',\n",
       "       '1.69', '1.08', '0.79', '2.37', '2.46', '0.26', '0.75', '1.25',\n",
       "       '2.43', '0.98', '0.74', '2.23', '0.61', '2.45', '1.41', '1.8',\n",
       "       '3.28', '1.16', '1.99', '1.38', '1.36', '1.17', '1.19', '0.99',\n",
       "       '1.68', '2.0', '1.33', '1.57', '1.48', '2.1', '1.27', '1.97',\n",
       "       '0.91', '1.39', '1.96', '0.24', '1.51', '0.14', '1.29', '2.39',\n",
       "       '1.03', '0.5', '0.58', '1.31', '2.02', '1.32', '1.01', '2.27',\n",
       "       '2.3', '1.82', '2.78', '0.44', '0.48', '0.27', '0.21', '2.48',\n",
       "       '0.51', '1.52', '0.04', '0.28', '1.35', '0.87', '2.13', '1.13',\n",
       "       '1.76', '0.76', '2.12', '0.66', '1.6', '1.44', '1.43', '1.7',\n",
       "       '0.47', '1.87', '0.86', '0.73', '1.28', '0.81', '1.09', '0.68',\n",
       "       '1.22', '1.4', '1.02', '1.49', '1.14', '0.49', '0.9', '0.38',\n",
       "       '1.42', '0.95', '1.62', '0.71', '1.05', '0.92', '0.33', '0.3',\n",
       "       '1.67', '1.0', '0.89', '0.1', '0.72', '0.59', '0.56', '0.16',\n",
       "       '0.97', '0.62', 'unknown', '0.85', '0.94', '0.88', '0.84', '1.06',\n",
       "       '0.2', '1.15', '0.8', '1.1', '0.7', '1.92', '0.32', '0.15', '0.53',\n",
       "       '0.09', '1.46', '0.29', '0.22', '1.23', '0.07', '0.17', '0.54',\n",
       "       '0.36', '0.31', '1.84', '0.52', '0.11', '0.64', '0.12', '2.05',\n",
       "       '1.63', '0.82', '0.08', '0.57', '1.65', '0.19', '0.02', '0.43',\n",
       "       '0.25', '1.5', '0.18', '0.39', '0.13', '1.07', '0.46', '0.41',\n",
       "       '0.06', '0.03', '0.37', '0.05', '0.23', '0.65', '0.42', '0.34',\n",
       "       '0.35', '0.78'], dtype=object)"
      ]
     },
     "execution_count": 16,
     "metadata": {},
     "output_type": "execute_result"
    }
   ],
   "source": [
    "new_games['europe_sales'].unique()"
   ]
  },
  {
   "cell_type": "code",
   "execution_count": 17,
   "id": "71eb4695-ac22-402d-b856-6a31ab86a6a8",
   "metadata": {},
   "outputs": [
    {
     "data": {
      "text/plain": [
       "array(['3.77', '6.81', '3.79', '3.28', '10.22', '4.22', '6.5', '2.93',\n",
       "       '4.7', '0.28', '1.93', '4.13', '7.2', '3.6', '0.24', '2.53',\n",
       "       '0.98', '0.41', '3.54', '4.16', '6.04', '4.18', '3.84', '0.06',\n",
       "       '0.47', '5.38', '5.32', '5.65', '1.87', '0.13', '3.12', '0.36',\n",
       "       '0.11', '4.35', '0.65', '0.07', '0.08', '0.49', '0.3', '2.66',\n",
       "       '2.69', '0.48', '0.38', '5.33', '1.91', '3.96', '3.1', '1.1',\n",
       "       '1.2', '0.14', '2.54', '2.14', '0.81', '2.12', '0.44', '3.15',\n",
       "       '1.25', '0.04', '0.0', '2.47', '2.23', '1.69', '0.01', '3.0',\n",
       "       '0.02', '4.39', '1.98', '0.1', '3.81', '0.05', '2.49', '1.58',\n",
       "       '3.14', '2.73', '0.66', '0.22', '3.63', '1.45', '1.31', '2.43',\n",
       "       '0.7', '0.35', '1.4', '0.6', '2.26', '1.42', '1.28', '1.39',\n",
       "       '0.87', '0.17', '0.94', '0.19', '0.21', '1.6', '0.16', '1.03',\n",
       "       '0.25', '2.06', '1.49', '1.29', '0.09', '2.87', '0.03', '0.78',\n",
       "       '0.83', '2.33', '2.02', '1.36', '1.81', '1.97', '0.91', '0.99',\n",
       "       '0.95', '2.0', '1.01', '2.78', '2.11', '1.09', '0.2', '1.9',\n",
       "       '1.27', '3.61', '1.57', '2.2', '1.7', '1.08', '0.15', '1.11',\n",
       "       '0.29', '1.54', '0.12', '0.89', '4.87', '1.52', '1.32', '1.15',\n",
       "       '4.1', '1.46', '0.46', '1.05', '1.61', '0.26', '1.38', '0.62',\n",
       "       '0.73', '0.57', '0.31', '0.58', '1.76', '2.1', '0.9', '0.51',\n",
       "       '0.64', '2.46', '0.23', '0.37', '0.92', '1.07', '2.62', '1.12',\n",
       "       '0.54', '0.27', '0.59', '3.67', '0.55', '1.75', '3.44', '0.33',\n",
       "       '2.55', '2.32', '2.79', '0.74', '3.18', '0.82', '0.77', '0.4',\n",
       "       '2.35', '3.19', '0.8', '0.76', '3.03', '0.88', 'unknown', '0.45',\n",
       "       '1.16', '0.34', '1.19', '1.13', '2.13', '1.96', '0.71', '1.04',\n",
       "       '2.68', '0.68', '2.65', '0.96', '2.41', '0.52', '0.18', '1.34',\n",
       "       '1.48', '2.34', '1.06', '1.21', '2.29', '1.63', '2.05', '2.17',\n",
       "       '1.56', '1.35', '1.33', '0.63', '0.79', '0.75', '0.53', '1.53',\n",
       "       '1.3', '0.39', '0.69', '0.42', '0.93', '0.56', '0.84', '0.72',\n",
       "       '0.32', '1.71', '1.65', '0.61', '1.51', '1.5', '1.44', '1.24',\n",
       "       '1.18', '1.37', '1.0', '1.26', '0.85', '0.43', '0.67', '1.14',\n",
       "       '0.86', '1.17', '0.5', '1.02', '0.97'], dtype=object)"
      ]
     },
     "execution_count": 17,
     "metadata": {},
     "output_type": "execute_result"
    }
   ],
   "source": [
    "new_games['japan_sales'].unique()"
   ]
  },
  {
   "cell_type": "code",
   "execution_count": 18,
   "id": "49e82b7d-f352-4b67-925e-3cfc659afdf2",
   "metadata": {},
   "outputs": [
    {
     "data": {
      "text/plain": [
       "array(['8', -1, '8.3', '8.5', '6.6', '8.4', '8.6', '7.7', '6.3', '7.4',\n",
       "       '8.2', '9', '7.9', '8.1', '8.7', '7.1', '3.4', '5.3', '4.8', '3.2',\n",
       "       '8.9', '6.4', '7.8', '7.5', '2.6', '7.2', '9.2', '7', '7.3', '4.3',\n",
       "       '7.6', '5.7', '5', '9.1', '6.5', 'tbd', '8.8', '6.9', '9.4', '6.8',\n",
       "       '6.1', '6.7', '5.4', '4', '4.9', '4.5', '9.3', '6.2', '4.2', '6',\n",
       "       '3.7', '4.1', '5.8', '5.6', '5.5', '4.4', '4.6', '5.9', '3.9',\n",
       "       '3.1', '2.9', '5.2', '3.3', '4.7', '5.1', '3.5', '2.5', '1.9', '3',\n",
       "       '2.7', '2.2', '2', '9.5', '2.1', '3.6', '2.8', '1.8', '3.8', '0',\n",
       "       '1.6', '9.6', '2.4', '1.7', '1.1', '0.3', '1.5', '0.7', '1.2',\n",
       "       '2.3', '0.5', '1.3', '0.2', '0.6', '1.4', '0.9', '1', '9.7'],\n",
       "      dtype=object)"
      ]
     },
     "execution_count": 18,
     "metadata": {},
     "output_type": "execute_result"
    }
   ],
   "source": [
    "new_games['user_score'].unique()"
   ]
  },
  {
   "cell_type": "markdown",
   "id": "d936985c-b537-44cc-8555-0e9742276e9f",
   "metadata": {},
   "source": [
    "Вероятнее всего в открытых источниках, из которых извлекали данные, были допущены ошибки. Поэтому среди численных значений попались строковые. Преобразуем тип данных `object` к `float`:"
   ]
  },
  {
   "cell_type": "code",
   "execution_count": 19,
   "id": "247a6cf7",
   "metadata": {
    "id": "247a6cf7"
   },
   "outputs": [],
   "source": [
    "# Преобразуем тип данных object к float в столбцах europe_sales, japan_sales, user_score с понижением разрядности:\n",
    "for column in ['europe_sales', 'japan_sales', 'user_score']:\n",
    "    new_games[column] = pd.to_numeric(new_games[column], errors = 'coerce', downcast='float')"
   ]
  },
  {
   "cell_type": "code",
   "execution_count": 20,
   "id": "fbabd0a0-f572-4a6d-8901-22d071d462d1",
   "metadata": {
    "id": "cc2d1374"
   },
   "outputs": [
    {
     "data": {
      "text/plain": [
       "year_of_release          int16\n",
       "critic_score              int8\n",
       "north_america_sales    float32\n",
       "other_sales            float32\n",
       "europe_sales           float32\n",
       "japan_sales            float32\n",
       "user_score             float32\n",
       "dtype: object"
      ]
     },
     "execution_count": 20,
     "metadata": {},
     "output_type": "execute_result"
    }
   ],
   "source": [
    "# Проверим результаты преобразований:\n",
    "new_games[['year_of_release','critic_score','north_america_sales','other_sales',\n",
    " 'europe_sales','japan_sales', 'user_score']].dtypes"
   ]
  },
  {
   "cell_type": "markdown",
   "id": "bbbe3bda",
   "metadata": {
    "id": "bbbe3bda"
   },
   "source": [
    "Для оптимизации работы с данными в датафрейме были сделаны такие изменения типов данных:\n",
    "\n",
    "- `year_of_release`: тип данных изменён с `float64` на `int16`;\n",
    "- `critic_score`: тип данных изменён с `float64` на `int8`;\n",
    "- `north_america_sales`, `other_sales`: тип данных изменён с `float64` на `float32`;\n",
    "- `europe_sales`, `japan_sales`, `user_score`: тип данных изменён с `object` на `float32`."
   ]
  },
  {
   "cell_type": "markdown",
   "id": "bcb35646",
   "metadata": {},
   "source": [
    "<div class=\"alert alert-success\">\n",
    "<h2> Комментарий ревьюера <a class=\"tocSkip\"> </h2>\n",
    "\n",
    "<b>Все отлично!👍:  </b> \n",
    "    \n",
    "Использование pd.to_numeric() с параметром errors='coerce' для обработки некорректных значений — это правильное решение, которое позволяет избежать ошибок при преобразовании \n",
    "    \n",
    "<div class=\"alert alert-warning\">\n",
    "\n",
    "    \n",
    "<b>Некоторые замечания и рекомендации💡:</b> \n",
    "    \n",
    "Перед проведением обработки типов данных желательно посмотреть на уникальные значения в столбцах eu_sales, jp_sales и user_score, далее найти причины некорректных типов. Затем уже можно принимать решение об обработке    "
   ]
  },
  {
   "cell_type": "markdown",
   "id": "67f50df3-f222-480c-8c44-43a81d54567b",
   "metadata": {},
   "source": [
    "<br/>    \n",
    "<div class=\"alert alert-info\">\n",
    "<h2> Комментарий студентки v.2: <a class=\"tocSkip\"> </h2>\n",
    "\n",
    "<b>👋:</b> Я приняла к сведению рекомендации и добавила информацию об уникальных значениях [16]-[18].\n",
    "</div> "
   ]
  },
  {
   "cell_type": "markdown",
   "id": "62871bd9",
   "metadata": {},
   "source": [
    "<div class=\"alert alert-success\">\n",
    "<h2> Комментарий ревьюера 2 <a class=\"tocSkip\"> </h2>\n",
    "\n",
    "<b>Все отлично!👍:</b>"
   ]
  },
  {
   "cell_type": "markdown",
   "id": "a63363fd",
   "metadata": {
    "id": "a63363fd"
   },
   "source": [
    "### 2.4. Явные и неявные дубликаты в данных\n"
   ]
  },
  {
   "cell_type": "markdown",
   "id": "b495938d-3888-41b6-b171-1988949f4902",
   "metadata": {},
   "source": [
    "Изучим уникальные значения в столбцах `platform`, `genre`, `user_score` и `ersb_rating`:"
   ]
  },
  {
   "cell_type": "code",
   "execution_count": 21,
   "id": "88212a4f-f81f-425a-99e7-6221411b6bf9",
   "metadata": {},
   "outputs": [
    {
     "data": {
      "text/plain": [
       "array(['Wii', 'NES', 'GB', 'DS', 'X360', 'PS3', 'PS2', 'SNES', 'GBA',\n",
       "       'PS4', '3DS', 'N64', 'PS', 'XB', 'PC', '2600', 'PSP', 'XOne',\n",
       "       'WiiU', 'GC', 'GEN', 'DC', 'PSV', 'SAT', 'SCD', 'WS', 'NG', 'TG16',\n",
       "       '3DO', 'GG', 'PCFX'], dtype=object)"
      ]
     },
     "execution_count": 21,
     "metadata": {},
     "output_type": "execute_result"
    }
   ],
   "source": [
    "new_games['platform'].unique()"
   ]
  },
  {
   "cell_type": "code",
   "execution_count": 22,
   "id": "491c9c39",
   "metadata": {
    "id": "491c9c39"
   },
   "outputs": [
    {
     "data": {
      "text/plain": [
       "array(['Sports', 'Platform', 'Racing', 'Role-Playing', 'Puzzle', 'Misc',\n",
       "       'Shooter', 'Simulation', 'Action', 'Fighting', 'Adventure',\n",
       "       'Strategy', 'MISC', 'ROLE-PLAYING', 'RACING', 'ACTION', 'SHOOTER',\n",
       "       'FIGHTING', 'SPORTS', 'PLATFORM', 'ADVENTURE', 'SIMULATION',\n",
       "       'PUZZLE', 'STRATEGY'], dtype=object)"
      ]
     },
     "execution_count": 22,
     "metadata": {},
     "output_type": "execute_result"
    }
   ],
   "source": [
    "new_games['genre'].unique()"
   ]
  },
  {
   "cell_type": "code",
   "execution_count": 23,
   "id": "c4fe513a-5f5d-441f-84e5-5fbdd85fc797",
   "metadata": {},
   "outputs": [
    {
     "data": {
      "text/plain": [
       "array(['E', nan, 'M', 'T', 'E10+', 'K-A', 'AO', 'EC', 'RP'], dtype=object)"
      ]
     },
     "execution_count": 23,
     "metadata": {},
     "output_type": "execute_result"
    }
   ],
   "source": [
    "new_games['ersb_rating'].unique()"
   ]
  },
  {
   "cell_type": "markdown",
   "id": "29e941a3-28ef-456d-aa34-7f10d2d07536",
   "metadata": {},
   "source": [
    "  "
   ]
  },
  {
   "cell_type": "markdown",
   "id": "a852a559-26de-44a8-b458-eff41cf8d20a",
   "metadata": {},
   "source": [
    "Среди названий жанров присутствуют неявные дубликаты. Необходимо будет привести все данные к единому виду, чтобы избежать повторов. В других столбцах повторы отсутствуют."
   ]
  },
  {
   "cell_type": "code",
   "execution_count": 24,
   "id": "f2d77da9-396c-42ae-926b-8cd83840fe64",
   "metadata": {},
   "outputs": [
    {
     "data": {
      "text/plain": [
       "0              sports\n",
       "1            platform\n",
       "2              racing\n",
       "3              sports\n",
       "4        role-playing\n",
       "             ...     \n",
       "16951          action\n",
       "16952          sports\n",
       "16953       adventure\n",
       "16954        platform\n",
       "16955      simulation\n",
       "Name: genre, Length: 16954, dtype: object"
      ]
     },
     "execution_count": 24,
     "metadata": {},
     "output_type": "execute_result"
    }
   ],
   "source": [
    "# Приведем значения в столбце genre к нижнему регистру:\n",
    "new_games['genre'] = new_games['genre'].str.lower()\n",
    "new_games['genre']"
   ]
  },
  {
   "cell_type": "markdown",
   "id": "dd972690",
   "metadata": {},
   "source": [
    "<br/>\n",
    "<div class=\"alert alert-block alert-danger\">\n",
    "<h2> Комментарий ревьюера  <a class=\"tocSkip\"></h2>\n",
    "\n",
    "    \n",
    "<b>На доработку🤔:</b> \n",
    "\n",
    "Приводить признаки к нижнему/верхнему регистру нужно с перезаписыванием, например:\n",
    "\n",
    "    df['...'] = df['...'].str.lower()\n",
    "  "
   ]
  },
  {
   "cell_type": "markdown",
   "id": "60d2e5ef-7128-4ca3-8abc-9b555b0a4296",
   "metadata": {},
   "source": [
    "<br/>    \n",
    "<div class=\"alert alert-info\">\n",
    "<h2> Комментарий студентки v.2: <a class=\"tocSkip\"> </h2>\n",
    "\n",
    "<b>👋:</b> Исправила [24].\n",
    "</div> "
   ]
  },
  {
   "cell_type": "markdown",
   "id": "6f59757e",
   "metadata": {},
   "source": [
    "<div class=\"alert alert-success\">\n",
    "<h2> Комментарий ревьюера 2 <a class=\"tocSkip\"> </h2>\n",
    "\n",
    "<b>Все отлично!👍:</b>"
   ]
  },
  {
   "cell_type": "code",
   "execution_count": 25,
   "id": "fc5c91b5",
   "metadata": {
    "id": "fc5c91b5"
   },
   "outputs": [
    {
     "data": {
      "text/plain": [
       "np.int64(241)"
      ]
     },
     "execution_count": 25,
     "metadata": {},
     "output_type": "execute_result"
    }
   ],
   "source": [
    "# Проверим наличие явных дубликатов:\n",
    "new_games.duplicated().sum()"
   ]
  },
  {
   "cell_type": "code",
   "execution_count": 26,
   "id": "2f61e076",
   "metadata": {
    "id": "2f61e076"
   },
   "outputs": [],
   "source": [
    "# Удалим явные дубликаты:\n",
    "new_games.drop_duplicates(inplace=True)"
   ]
  },
  {
   "cell_type": "code",
   "execution_count": 27,
   "id": "29e57705",
   "metadata": {
    "id": "29e57705"
   },
   "outputs": [
    {
     "data": {
      "text/plain": [
       "np.int64(0)"
      ]
     },
     "execution_count": 27,
     "metadata": {},
     "output_type": "execute_result"
    }
   ],
   "source": [
    "# Проверим результат преобразования:\n",
    "new_games.duplicated().sum()"
   ]
  },
  {
   "cell_type": "markdown",
   "id": "54616bae",
   "metadata": {
    "id": "54616bae"
   },
   "source": [
    "Неявные дубликаты присутствовали только в столбце `genre`, данные которого были приведены к нижнему регистру.\n",
    "Явные дубликаты были найдены в 182 строках, после чего их удалили."
   ]
  },
  {
   "cell_type": "markdown",
   "id": "cf4d19e8-2c92-4921-bd5f-9f8b86ec64e7",
   "metadata": {
    "id": "8548f894"
   },
   "source": [
    "**К данному этапу была проведена полная предобработка данных:**\n",
    "- все столбцы привели к единому стилю;\n",
    "- проверили данные на наличие пропусков и провели преобразования для исключения ошибок при дальнейшем анализе;\n",
    "- преобразовали столбцы к правильным типам данных;\n",
    "- нашли явные и неявные дубликаты и избавились от них."
   ]
  },
  {
   "cell_type": "markdown",
   "id": "55941bc6",
   "metadata": {},
   "source": [
    "<div class=\"alert alert-success\">\n",
    "<h2> Комментарий ревьюера <a class=\"tocSkip\"> </h2>\n",
    "\n",
    "<b>Все отлично!👍:  </b> \n",
    "\n",
    "Методы  `.duplicated()` и `.drop_duplicates()` использованы корректно)\n",
    "    \n",
    "можно еще подсчитать процент/долю отфильтрованных данных   "
   ]
  },
  {
   "cell_type": "markdown",
   "id": "ddd2c08a-2214-4fd2-908d-9f1a407b8699",
   "metadata": {},
   "source": [
    "---"
   ]
  },
  {
   "cell_type": "markdown",
   "id": "613f0eb0",
   "metadata": {
    "id": "613f0eb0"
   },
   "source": [
    "## 3. Фильтрация данных\n",
    "\n",
    "Для анализа необходимо провести фильтрацию с 2000 по 2013 год включительно."
   ]
  },
  {
   "cell_type": "code",
   "execution_count": 28,
   "id": "2344916d",
   "metadata": {
    "id": "2344916d"
   },
   "outputs": [],
   "source": [
    "# Создадим срез данных с 2000 по 2013 год:\n",
    "df_actual = new_games.loc[(new_games['year_of_release'] >= 2000)&(new_games['year_of_release'] <= 2013)].copy()"
   ]
  },
  {
   "cell_type": "code",
   "execution_count": 29,
   "id": "44d7529f",
   "metadata": {
    "id": "44d7529f"
   },
   "outputs": [
    {
     "data": {
      "text/plain": [
       "array([2006, 2008, 2009, 2005, 2007, 2010, 2013, 2004, 2002, 2001, 2011,\n",
       "       2012, 2003, 2000], dtype=int16)"
      ]
     },
     "execution_count": 29,
     "metadata": {},
     "output_type": "execute_result"
    }
   ],
   "source": [
    "# Проверим результаты фильтрации:\n",
    "df_actual['year_of_release'].unique()"
   ]
  },
  {
   "cell_type": "markdown",
   "id": "afb20a5a",
   "metadata": {},
   "source": [
    "<div class=\"alert alert-success\">\n",
    "<h2> Комментарий ревьюера <a class=\"tocSkip\"> </h2>\n",
    "\n",
    "<b>Все отлично!👍:  </b> \n",
    "\n",
    "Фильтрация данных проведена корректно)  Можно еще посмотреть, сколько значений было удалено"
   ]
  },
  {
   "cell_type": "markdown",
   "id": "9f48ed2f-3efb-4665-a172-fff10883ffb0",
   "metadata": {},
   "source": [
    "---"
   ]
  },
  {
   "cell_type": "markdown",
   "id": "a6f10b01",
   "metadata": {
    "id": "a6f10b01"
   },
   "source": [
    "## 4. Категоризация данных\n",
    "    \n",
    "Проведем категоризацию данных:\n",
    "1. Разделим все игры по оценкам пользователей (`user_score`) и выделим такие категории: `высокая оценка` (от 8 до 10 включительно), `средняя оценка` (от 3 до 8, не включая правую границу интервала) и `низкая оценка` (от 0 до 3, не включая правую границу интервала).\n",
    "\n",
    "    Все пропуски, замененные на значения-индикаторы, отнесем к группе `нет оценки`."
   ]
  },
  {
   "cell_type": "code",
   "execution_count": 30,
   "id": "3db87229",
   "metadata": {
    "id": "3db87229"
   },
   "outputs": [],
   "source": [
    "# Разделим игры на категории по user_score:\n",
    "df_actual['user_score_category'] = pd.cut(df_actual['user_score'], bins = [-2, 0, 2, 7, 10], labels = [\"нет оценки\", \"низкая оценка\", \"средняя оценка\", \"высокая оценка\"])\n"
   ]
  },
  {
   "cell_type": "markdown",
   "id": "f8f34b40",
   "metadata": {
    "id": "f8f34b40"
   },
   "source": [
    "2. Разделим все игры по оценкам критиков (`critic_score`) и выделите такие категории: `высокая оценка` (от 80 до 100 включительно), `средняя оценка` (от 30 до 80, не включая правую границу интервала) и `низкая оценка` (от 0 до 30, не включая правую границу интервала).\n",
    "\n",
    "   Все пропуски, замененные на значения-индикаторы, отнесем к группе `нет оценки`."
   ]
  },
  {
   "cell_type": "code",
   "execution_count": 31,
   "id": "e3f7acb0",
   "metadata": {
    "id": "e3f7acb0"
   },
   "outputs": [],
   "source": [
    "# Разделим игры на категории по critic_score:\n",
    "df_actual['critic_score_category'] = pd.cut(df_actual['critic_score'], bins = [-2, 0, 29, 79, 100], labels = [\"нет оценки\", \"низкая оценка\", \"средняя оценка\", \"высокая оценка\"])"
   ]
  },
  {
   "cell_type": "markdown",
   "id": "olkTlTlAUDR9",
   "metadata": {
    "id": "olkTlTlAUDR9"
   },
   "source": [
    "- Составим пользовательскую функцию, которая поможет сгруппировать данные по категориям и провести сравнение по количеству и долям игр:"
   ]
  },
  {
   "cell_type": "code",
   "execution_count": 32,
   "id": "d35a5134-6d00-4e75-889b-daaf6044b3b0",
   "metadata": {},
   "outputs": [],
   "source": [
    "# Составим функцию для группировки и категоризации данных:\n",
    "def score_category(df, category):\n",
    "    grouped_category = df.groupby([category], observed=False)['name'].count()\n",
    "    if 'нет оценки' in grouped_category:\n",
    "        grouped_category = grouped_category.drop('нет оценки')\n",
    "\n",
    "    top_category = grouped_category.sort_values(ascending=False)\n",
    "    top_part_category = top_category/top_category.sum()*100\n",
    "    return top_category, top_part_category "
   ]
  },
  {
   "cell_type": "code",
   "execution_count": 33,
   "id": "2ce90a34-b748-4c32-b56c-6d82c9a35218",
   "metadata": {},
   "outputs": [
    {
     "data": {
      "text/plain": [
       "user_score_category\n",
       "высокая оценка    4085\n",
       "средняя оценка    2351\n",
       "низкая оценка       46\n",
       "Name: name, dtype: int64"
      ]
     },
     "execution_count": 33,
     "metadata": {},
     "output_type": "execute_result"
    }
   ],
   "source": [
    "# Применим функцию к user_score и сравним по количеству игр:\n",
    "top_user_score_category, top_part_of_user_score_category = score_category(df_actual, 'user_score_category')\n",
    "top_user_score_category"
   ]
  },
  {
   "cell_type": "code",
   "execution_count": 34,
   "id": "f4e643c9-edb1-4703-984d-a81f75c0aef2",
   "metadata": {},
   "outputs": [
    {
     "data": {
      "text/plain": [
       "user_score_category\n",
       "высокая оценка    63.020673\n",
       "средняя оценка    36.269670\n",
       "низкая оценка      0.709658\n",
       "Name: name, dtype: float64"
      ]
     },
     "execution_count": 34,
     "metadata": {},
     "output_type": "execute_result"
    }
   ],
   "source": [
    "# Сравним по процентам:\n",
    "top_part_of_user_score_category"
   ]
  },
  {
   "cell_type": "code",
   "execution_count": 35,
   "id": "871942a9-f11e-45f5-883f-3cc9f307cbc2",
   "metadata": {},
   "outputs": [
    {
     "data": {
      "text/plain": [
       "critic_score_category\n",
       "средняя оценка    5422\n",
       "высокая оценка    1692\n",
       "низкая оценка       55\n",
       "Name: name, dtype: int64"
      ]
     },
     "execution_count": 35,
     "metadata": {},
     "output_type": "execute_result"
    }
   ],
   "source": [
    "# Применим функцию к critic_score и сравним по количеству игр:\n",
    "top_critic_score_category, top_part_of_critic_score_category = score_category(df_actual, 'critic_score_category')\n",
    "top_critic_score_category"
   ]
  },
  {
   "cell_type": "code",
   "execution_count": 36,
   "id": "1501512b-afdd-409f-be73-a260320ddcf9",
   "metadata": {},
   "outputs": [
    {
     "data": {
      "text/plain": [
       "critic_score_category\n",
       "средняя оценка    75.631190\n",
       "высокая оценка    23.601618\n",
       "низкая оценка      0.767192\n",
       "Name: name, dtype: float64"
      ]
     },
     "execution_count": 36,
     "metadata": {},
     "output_type": "execute_result"
    }
   ],
   "source": [
    "# Сравним по процентам:\n",
    "top_part_of_critic_score_category"
   ]
  },
  {
   "cell_type": "markdown",
   "id": "e29a1dcb-4604-401f-bc5d-221f675bcfd7",
   "metadata": {},
   "source": [
    "  "
   ]
  },
  {
   "cell_type": "markdown",
   "id": "20edd7ff-d2a5-43f0-998d-06b38816752e",
   "metadata": {},
   "source": [
    "Большинство игр, выпущенных с 2000 по 2013 г. получили высокую оценку от пользователей - 62% от всего количества.\n",
    "\n",
    "Критики же были иного мнения и отнесли большинство игр - целых 83% - к категории со средней оценкой. Высокие оценки по мнению критиков заслужили лишь 26% от всех игр. Это количество почти в 3 раза меньше, нежели оценка пользователей."
   ]
  },
  {
   "cell_type": "markdown",
   "id": "3f9c852f",
   "metadata": {},
   "source": [
    "<div class=\"alert alert-warning\">\n",
    "    <h2> Комментарий ревьюера  <a class=\"tocSkip\"> </h2>\n",
    "    \n",
    "<b>Некоторые замечания и рекомендации💡:</b> \n",
    "        \n",
    "Категоризация выполнена верно, как вариант можно было написать функции для категоризации с целью уменьшения дублирования кода и его унификации, далее использовать функции с помощью метода .apply() "
   ]
  },
  {
   "cell_type": "markdown",
   "id": "b803f64e-72cc-4b93-a70f-f81a96fbf0ad",
   "metadata": {},
   "source": [
    "<br/>    \n",
    "<div class=\"alert alert-info\">\n",
    "<h2> Комментарий студентки v.2: <a class=\"tocSkip\"> </h2>\n",
    "\n",
    "<b>👋:</b> Исправила [32]-[36].\n",
    "</div> "
   ]
  },
  {
   "cell_type": "markdown",
   "id": "2cd773a6",
   "metadata": {},
   "source": [
    "<div class=\"alert alert-success\">\n",
    "<h2> Комментарий ревьюера 2 <a class=\"tocSkip\"> </h2>\n",
    "\n",
    "<b>Все отлично!👍:</b>"
   ]
  },
  {
   "cell_type": "markdown",
   "id": "6a98444c",
   "metadata": {
    "id": "6a98444c"
   },
   "source": [
    "- Выделим топ-7 платформ по количеству игр, выпущенных за весь актуальный период:"
   ]
  },
  {
   "cell_type": "code",
   "execution_count": 37,
   "id": "d41c333e-d9dc-44b8-91a8-a647bb30adba",
   "metadata": {},
   "outputs": [],
   "source": [
    "# Отсортируем платформы по количеству игр:\n",
    "top_platform = df_actual['platform'].value_counts()"
   ]
  },
  {
   "cell_type": "code",
   "execution_count": 38,
   "id": "f240904a",
   "metadata": {
    "id": "f240904a"
   },
   "outputs": [
    {
     "data": {
      "text/plain": [
       "platform\n",
       "PS2     2127\n",
       "DS      2120\n",
       "Wii     1275\n",
       "PSP     1180\n",
       "X360    1121\n",
       "PS3     1087\n",
       "GBA      811\n",
       "Name: count, dtype: int64"
      ]
     },
     "execution_count": 38,
     "metadata": {},
     "output_type": "execute_result"
    }
   ],
   "source": [
    "# Выведем топ-7 платформ по количеству игр, выпущенных с 2000 по 2013 г:\n",
    "top_platform.head(7)"
   ]
  },
  {
   "cell_type": "code",
   "execution_count": 39,
   "id": "6f1177e3-1f78-424e-acec-d04b32ef353b",
   "metadata": {},
   "outputs": [],
   "source": [
    "# Отсортируем платформы в долях:\n",
    "top_platform_part = df_actual['platform'].value_counts(normalize=True)"
   ]
  },
  {
   "cell_type": "code",
   "execution_count": 40,
   "id": "7ee584f5-6c27-41b9-99b0-64576ab395d4",
   "metadata": {},
   "outputs": [
    {
     "data": {
      "text/plain": [
       "platform\n",
       "PS2     16.641890\n",
       "DS      16.587122\n",
       "Wii      9.975745\n",
       "PSP      9.232454\n",
       "X360     8.770832\n",
       "PS3      8.504812\n",
       "GBA      6.345356\n",
       "Name: proportion, dtype: float64"
      ]
     },
     "execution_count": 40,
     "metadata": {},
     "output_type": "execute_result"
    }
   ],
   "source": [
    "# Выведем топ-7 платформ в процентах:\n",
    "top_platform_part.head(7)*100"
   ]
  },
  {
   "cell_type": "markdown",
   "id": "cbe210a3-7ba5-432d-a946-203ddeef8734",
   "metadata": {},
   "source": [
    "Было выявлено, что чаще всего с 2000 по 2013 гг. игры выпускали на PS2 и DS - свыше, чем 16% от всего количества платформ. Игры на этих консолях были выпущены почти в 2 раза больше, чем на платформах, которые занимают 3-7 места. Так Wii И PSP составляют чуть больше 9%."
   ]
  },
  {
   "cell_type": "markdown",
   "id": "3727e816",
   "metadata": {},
   "source": [
    "<div class=\"alert alert-success\">\n",
    "<h2> Комментарий ревьюера <a class=\"tocSkip\"> </h2>\n",
    "\n",
    "<b>Все отлично!👍:  </b> \n",
    "\n",
    "Отлично, что выведен ТОП-7 платформ по количеству игр)"
   ]
  },
  {
   "cell_type": "markdown",
   "id": "090baa1d-5333-4e29-b44b-a1d6a0323e59",
   "metadata": {},
   "source": [
    "---"
   ]
  },
  {
   "cell_type": "markdown",
   "id": "c0158881",
   "metadata": {
    "id": "c0158881"
   },
   "source": [
    "## 5. Итоговый вывод"
   ]
  },
  {
   "cell_type": "markdown",
   "id": "4c3b3626-7768-4101-8327-59c19a7d5329",
   "metadata": {
    "id": "0c1afc40"
   },
   "source": [
    "В данном проекте были изучены данные `new_games.csv` о продажах игр разных жанрах и платформ, а также пользовательские и экспертные оценки игр. Датасет состоит из 11 столбцов и 16956 строк. При первичном знакомстве с данными и их предобработке получили такие результаты:\n",
    "- Все названия столбцов были приведены к единому виду - первая буква стала начинаться со строчной, а пробелы заменили нижним подчеркиванием;\n",
    "- В 6 столбцах (`name`, `genre`, `year_of_release`, `user_score`, `ersb_rating `, `critic_score`) были обнаружены пропущенные значения. Максимальное значение пропущенных данных оказалось в столбце `critic_score` - 51%.\n",
    "- Для оптимизации работы с данными в датафрейме были произведены следующие изменения типов данных:\n",
    "    - `year_of_release`: тип данных изменён с `float64` на `int16`;\n",
    "    - `critic_score`: тип данных изменён с `float64` на `int8`;\n",
    "    - `north_america_sales`, `other_sales`: тип данных изменён с `float64` на `float32`;\n",
    "    - `europe_sales`, `japan_sales`, `user_score`: тип данных изменён с `object` на `float32`.\n",
    "- Для исключения неявных дубликатов названия жанров привели к нижнему регистру;\n",
    "- Явные дубликаты были удалены в 182 строках;\n",
    "- С помощью фильтрации был выделен необходимый для анализа срез данных - с 2000 по 2013 гг;\n",
    "- Сравнение игр по категориям оценки пользователей и критиков выявило, что пользователи поставили высокую оценку 62% игр, когда как критики - только 26%. Критики большей части игр в 83% поставили средний балл;\n",
    "- Составленный топ-7 платформ по выпуску игр показал, что чаще всего игры выпускали на PS2 и DS - свыше 16% от всего количества платформ."
   ]
  },
  {
   "cell_type": "markdown",
   "id": "77e4a60a",
   "metadata": {},
   "source": [
    "<div class=\"alert alert-success\">\n",
    "<h2> Комментарий ревьюера <a class=\"tocSkip\"> </h2>\n",
    "\n",
    "<b>Все отлично!👍:  </b> \n",
    "\n",
    "Молодец, что не забываешь написать итоговый вывод по проекту. И отлично, что  пишешь выводы по предобработке — это хорошая практика, используй пожалуйста ее в следующих проектах, когда будешь готовить данные \n",
    "\n",
    "</div>   \n",
    "    \n",
    "    \n",
    "<div style=\"border:solid Chocolate 2px; padding: 40px\">\n",
    "\n",
    "\n",
    "<h2> Итоговый комментарий ревьюера (общий вывод по проекту)  <a class=\"tocSkip\"> </h2>    \n",
    "    \n",
    "  \n",
    "У меня сложилось хорошее впечатление о проекте. Молодец! Осмысленная аналитика и дельная работа - многое удалось как надо)\n",
    "    \n",
    "Отмечу отдельные положительные моменты проекта🙂:\n",
    "    \n",
    "- Была проделана значительная работа по обработке и анализу данных! \n",
    "- Твой вывод чётко отражает проделанные шаги, что важно для демонстрации результатов исследования.   \n",
    "    \n",
    "Есть несколько моментов всего, на которые стоит ещё раз взглянуть, я указал их в моих комментариях по ходу проекта.\n",
    "    \n",
    "Предлагаю тебе доработать проект по моим комментариям, чтобы довести его до совершенства.   \n",
    "    \n",
    "\n",
    " \n",
    "</div>\n"
   ]
  },
  {
   "cell_type": "markdown",
   "id": "ab64efbb",
   "metadata": {},
   "source": [
    "<div style=\"border:solid Chocolate 2px; padding: 40px\">\n",
    "\n",
    "\n",
    "<h2>  Итоговый комментарий ревьюера 2 (итоговый вывод по проекту) <a class=\"tocSkip\"> </h2>    \n",
    "    \n",
    "      \n",
    "  \n",
    "Теперь почти идеально, молодец! Принимаю твой проект)\n",
    "    \n",
    "Могу порекомендовать тебе отличную книгу про Python:\n",
    "    \n",
    "https://monster-book.com/avtomatizaciya-zadach-s-python    \n",
    "    \n",
    "По визуализации могу посоветовать следующие материалы:\n",
    "    \n",
    "1. https://github.com/esokolov/ml-course-hse/blob/master/2022-fall/seminars/sem02-charts.ipynb\n",
    "    \n",
    "2. https://github.com/Palladain/Deep_Python/blob/main/Lectures/Lecture_3/Lecture_3_Python.ipynb    \n",
    "    \n",
    "Советую тебе обратить внимание на библиотеки `sweetviz` и `ydata_profiling`, которые помогут в проведении более тщательного EDA анализа. Данные библиотеки хороши для максимизации комфорта презентации результатов анализа бизнес-пользователям. \n",
    "    \n",
    "Очень просты в использоовании, на вход кладется датафрейм: `ydata_profiling.ProfileReport(df)`\n",
    "    \n",
    "Цель нашего проекта достигнута. Рад был тебе помочь)\n",
    "    \n",
    "Удачи тебе в следующем проекте!\n",
    "    \n",
    "**Буду очень благодарен, если ты поставишь мне положительную оценку за проект в форме на странице курса, это важно для меня. Достаточно поставить оценку, а комментарий можешь написать по желанию:)**     \n",
    "    \n",
    "</div>    \n"
   ]
  },
  {
   "cell_type": "code",
   "execution_count": null,
   "id": "30c926ac",
   "metadata": {},
   "outputs": [],
   "source": []
  }
 ],
 "metadata": {
  "colab": {
   "provenance": []
  },
  "kernelspec": {
   "display_name": "Python 3 (ipykernel)",
   "language": "python",
   "name": "python3"
  },
  "language_info": {
   "codemirror_mode": {
    "name": "ipython",
    "version": 3
   },
   "file_extension": ".py",
   "mimetype": "text/x-python",
   "name": "python",
   "nbconvert_exporter": "python",
   "pygments_lexer": "ipython3",
   "version": "3.9.5"
  },
  "toc": {
   "base_numbering": 1,
   "nav_menu": {},
   "number_sections": true,
   "sideBar": true,
   "skip_h1_title": true,
   "title_cell": "Table of Contents",
   "title_sidebar": "Contents",
   "toc_cell": false,
   "toc_position": {
    "height": "calc(100% - 180px)",
    "left": "10px",
    "top": "150px",
    "width": "165px"
   },
   "toc_section_display": true,
   "toc_window_display": true
  }
 },
 "nbformat": 4,
 "nbformat_minor": 5
}
